{
 "cells": [
  {
   "cell_type": "code",
   "execution_count": 2,
   "metadata": {
    "collapsed": true
   },
   "outputs": [],
   "source": [
    "import pandas as pd"
   ]
  },
  {
   "cell_type": "code",
   "execution_count": 3,
   "metadata": {
    "collapsed": false
   },
   "outputs": [],
   "source": [
    "# df = pd.read_csv('data/b4_sign_without_no_useful_col.csv')\n",
    "df = pd.read_csv('data/b4_sign_no_useless_col_eventAndname_btnclickpageAndcurrentpage.csv')"
   ]
  },
  {
   "cell_type": "code",
   "execution_count": 4,
   "metadata": {
    "collapsed": false
   },
   "outputs": [
    {
     "data": {
      "text/plain": [
       "$pageview                20292\n",
       "btnClick                  8286\n",
       "index_leave               6693\n",
       "profile_set_once          6481\n",
       "demo_leave                1339\n",
       "about_leave                653\n",
       "courses_leave              594\n",
       "formSubmit                 533\n",
       "courses_play_leave         488\n",
       "click_send_cellphone       395\n",
       "verify_cellphone_code      363\n",
       "clickSubmit                291\n",
       "page_close                 134\n",
       "Name: event, dtype: int64"
      ]
     },
     "execution_count": 4,
     "metadata": {},
     "output_type": "execute_result"
    }
   ],
   "source": [
    "df.event.value_counts()"
   ]
  },
  {
   "cell_type": "code",
   "execution_count": 5,
   "metadata": {
    "collapsed": false,
    "scrolled": true
   },
   "outputs": [
    {
     "data": {
      "text/plain": [
       "(46542, 29)"
      ]
     },
     "execution_count": 5,
     "metadata": {},
     "output_type": "execute_result"
    }
   ],
   "source": [
    "df.shape"
   ]
  },
  {
   "cell_type": "code",
   "execution_count": 6,
   "metadata": {
    "collapsed": true
   },
   "outputs": [],
   "source": [
    "new_user_id = df[(df.event == 'profile_set_once')].distinct_id.unique()"
   ]
  },
  {
   "cell_type": "code",
   "execution_count": 7,
   "metadata": {
    "collapsed": false
   },
   "outputs": [
    {
     "data": {
      "text/plain": [
       "6480"
      ]
     },
     "execution_count": 7,
     "metadata": {},
     "output_type": "execute_result"
    }
   ],
   "source": [
    "len(new_user_id)"
   ]
  },
  {
   "cell_type": "code",
   "execution_count": 8,
   "metadata": {
    "collapsed": true
   },
   "outputs": [],
   "source": [
    "new_user_df = df[(df.distinct_id.apply(lambda x: x in new_user_id))]"
   ]
  },
  {
   "cell_type": "code",
   "execution_count": 9,
   "metadata": {
    "collapsed": false
   },
   "outputs": [
    {
     "data": {
      "text/plain": [
       "6480"
      ]
     },
     "execution_count": 9,
     "metadata": {},
     "output_type": "execute_result"
    }
   ],
   "source": [
    "new_user_df.distinct_id.nunique()"
   ]
  },
  {
   "cell_type": "code",
   "execution_count": 10,
   "metadata": {
    "collapsed": false
   },
   "outputs": [
    {
     "data": {
      "text/plain": [
       "(33733, 29)"
      ]
     },
     "execution_count": 10,
     "metadata": {},
     "output_type": "execute_result"
    }
   ],
   "source": [
    "new_user_df.shape"
   ]
  },
  {
   "cell_type": "code",
   "execution_count": 11,
   "metadata": {
    "collapsed": true
   },
   "outputs": [],
   "source": [
    "old_user_df = df[(df.distinct_id.apply(lambda x: x not in new_user_id))]"
   ]
  },
  {
   "cell_type": "code",
   "execution_count": 12,
   "metadata": {
    "collapsed": false
   },
   "outputs": [
    {
     "data": {
      "text/plain": [
       "(12809, 29)"
      ]
     },
     "execution_count": 12,
     "metadata": {},
     "output_type": "execute_result"
    }
   ],
   "source": [
    "old_user_df.shape"
   ]
  },
  {
   "cell_type": "code",
   "execution_count": 13,
   "metadata": {
    "collapsed": false
   },
   "outputs": [],
   "source": [
    "old_user_will_sign_id = old_user_df[(old_user_df.name == 'request')].distinct_id.unique()"
   ]
  },
  {
   "cell_type": "code",
   "execution_count": 14,
   "metadata": {
    "collapsed": false
   },
   "outputs": [
    {
     "data": {
      "text/plain": [
       "233"
      ]
     },
     "execution_count": 14,
     "metadata": {},
     "output_type": "execute_result"
    }
   ],
   "source": [
    "len(old_user_will_sign_id)"
   ]
  },
  {
   "cell_type": "code",
   "execution_count": 15,
   "metadata": {
    "collapsed": true
   },
   "outputs": [],
   "source": [
    "old_user_will_sign_df = df[(df.distinct_id.apply(lambda x: x in old_user_will_sign_id))]"
   ]
  },
  {
   "cell_type": "code",
   "execution_count": 16,
   "metadata": {
    "collapsed": false
   },
   "outputs": [
    {
     "data": {
      "text/plain": [
       "(4210, 29)"
      ]
     },
     "execution_count": 16,
     "metadata": {},
     "output_type": "execute_result"
    }
   ],
   "source": [
    "old_user_will_sign_df.shape"
   ]
  },
  {
   "cell_type": "code",
   "execution_count": 17,
   "metadata": {
    "collapsed": false
   },
   "outputs": [
    {
     "data": {
      "text/plain": [
       "233"
      ]
     },
     "execution_count": 17,
     "metadata": {},
     "output_type": "execute_result"
    }
   ],
   "source": [
    "old_user_will_sign_df.distinct_id.nunique()"
   ]
  },
  {
   "cell_type": "code",
   "execution_count": 18,
   "metadata": {
    "collapsed": false,
    "scrolled": true
   },
   "outputs": [],
   "source": [
    "new_user_group_df = new_user_df.groupby(by = 'distinct_id').agg({'event': 'count'}).apply(lambda x: x.sort_values())"
   ]
  },
  {
   "cell_type": "code",
   "execution_count": 19,
   "metadata": {
    "collapsed": false,
    "scrolled": true
   },
   "outputs": [
    {
     "data": {
      "text/html": [
       "<div>\n",
       "<table border=\"1\" class=\"dataframe\">\n",
       "  <thead>\n",
       "    <tr style=\"text-align: right;\">\n",
       "      <th></th>\n",
       "      <th>event</th>\n",
       "    </tr>\n",
       "    <tr>\n",
       "      <th>distinct_id</th>\n",
       "      <th></th>\n",
       "    </tr>\n",
       "  </thead>\n",
       "  <tbody>\n",
       "    <tr>\n",
       "      <th>350f3bc7f4c31624d24f451425234308580734de</th>\n",
       "      <td>1</td>\n",
       "    </tr>\n",
       "    <tr>\n",
       "      <th>1539ec056196d863c93e0a046b248184439bacdc</th>\n",
       "      <td>1</td>\n",
       "    </tr>\n",
       "    <tr>\n",
       "      <th>ef026f8e4f5e577ee531ad48eebf00ebfaac9548</th>\n",
       "      <td>1</td>\n",
       "    </tr>\n",
       "    <tr>\n",
       "      <th>6462c19717ef1c0e68741a10feb269956186deb5</th>\n",
       "      <td>1</td>\n",
       "    </tr>\n",
       "    <tr>\n",
       "      <th>1607edfc82681442b6698d2248ab3cac3d6e5192</th>\n",
       "      <td>1</td>\n",
       "    </tr>\n",
       "    <tr>\n",
       "      <th>d199544886b08f082e7a371026fd0c946533307d</th>\n",
       "      <td>1</td>\n",
       "    </tr>\n",
       "    <tr>\n",
       "      <th>4de3b69426f3a4206af1620894f0a18e47b5f0d7</th>\n",
       "      <td>1</td>\n",
       "    </tr>\n",
       "    <tr>\n",
       "      <th>d1b632b980dc180c4c415c8798bb4c10e5ec68a3</th>\n",
       "      <td>1</td>\n",
       "    </tr>\n",
       "    <tr>\n",
       "      <th>224ee36f831b856d2b86a11229822aba189e75e0</th>\n",
       "      <td>1</td>\n",
       "    </tr>\n",
       "    <tr>\n",
       "      <th>047abc1229bc25a337c06803d0cd933dd1c4af00</th>\n",
       "      <td>1</td>\n",
       "    </tr>\n",
       "    <tr>\n",
       "      <th>68466ad0764276045dbe888d0d82a1097960a7b6</th>\n",
       "      <td>1</td>\n",
       "    </tr>\n",
       "    <tr>\n",
       "      <th>5817c3e68c2f2b8ec0fdb1edf9933f89004bda29</th>\n",
       "      <td>1</td>\n",
       "    </tr>\n",
       "    <tr>\n",
       "      <th>756cad5331880dfd6f62b5722427b00f0aee93e5</th>\n",
       "      <td>1</td>\n",
       "    </tr>\n",
       "    <tr>\n",
       "      <th>7a2cd68a310dadee699803afefb068b4918de127</th>\n",
       "      <td>1</td>\n",
       "    </tr>\n",
       "    <tr>\n",
       "      <th>291a813d5397af164826a954fc9c4f34759fb512</th>\n",
       "      <td>1</td>\n",
       "    </tr>\n",
       "    <tr>\n",
       "      <th>41fa512a4f6af2fd348ee66e1382164e65cd7784</th>\n",
       "      <td>1</td>\n",
       "    </tr>\n",
       "    <tr>\n",
       "      <th>c1a6e948bf576b4c4e3ea7471476cf166e076fbf</th>\n",
       "      <td>1</td>\n",
       "    </tr>\n",
       "    <tr>\n",
       "      <th>c86f9a49f36a1b1a8ad8176b5db44724334748c2</th>\n",
       "      <td>1</td>\n",
       "    </tr>\n",
       "    <tr>\n",
       "      <th>99f5956e8b3e1ebcde094fd34a0d0e6cae6acc8b</th>\n",
       "      <td>1</td>\n",
       "    </tr>\n",
       "    <tr>\n",
       "      <th>1f2dbc8375270b6647b757bb1436cddc24539511</th>\n",
       "      <td>1</td>\n",
       "    </tr>\n",
       "    <tr>\n",
       "      <th>7f3b5401103468c9d7fdee92bfc27f512b0fd51b</th>\n",
       "      <td>1</td>\n",
       "    </tr>\n",
       "    <tr>\n",
       "      <th>dd4e0f00a20988ebae1e033c89af14fc965661c5</th>\n",
       "      <td>1</td>\n",
       "    </tr>\n",
       "    <tr>\n",
       "      <th>7f6e2e11f22db56fd93aceaa180c0e4c2814af9f</th>\n",
       "      <td>1</td>\n",
       "    </tr>\n",
       "    <tr>\n",
       "      <th>2fe26e85bb0f48fbccb0483ad8cb777d1e65f03c</th>\n",
       "      <td>1</td>\n",
       "    </tr>\n",
       "    <tr>\n",
       "      <th>9afe7bda88fb1302ad1b789a9c1d3d1637af1783</th>\n",
       "      <td>1</td>\n",
       "    </tr>\n",
       "    <tr>\n",
       "      <th>ece767bcdca5369c41bf308abc98214f4ef6760f</th>\n",
       "      <td>1</td>\n",
       "    </tr>\n",
       "    <tr>\n",
       "      <th>ed1ecf91bbcfc13ede28f45557185433f272fb4b</th>\n",
       "      <td>1</td>\n",
       "    </tr>\n",
       "    <tr>\n",
       "      <th>da10a647d7359d06b32a6ecfc03f0174deaf7c90</th>\n",
       "      <td>1</td>\n",
       "    </tr>\n",
       "    <tr>\n",
       "      <th>8d9cec38afa1cc1e9383c7f8772b28398d0940fd</th>\n",
       "      <td>1</td>\n",
       "    </tr>\n",
       "    <tr>\n",
       "      <th>aea5bf585a45996bda26432ea1e2fc3ce73883fc</th>\n",
       "      <td>1</td>\n",
       "    </tr>\n",
       "    <tr>\n",
       "      <th>...</th>\n",
       "      <td>...</td>\n",
       "    </tr>\n",
       "    <tr>\n",
       "      <th>e0e2f8bdb4112eac98a431b11a93e51f5fd47562</th>\n",
       "      <td>37</td>\n",
       "    </tr>\n",
       "    <tr>\n",
       "      <th>6bea0acc0252d169cc414b6ea3bfacf70053786b</th>\n",
       "      <td>37</td>\n",
       "    </tr>\n",
       "    <tr>\n",
       "      <th>0b6dd7f68bafc3724fc3a03d23efb5e6390d8732</th>\n",
       "      <td>38</td>\n",
       "    </tr>\n",
       "    <tr>\n",
       "      <th>6dc9d0b5882417ef350463b552f59f4f451a5e76</th>\n",
       "      <td>38</td>\n",
       "    </tr>\n",
       "    <tr>\n",
       "      <th>2d891b75f4d9dd41299a98b7f9ca59daf1e7e772</th>\n",
       "      <td>38</td>\n",
       "    </tr>\n",
       "    <tr>\n",
       "      <th>e1cdb5a7ab9810606f8995906887a4ee3acd8950</th>\n",
       "      <td>39</td>\n",
       "    </tr>\n",
       "    <tr>\n",
       "      <th>e9f20b77c2c195dddc0f405cf283da8301a82b7d</th>\n",
       "      <td>39</td>\n",
       "    </tr>\n",
       "    <tr>\n",
       "      <th>b73abab61748ed1891cb32d6e09ea1c216127bfd</th>\n",
       "      <td>40</td>\n",
       "    </tr>\n",
       "    <tr>\n",
       "      <th>7f6b7b60cf117b5ce21eab644977d07f1525fd07</th>\n",
       "      <td>40</td>\n",
       "    </tr>\n",
       "    <tr>\n",
       "      <th>2f105646a50881b9870793ffc6c5797a2cfaecd2</th>\n",
       "      <td>40</td>\n",
       "    </tr>\n",
       "    <tr>\n",
       "      <th>b501dbd78de34fa4f5e4309c4489bd0435d5233f</th>\n",
       "      <td>41</td>\n",
       "    </tr>\n",
       "    <tr>\n",
       "      <th>51e5f9cd7af7c1551a205908ed39114217ed478e</th>\n",
       "      <td>42</td>\n",
       "    </tr>\n",
       "    <tr>\n",
       "      <th>62329b4ffcf9674f6557bb764fd491ac4d43fd7a</th>\n",
       "      <td>43</td>\n",
       "    </tr>\n",
       "    <tr>\n",
       "      <th>fd5acfc845e2f9c1b54ad0537aa2788759b85e1b</th>\n",
       "      <td>43</td>\n",
       "    </tr>\n",
       "    <tr>\n",
       "      <th>986ed816ab746d59b8f6c0705b86a5615ed2bc31</th>\n",
       "      <td>44</td>\n",
       "    </tr>\n",
       "    <tr>\n",
       "      <th>da4481a69cefe495235cc15d0eaf846376e5f8c5</th>\n",
       "      <td>44</td>\n",
       "    </tr>\n",
       "    <tr>\n",
       "      <th>1e31a9423d07802ba5fe38822ac548ae9c33a14d</th>\n",
       "      <td>46</td>\n",
       "    </tr>\n",
       "    <tr>\n",
       "      <th>88822c43c909d92a5db20a1af7099d04fcb22cb2</th>\n",
       "      <td>46</td>\n",
       "    </tr>\n",
       "    <tr>\n",
       "      <th>1aaca0c867abde315f2e275ce4e79dcbe0e38904</th>\n",
       "      <td>47</td>\n",
       "    </tr>\n",
       "    <tr>\n",
       "      <th>b87d32d128873336f242b96d441c98a61286ea4a</th>\n",
       "      <td>48</td>\n",
       "    </tr>\n",
       "    <tr>\n",
       "      <th>50de313acb120afe06cc78a92620893c1dfea600</th>\n",
       "      <td>50</td>\n",
       "    </tr>\n",
       "    <tr>\n",
       "      <th>2a31541b6d8ddd065cf8e73ff1676c2edb692116</th>\n",
       "      <td>51</td>\n",
       "    </tr>\n",
       "    <tr>\n",
       "      <th>2cd82ba013dcb2f55775b4bb54210018801540af</th>\n",
       "      <td>55</td>\n",
       "    </tr>\n",
       "    <tr>\n",
       "      <th>a1dab9bad7fd2b7e624d947b78009458eb769215</th>\n",
       "      <td>56</td>\n",
       "    </tr>\n",
       "    <tr>\n",
       "      <th>011eca0e7ad6eb9a261214a0e7e6d1ea3876de68</th>\n",
       "      <td>59</td>\n",
       "    </tr>\n",
       "    <tr>\n",
       "      <th>7c0fe25e47e0e2dad153e3463b18dbf032df430c</th>\n",
       "      <td>66</td>\n",
       "    </tr>\n",
       "    <tr>\n",
       "      <th>683c17409df05c2225b2e30df78d995f991b62db</th>\n",
       "      <td>76</td>\n",
       "    </tr>\n",
       "    <tr>\n",
       "      <th>ca87e1a0fd642c7287e822c5136a8a7bb23e5d2c</th>\n",
       "      <td>120</td>\n",
       "    </tr>\n",
       "    <tr>\n",
       "      <th>baf6ee46757fe9f224a683c3eef4bb64f3fe10a1</th>\n",
       "      <td>134</td>\n",
       "    </tr>\n",
       "    <tr>\n",
       "      <th>0b904201f18f938733280545936a9a743480b925</th>\n",
       "      <td>199</td>\n",
       "    </tr>\n",
       "  </tbody>\n",
       "</table>\n",
       "<p>6480 rows × 1 columns</p>\n",
       "</div>"
      ],
      "text/plain": [
       "                                          event\n",
       "distinct_id                                    \n",
       "350f3bc7f4c31624d24f451425234308580734de      1\n",
       "1539ec056196d863c93e0a046b248184439bacdc      1\n",
       "ef026f8e4f5e577ee531ad48eebf00ebfaac9548      1\n",
       "6462c19717ef1c0e68741a10feb269956186deb5      1\n",
       "1607edfc82681442b6698d2248ab3cac3d6e5192      1\n",
       "d199544886b08f082e7a371026fd0c946533307d      1\n",
       "4de3b69426f3a4206af1620894f0a18e47b5f0d7      1\n",
       "d1b632b980dc180c4c415c8798bb4c10e5ec68a3      1\n",
       "224ee36f831b856d2b86a11229822aba189e75e0      1\n",
       "047abc1229bc25a337c06803d0cd933dd1c4af00      1\n",
       "68466ad0764276045dbe888d0d82a1097960a7b6      1\n",
       "5817c3e68c2f2b8ec0fdb1edf9933f89004bda29      1\n",
       "756cad5331880dfd6f62b5722427b00f0aee93e5      1\n",
       "7a2cd68a310dadee699803afefb068b4918de127      1\n",
       "291a813d5397af164826a954fc9c4f34759fb512      1\n",
       "41fa512a4f6af2fd348ee66e1382164e65cd7784      1\n",
       "c1a6e948bf576b4c4e3ea7471476cf166e076fbf      1\n",
       "c86f9a49f36a1b1a8ad8176b5db44724334748c2      1\n",
       "99f5956e8b3e1ebcde094fd34a0d0e6cae6acc8b      1\n",
       "1f2dbc8375270b6647b757bb1436cddc24539511      1\n",
       "7f3b5401103468c9d7fdee92bfc27f512b0fd51b      1\n",
       "dd4e0f00a20988ebae1e033c89af14fc965661c5      1\n",
       "7f6e2e11f22db56fd93aceaa180c0e4c2814af9f      1\n",
       "2fe26e85bb0f48fbccb0483ad8cb777d1e65f03c      1\n",
       "9afe7bda88fb1302ad1b789a9c1d3d1637af1783      1\n",
       "ece767bcdca5369c41bf308abc98214f4ef6760f      1\n",
       "ed1ecf91bbcfc13ede28f45557185433f272fb4b      1\n",
       "da10a647d7359d06b32a6ecfc03f0174deaf7c90      1\n",
       "8d9cec38afa1cc1e9383c7f8772b28398d0940fd      1\n",
       "aea5bf585a45996bda26432ea1e2fc3ce73883fc      1\n",
       "...                                         ...\n",
       "e0e2f8bdb4112eac98a431b11a93e51f5fd47562     37\n",
       "6bea0acc0252d169cc414b6ea3bfacf70053786b     37\n",
       "0b6dd7f68bafc3724fc3a03d23efb5e6390d8732     38\n",
       "6dc9d0b5882417ef350463b552f59f4f451a5e76     38\n",
       "2d891b75f4d9dd41299a98b7f9ca59daf1e7e772     38\n",
       "e1cdb5a7ab9810606f8995906887a4ee3acd8950     39\n",
       "e9f20b77c2c195dddc0f405cf283da8301a82b7d     39\n",
       "b73abab61748ed1891cb32d6e09ea1c216127bfd     40\n",
       "7f6b7b60cf117b5ce21eab644977d07f1525fd07     40\n",
       "2f105646a50881b9870793ffc6c5797a2cfaecd2     40\n",
       "b501dbd78de34fa4f5e4309c4489bd0435d5233f     41\n",
       "51e5f9cd7af7c1551a205908ed39114217ed478e     42\n",
       "62329b4ffcf9674f6557bb764fd491ac4d43fd7a     43\n",
       "fd5acfc845e2f9c1b54ad0537aa2788759b85e1b     43\n",
       "986ed816ab746d59b8f6c0705b86a5615ed2bc31     44\n",
       "da4481a69cefe495235cc15d0eaf846376e5f8c5     44\n",
       "1e31a9423d07802ba5fe38822ac548ae9c33a14d     46\n",
       "88822c43c909d92a5db20a1af7099d04fcb22cb2     46\n",
       "1aaca0c867abde315f2e275ce4e79dcbe0e38904     47\n",
       "b87d32d128873336f242b96d441c98a61286ea4a     48\n",
       "50de313acb120afe06cc78a92620893c1dfea600     50\n",
       "2a31541b6d8ddd065cf8e73ff1676c2edb692116     51\n",
       "2cd82ba013dcb2f55775b4bb54210018801540af     55\n",
       "a1dab9bad7fd2b7e624d947b78009458eb769215     56\n",
       "011eca0e7ad6eb9a261214a0e7e6d1ea3876de68     59\n",
       "7c0fe25e47e0e2dad153e3463b18dbf032df430c     66\n",
       "683c17409df05c2225b2e30df78d995f991b62db     76\n",
       "ca87e1a0fd642c7287e822c5136a8a7bb23e5d2c    120\n",
       "baf6ee46757fe9f224a683c3eef4bb64f3fe10a1    134\n",
       "0b904201f18f938733280545936a9a743480b925    199\n",
       "\n",
       "[6480 rows x 1 columns]"
      ]
     },
     "execution_count": 19,
     "metadata": {},
     "output_type": "execute_result"
    }
   ],
   "source": [
    "new_user_group_df"
   ]
  },
  {
   "cell_type": "code",
   "execution_count": 20,
   "metadata": {
    "collapsed": false,
    "scrolled": true
   },
   "outputs": [],
   "source": [
    "once_id = new_user_group_df[(new_user_group_df.event == 1)].index.values"
   ]
  },
  {
   "cell_type": "code",
   "execution_count": 21,
   "metadata": {
    "collapsed": false
   },
   "outputs": [
    {
     "data": {
      "text/plain": [
       "35"
      ]
     },
     "execution_count": 21,
     "metadata": {},
     "output_type": "execute_result"
    }
   ],
   "source": [
    "len(once_id)"
   ]
  },
  {
   "cell_type": "code",
   "execution_count": 22,
   "metadata": {
    "collapsed": false,
    "scrolled": true
   },
   "outputs": [
    {
     "data": {
      "text/plain": [
       "profile_set_once    35\n",
       "Name: event, dtype: int64"
      ]
     },
     "execution_count": 22,
     "metadata": {},
     "output_type": "execute_result"
    }
   ],
   "source": [
    "new_user_df[(new_user_df.distinct_id.apply(lambda x: x in once_id))].event.value_counts()"
   ]
  },
  {
   "cell_type": "code",
   "execution_count": 23,
   "metadata": {
    "collapsed": false,
    "scrolled": true
   },
   "outputs": [],
   "source": [
    "twice_id = new_user_group_df[(new_user_group_df.event == 2)].index.values"
   ]
  },
  {
   "cell_type": "code",
   "execution_count": 24,
   "metadata": {
    "collapsed": false
   },
   "outputs": [
    {
     "data": {
      "text/plain": [
       "1810"
      ]
     },
     "execution_count": 24,
     "metadata": {},
     "output_type": "execute_result"
    }
   ],
   "source": [
    "len(twice_id)"
   ]
  },
  {
   "cell_type": "code",
   "execution_count": 25,
   "metadata": {
    "collapsed": false
   },
   "outputs": [],
   "source": [
    "keep_new_user_id = new_user_group_df[(new_user_group_df.event > 2)].index.values"
   ]
  },
  {
   "cell_type": "code",
   "execution_count": 26,
   "metadata": {
    "collapsed": false
   },
   "outputs": [
    {
     "data": {
      "text/plain": [
       "4635"
      ]
     },
     "execution_count": 26,
     "metadata": {},
     "output_type": "execute_result"
    }
   ],
   "source": [
    "len(keep_new_user_id)"
   ]
  },
  {
   "cell_type": "code",
   "execution_count": 27,
   "metadata": {
    "collapsed": false,
    "scrolled": true
   },
   "outputs": [],
   "source": [
    "keep_id = list(keep_new_user_id) + list(old_user_will_sign_id)"
   ]
  },
  {
   "cell_type": "code",
   "execution_count": 28,
   "metadata": {
    "collapsed": false
   },
   "outputs": [
    {
     "data": {
      "text/plain": [
       "4868"
      ]
     },
     "execution_count": 28,
     "metadata": {},
     "output_type": "execute_result"
    }
   ],
   "source": [
    "len(keep_id)"
   ]
  },
  {
   "cell_type": "code",
   "execution_count": 29,
   "metadata": {
    "collapsed": false
   },
   "outputs": [],
   "source": [
    "interested_df = df[df.distinct_id.apply(lambda x: x in keep_id)]"
   ]
  },
  {
   "cell_type": "code",
   "execution_count": 30,
   "metadata": {
    "collapsed": false
   },
   "outputs": [
    {
     "data": {
      "text/plain": [
       "(34288, 29)"
      ]
     },
     "execution_count": 30,
     "metadata": {},
     "output_type": "execute_result"
    }
   ],
   "source": [
    "interested_df.shape"
   ]
  },
  {
   "cell_type": "code",
   "execution_count": 31,
   "metadata": {
    "collapsed": false
   },
   "outputs": [],
   "source": [
    "interested_df.reset_index(drop = True, inplace = True)"
   ]
  },
  {
   "cell_type": "code",
   "execution_count": 32,
   "metadata": {
    "collapsed": false
   },
   "outputs": [
    {
     "data": {
      "text/html": [
       "<div>\n",
       "<table border=\"1\" class=\"dataframe\">\n",
       "  <thead>\n",
       "    <tr style=\"text-align: right;\">\n",
       "      <th></th>\n",
       "      <th>distinct_id</th>\n",
       "      <th>event</th>\n",
       "      <th>browser</th>\n",
       "      <th>ip</th>\n",
       "      <th>latest_utm_medium</th>\n",
       "      <th>latest_utm_source</th>\n",
       "      <th>os</th>\n",
       "      <th>ref_host_pageview</th>\n",
       "      <th>screen_height</th>\n",
       "      <th>screen_width</th>\n",
       "      <th>...</th>\n",
       "      <th>requestBtn</th>\n",
       "      <th>result</th>\n",
       "      <th>session_page_url</th>\n",
       "      <th>site_url</th>\n",
       "      <th>time</th>\n",
       "      <th>Bj_timestamp</th>\n",
       "      <th>dayofweek</th>\n",
       "      <th>hourofday</th>\n",
       "      <th>date</th>\n",
       "      <th>courses_index</th>\n",
       "    </tr>\n",
       "  </thead>\n",
       "  <tbody>\n",
       "    <tr>\n",
       "      <th>0</th>\n",
       "      <td>9939d3e087bca29c42334d96dccd25ca0e06652a</td>\n",
       "      <td>profile_set_once</td>\n",
       "      <td>None</td>\n",
       "      <td>NaN</td>\n",
       "      <td>None</td>\n",
       "      <td>None</td>\n",
       "      <td>NaN</td>\n",
       "      <td>None</td>\n",
       "      <td>NaN</td>\n",
       "      <td>NaN</td>\n",
       "      <td>...</td>\n",
       "      <td>NaN</td>\n",
       "      <td>NaN</td>\n",
       "      <td>None</td>\n",
       "      <td>NaN</td>\n",
       "      <td>1.490958e+12</td>\n",
       "      <td>2017-03-31 11:04:56</td>\n",
       "      <td>5</td>\n",
       "      <td>11</td>\n",
       "      <td>2017-03-31</td>\n",
       "      <td>NaN</td>\n",
       "    </tr>\n",
       "    <tr>\n",
       "      <th>1</th>\n",
       "      <td>9939d3e087bca29c42334d96dccd25ca0e06652a</td>\n",
       "      <td>$pageview</td>\n",
       "      <td>chrome</td>\n",
       "      <td>111.204.198.242</td>\n",
       "      <td>None</td>\n",
       "      <td>None</td>\n",
       "      <td>windows</td>\n",
       "      <td>None</td>\n",
       "      <td>768.0</td>\n",
       "      <td>1366.0</td>\n",
       "      <td>...</td>\n",
       "      <td>NaN</td>\n",
       "      <td>NaN</td>\n",
       "      <td>homepage_ch=demo</td>\n",
       "      <td>NaN</td>\n",
       "      <td>1.488791e+12</td>\n",
       "      <td>2017-03-06 09:04:10</td>\n",
       "      <td>1</td>\n",
       "      <td>9</td>\n",
       "      <td>2017-03-06</td>\n",
       "      <td>NaN</td>\n",
       "    </tr>\n",
       "    <tr>\n",
       "      <th>2</th>\n",
       "      <td>9939d3e087bca29c42334d96dccd25ca0e06652a</td>\n",
       "      <td>btnClick</td>\n",
       "      <td>chrome</td>\n",
       "      <td>111.204.198.242</td>\n",
       "      <td>None</td>\n",
       "      <td>None</td>\n",
       "      <td>windows</td>\n",
       "      <td>None</td>\n",
       "      <td>768.0</td>\n",
       "      <td>1366.0</td>\n",
       "      <td>...</td>\n",
       "      <td>2.0</td>\n",
       "      <td>NaN</td>\n",
       "      <td>homepage_ch=demo</td>\n",
       "      <td>NaN</td>\n",
       "      <td>1.488791e+12</td>\n",
       "      <td>2017-03-06 09:04:11</td>\n",
       "      <td>1</td>\n",
       "      <td>9</td>\n",
       "      <td>2017-03-06</td>\n",
       "      <td>NaN</td>\n",
       "    </tr>\n",
       "  </tbody>\n",
       "</table>\n",
       "<p>3 rows × 29 columns</p>\n",
       "</div>"
      ],
      "text/plain": [
       "                                distinct_id             event browser  \\\n",
       "0  9939d3e087bca29c42334d96dccd25ca0e06652a  profile_set_once    None   \n",
       "1  9939d3e087bca29c42334d96dccd25ca0e06652a         $pageview  chrome   \n",
       "2  9939d3e087bca29c42334d96dccd25ca0e06652a          btnClick  chrome   \n",
       "\n",
       "                ip latest_utm_medium latest_utm_source       os  \\\n",
       "0              NaN              None              None      NaN   \n",
       "1  111.204.198.242              None              None  windows   \n",
       "2  111.204.198.242              None              None  windows   \n",
       "\n",
       "  ref_host_pageview  screen_height  screen_width      ...       requestBtn  \\\n",
       "0              None            NaN           NaN      ...              NaN   \n",
       "1              None          768.0        1366.0      ...              NaN   \n",
       "2              None          768.0        1366.0      ...              2.0   \n",
       "\n",
       "  result  session_page_url site_url          time         Bj_timestamp  \\\n",
       "0    NaN              None      NaN  1.490958e+12  2017-03-31 11:04:56   \n",
       "1    NaN  homepage_ch=demo      NaN  1.488791e+12  2017-03-06 09:04:10   \n",
       "2    NaN  homepage_ch=demo      NaN  1.488791e+12  2017-03-06 09:04:11   \n",
       "\n",
       "   dayofweek  hourofday        date  courses_index  \n",
       "0          5         11  2017-03-31            NaN  \n",
       "1          1          9  2017-03-06            NaN  \n",
       "2          1          9  2017-03-06            NaN  \n",
       "\n",
       "[3 rows x 29 columns]"
      ]
     },
     "execution_count": 32,
     "metadata": {},
     "output_type": "execute_result"
    }
   ],
   "source": [
    "interested_df.head(3)"
   ]
  },
  {
   "cell_type": "code",
   "execution_count": 33,
   "metadata": {
    "collapsed": false
   },
   "outputs": [],
   "source": [
    "interested_df.to_csv('data/interested_users.csv', index = False, encoding = 'utf-8')"
   ]
  },
  {
   "cell_type": "code",
   "execution_count": 34,
   "metadata": {
    "collapsed": false
   },
   "outputs": [
    {
     "name": "stderr",
     "output_type": "stream",
     "text": [
      "G:\\Anaconda2\\lib\\site-packages\\ipykernel\\__main__.py:2: SettingWithCopyWarning: \n",
      "A value is trying to be set on a copy of a slice from a DataFrame.\n",
      "Try using .loc[row_indexer,col_indexer] = value instead\n",
      "\n",
      "See the caveats in the documentation: http://pandas.pydata.org/pandas-docs/stable/indexing.html#indexing-view-versus-copy\n",
      "  from ipykernel import kernelapp as app\n"
     ]
    }
   ],
   "source": [
    "new_user_id = interested_df[(interested_df.event == 'profile_set_once')].distinct_id.unique()\n",
    "interested_df['new_user'] = interested_df.distinct_id.apply(lambda x: x in new_user_id)"
   ]
  },
  {
   "cell_type": "code",
   "execution_count": 35,
   "metadata": {
    "collapsed": false
   },
   "outputs": [
    {
     "data": {
      "text/plain": [
       "True     30078\n",
       "False     4210\n",
       "Name: new_user, dtype: int64"
      ]
     },
     "execution_count": 35,
     "metadata": {},
     "output_type": "execute_result"
    }
   ],
   "source": [
    "interested_df.new_user.value_counts()"
   ]
  },
  {
   "cell_type": "code",
   "execution_count": 36,
   "metadata": {
    "collapsed": true
   },
   "outputs": [],
   "source": [
    "pro_index = interested_df[(interested_df.event == 'profile_set_once')].index.values"
   ]
  },
  {
   "cell_type": "code",
   "execution_count": 37,
   "metadata": {
    "collapsed": false
   },
   "outputs": [
    {
     "data": {
      "text/plain": [
       "array([    0,     5,    14, ..., 34268, 34279, 34287], dtype=int64)"
      ]
     },
     "execution_count": 37,
     "metadata": {},
     "output_type": "execute_result"
    }
   ],
   "source": [
    "pro_index"
   ]
  },
  {
   "cell_type": "code",
   "execution_count": 38,
   "metadata": {
    "collapsed": false
   },
   "outputs": [
    {
     "data": {
      "text/plain": [
       "$pageview                13475\n",
       "btnClick                  6894\n",
       "index_leave               5400\n",
       "profile_set_once          4636\n",
       "demo_leave                 971\n",
       "formSubmit                 532\n",
       "about_leave                498\n",
       "courses_leave              436\n",
       "click_send_cellphone       394\n",
       "courses_play_leave         374\n",
       "verify_cellphone_code      362\n",
       "clickSubmit                290\n",
       "page_close                  26\n",
       "Name: event, dtype: int64"
      ]
     },
     "execution_count": 38,
     "metadata": {},
     "output_type": "execute_result"
    }
   ],
   "source": [
    "interested_df.event.value_counts()"
   ]
  },
  {
   "cell_type": "code",
   "execution_count": 39,
   "metadata": {
    "collapsed": false
   },
   "outputs": [
    {
     "name": "stderr",
     "output_type": "stream",
     "text": [
      "G:\\Anaconda2\\lib\\site-packages\\ipykernel\\__main__.py:1: SettingWithCopyWarning: \n",
      "A value is trying to be set on a copy of a slice from a DataFrame\n",
      "\n",
      "See the caveats in the documentation: http://pandas.pydata.org/pandas-docs/stable/indexing.html#indexing-view-versus-copy\n",
      "  if __name__ == '__main__':\n"
     ]
    }
   ],
   "source": [
    "interested_df.drop(labels = pro_index, axis = 0, inplace = True)"
   ]
  },
  {
   "cell_type": "code",
   "execution_count": 40,
   "metadata": {
    "collapsed": true
   },
   "outputs": [],
   "source": [
    "interested_df.reset_index(drop = True, inplace = True)"
   ]
  },
  {
   "cell_type": "code",
   "execution_count": 41,
   "metadata": {
    "collapsed": false
   },
   "outputs": [
    {
     "data": {
      "text/html": [
       "<div>\n",
       "<table border=\"1\" class=\"dataframe\">\n",
       "  <thead>\n",
       "    <tr style=\"text-align: right;\">\n",
       "      <th></th>\n",
       "      <th>distinct_id</th>\n",
       "      <th>event</th>\n",
       "      <th>browser</th>\n",
       "      <th>ip</th>\n",
       "      <th>latest_utm_medium</th>\n",
       "      <th>latest_utm_source</th>\n",
       "      <th>os</th>\n",
       "      <th>ref_host_pageview</th>\n",
       "      <th>screen_height</th>\n",
       "      <th>screen_width</th>\n",
       "      <th>...</th>\n",
       "      <th>result</th>\n",
       "      <th>session_page_url</th>\n",
       "      <th>site_url</th>\n",
       "      <th>time</th>\n",
       "      <th>Bj_timestamp</th>\n",
       "      <th>dayofweek</th>\n",
       "      <th>hourofday</th>\n",
       "      <th>date</th>\n",
       "      <th>courses_index</th>\n",
       "      <th>new_user</th>\n",
       "    </tr>\n",
       "  </thead>\n",
       "  <tbody>\n",
       "    <tr>\n",
       "      <th>0</th>\n",
       "      <td>9939d3e087bca29c42334d96dccd25ca0e06652a</td>\n",
       "      <td>$pageview</td>\n",
       "      <td>chrome</td>\n",
       "      <td>111.204.198.242</td>\n",
       "      <td>None</td>\n",
       "      <td>None</td>\n",
       "      <td>windows</td>\n",
       "      <td>None</td>\n",
       "      <td>768.0</td>\n",
       "      <td>1366.0</td>\n",
       "      <td>...</td>\n",
       "      <td>NaN</td>\n",
       "      <td>homepage_ch=demo</td>\n",
       "      <td>NaN</td>\n",
       "      <td>1.488791e+12</td>\n",
       "      <td>2017-03-06 09:04:10</td>\n",
       "      <td>1</td>\n",
       "      <td>9</td>\n",
       "      <td>2017-03-06</td>\n",
       "      <td>NaN</td>\n",
       "      <td>True</td>\n",
       "    </tr>\n",
       "    <tr>\n",
       "      <th>1</th>\n",
       "      <td>9939d3e087bca29c42334d96dccd25ca0e06652a</td>\n",
       "      <td>btnClick</td>\n",
       "      <td>chrome</td>\n",
       "      <td>111.204.198.242</td>\n",
       "      <td>None</td>\n",
       "      <td>None</td>\n",
       "      <td>windows</td>\n",
       "      <td>None</td>\n",
       "      <td>768.0</td>\n",
       "      <td>1366.0</td>\n",
       "      <td>...</td>\n",
       "      <td>NaN</td>\n",
       "      <td>homepage_ch=demo</td>\n",
       "      <td>NaN</td>\n",
       "      <td>1.488791e+12</td>\n",
       "      <td>2017-03-06 09:04:11</td>\n",
       "      <td>1</td>\n",
       "      <td>9</td>\n",
       "      <td>2017-03-06</td>\n",
       "      <td>NaN</td>\n",
       "      <td>True</td>\n",
       "    </tr>\n",
       "  </tbody>\n",
       "</table>\n",
       "<p>2 rows × 30 columns</p>\n",
       "</div>"
      ],
      "text/plain": [
       "                                distinct_id      event browser  \\\n",
       "0  9939d3e087bca29c42334d96dccd25ca0e06652a  $pageview  chrome   \n",
       "1  9939d3e087bca29c42334d96dccd25ca0e06652a   btnClick  chrome   \n",
       "\n",
       "                ip latest_utm_medium latest_utm_source       os  \\\n",
       "0  111.204.198.242              None              None  windows   \n",
       "1  111.204.198.242              None              None  windows   \n",
       "\n",
       "  ref_host_pageview  screen_height  screen_width    ...    result  \\\n",
       "0              None          768.0        1366.0    ...       NaN   \n",
       "1              None          768.0        1366.0    ...       NaN   \n",
       "\n",
       "   session_page_url site_url          time         Bj_timestamp dayofweek  \\\n",
       "0  homepage_ch=demo      NaN  1.488791e+12  2017-03-06 09:04:10         1   \n",
       "1  homepage_ch=demo      NaN  1.488791e+12  2017-03-06 09:04:11         1   \n",
       "\n",
       "   hourofday        date courses_index  new_user  \n",
       "0          9  2017-03-06           NaN      True  \n",
       "1          9  2017-03-06           NaN      True  \n",
       "\n",
       "[2 rows x 30 columns]"
      ]
     },
     "execution_count": 41,
     "metadata": {},
     "output_type": "execute_result"
    }
   ],
   "source": [
    "interested_df.head(2)"
   ]
  },
  {
   "cell_type": "code",
   "execution_count": 42,
   "metadata": {
    "collapsed": false
   },
   "outputs": [
    {
     "data": {
      "text/plain": [
       "$pageview                13475\n",
       "btnClick                  6894\n",
       "index_leave               5400\n",
       "demo_leave                 971\n",
       "formSubmit                 532\n",
       "about_leave                498\n",
       "courses_leave              436\n",
       "click_send_cellphone       394\n",
       "courses_play_leave         374\n",
       "verify_cellphone_code      362\n",
       "clickSubmit                290\n",
       "page_close                  26\n",
       "Name: event, dtype: int64"
      ]
     },
     "execution_count": 42,
     "metadata": {},
     "output_type": "execute_result"
    }
   ],
   "source": [
    "interested_df.event.value_counts()"
   ]
  },
  {
   "cell_type": "code",
   "execution_count": 43,
   "metadata": {
    "collapsed": true
   },
   "outputs": [],
   "source": [
    "# interested_df.to_csv('data/interested_no_profile.csv', index = False, encoding = 'utf-8')\n",
    "interested_df.to_csv('data/interested_no_profile_whole_behavior.csv', index = False, encoding = 'utf-8')"
   ]
  }
 ],
 "metadata": {
  "kernelspec": {
   "display_name": "Python 2",
   "language": "python",
   "name": "python2"
  },
  "language_info": {
   "codemirror_mode": {
    "name": "ipython",
    "version": 2
   },
   "file_extension": ".py",
   "mimetype": "text/x-python",
   "name": "python",
   "nbconvert_exporter": "python",
   "pygments_lexer": "ipython2",
   "version": "2.7.13"
  }
 },
 "nbformat": 4,
 "nbformat_minor": 0
}
