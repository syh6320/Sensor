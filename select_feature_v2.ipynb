{
 "cells": [
  {
   "cell_type": "code",
   "execution_count": 1,
   "metadata": {
    "collapsed": true
   },
   "outputs": [],
   "source": [
    "import pandas as pd"
   ]
  },
  {
   "cell_type": "code",
   "execution_count": 2,
   "metadata": {
    "collapsed": false
   },
   "outputs": [
    {
     "name": "stderr",
     "output_type": "stream",
     "text": [
      "G:\\Anaconda2\\lib\\site-packages\\IPython\\core\\interactiveshell.py:2723: DtypeWarning: Columns (3,36,38,61,62) have mixed types. Specify dtype option on import or set low_memory=False.\n",
      "  interactivity=interactivity, compiler=compiler, result=result)\n"
     ]
    }
   ],
   "source": [
    "raw_df = pd.read_csv('data/unify_raw_data.csv')"
   ]
  },
  {
   "cell_type": "code",
   "execution_count": 13,
   "metadata": {
    "collapsed": false
   },
   "outputs": [],
   "source": [
    "# impute event\n",
    "raw_df.loc[(raw_df.event.isnull()),'event'] = 'profile_set_once'"
   ]
  },
  {
   "cell_type": "code",
   "execution_count": 3,
   "metadata": {
    "collapsed": true
   },
   "outputs": [],
   "source": [
    "# delete useless features\n",
    "raw_df.drop(labels = 'jssdk_error', axis = 1, inplace = True)"
   ]
  },
  {
   "cell_type": "code",
   "execution_count": 4,
   "metadata": {
    "collapsed": true
   },
   "outputs": [],
   "source": [
    "raw_df.drop(labels = 'info', axis = 1, inplace = True)"
   ]
  },
  {
   "cell_type": "code",
   "execution_count": 5,
   "metadata": {
    "collapsed": true
   },
   "outputs": [],
   "source": [
    "raw_df.drop(labels = 'verification_code', axis = 1, inplace = True)"
   ]
  },
  {
   "cell_type": "code",
   "execution_count": 6,
   "metadata": {
    "collapsed": true
   },
   "outputs": [],
   "source": [
    "raw_df.drop(labels = 'type', axis = 1, inplace = True)"
   ]
  },
  {
   "cell_type": "code",
   "execution_count": 7,
   "metadata": {
    "collapsed": true
   },
   "outputs": [],
   "source": [
    "raw_df.drop(labels = 'session_from_url', axis = 1, inplace = True)"
   ]
  },
  {
   "cell_type": "code",
   "execution_count": 8,
   "metadata": {
    "collapsed": true
   },
   "outputs": [],
   "source": [
    "raw_df.drop(labels = 'session_referrer_domain', axis = 1, inplace = True)"
   ]
  },
  {
   "cell_type": "code",
   "execution_count": 9,
   "metadata": {
    "collapsed": true
   },
   "outputs": [],
   "source": [
    "raw_df.drop(labels = 'first_referrer', axis = 1, inplace = True)"
   ]
  },
  {
   "cell_type": "code",
   "execution_count": 10,
   "metadata": {
    "collapsed": true
   },
   "outputs": [],
   "source": [
    "raw_df.drop(labels = 'latest_referrer', axis = 1, inplace = True)"
   ]
  },
  {
   "cell_type": "code",
   "execution_count": 11,
   "metadata": {
    "collapsed": true
   },
   "outputs": [],
   "source": [
    "raw_df.drop(labels = 'referrer', axis = 1, inplace = True)"
   ]
  },
  {
   "cell_type": "code",
   "execution_count": 12,
   "metadata": {
    "collapsed": true
   },
   "outputs": [],
   "source": [
    "raw_df.drop(labels = 'referrerUrl', axis = 1, inplace = True)"
   ]
  },
  {
   "cell_type": "code",
   "execution_count": 14,
   "metadata": {
    "collapsed": true
   },
   "outputs": [],
   "source": [
    "raw_df.drop(labels = 'siteUrl', axis = 1, inplace = True)"
   ]
  },
  {
   "cell_type": "code",
   "execution_count": 23,
   "metadata": {
    "collapsed": true
   },
   "outputs": [],
   "source": [
    "raw_df.drop(labels = 'latest_referrer_host', axis = 1, inplace = True)"
   ]
  },
  {
   "cell_type": "code",
   "execution_count": 29,
   "metadata": {
    "collapsed": true
   },
   "outputs": [],
   "source": [
    "raw_df.drop(labels = 'url', axis = 1, inplace = True)"
   ]
  },
  {
   "cell_type": "code",
   "execution_count": null,
   "metadata": {
    "collapsed": true
   },
   "outputs": [],
   "source": [
    "raw_df.drop(labels = 'session_referrer', axis = 1, inplace = True)"
   ]
  },
  {
   "cell_type": "code",
   "execution_count": 38,
   "metadata": {
    "collapsed": false,
    "scrolled": true
   },
   "outputs": [
    {
     "name": "stdout",
     "output_type": "stream",
     "text": [
      "www.baidu.com                             23125\n",
      "NaN                                       18583\n",
      "www.sensorsdata.cn                         1420\n",
      "www.sogou.com                              1279\n",
      "36kr.com                                   1087\n",
      "m.baidu.com                                1074\n",
      "www.google.com                              660\n",
      "www.google.com.hk                           619\n",
      "sensorsdata.cn                              381\n",
      "www.so.com                                  303\n",
      "link.zhihu.com                              254\n",
      "cn.bing.com                                 162\n",
      "www.google.co.jp                            147\n",
      "wap.sogou.com                               137\n",
      "m.sogou.com                                 124\n",
      "www.woshipm.com                             118\n",
      "image.baidu.com                              74\n",
      "class.sanjieke.cn                            73\n",
      "wenku.baidu.com                              56\n",
      "www.mulumu.com                               54\n",
      "passport.36kr.com                            53\n",
      "www.google.com.ph                            53\n",
      "qiye.aliyun.com                              52\n",
      "googleads.g.doubleclick.net                  50\n",
      "zhengbangchuangyi.cloud.sensorsdata.cn       49\n",
      "zhidao.baidu.com                             46\n",
      "mail.alibaba-inc.com                         45\n",
      "youxuan.baidu.com                            43\n",
      "www.linear.vc                                41\n",
      "www.itjuzi.com                               31\n",
      "                                          ...  \n",
      "www.3lian.com                                 3\n",
      "ch.cloud.sensorsdata.cn                       3\n",
      "hao.199it.com                                 3\n",
      "geek.csdn.net                                 2\n",
      "sensors.ymt360.com                            2\n",
      "uc.36kr.com                                   2\n",
      "sd.int.jumei.com                              2\n",
      "www.xfz.cn                                    2\n",
      "65.111.161.235                                2\n",
      "www.google.co.kr                              2\n",
      "datadang.com                                  2\n",
      "10.201.48.21                                  2\n",
      "rong.36kr.com                                 2\n",
      "106.185.42.123                                2\n",
      "huaban.com                                    2\n",
      "www.prnasia.com                               2\n",
      "tower.im                                      2\n",
      "vtrack.cloud.sensorsdata.cn                   2\n",
      "101.37.29.83                                  1\n",
      "hao.2b.cn                                     1\n",
      "sas.foneshare.cn                              1\n",
      "116.62.89.9                                   1\n",
      "duckduckgo.com                                1\n",
      "www.google.com.au                             1\n",
      "www.imgeek.org                                1\n",
      "lnkd.in                                       1\n",
      "chuang.36kr.com                               1\n",
      "sd.xingshulin.com                             1\n",
      "www.jiuzhilan.com                             1\n",
      "www.google.co.zm                              1\n",
      "Name: session_referrer_host, dtype: int64\n",
      "$pageview                14908\n",
      "btnClick                  7268\n",
      "index_leave               5770\n",
      "demo_leave                1664\n",
      "about_leave                536\n",
      "courses_leave              515\n",
      "formSubmit                 446\n",
      "courses_play_leave         377\n",
      "click_send_cellphone       316\n",
      "verify_cellphone_code      305\n",
      "clickSubmit                295\n",
      "page_close                  66\n",
      "Name: event, dtype: int64\n"
     ]
    }
   ],
   "source": [
    "print raw_df.session_referrer_host.value_counts(dropna = False)\n",
    "print raw_df[(raw_df.session_referrer_host.notnull())].event.value_counts(dropna = False)"
   ]
  },
  {
   "cell_type": "code",
   "execution_count": 39,
   "metadata": {
    "collapsed": false
   },
   "outputs": [
    {
     "name": "stdout",
     "output_type": "stream",
     "text": [
      "NaN                                                                                                                                                                                                         18566\n",
      "https://www.baidu.com/baidu.php                                                                                                                                                                             17269\n",
      "https://www.baidu.com/link                                                                                                                                                                                   3512\n",
      "https://www.baidu.com/s                                                                                                                                                                                      1177\n",
      "https://www.google.com/                                                                                                                                                                                       626\n",
      "https://www.google.com.hk/                                                                                                                                                                                    609\n",
      "http://36kr.com/                                                                                                                                                                                              483\n",
      "https://www.sensorsdata.cn/                                                                                                                                                                                   292\n",
      "https://sensorsdata.cn/                                                                                                                                                                                       222\n",
      "https://www.google.co.jp/                                                                                                                                                                                     161\n",
      "https://www.sensorsdata.cn/manual/                                                                                                                                                                            130\n",
      "https://www.sensorsdata.cn/manual/use_feature_video.html                                                                                                                                                      103\n",
      "http://www.sensorsdata.cn/                                                                                                                                                                                     99\n",
      "http://www.baidu.com/baidu.php?sc.7aTK00jwDwyKypmLhdEg8w50FJ0BMPOYV4r5HF1rrlnp7z0Di6zsomBfv6LjpPDYiHWM4m_9M06nuxWX5vctX9jotLfXoLKi6xRFseEIG1o5bLoVe9aVB_yqlzaYy4cXr7qShDjDMz62rAxRlUMUgPJ08rCD4IDXszL4h-       79\n",
      "https://www.sensorsdata.cn/manual/java_sdk.html                                                                                                                                                                77\n",
      "http://www.baidu.com/link?url=cqJ-HumjNapy4uRvaPvhHq05o4UMeVX_T3jLa0rkymicU1ZegoRzBQd8Or6cD1h4&wd=&eqid=f18597fa000314990000000658c261fc                                                                       70\n",
      "https://www.sensorsdata.cn/manual/query.html                                                                                                                                                                   70\n",
      "https://link.zhihu.com/?target=https%3A//sensorsdata.cn/                                                                                                                                                       67\n",
      "http://www.baidu.com/baidu.php?sc.IBTK00jyNUHxgmbNsRNO9pwmCW85unoZ3RhY2LA2yYSIy_P_a2rpHF5Zfm3aK0gihACpb2uofjfdgZRsOOEuvUOyAkfOXqqepIc29omYi45Xz8W9GLtwRV3z95qkf9L8sUUhSJZy8T3JHqCw07_EkWHGsnIy6WlObvKeJa       67\n",
      "http://www.woshipm.com/pmd/314444.html                                                                                                                                                                         62\n",
      "http://www.sogou.com/bill_cpc?v=1&p=WJedUFVs989YOUdJ1eA36VXyFq6ASYk1dHTO8XNHJaok2ORYQwr0tiwFTVCfNIIjOC3fHx2G03ClajhGa2Clvxqjl7pYaPU@kaUR9mWyJPmLdaETTuNd8iYgHdpi7b0gsA$m5@sCzkZ$WfDrHtnNoeLlTTi@WqAAeht4       59\n",
      "https://m.baidu.com/?from=844b&vit=fps                                                                                                                                                                         57\n",
      "https://www.sensorsdata.cn/demo.html                                                                                                                                                                           56\n",
      "http://www.mulumu.com/product/sensorsdata                                                                                                                                                                      54\n",
      "https://www.baidu.com/                                                                                                                                                                                         54\n",
      "https://www.google.com.ph/                                                                                                                                                                                     53\n",
      "https://qiye.aliyun.com/alimail/                                                                                                                                                                               52\n",
      "https://www.sensorsdata.cn/manual/event_ana.html                                                                                                                                                               52\n",
      "https://zhengbangchuangyi.cloud.sensorsdata.cn/import/?project=default                                                                                                                                         49\n",
      "https://link.zhihu.com/?target=https%3A//www.sensorsdata.cn                                                                                                                                                    47\n",
      "                                                                                                                                                                                                            ...  \n",
      "https://m.baidu.com/baidu.php?sc.9aTK00aUZedEiha7Bizq_Ez7IeGsbQb9LK8eAznFBzdJVFNQZbT2LMx7t_V6ojgkgm9Y0Dg8ysRr2dL0byG8g41-Lbna2aiR-9qo2EGNVGWuGSFUr_Z3PD9JjWsoBtXWr3elAwNk1SqLLNq-PgCJaXsZNjukM63ggWadExt        1\n",
      "https://m.baidu.com/baidu.php?url=7aTK000mo0eqLwjBzUQ-3oKjwDUpA4JWjz-NhxPQdFFTuEsugT1NDVI_niDpbHvPQmXTvL1TIeogmyhOihhDhurTUFOpEm4wfr2yVt9bA1ZaaCoJWTMZMegyIjummE2_j_z3GZiOZrTCWTa2wMaOYPkOYROfTPaVIw_31G        1\n",
      "https://m.sogou.com/bill_cpc?v=1&p=WJhVUFpwC9lUNbwiE8zTh04q9BHrVrBZbhKJB0JSlOBAIhlLwmP7GH69FFzT6ETq7CO57NxpS3ZVQD4hps9cV3CUUayfp1HV72JrS528ueGb8tjb@@EE@ELx8VTVuEQiXvdoct8AEWKT8ACNuhh1E6cWFxxiMK0NZTOLD        1\n",
      "https://m.baidu.com/baidu.php?sc.7aTK000NegXEZa5vqAlIohGJV2Pz0EUhKhWQ4dQR8YqxJCW7wkhuzEkioXSMotQfWnYnyw2rxtgNrJzfDDDleIJSGh9Z4h_374rUuBYfUgKINPH5daoidHlO8ro49Oj0tpT9aROAEJ9LPIhy2dhZ687TOUxtJ8HWmTWYBAV        1\n",
      "https://wap.sogou.com/bill_cpc?v=1&p=WJhVUFLw919YBQanvcBFBaPjCmY7lA6mOdO6G8sB9alvpCpc86BX2E5JosmFTUTAz$ni3dS3ElMmHFo7e9wi9jntkXxZTB91d$JYAGLxMDU6Qm67MMzddTT8sO1uNi@7X7$d@YanhK2bLD@pMbgHctgAoZWERe9dWsL        1\n",
      "https://m.baidu.com/from=2001a/bd_page_type=1/ssid=0/uid=0/pu=sz%401320_2003%2Cta%40iphone_1_10.2_1_11.4%2Cusm%401/baiduid=31A62AA07B2CE23D3783FD394A48C503/w=0_10_/t=iphone/l=1/tc?ref=www_iphone&lid=9        1\n",
      "https://m.baidu.com/baidu.php?sc.5iTK00KLHPINx0K4TPbQc1r3Vo-fzNfTqCHEnREebtuWDJrgIrQN_TT4ORazAo8A4HzhM84_3OJcHan3sneDJ4DQQ-711L2d5d4D5dtnzf6PKKV2ICDqogQbVfI-0objmVjquJd2pr6MNb8zvKIZvarGze9_trvXdskoDC3        1\n",
      "https://m.sogou.com/bill_cpc?v=1&p=WJhqUFCo9C9tiDgUJoMLhG2x8$UnkyhdimQME1alvqe9oBmasrmDiw3im8Fs6XAfLavaFXqgtxxgVDqVxj6nnkQ82om0kkAjmxSD@dk1cARcRXEsd@4@n4AVmMFH$ta5aMkG5EKEN5MZ7acTmORWmKN6xdpdSiM@r0rFP        1\n",
      "http://www.baidu.com/link?url=opjasqNaa7c7xSMJNOoYgbf1YnrXX6sURD_FxTef3me5WoShgV2auDb4gfNPOd-a&wd=&eqid=977c891b005b73bc0000000558be54d1                                                                        1\n",
      "http://m.sogou.com/web/searchList.jsp?uID=sfIbKyDvTitpfuV1&v=5&dp=1&pid=sogou-mobb-d2dc6368837861b4-0007&w=1278&t=1489027139960&s_t=1489027139299&s_from=result_up&keyword=%E8%87%AA%E7%84%B6%E8%AF%AD%E        1\n",
      "http://www.baidu.com/baidu.php?sc.MzTK00K-MqCk-YowUwLSLaZjwDSMOmrKEUfIOKLXPuVtGlORAT4ynZ40j8nmMBPMLVQ4GDADz6cGgkmxcXhZ-UICFn7y2hocbqkvQfvoDfydCJgxh4WaJRsbaYnX1taJeXBdJwDqV1UFJa0JsLlLrceJENPnSVMieihfAB        1\n",
      "https://m.baidu.com/baidu.php?sc.5iTK00KLHPINx0K4T72UCJHePz62UbTiZl-33ICXE4kLKaznTjzSMQ4JNL4r3RL_pzPUTAIwYJYPn95lfZofGsMx57xLQQH8LSOKeOfpBincjZEpfn3K6PQmXJKK0yGVDDeyx2ggDtyU6FwH7MLwB9wscZo2exHmlWjFGVJ        1\n",
      "http://www.baidu.com/s?ie=utf-8&tn=98010089_1_dg&dsp=ipad&wd=%E6%95%B0%E6%8D%AE%E5%88%86%E6%9E%90                                                                                                               1\n",
      "http://wap.sogou.com/waprdt?query=%CA%FD%BE%DD%B7%D6%CE%F6&clickid=842d1ceb138f7e928878ae4dc7faccb2                                                                                                             1\n",
      "https://m.baidu.com/baidu.php?sc.5iTK000PjlS8JN26r4b0WLwcrb3tFHrkAFncRlIaCIgJeOgWbJm7ncna_ZcSwKFTukrDY3L7C9tFWGQNJ6ZjEX7dEdE_Fx2KR_6E_lVUg6CeyWG8Qbw_VFQlXWwObOrmr8_1VzO-kj1JIaDyNr9MBC-B6K2a3FHiuzgwYs3        1\n",
      "https://www.sogou.com/link?url=DSOYnZeCC_reF_V0215oSdRkvO5tusgbxcLO2TQn7Ac.&query=shence                                                                                                                        1\n",
      "https://m.baidu.com/baidu.php?sc.kzTK00KViRCvFKCtUPQP9MV_oQYNKP4jSd0aR7umF2F5ofK_Q8Ug1G1wvGy069ZS9W1z1rt3bYLccKVLWmei8c3Tjju3ilrUNQGznoUA9M_4z7kk5Z20x0PfAj5ylU7S54pMRYQ4Xxy_YdgpGnAEgH8LOwg-fFzDOjdFJ8F        1\n",
      "https://m.baidu.com/baidu.php?sc.7aTK000D6xTgFD1CUciLL-0Hh5OK6zYhprVMSdfDis3SSTdFHw91JiWgHtMqoVSgvnoBk3PqCvgmkNyNLZNnXost4hHdQH2lt4fbH4ZsGP-EHijCNAFINS4yBbxSmRw6gicgRGeUub6sFrMyR2vwF5z8sPkAjenJn37wyzm        1\n",
      "https://wap.sogou.com/bill_cpc?v=1&p=WJhHUFLa919YBX3imLFeS3YfdI$8j3vcgpY@Gs7SlOBAwZ$40YTnbuz8AME4EUZmrHWYQw0zTR@ZDlMwCFUAMl63QOoO8BQjY3QV4RkF6cmqOF5ZsG@8smDDEZHFLYN5Oh$ssoV8Cdz4bZ@pCtTPDKXff2EP93js0Zd        1\n",
      "https://m.baidu.com/from=844b/bd_page_type=1/ssid=0/uid=0/pu=sz%401320_2001%2Cta%40iphone_1_8.3_3_600%2Cusm%401/baiduid=F446CB36E981F7AC65D5C52FED40B661/w=0_10_/t=iphone/l=1/tc?ref=www_iphone&lid=8535        1\n",
      "http://www.baidu.com/baidu.php?sc.5iTK00jV8musC27oGcu7LLuOS6KoPHBaQhjlF3HpFp26toJs9Xi4VnAwNODMwDEexvRNzMBu8TAeJ2zpWUcxCEfP4m2BOWfS4zfUHe5NM1zsmZrU-v9iHgZubZOd7jAAGQ3MJSY1DLu777fJaZwerH32ShljtbKreYUg4r        1\n",
      "https://wap.sogou.com/bill_cpc?v=1&p=WJed6FM518lYemgymCc0njV5IEltyfUnCfsFIwuF$PwaAl99174jl$E0Hx9gJfTN3ZUpWAReB1JDl2y5txw0jZHjRpeDk2Evky1JGtplP2TrHUZc1m5XdEhs@qr3eA5c1d0cMxLtsE1CKsBuQHoW8hiQg0hB0lpzKJ1        1\n",
      "https://www.google.co.uk/                                                                                                                                                                                       1\n",
      "http://image.baidu.com/search/wiseala?tn=wiseala&iswiseala=1&ie=utf8&wiseps=1&word=%E8%AE%B8%E5%AE%8F%E6%99%A8%E7%BB%9F%E8%AE%A1%E5%88%86%E6%9E%90&pn=2&spn=0&os=4104282062,3462457933&pi=0&simid=406033        1\n",
      "http://www.baidu.com/baidu.php?sc.7aTK00K5YDbFBbnRl_XFFffl_s2yJKsLL63AY7wxK7lVM-Qp82tASsZp3iix-COWHlCPzsEu8DFhshdMiBfTojx3sqsrObkBBB79MK8rPVYJXFNE2_a90h6_6FdLhAMvC_IEbMM3IUudyftN92PP2scuGCmSSuKOPZXML7        1\n",
      "http://www.baidu.com/link?url=0KXd_wNAQQgInBvEMwtGt3DJ5zGHRU_rRnDz9qukHQeW--URVEu1qocQIaMfsz2X&wd=&eqid=d50323c6000843f30000000258c44ecd                                                                        1\n",
      "https://m.baidu.com/baidu.php?sc.JaTK00jBJvlcLu4qSQMreh6m_bHSrTfRyIAWSNQ0y0LZj98nLVPBN-EJUpjhSha1HRxhQtoM2kHBmM3IAyfh17DOqvM-AXryZ_IvdpvxZm635AN9ygKr6ykuKa-ZoIdpBlCSCQP-XxOVaIsUFHRO9TCEFqa7HT0XcZ6Vo3A        1\n",
      "http://chuang.36kr.com/huodong                                                                                                                                                                                  1\n",
      "https://www.sensorsdata.cn/manual/track_manager.html                                                                                                                                                            1\n",
      "http://zhishi.sogou.com/zhishi?keyword=%E7%BD%91%E7%AB%99%E6%95%B0%E6%8D%AE%E5%88%86%E6%9E%90%E5%B7%A5%E5%85%B7&uID=eCm22Ed239fyr4i9&v=5&pid=sogou-waps-8ce8b102d40392a6&dp=1&w=1278&t=1488874134830&s_t        1\n",
      "Name: session_referrer, dtype: int64\n",
      "$pageview                14918\n",
      "btnClick                  7272\n",
      "index_leave               5772\n",
      "demo_leave                1663\n",
      "about_leave                538\n",
      "courses_leave              515\n",
      "formSubmit                 446\n",
      "courses_play_leave         377\n",
      "click_send_cellphone       316\n",
      "verify_cellphone_code      305\n",
      "clickSubmit                295\n",
      "page_close                  66\n",
      "Name: event, dtype: int64\n"
     ]
    }
   ],
   "source": [
    "print raw_df.session_referrer.value_counts(dropna = False)\n",
    "print raw_df[(raw_df.session_referrer.notnull())].event.value_counts(dropna = False)"
   ]
  },
  {
   "cell_type": "code",
   "execution_count": 36,
   "metadata": {
    "collapsed": false
   },
   "outputs": [
    {
     "name": "stdout",
     "output_type": "stream",
     "text": [
      "Index([u'nocache', u'distinct_id', u'event', u'browser', u'browser_version',\n",
      "       u'first_browser_language', u'first_referrer_host', u'first_visit_time',\n",
      "       u'ip', u'is_first_day', u'is_first_time', u'latest_utm_campaign',\n",
      "       u'latest_utm_content', u'latest_utm_medium', u'latest_utm_source',\n",
      "       u'latest_utm_term', u'model', u'os', u'os_version', u'referrer_host',\n",
      "       u'screen_height', u'screen_width', u'title', u'url_path',\n",
      "       u'utm_campaign', u'utm_content', u'utm_medium', u'utm_source',\n",
      "       u'utm_term', u'latest_ch', u'session_referrer',\n",
      "       u'session_referrer_host', u'ch', u'company', u'contact', u'email',\n",
      "       u'from_url', u'isMsg', u'isSuccess', u'name', u'page', u'pagePosition',\n",
      "       u'pageStayTime', u'pageUrl', u'project_name', u'referrHostUrl',\n",
      "       u'requestBtn', u'result', u'session_page_url', u'site_url',\n",
      "       u'url_path.1', u'time'],\n",
      "      dtype='object')\n",
      "52\n"
     ]
    }
   ],
   "source": [
    "print raw_df.columns\n",
    "print raw_df.shape[1]"
   ]
  },
  {
   "cell_type": "code",
   "execution_count": 37,
   "metadata": {
    "collapsed": true
   },
   "outputs": [],
   "source": [
    "raw_df.to_csv('data/selected_data_v1.csv', encoding = 'utf-8', index = False)"
   ]
  },
  {
   "cell_type": "code",
   "execution_count": 40,
   "metadata": {
    "collapsed": false,
    "scrolled": true
   },
   "outputs": [
    {
     "data": {
      "text/plain": [
       "pc         28096\n",
       "mac        13023\n",
       "iphone      1455\n",
       "android      500\n",
       "huawei       359\n",
       "na           300\n",
       "vivo         188\n",
       "meizu        136\n",
       "samsung      135\n",
       "mi           122\n",
       "ipad          89\n",
       "hongmi        85\n",
       "nexus         49\n",
       "lenovo         9\n",
       "coolpad        8\n",
       "htc            4\n",
       "oppo           3\n",
       "zte            2\n",
       "lg             1\n",
       "Name: model, dtype: int64"
      ]
     },
     "execution_count": 40,
     "metadata": {},
     "output_type": "execute_result"
    }
   ],
   "source": [
    "raw_df.model.value_counts()"
   ]
  },
  {
   "cell_type": "code",
   "execution_count": 41,
   "metadata": {
    "collapsed": false
   },
   "outputs": [
    {
     "data": {
      "text/plain": [
       "神策数据 | Sensors Data - 国内领先的用户行为分析产品                                                                                                                                                                                                                                                                                                                                                                                                                                                                                     9400\n",
       "神策分析|Sensors Analytics-帮你实现数据驱动－demo                                                                                                                                                                                                                                                                                                                                                                                                                                                                                    2896\n",
       "介绍 · Sensors Analytics 使用手册                                                                                                                                                                                                                                                                                                                                                                                                                                                                                             2340\n",
       "神策分析|Sensors Analytics-帮你实现数据驱动－产品                                                                                                                                                                                                                                                                                                                                                                                                                                                                                      1671\n",
       "神策分析|Sensors Analytics-帮你实现数据驱动－B轮融资发布会                                                                                                                                                                                                                                                                                                                                                                                                                                                                                 1210\n",
       "神策分析|Sensors Analytics-帮你实现数据驱动－关于                                                                                                                                                                                                                                                                                                                                                                                                                                                                                       805\n",
       "神策分析|Sensors Analytics-帮你实现数据驱动-视频列表                                                                                                                                                                                                                                                                                                                                                                                                                                                                                     781\n",
       "神策分析|Sensors Analytics-帮你实现数据驱动－视频播放                                                                                                                                                                                                                                                                                                                                                                                                                                                                                     569\n",
       "数据模型 · Sensors Analytics 使用手册                                                                                                                                                                                                                                                                                                                                                                                                                                                                                            158\n",
       "JavaScript SDK · Sensors Analytics 使用手册                                                                                                                                                                                                                                                                                                                                                                                                                                                                                  156\n",
       "数据格式 · Sensors Analytics 使用手册                                                                                                                                                                                                                                                                                                                                                                                                                                                                                            112\n",
       "事件分析 · Sensors Analytics 使用手册                                                                                                                                                                                                                                                                                                                                                                                                                                                                                            105\n",
       "神策分析|Sensors Analytics-帮你实现数据驱动-网址构建工具                                                                                                                                                                                                                                                                                                                                                                                                                                                                                    94\n",
       "数据接入 · Sensors Analytics 使用手册                                                                                                                                                                                                                                                                                                                                                                                                                                                                                             93\n",
       "可视化埋点 · Sensors Analytics 使用手册                                                                                                                                                                                                                                                                                                                                                                                                                                                                                            90\n",
       "Android SDK · Sensors Analytics 使用手册                                                                                                                                                                                                                                                                                                                                                                                                                                                                                      90\n",
       "电商类产品 · Sensors Analytics 使用手册                                                                                                                                                                                                                                                                                                                                                                                                                                                                                            76\n",
       "如何准确的标识用户 · Sensors Analytics 使用手册                                                                                                                                                                                                                                                                                                                                                                                                                                                                                        75\n",
       "iOS SDK · Sensors Analytics 使用手册                                                                                                                                                                                                                                                                                                                                                                                                                                                                                          74\n",
       "整体使用流程 · Sensors Analytics 使用手册                                                                                                                                                                                                                                                                                                                                                                                                                                                                                           69\n",
       "weixin://private/setresult/SCENE_FETCHQUEUE&eyJmdW5jIjoibG9nIiwicGFyYW1zIjp7Im1zZyI6Il9ydW5PbjNyZEFwaUxpc3QgOiBtZW51OnNoYXJlOnRpbWVsaW5lLG1lbnU6c2hhcmU6YXBwbWVzc2FnZSxvblZvaWNlUmVjb3JkRW5kLG9uVm9pY2VQbGF5QmVnaW4sb25Wb2ljZVBsYXlFbmQsb25Mb2NhbEltYWdlVXBsb2FkUHJvZ3Jlc3Msb25JbWFnZURvd25sb2FkUHJvZ3Jlc3Msb25Wb2ljZVVwbG9hZFByb2dyZXNzLG9uVm9pY2VEb3dubG9hZFByb2dyZXNzLG1lbnU6c2V0Zm9udCxtZW51OnNoYXJlOndlaWJvLG1lbnU6c2hhcmU6ZW1haWwsd3hkb3dubG9hZDpzdGF0ZV9jaGFuZ2UsaGRPbkRldmljZVN0YXRlQ2hhbmdlZCxhY3Rpdml0eTpz      67\n",
       "神策分析|Sensors Analytics-帮你实现数据驱动-JavaScript SDK 自动生成工具                                                                                                                                                                                                                                                                                                                                                                                                                                                                     62\n",
       "用户分群 · Sensors Analytics 使用手册                                                                                                                                                                                                                                                                                                                                                                                                                                                                                             50\n",
       "Java SDK · Sensors Analytics 使用手册                                                                                                                                                                                                                                                                                                                                                                                                                                                                                         49\n",
       "漏斗分析 · Sensors Analytics 使用手册                                                                                                                                                                                                                                                                                                                                                                                                                                                                                             47\n",
       "留存分析 · Sensors Analytics 使用手册                                                                                                                                                                                                                                                                                                                                                                                                                                                                                             46\n",
       "自定义查询 · Sensors Analytics 使用手册                                                                                                                                                                                                                                                                                                                                                                                                                                                                                            41\n",
       "weixin://private/setresult/SCENE_HANDLEMSGFROMWX&eyJfX2Vycl9jb2RlIjoiY2I0MDQifQ==                                                                                                                                                                                                                                                                                                                                                                                                                                         38\n",
       "用户路径分析 · Sensors Analytics 使用手册                                                                                                                                                                                                                                                                                                                                                                                                                                                                                           32\n",
       "PHP SDK · Sensors Analytics 使用手册                                                                                                                                                                                                                                                                                                                                                                                                                                                                                          31\n",
       "                                                                                                                                                                                                                                                                                                                                                                                                                                                                                                                        ... \n",
       "权限管理 · Sensors Analytics 使用手册                                                                                                                                                                                                                                                                                                                                                                                                                                                                                              5\n",
       "统计页面停留时间 · Sensors Analytics 使用手册                                                                                                                                                                                                                                                                                                                                                                                                                                                                                          5\n",
       "神策分析相关名词 · Sensors Analytics 使用手册                                                                                                                                                                                                                                                                                                                                                                                                                                                                                          4\n",
       "产品视频 · Sensors Analytics 使用手册                                                                                                                                                                                                                                                                                                                                                                                                                                                                                              4\n",
       "第三方登录 · Sensors Analytics 使用手册                                                                                                                                                                                                                                                                                                                                                                                                                                                                                             4\n",
       "功能 API · Sensors Analytics 使用手册                                                                                                                                                                                                                                                                                                                                                                                                                                                                                            4\n",
       "元数据创建工具使用说明 · Sensors Analytics 使用手册                                                                                                                                                                                                                                                                                                                                                                                                                                                                                       3\n",
       "3 神策数据 | Sensors Data - 国内领先的用户行为分析产品                                                                                                                                                                                                                                                                                                                                                                                                                                                                                      3\n",
       "APICloud SDK · Sensors Analytics 使用手册                                                                                                                                                                                                                                                                                                                                                                                                                                                                                      3\n",
       "CustomUserSegmenter 使用说明 · Sensors Analytics 使用手册                                                                                                                                                                                                                                                                                                                                                                                                                                                                          3\n",
       "关于我们 · Sensors Analytics 使用手册                                                                                                                                                                                                                                                                                                                                                                                                                                                                                              3\n",
       "从外部 Kafka 接入数据的方案 · Sensors Analytics 使用手册                                                                                                                                                                                                                                                                                                                                                                                                                                                                                 3\n",
       "3 神策分析|Sensors Analytics-帮你实现数据驱动－产品                                                                                                                                                                                                                                                                                                                                                                                                                                                                                       2\n",
       "数据接入基本原则 · Sensors Analytics 使用手册                                                                                                                                                                                                                                                                                                                                                                                                                                                                                          2\n",
       "数据校验及元数据创建 · Sensors Analytics 使用手册                                                                                                                                                                                                                                                                                                                                                                                                                                                                                        2\n",
       "Java SDK Demo · Sensors Analytics 使用手册                                                                                                                                                                                                                                                                                                                                                                                                                                                                                     2\n",
       "Ruby SDK · Sensors Analytics 使用手册                                                                                                                                                                                                                                                                                                                                                                                                                                                                                          2\n",
       "导入实时查看 · Sensors Analytics 使用手册                                                                                                                                                                                                                                                                                                                                                                                                                                                                                            2\n",
       "推荐分享 · Sensors Analytics 使用手册                                                                                                                                                                                                                                                                                                                                                                                                                                                                                              2\n",
       "3 神策分析|Sensors Analytics-帮你实现数据驱动－demo                                                                                                                                                                                                                                                                                                                                                                                                                                                                                     1\n",
       "其他辅助工具 · Sensors Analytics 使用手册                                                                                                                                                                                                                                                                                                                                                                                                                                                                                            1\n",
       "导入辅助工具 · Sensors Analytics 使用手册                                                                                                                                                                                                                                                                                                                                                                                                                                                                                            1\n",
       "4 介绍 · Sensors Analytics 使用手册                                                                                                                                                                                                                                                                                                                                                                                                                                                                                              1\n",
       "3 神策分析|Sensors Analytics-帮你实现数据驱动－关于                                                                                                                                                                                                                                                                                                                                                                                                                                                                                       1\n",
       "进阶使用场景 · Sensors Analytics 使用手册                                                                                                                                                                                                                                                                                                                                                                                                                                                                                            1\n",
       "C SDK · Sensors Analytics 使用手册                                                                                                                                                                                                                                                                                                                                                                                                                                                                                             1\n",
       "分析师事件权限设置工具 · Sensors Analytics 使用手册                                                                                                                                                                                                                                                                                                                                                                                                                                                                                       1\n",
       "基础指标解释和配置 · Sensors Analytics 使用手册                                                                                                                                                                                                                                                                                                                                                                                                                                                                                         1\n",
       "Sensor Analytics - help you implement data drivers                                                                                                                                                                                                                                                                                                                                                                                                                                                                         1\n",
       "查询抽样 · Sensors Analytics 使用手册                                                                                                                                                                                                                                                                                                                                                                                                                                                                                              1\n",
       "Name: title, dtype: int64"
      ]
     },
     "execution_count": 41,
     "metadata": {},
     "output_type": "execute_result"
    }
   ],
   "source": [
    "raw_df.title.value_counts()"
   ]
  },
  {
   "cell_type": "code",
   "execution_count": 43,
   "metadata": {
    "collapsed": false
   },
   "outputs": [
    {
     "data": {
      "text/plain": [
       "NaN              50649\n",
       "demo               308\n",
       "zhihu               70\n",
       "itjuzi               6\n",
       "pedaily              4\n",
       "36kr                 4\n",
       "36kr_cube            2\n",
       "edu_demo_doc         2\n",
       "chiyuan              2\n",
       "sangwenfeng          1\n",
       "ebiz_demo_doc        1\n",
       "Name: ch, dtype: int64"
      ]
     },
     "execution_count": 43,
     "metadata": {},
     "output_type": "execute_result"
    }
   ],
   "source": [
    "raw_df.ch.value_counts(dropna = False)"
   ]
  },
  {
   "cell_type": "code",
   "execution_count": 44,
   "metadata": {
    "collapsed": false
   },
   "outputs": [
    {
     "data": {
      "text/plain": [
       "NaN              45407\n",
       "demo              5083\n",
       "pedaily            219\n",
       "zhihu              213\n",
       "itjuzi              29\n",
       "chiyuan             25\n",
       "edu_demo_doc        22\n",
       "ebiz_demo_doc       21\n",
       "sangwf              13\n",
       "36kr                11\n",
       "caojiang             3\n",
       "sangwenfeng          2\n",
       "36kr_cube            1\n",
       "Name: latest_ch, dtype: int64"
      ]
     },
     "execution_count": 44,
     "metadata": {},
     "output_type": "execute_result"
    }
   ],
   "source": [
    "raw_df.latest_ch.value_counts(dropna = False)"
   ]
  },
  {
   "cell_type": "code",
   "execution_count": 46,
   "metadata": {
    "collapsed": false
   },
   "outputs": [
    {
     "name": "stdout",
     "output_type": "stream",
     "text": [
      "NaN              43055\n",
      "index             5388\n",
      "demo              1584\n",
      "about              557\n",
      "courses_index      465\n",
      "Name: page, dtype: int64\n",
      "btnClick    7994\n",
      "Name: event, dtype: int64\n"
     ]
    }
   ],
   "source": [
    "print raw_df.page.value_counts(dropna = False)\n",
    "print raw_df[(raw_df.page.notnull())].event.value_counts(dropna = False)"
   ]
  },
  {
   "cell_type": "code",
   "execution_count": 47,
   "metadata": {
    "collapsed": false,
    "scrolled": true
   },
   "outputs": [
    {
     "name": "stdout",
     "output_type": "stream",
     "text": [
      "NaN                40799\n",
      "request             2074\n",
      "demo                1943\n",
      "document            1361\n",
      "product             1284\n",
      "b-round              861\n",
      "about                621\n",
      "blog                 515\n",
      "viedo                374\n",
      "logo                 307\n",
      "mail                  54\n",
      "陈**                   32\n",
      "李**                   26\n",
      "张**                   23\n",
      "陈*                    22\n",
      "刘**                   19\n",
      "余*                    17\n",
      "高**                   17\n",
      "王**                   17\n",
      "黄**                   14\n",
      "张*                    13\n",
      "小*                    13\n",
      "黄*                    12\n",
      "杨**                   11\n",
      "李*                    11\n",
      "一***                  10\n",
      "吴**                   10\n",
      "王*                     9\n",
      "方*                     9\n",
      "江**                    9\n",
      "                   ...  \n",
      "h******                2\n",
      "落*                     2\n",
      "罗**                    2\n",
      "何**                    2\n",
      "朱*                     2\n",
      "梁**                    2\n",
      "莉*                     2\n",
      "添***                   2\n",
      "米*                     2\n",
      "耿*                     2\n",
      "S**                    2\n",
      "华***                   2\n",
      "朱**                    2\n",
      "A***                   2\n",
      "丁**                    2\n",
      "e****                  2\n",
      "顾**                    2\n",
      "郭*                     2\n",
      "D****                  2\n",
      "A*****                 2\n",
      "q***                   2\n",
      "董**                    1\n",
      "不****                  1\n",
      "S*************         1\n",
      "K**************        1\n",
      "果*                     1\n",
      "3*********             1\n",
      "c*********             1\n",
      "y**                    1\n",
      "3**                    1\n",
      "Name: name, dtype: int64\n",
      "btnClick       9394\n",
      "formSubmit      503\n",
      "clickSubmit     353\n",
      "Name: event, dtype: int64\n"
     ]
    }
   ],
   "source": [
    "print raw_df.name.value_counts(dropna = False)\n",
    "print raw_df[(raw_df.name.notnull())].event.value_counts(dropna = False)"
   ]
  },
  {
   "cell_type": "code",
   "execution_count": 49,
   "metadata": {
    "collapsed": false,
    "scrolled": true
   },
   "outputs": [
    {
     "name": "stdout",
     "output_type": "stream",
     "text": [
      "NaN                                                                                                                                                                                                                                                                                                    50383\n",
      "https://www.sensorsdata.cn/                                                                                                                                                                                                                                                                              126\n",
      "https://www.sensorsdata.cn/?utm_source=baidu&utm_medium=cpc&utm_term=%E7%94%A8%E6%88%B7%E7%94%BB%E5%83%8F&utm_content=%E9%80%9A%E7%94%A8%2D%E7%94%A8%E6%88%B7%E7%94%BB%E5%83%8F&utm_campaign=%E9%80%9A%E7%94%A8%E8%AF%8D                                                                                  79\n",
      "https://www.sensorsdata.cn/?utm_source=baidu&utm_medium=cpc&utm_term=%E7%A5%9E%E7%AD%96&utm_content=%E5%93%81%E7%89%8C%2D%E7%A5%9E%E7%AD%96&utm_campaign=%E5%93%81%E7%89%8C%E8%AF%8D                                                                                                                      64\n",
      "https://sensorsdata.cn/                                                                                                                                                                                                                                                                                   36\n",
      "https://www.sensorsdata.cn/?utm_source=baidu&utm_medium=mcpc&utm_campaign=%e7%a5%9e%e7%ad%96-%e7%a7%bb%e5%8a%a8%e6%8e%a8%e5%b9%bf&utm_content=%e5%93%81%e7%89%8c%e8%af%8d-M&utm_term=%e7%a5%9e%e7%ad%96                                                                                                   24\n",
      "https://www.sensorsdata.cn/?utm_source=sogou&utm_medium=mcpc&utm_term=%e6%95%b0%e6%8d%ae%e5%88%86%e6%9e%90&utm_content=%e9%80%9a%e7%94%a8-%e6%95%b0%e6%8d%ae%e5%88%86%e6%9e%90&utm_campaign=S-%e9%80%9a%e7%94%a8%e8%af%8d                                                                                 19\n",
      "https://www.sensorsdata.cn/?utm_source=baidu&utm_medium=cpc&utm_term=%E7%A5%9E%E7%AD%96%E6%95%B0%E6%8D%AE&utm_content=%E5%93%81%E7%89%8C%2D%E7%A5%9E%E7%AD%96&utm_campaign=%E5%93%81%E7%89%8C%E8%AF%8D                                                                                                    16\n",
      "https://www.sensorsdata.cn/?utm_source=baidu&utm_medium=mfeed&utm_term=%E9%A6%96%E9%A1%B5-%E9%80%9A%E7%94%A8%E8%AF%8D-%E4%B8%89%E5%9B%BE-%E5%9B%BE1&utm_content=%E9%80%9A%E7%94%A8%E8%AF%8D-%E4%B8%89%E5%9B%BE&utm_campaign=%E9%A6%96%E9%A1%B5                                                            14\n",
      "https://www.sensorsdata.cn/?utm_source=baidu&utm_medium=cpc&utm_term=%E7%BD%91%E7%AB%99%E6%95%B0%E6%8D%AE%E7%BB%9F%E8%AE%A1&utm_content=%E9%80%9A%E7%94%A8%2D%E6%95%B0%E6%8D%AE%E7%BB%9F%E8%AE%A1&utm_campaign=%E9%80%9A%E7%94%A8%E8%AF%8D                                                                13\n",
      "https://www.sensorsdata.cn/?utm_source=baidu&utm_medium=cpc&utm_term=%E7%94%A8%E6%88%B7%E5%88%86%E6%9E%90&utm_content=%E9%80%9A%E7%94%A8%2D%E7%94%A8%E6%88%B7%E5%88%86%E6%9E%90&utm_campaign=%E9%80%9A%E7%94%A8%E8%AF%8D                                                                                  12\n",
      "https://www.sensorsdata.cn/?utm_source=baidu&utm_medium=cpc&utm_term=app%E6%95%B0%E6%8D%AE&utm_content=%E9%80%9A%E7%94%A8%2DAPP%E8%BF%90%E8%90%A5&utm_campaign=%E9%80%9A%E7%94%A8%E8%AF%8D                                                                                                                10\n",
      "https://www.sensorsdata.cn/?utm_source=baidu&utm_medium=cpc&utm_term=%E7%94%A8%E6%88%B7%E7%94%BB%E5%83%8F%E5%88%86%E6%9E%90&utm_content=%E9%80%9A%E7%94%A8%2D%E7%94%A8%E6%88%B7%E7%94%BB%E5%83%8F%2D%E4%BA%A7%E5%93%81&utm_campaign=%E9%80%9A%E7%94%A8%E8%AF%8D                                           10\n",
      "https://www.sensorsdata.cn/?utm_source=baidu&utm_medium=cpc&utm_term=%E7%BD%91%E7%AB%99%E8%BF%90%E8%90%A5%E6%95%B0%E6%8D%AE%E5%88%86%E6%9E%90&utm_content=%E9%80%9A%E7%94%A8%2D%E6%95%B0%E6%8D%AE%E5%88%86%E6%9E%90%2D%E8%BF%90%E8%90%A5&utm_campaign=%E9%80%9A%E7%94%A8%E8%AF%8D                         10\n",
      "https://www.sensorsdata.cn/?utm_source=baidu&utm_medium=cpc&utm_term=%E7%94%B5%E5%AD%90%E5%95%86%E5%8A%A1%E6%95%B0%E6%8D%AE&utm_content=%E9%80%9A%E7%94%A8%2D%E7%94%B5%E5%95%86%E8%BF%90%E8%90%A5&utm_campaign=%E9%80%9A%E7%94%A8%E8%AF%8D                                                                10\n",
      "https://www.sensorsdata.cn/?utm_source=baidu&utm_medium=cpc&utm_term=%E6%95%B0%E6%8D%AE%E5%88%86%E6%9E%90&utm_content=%E9%80%9A%E7%94%A8%2D%E6%95%B0%E6%8D%AE%E5%88%86%E6%9E%90&utm_campaign=%E9%80%9A%E7%94%A8%E8%AF%8D                                                                                   8\n",
      "https://www.sensorsdata.cn/?utm_source=baidu&utm_medium=cpc&utm_term=%E5%AE%A2%E6%88%B7%E7%94%BB%E5%83%8F&utm_content=%E9%80%9A%E7%94%A8%2D%E7%94%A8%E6%88%B7%E7%94%BB%E5%83%8F&utm_campaign=%E9%80%9A%E7%94%A8%E8%AF%8D                                                                                   7\n",
      "https://sensorsdata.cn/?ch=demo                                                                                                                                                                                                                                                                            7\n",
      "https://www.sensorsdata.cn/demo.html                                                                                                                                                                                                                                                                       6\n",
      "https://www.sensorsdata.cn/?utm_source=baidu&utm_medium=cpc&utm_term=%E7%A5%9E%E7%AD%96%E5%88%86%E6%9E%90&utm_content=%E5%93%81%E7%89%8C%2D%E7%A5%9E%E7%AD%96&utm_campaign=%E5%93%81%E7%89%8C%E8%AF%8D                                                                                                     6\n",
      "https://www.sensorsdata.cn/?utm_source=baidu&utm_medium=cpc&utm_term=%E6%B8%B8%E6%88%8F%E6%95%B0%E6%8D%AE%E5%88%86%E6%9E%90&utm_content=%E9%80%9A%E7%94%A8%2D%E6%95%B0%E6%8D%AE%E5%88%86%E6%9E%90%2D%E8%A1%8C%E4%B8%9A&utm_campaign=%E9%80%9A%E7%94%A8%E8%AF%8D                                            6\n",
      "https://sensorsdata.cn/?ch=zhihu                                                                                                                                                                                                                                                                           6\n",
      "https://www.sensorsdata.cn/?utm_source=baidu&utm_medium=cpc&utm_term=%E7%94%B5%E5%95%86%E6%95%B0%E6%8D%AE%E5%88%86%E6%9E%90&utm_content=%E9%80%9A%E7%94%A8%2D%E6%95%B0%E6%8D%AE%E5%88%86%E6%9E%90%2D%E8%A1%8C%E4%B8%9A&utm_campaign=%E9%80%9A%E7%94%A8%E8%AF%8D                                            6\n",
      "https://www.sensorsdata.cn/?utm_source=sogou&utm_medium=mcpc&utm_term=%e5%a4%a7%e6%95%b0%e6%8d%ae%e5%88%86%e6%9e%90&utm_content=%e9%80%9a%e7%94%a8-%e6%95%b0%e6%8d%ae%e5%88%86%e6%9e%90&utm_campaign=S-%e9%80%9a%e7%94%a8%e8%af%8d                                                                         5\n",
      "https://www.sensorsdata.cn/?utm_source=baidu&utm_medium=cpc&utm_term=App%E8%BF%90%E8%90%A5&utm_content=%E9%80%9A%E7%94%A8%2DAPP%E8%BF%90%E8%90%A5&utm_campaign=%E9%80%9A%E7%94%A8%E8%AF%8D                                                                                                                 4\n",
      "https://www.sensorsdata.cn/?utm_source=baidu&utm_medium=cpc&utm_term=app%E8%BF%90%E8%90%A5%E6%95%B0%E6%8D%AE%E5%88%86%E6%9E%90&utm_content=%E9%80%9A%E7%94%A8%2D%E6%95%B0%E6%8D%AE%E5%88%86%E6%9E%90%2D%E8%A1%8C%E4%B8%9A&utm_campaign=%E9%80%9A%E7%94%A8%E8%AF%8D                                         4\n",
      "https://www.sensorsdata.cn/?utm_source=baidu&utm_medium=cpc&utm_term=%E6%95%B0%E6%8D%AE%E5%88%86%E6%9E%90%E7%B3%BB%E7%BB%9F&utm_content=%E9%80%9A%E7%94%A8%2D%E6%95%B0%E6%8D%AE%E5%88%86%E6%9E%90%2D%E4%BA%A7%E5%93%81&utm_campaign=%E9%80%9A%E7%94%A8%E8%AF%8D                                            4\n",
      "https://www.sensorsdata.cn/?utm_source=baidu&utm_medium=cpc&utm_term=%E6%95%B0%E6%8D%AE%E5%9F%8B%E7%82%B9&utm_content=%E9%80%9A%E7%94%A8%2D%E5%9F%8B%E7%82%B9&utm_campaign=%E9%80%9A%E7%94%A8%E8%AF%8D                                                                                                     4\n",
      "https://www.sensorsdata.cn/?utm_source=baidu&utm_medium=cpc&utm_term=%E5%A4%A7%E6%95%B0%E6%8D%AE%E5%88%86%E6%9E%90&utm_content=%E9%80%9A%E7%94%A8%2D%E6%95%B0%E6%8D%AE%E5%88%86%E6%9E%90&utm_campaign=%E9%80%9A%E7%94%A8%E8%AF%8D                                                                          4\n",
      "https://www.sensorsdata.cn/?utm_source=baidu&utm_medium=cpc&utm_term=%E6%95%B0%E6%8D%AE%E5%88%86%E6%9E%90%E6%A8%A1%E5%9E%8B&utm_content=%E9%80%9A%E7%94%A8%2D%E6%95%B0%E6%8D%AE%E5%88%86%E6%9E%90%2D%E5%85%B6%E4%BB%96&utm_campaign=%E9%80%9A%E7%94%A8%E8%AF%8D                                            4\n",
      "                                                                                                                                                                                                                                                                                                       ...  \n",
      "https://www.sensorsdata.cn/?utm_source=baidu&utm_medium=cpc&utm_term=%E6%95%B0%E6%8D%AE%E5%8F%AF%E8%A7%86%E5%8C%96&utm_content=%E9%80%9A%E7%94%A8%2D%E6%95%B0%E6%8D%AE%E5%8F%AF%E8%A7%86%E5%8C%96&utm_campaign=%E9%80%9A%E7%94%A8%E8%AF%8D                                                                 2\n",
      "https://www.sensorsdata.cn/?utm_source=sogou&utm_medium=mcpc&utm_term=%e7%94%a8%e6%88%b7%e7%94%bb%e5%83%8f%e5%b7%a5%e5%85%b7&utm_content=%e9%80%9a%e7%94%a8-%e7%94%a8%e6%88%b7%e7%94%bb%e5%83%8f-%e4%ba%a7%e5%93%81&utm_campaign=S-%e9%80%9a%e7%94%a8%e8%af%8d                                             2\n",
      "https://www.sensorsdata.cn/?utm_source=baidu&utm_medium=cpc&utm_term=%E6%95%B0%E6%8D%AE%E5%8F%AF%E8%A7%86%E5%8C%96%E5%B7%A5%E5%85%B7&utm_content=%E9%80%9A%E7%94%A8%2D%E6%95%B0%E6%8D%AE%E5%8F%AF%E8%A7%86%E5%8C%96&utm_campaign=%E9%80%9A%E7%94%A8%E8%AF%8D                                               2\n",
      "https://www.sensorsdata.cn/?utm_source=baidu&utm_medium=cpc&utm_term=app%E6%95%B0%E6%8D%AE%E5%88%86%E6%9E%90&utm_content=%E9%80%9A%E7%94%A8%2D%E6%95%B0%E6%8D%AE%E5%88%86%E6%9E%90%2D%E8%A1%8C%E4%B8%9A&utm_campaign=%E9%80%9A%E7%94%A8%E8%AF%8D                                                           2\n",
      "https://www.sensorsdata.cn/?utm_source=baidu&utm_medium=cpc&utm_term=dmp%20%E7%94%A8%E6%88%B7%E7%94%BB%E5%83%8F&utm_content=%E9%80%9A%E7%94%A8%2D%E7%94%A8%E6%88%B7%E7%94%BB%E5%83%8F%2D%E8%A1%8C%E4%B8%9A&utm_campaign=%E9%80%9A%E7%94%A8%E8%AF%8D                                                        2\n",
      "https://www.sensorsdata.cn/?utm_source=baidu&utm_medium=cpc&utm_term=sem%E4%BC%98%E5%8C%96&utm_content=%E9%80%9A%E7%94%A8%2D%E5%B9%BF%E5%91%8A%E4%BC%98%E5%8C%96&utm_campaign=%E9%80%9A%E7%94%A8%E8%AF%8D                                                                                                  2\n",
      "https://www.sensorsdata.cn/?utm_source=baidu&utm_medium=cpc&utm_term=%E6%95%B0%E6%8D%AE%E7%BB%9F%E8%AE%A1%E5%B9%B3%E5%8F%B0&utm_content=%E9%80%9A%E7%94%A8%2D%E6%95%B0%E6%8D%AE%E7%BB%9F%E8%AE%A1%2D%E4%BA%A7%E5%93%81&utm_campaign=%E9%80%9A%E7%94%A8%E8%AF%8D                                            2\n",
      "https://www.sensorsdata.cn/?utm_source=baidu&utm_medium=cpc&utm_term=app%E5%88%86%E6%9E%90&utm_content=%E9%80%9A%E7%94%A8%2DAPP%E8%BF%90%E8%90%A5&utm_campaign=%E9%80%9A%E7%94%A8%E8%AF%8D                                                                                                                 2\n",
      "https://www.sensorsdata.cn/?utm_source=baidu&utm_medium=cpc&utm_term=%E7%94%A8%E6%88%B7%E7%94%BB%E5%83%8F%20%E5%A4%A7%E6%95%B0%E6%8D%AE&utm_content=%E9%80%9A%E7%94%A8%2D%E7%94%A8%E6%88%B7%E7%94%BB%E5%83%8F%2D%E5%8A%9F%E8%83%BD&utm_campaign=%E9%80%9A%E7%94%A8%E8%AF%8D                                2\n",
      "https://www.sensorsdata.cn/?utm_source=sogou&utm_medium=mcpc&utm_term=AARRR&utm_content=%e9%80%9a%e7%94%a8-%e6%95%b0%e6%8d%ae%e5%88%86%e6%9e%90%e6%b3%95&utm_campaign=S-%e9%80%9a%e7%94%a8%e8%af%8d                                                                                                        2\n",
      "https://www.sensorsdata.cn/?utm_source=baidu&utm_medium=cpc&utm_term=%E6%95%B0%E6%8D%AE%E5%88%86%E6%9E%90%20%E9%A1%B5%E9%9D%A2&utm_content=%E9%80%9A%E7%94%A8%2D%E6%95%B0%E6%8D%AE%E5%88%86%E6%9E%90%2D%E4%BA%A7%E5%93%81&utm_campaign=%E9%80%9A%E7%94%A8%E8%AF%8D                                         2\n",
      "https://www.sensorsdata.cn/?utm_source=baidu&utm_medium=cpc&utm_term=%E8%BF%90%E8%90%A5%E6%B4%BB%E5%8A%A8%E6%95%B0%E6%8D%AE%E5%88%86%E6%9E%90&utm_content=%E9%80%9A%E7%94%A8%2D%E6%95%B0%E6%8D%AE%E5%88%86%E6%9E%90%2D%E8%BF%90%E8%90%A5&utm_campaign=%E9%80%9A%E7%94%A8%E8%AF%8D                          2\n",
      "https://www.sensorsdata.cn/?utm_source=baidu&utm_medium=cpc&utm_term=%E6%97%85%E6%B8%B8%E5%A4%A7%E6%95%B0%E6%8D%AE&utm_content=%E9%80%9A%E7%94%A8%2D%E5%A4%A7%E6%95%B0%E6%8D%AE%2D%E8%A1%8C%E4%B8%9A&utm_campaign=%E9%80%9A%E7%94%A8%E8%AF%8D                                                              2\n",
      "https://www.sensorsdata.cn/?utm_source=sogou&utm_medium=mcpc&utm_term=%e5%a4%a7%e6%95%b0%e6%8d%ae%e5%ba%94%e7%94%a8&utm_content=%e9%80%9a%e7%94%a8-%e5%a4%a7%e6%95%b0%e6%8d%ae-%e5%85%b6%e4%bb%96&utm_campaign=S-%e9%80%9a%e7%94%a8%e8%af%8d                                                               2\n",
      "https://www.sensorsdata.cn/?utm_source=baidu&utm_medium=cpc&utm_term=%E4%BA%BA%E7%BE%A4%E7%94%BB%E5%83%8F%E5%88%86%E6%9E%90&utm_content=%E9%80%9A%E7%94%A8%2D%E7%94%A8%E6%88%B7%E7%94%BB%E5%83%8F%2D%E5%8A%9F%E8%83%BD&utm_campaign=%E9%80%9A%E7%94%A8%E8%AF%8D                                            2\n",
      "https://www.sensorsdata.cn/?utm_source=baidu&utm_medium=cpc&utm_term=%E8%A7%86%E9%A2%91%E7%BD%91%E7%AB%99%E5%88%86%E6%9E%90&utm_content=%E9%80%9A%E7%94%A8%2D%E6%95%B0%E6%8D%AE%E5%8F%AF%E8%A7%86%E5%8C%96&utm_campaign=%E9%80%9A%E7%94%A8%E8%AF%8D                                                        2\n",
      "https://www.sensorsdata.cn/?utm_source=baidu&utm_medium=cpc&utm_term=%E7%94%A8%E6%88%B7%E6%95%B0%E6%8D%AE%E5%88%86%E6%9E%90&utm_content=%E9%80%9A%E7%94%A8%2D%E6%95%B0%E6%8D%AE%E5%88%86%E6%9E%90%2D%E8%BF%90%E8%90%A5&utm_campaign=%E9%80%9A%E7%94%A8%E8%AF%8D                                            2\n",
      "https://sensorsdata.cn/b-round.html                                                                                                                                                                                                                                                                        2\n",
      "https://sensorsdata.cn/demo.html                                                                                                                                                                                                                                                                           2\n",
      "https://www.sensorsdata.cn/?utm_source=baidu&utm_medium=cpc&utm_term=%E7%94%A8%E6%88%B7%E7%94%BB%E5%83%8F%E7%94%9F%E6%88%90%E5%99%A8&utm_content=%E9%80%9A%E7%94%A8%2D%E7%94%A8%E6%88%B7%E7%94%BB%E5%83%8F%2D%E4%BA%A7%E5%93%81&utm_campaign=%E9%80%9A%E7%94%A8%E8%AF%8D                                   2\n",
      "https://www.sensorsdata.cn/product.html                                                                                                                                                                                                                                                                    2\n",
      "https://www.sensorsdata.cn/?utm_source=baidu&utm_medium=cpc&utm_term=%E7%94%A8%E6%88%B7%E8%A1%8C%E4%B8%BA%E8%AE%B0%E5%BD%95&utm_content=%E9%80%9A%E7%94%A8%2D%E7%94%A8%E6%88%B7%E8%A1%8C%E4%B8%BA%E5%88%86%E6%9E%90&utm_campaign=%E9%80%9A%E7%94%A8%E8%AF%8D                                               2\n",
      "https://www.sensorsdata.cn/?utm_source=baidu&utm_medium=cpc&utm_term=b2b%E7%94%A8%E6%88%B7%E7%94%BB%E5%83%8F&utm_content=%E9%80%9A%E7%94%A8%2D%E7%94%A8%E6%88%B7%E7%94%BB%E5%83%8F%2D%E8%A1%8C%E4%B8%9A&utm_campaign=%E9%80%9A%E7%94%A8%E8%AF%8D                                                           2\n",
      "https://sensorsdata.cn/?utm_source=sanjieke.cn                                                                                                                                                                                                                                                             2\n",
      "https://www.sensorsdata.cn/?utm_source=baidu&utm_medium=cpc&utm_term=%E7%94%A8%E6%88%B7%E8%A1%8C%E4%B8%BA%E5%88%86%E6%9E%90%E7%B3%BB%E7%BB%9F&utm_content=%E9%80%9A%E7%94%A8%2D%E7%94%A8%E6%88%B7%E8%A1%8C%E4%B8%BA%E5%88%86%E6%9E%90%2D%E7%B3%BB%E7%BB%9F&utm_campaign=%E9%80%9A%E7%94%A8%E8%AF%8D        2\n",
      "https://www.sensorsdata.cn/?utm_source=baidu&utm_medium=cpc&utm_term=%E7%A5%9E%E7%AD%96%E7%BB%9F%E8%AE%A1&utm_content=%E5%93%81%E7%89%8C%2D%E7%A5%9E%E7%AD%96&utm_campaign=%E5%93%81%E7%89%8C%E8%AF%8D                                                                                                     2\n",
      "https://www.sensorsdata.cn/?ch=zhihu                                                                                                                                                                                                                                                                       2\n",
      "https://www.sensorsdata.cn/courses/                                                                                                                                                                                                                                                                        2\n",
      "https://www.sensorsdata.cn/?utm_source=baidu&utm_medium=cpc&utm_term=%E7%9B%B4%E6%92%AD%E5%B9%B3%E5%8F%B0%E6%95%B0%E6%8D%AE%E5%88%86%E6%9E%90&utm_content=%E9%80%9A%E7%94%A8%2D%E6%95%B0%E6%8D%AE%E5%88%86%E6%9E%90%2D%E8%A1%8C%E4%B8%9A&utm_campaign=%E9%80%9A%E7%94%A8%E8%AF%8D                          2\n",
      "https://www.sensorsdata.cn/?utm_source=baidu&utm_medium=cpc&utm_term=%E7%94%A8%E6%88%B7%E8%A1%8C%E4%B8%BA%E6%95%B0%E6%8D%AE%E9%87%87%E9%9B%86&utm_content=%E9%80%9A%E7%94%A8%2D%E6%95%B0%E6%8D%AE%E9%87%87%E9%9B%86&utm_campaign=%E9%80%9A%E7%94%A8%E8%AF%8D                                               2\n",
      "Name: site_url, dtype: int64\n",
      "clickSubmit    353\n",
      "formSubmit     313\n",
      "Name: event, dtype: int64\n"
     ]
    }
   ],
   "source": [
    "print raw_df.site_url.value_counts(dropna = False)\n",
    "print raw_df[(raw_df.site_url.notnull())].event.value_counts(dropna = False)"
   ]
  }
 ],
 "metadata": {
  "kernelspec": {
   "display_name": "Python 2",
   "language": "python",
   "name": "python2"
  },
  "language_info": {
   "codemirror_mode": {
    "name": "ipython",
    "version": 2
   },
   "file_extension": ".py",
   "mimetype": "text/x-python",
   "name": "python",
   "nbconvert_exporter": "python",
   "pygments_lexer": "ipython2",
   "version": "2.7.13"
  }
 },
 "nbformat": 4,
 "nbformat_minor": 0
}
