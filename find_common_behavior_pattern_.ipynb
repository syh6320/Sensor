{
 "cells": [
  {
   "cell_type": "code",
   "execution_count": 22,
   "metadata": {
    "collapsed": false
   },
   "outputs": [],
   "source": [
    "def find_pattern(pattern, behave):\n",
    "    match = re.search(pattern, behave)\n",
    "    if match:\n",
    "        return True\n",
    "    else:\n",
    "        return False"
   ]
  },
  {
   "cell_type": "code",
   "execution_count": 1,
   "metadata": {
    "collapsed": true
   },
   "outputs": [],
   "source": [
    "import pandas as pd\n",
    "import numpy as np\n",
    "import re"
   ]
  },
  {
   "cell_type": "code",
   "execution_count": 2,
   "metadata": {
    "collapsed": false,
    "scrolled": true
   },
   "outputs": [],
   "source": [
    "df = pd.read_csv('data/users_data.csv')"
   ]
  },
  {
   "cell_type": "code",
   "execution_count": 3,
   "metadata": {
    "collapsed": false,
    "scrolled": true
   },
   "outputs": [
    {
     "data": {
      "text/plain": [
       "Index([u'dis_id', u'new_user', u'browser', u'ip', u'os', u'behavior_list',\n",
       "       u'request', u'cli_demo', u'cli_product', u'cli_document', u'cli_bround',\n",
       "       u'last_name', u'cli_about', u'cli_blog', u'cli_video', u'cli_logo',\n",
       "       u'cli_mail', u'event_order', u'$pageview', u'btnClick',\n",
       "       u'click_send_cellphone', u'verify_cellphone_code', u'index_leave',\n",
       "       u'clickSubmit', u'demo_leave', u'about_leave', u'courses_leave',\n",
       "       u'formSubmit', u'page_close', u'courses_play_leave', u'page_order',\n",
       "       u'tot_page_time', u'homepage', u'demo', u'lookmanual', u'index',\n",
       "       u'product', u'about', u'bround', u'manual', u'tool', u'courses',\n",
       "       u'tools_page_close', u'play_video', u'share', u'project',\n",
       "       u'num_project', u'latest_utm_source', u'latest_utm_medium',\n",
       "       u'session_referrer_host', u'ref_host_pageview', u'url_to_submit', u'Mo',\n",
       "       u'Tu', u'We', u'Th', u'Fr', u'Sa', u'Su', u'wrong_num', u'less_1min',\n",
       "       u'send_suc', u'wrong_code', u'no_num', u'ver_suc', u'num_fail_submit',\n",
       "       u'isSuccess'],\n",
       "      dtype='object')"
      ]
     },
     "execution_count": 3,
     "metadata": {},
     "output_type": "execute_result"
    }
   ],
   "source": [
    "df.columns"
   ]
  },
  {
   "cell_type": "code",
   "execution_count": 49,
   "metadata": {
    "collapsed": false
   },
   "outputs": [
    {
     "data": {
      "text/plain": [
       "221"
      ]
     },
     "execution_count": 49,
     "metadata": {},
     "output_type": "execute_result"
    }
   ],
   "source": [
    "sum(df.behavior_list.apply(lambda x: 'courses_index' in x))"
   ]
  },
  {
   "cell_type": "code",
   "execution_count": 50,
   "metadata": {
    "collapsed": false
   },
   "outputs": [
    {
     "data": {
      "text/plain": [
       "268"
      ]
     },
     "execution_count": 50,
     "metadata": {},
     "output_type": "execute_result"
    }
   ],
   "source": [
    "sum(df.behavior_list.apply(lambda x: 'cli_video' in x))"
   ]
  },
  {
   "cell_type": "code",
   "execution_count": 60,
   "metadata": {
    "collapsed": false
   },
   "outputs": [
    {
     "data": {
      "text/plain": [
       "197"
      ]
     },
     "execution_count": 60,
     "metadata": {},
     "output_type": "execute_result"
    }
   ],
   "source": [
    "sum(df.courses_play_leave > 0)"
   ]
  },
  {
   "cell_type": "code",
   "execution_count": 61,
   "metadata": {
    "collapsed": false
   },
   "outputs": [
    {
     "data": {
      "text/plain": [
       "336"
      ]
     },
     "execution_count": 61,
     "metadata": {},
     "output_type": "execute_result"
    }
   ],
   "source": [
    "sum(df.courses_leave > 0)"
   ]
  },
  {
   "cell_type": "code",
   "execution_count": 55,
   "metadata": {
    "collapsed": false
   },
   "outputs": [
    {
     "data": {
      "text/plain": [
       "0    4492\n",
       "1     163\n",
       "2      12\n",
       "3       3\n",
       "6       1\n",
       "Name: courses_leave, dtype: int64"
      ]
     },
     "execution_count": 55,
     "metadata": {},
     "output_type": "execute_result"
    }
   ],
   "source": [
    "df[(df.courses_play_leave == 0)].courses_leave.value_counts()"
   ]
  },
  {
   "cell_type": "code",
   "execution_count": 56,
   "metadata": {
    "collapsed": false
   },
   "outputs": [
    {
     "data": {
      "text/plain": [
       "0    4492\n",
       "1      30\n",
       "2       4\n",
       "4       2\n",
       "3       1\n",
       "9       1\n",
       "5       1\n",
       "8       1\n",
       "Name: courses_play_leave, dtype: int64"
      ]
     },
     "execution_count": 56,
     "metadata": {},
     "output_type": "execute_result"
    }
   ],
   "source": [
    "df[(df.courses_leave == 0)].courses_play_leave.value_counts()"
   ]
  },
  {
   "cell_type": "code",
   "execution_count": 58,
   "metadata": {
    "collapsed": false
   },
   "outputs": [
    {
     "data": {
      "text/plain": [
       "1    211\n",
       "0     99\n",
       "2     20\n",
       "3      3\n",
       "4      2\n",
       "7      1\n",
       "Name: cli_video, dtype: int64"
      ]
     },
     "execution_count": 58,
     "metadata": {},
     "output_type": "execute_result"
    }
   ],
   "source": [
    "df[(df.courses_leave > 0)].cli_video.value_counts()"
   ]
  },
  {
   "cell_type": "code",
   "execution_count": 63,
   "metadata": {
    "collapsed": false,
    "scrolled": true
   },
   "outputs": [
    {
     "data": {
      "text/plain": [
       "array([ '[$pageview, btnClick, btnClick, btnClick, click_send_cellphone, verify_cellphone_code, verify_cellphone_code, clickSubmit, index_leave, $pageview, btnClick, btnClick, demo_leave, $pageview, btnClick, $pageview, btnClick, $pageview, $pageview, index_leave, demo_leave]',\n",
       "       '[$pageview, $pageview, btnClick, index_leave, index_leave]',\n",
       "       '[$pageview, btnClick, demo_leave, $pageview, demo_leave, btnClick, $pageview, demo_leave, $pageview, btnClick, btnClick, demo_leave, btnClick, $pageview, btnClick, $pageview, btnClick, demo_leave, demo_leave]',\n",
       "       ...,\n",
       "       '[$pageview, btnClick, index_leave, $pageview, $pageview, courses_play_leave, $pageview, $pageview, $pageview, courses_play_leave, $pageview, courses_play_leave, $pageview, index_leave, courses_leave, courses_leave, courses_leave]',\n",
       "       '[$pageview, btnClick, btnClick, $pageview, $pageview, btnClick, $pageview, btnClick, $pageview, $pageview]',\n",
       "       '[$pageview, btnClick, index_leave, $pageview, btnClick, $pageview, btnClick, courses_leave, $pageview, btnClick, $pageview, demo_leave]'], dtype=object)"
      ]
     },
     "execution_count": 63,
     "metadata": {},
     "output_type": "execute_result"
    }
   ],
   "source": [
    "df.event_order.unique()"
   ]
  },
  {
   "cell_type": "code",
   "execution_count": 52,
   "metadata": {
    "collapsed": false
   },
   "outputs": [
    {
     "data": {
      "text/plain": [
       "197"
      ]
     },
     "execution_count": 52,
     "metadata": {},
     "output_type": "execute_result"
    }
   ],
   "source": []
  },
  {
   "cell_type": "code",
   "execution_count": 41,
   "metadata": {
    "collapsed": false
   },
   "outputs": [],
   "source": [
    "demo_pat = r'demo, request'\n",
    "prod_pat = r'cli_demo.*request'\n",
    "brou_pat = r'cli_demo.*request'\n",
    "vido_pat = r'cli_demo.*request'\n",
    "docu_pat = r'cli_demo.*request'\n",
    "requ_pat = r'index,\\s*request'"
   ]
  },
  {
   "cell_type": "markdown",
   "metadata": {},
   "source": [
    "### from start to request"
   ]
  },
  {
   "cell_type": "code",
   "execution_count": 37,
   "metadata": {
    "collapsed": false,
    "scrolled": true
   },
   "outputs": [],
   "source": [
    "will_sign_user = df[(df.request > 0)]\n",
    "will_not_sign_user = df[(df.request == 0)]"
   ]
  },
  {
   "cell_type": "code",
   "execution_count": 42,
   "metadata": {
    "collapsed": false,
    "scrolled": true
   },
   "outputs": [],
   "source": [
    "demo_request = will_sign_user[(will_sign_user.behavior_list.apply(lambda x: find_pattern(demo_pat,x)))]"
   ]
  },
  {
   "cell_type": "code",
   "execution_count": 45,
   "metadata": {
    "collapsed": false
   },
   "outputs": [
    {
     "data": {
      "text/plain": [
       "array([ '[index, cli_bround, index, cli_video, index, cli_document, None, cli_demo, demo, request]',\n",
       "       '[index, cli_demo, demo, cli_bround, index, cli_video, courses_index, cli_document, courses_index, cli_product, None, request]',\n",
       "       '[index, cli_product, None, cli_video]',\n",
       "       '[index, request, index, cli_video]',\n",
       "       '[index, cli_logo, index, cli_document, index, cli_product, None, request, None, cli_about, about, cli_video, courses_index, cli_blog, index, cli_logo, index, cli_document, demo, cli_demo, demo, cli_demo, demo, cli_demo, demo, cli_demo, demo, cli_demo, demo, cli_demo, index, cli_document]',\n",
       "       '[index, cli_video, courses_index, cli_document]',\n",
       "       '[demo, cli_document, demo, cli_document, index, cli_document, demo, cli_demo, demo, cli_demo, demo, cli_logo, index, cli_bround, index, cli_blog, None, cli_about, about, cli_video, courses_index, request, courses_index, cli_logo, None, request, index, cli_demo, index, cli_product, None, cli_document, index, cli_document, index, cli_document, index, cli_demo, index, cli_demo, index, cli_demo, index, cli_demo, index, cli_demo]',\n",
       "       '[index, cli_video, courses_index, cli_product]',\n",
       "       '[index, cli_video]',\n",
       "       '[index, request, index, cli_document, index, cli_product, None, cli_bround, index, cli_video]',\n",
       "       '[index, cli_demo, None, cli_document, index, cli_video, courses_index, cli_demo, courses_index, cli_document, None, cli_about, about, request, about, cli_bround, courses_index, cli_document, index, cli_document, index, cli_demo, index, cli_demo]',\n",
       "       '[index, cli_video, courses_index, cli_about, about, cli_bround]',\n",
       "       '[index, cli_video, courses_index, cli_bround, None, request]',\n",
       "       '[index, cli_about, None, cli_demo, index, request, index, cli_video, courses_index, cli_bround, index, cli_blog]',\n",
       "       '[index, cli_demo, index, cli_video]',\n",
       "       '[index, cli_product, None, cli_bround, None, request, index, request, index, cli_video, courses_index, cli_blog, None, cli_about]',\n",
       "       '[index, request, index, cli_product, None, cli_demo, None, cli_video]',\n",
       "       '[index, cli_bround, index, cli_video, courses_index, cli_document, courses_index, cli_document, courses_index, cli_document, courses_index, cli_product, courses_index, cli_document, courses_index, cli_document, courses_index, cli_document, courses_index, cli_video, courses_index, cli_document, courses_index, cli_document, courses_index, cli_document, courses_index, cli_about, about, cli_product, None, cli_document, None, cli_blog, courses_index, cli_document, courses_index, cli_about, about, cli_bround, index, cli_bround, index, cli_product, about, cli_blog, index, cli_product, index, cli_product, None, cli_bround, index, cli_document, None, cli_product, None, cli_video, courses_index, cli_about, about, cli_product, None, cli_blog, index, cli_product, index, cli_bround, None, request, None, request, None, request, index, cli_product, None, cli_video, courses_index, cli_about, about, cli_document, None, cli_bround, index, cli_product, None, cli_document, None, cli_blog, index, cli_product, None, cli_about, about, cli_about, about, cli_product, None, cli_document, ...]',\n",
       "       '[None, request, None, cli_product, None, cli_document, None, cli_video, courses_index, cli_blog]',\n",
       "       '[index, cli_product, None, cli_about, about, cli_document, about, cli_video, courses_index, cli_bround, None, request, index, cli_bround, index, cli_about, about, cli_product, None, cli_bround, None, request]',\n",
       "       '[index, cli_product, None, cli_document, None, cli_video]',\n",
       "       '[index, request, index, cli_video, courses_index, cli_document, courses_index, cli_product]',\n",
       "       '[index, cli_video, courses_index, cli_demo, index, request]',\n",
       "       '[index, cli_demo, index, request, index, cli_video]',\n",
       "       '[index, cli_document, index, cli_video, courses_index, cli_product, None, cli_bround, None, cli_video, courses_index, cli_document, courses_index, cli_product]',\n",
       "       '[index, cli_about, about, cli_video]',\n",
       "       '[courses_index, cli_document, courses_index, cli_product, None, cli_about, about, request, about, cli_bround, index, cli_bround, index, cli_blog, index, cli_video, None, cli_product, None, cli_about, about, cli_about]',\n",
       "       '[index, cli_video, courses_index, cli_blog, demo, cli_product, None, cli_document, None, cli_document, None, cli_video, courses_index, cli_video, courses_index, cli_video, courses_index, cli_bround, index, request, index, cli_product, None, cli_product, None, cli_document]',\n",
       "       '[index, request, index, cli_video, courses_index, cli_document]',\n",
       "       '[index, cli_bround, index, cli_video, courses_index, cli_document, courses_index, cli_product, None, cli_about]',\n",
       "       '[index, cli_video, index, cli_demo, demo, cli_demo]',\n",
       "       '[index, cli_bround, index, cli_product, None, cli_video, about, cli_product, None, cli_document]',\n",
       "       '[index, cli_blog, index, request, index, request, index, request, index, cli_bround, index, cli_blog, index, cli_blog, index, cli_video, courses_index, cli_bround]',\n",
       "       '[index, request, index, cli_demo, index, cli_product, courses_index, cli_document, courses_index, cli_bround, courses_index, cli_document, courses_index, cli_product, None, cli_blog, courses_index, cli_about, about, cli_demo, demo, cli_product, None, cli_video, demo, cli_video]',\n",
       "       '[index, cli_bround, index, cli_blog, index, cli_video]',\n",
       "       '[index, cli_product, None, cli_demo, demo, cli_video]',\n",
       "       '[index, cli_bround, index, cli_video, courses_index, cli_product]',\n",
       "       '[index, cli_bround, index, cli_video, None, cli_blog, about, cli_document]',\n",
       "       '[index, cli_document, index, cli_product, None, cli_about, about, cli_video, None, cli_demo, index, request, index, cli_demo, demo, cli_product, None, cli_product]',\n",
       "       '[index, cli_product, None, cli_about, about, cli_about, about, cli_product, None, cli_document, None, cli_video, courses_index, cli_blog]',\n",
       "       '[index, cli_product, None, cli_document, None, cli_video, courses_index, cli_bround]',\n",
       "       '[index, cli_demo, demo, cli_document, index, cli_product, None, cli_product, None, cli_document, None, cli_product, None, cli_video, courses_index, cli_document, courses_index, cli_blog, courses_index, request, courses_index, cli_blog, index, request, index, cli_bround, index, cli_document, index, cli_product, None, cli_document]',\n",
       "       '[index, cli_video, courses_index, cli_logo, index, cli_demo, index, request]',\n",
       "       '[index, cli_video, courses_index, cli_blog, index, cli_document, index, cli_video, courses_index, cli_document]',\n",
       "       '[index, cli_product, None, cli_document, None, cli_product, None, cli_product, None, cli_document, None, cli_video, courses_index, cli_blog, index, cli_video, courses_index, cli_document, courses_index, cli_document]',\n",
       "       '[index, cli_demo, demo, cli_demo, demo, request, demo, cli_demo, demo, cli_product, None, cli_about, about, cli_video, None, cli_bround, None, request, index, cli_demo]',\n",
       "       '[index, cli_document, index, request, index, cli_video, courses_index, cli_blog, index, cli_product, None, cli_demo]',\n",
       "       '[index, cli_about, about, cli_product, None, cli_video, courses_index, cli_document]',\n",
       "       '[index, cli_blog, None, cli_about, about, cli_document, about, cli_video, courses_index, cli_bround]',\n",
       "       '[index, request, index, cli_bround, index, cli_video, courses_index, cli_bround]',\n",
       "       '[None, cli_product, None, cli_video, index, cli_video, about, cli_about, about, cli_about, about, cli_product, None, cli_blog, None, cli_about, courses_index, cli_blog, None, cli_product, None, cli_product, None, cli_document, None, cli_video, index, cli_document, demo, cli_product]',\n",
       "       '[index, cli_bround, index, cli_product, None, cli_document, None, cli_video, demo, cli_demo, index, request, index, request, index, cli_demo, index, cli_document, index, request]',\n",
       "       '[index, cli_product, None, cli_product, None, cli_video]',\n",
       "       '[index, cli_product, about, cli_document, about, cli_product, None, cli_video]',\n",
       "       '[index, cli_video, index, cli_about, about, cli_product]',\n",
       "       '[index, cli_bround, index, cli_video, courses_index, cli_product, None, cli_about, about, cli_bround, index, request, index, request]',\n",
       "       '[index, cli_document, index, cli_about, about, cli_bround, about, cli_document, about, cli_video, index, cli_document]',\n",
       "       '[index, cli_product, None, cli_bround, index, cli_video, courses_index, cli_document, courses_index, cli_product, None, cli_demo]',\n",
       "       '[index, cli_video, index, cli_document]',\n",
       "       '[index, cli_video, demo, cli_product, None, cli_bround, demo, cli_blog]',\n",
       "       '[index, cli_product, index, cli_demo, demo, cli_bround, index, request, index, cli_video, courses_index, cli_document, courses_index, cli_product, None, cli_about, about, cli_product, None, cli_product, None, cli_product, None, cli_about, about, request]',\n",
       "       '[index, cli_product, None, cli_about, about, cli_bround, index, cli_document, about, cli_video, courses_index, cli_blog, index, cli_document, index, cli_product, None, cli_about, about, cli_blog, None, cli_document]',\n",
       "       '[index, cli_video, courses_index, cli_video]',\n",
       "       '[index, cli_blog, courses_index, cli_document, courses_index, cli_product, None, cli_about, about, cli_about, about, request, about, cli_about, about, cli_video]',\n",
       "       '[index, cli_document, index, cli_document, index, cli_demo, demo, cli_bround, index, request, index, cli_blog, None, cli_video, courses_index, cli_blog, demo, cli_logo, index, cli_product, None, cli_about, about, cli_product, None, cli_about, about, cli_demo, demo, cli_bround, None, request, index, cli_document, index, cli_document, index, cli_blog]',\n",
       "       '[index, cli_document, None, cli_video]',\n",
       "       '[index, cli_document, index, cli_bround, index, cli_product, index, cli_demo, demo, cli_document, demo, cli_video, index, request, index, cli_about, about, cli_document, about, cli_bround, index, request]',\n",
       "       '[index, cli_video, index, cli_bround, index, cli_blog, courses_index, cli_document, courses_index, cli_product, None, cli_product, None, cli_about, None, cli_about, about, cli_product, about, cli_video, index, request]',\n",
       "       '[index, request, index, cli_product, index, cli_bround, index, cli_blog, index, cli_document, index, cli_product, None, cli_about, about, cli_video]',\n",
       "       '[index, cli_document, index, cli_video, courses_index, cli_product, None, cli_bround, None, cli_product, None, cli_about, index, cli_document]',\n",
       "       '[index, request, index, cli_product, None, cli_video]',\n",
       "       '[index, cli_bround, index, cli_video, courses_index, cli_document, courses_index, cli_product, courses_index, cli_document]',\n",
       "       '[index, cli_video, courses_index, request]',\n",
       "       '[index, cli_video, courses_index, cli_logo, index, cli_video]',\n",
       "       '[None, cli_bround, index, cli_demo, demo, request, demo, request, index, cli_video, index, cli_blog, index, cli_blog]',\n",
       "       '[index, cli_product, None, cli_video, index, cli_product, None, cli_product, None, cli_document, None, cli_video, index, cli_demo, index, request]',\n",
       "       '[index, request, index, cli_video, courses_index, cli_product, None, cli_about, about, cli_bround]',\n",
       "       '[index, cli_product, None, cli_video, courses_index, cli_blog]',\n",
       "       '[index, request, index, cli_video, courses_index, cli_bround]',\n",
       "       '[index, cli_demo, demo, request, demo, cli_video]',\n",
       "       '[index, cli_demo, demo, cli_logo, index, cli_document, index, cli_product, None, cli_product, None, cli_product, None, cli_demo, demo, cli_video]',\n",
       "       '[index, cli_video, courses_index, cli_blog]',\n",
       "       '[index, request, index, cli_video, courses_index, cli_blog]',\n",
       "       '[index, cli_video, index, request]',\n",
       "       '[index, request, index, cli_demo, index, request, index, cli_document, index, cli_video, index, cli_document, index, request]',\n",
       "       '[index, cli_video, courses_index, cli_bround, index, request, courses_index, cli_logo, index, cli_video, courses_index, cli_logo]',\n",
       "       '[index, request, index, cli_document, index, cli_video, courses_index, cli_product, None, cli_demo, index, cli_video]',\n",
       "       '[index, cli_document, index, cli_video, demo, request, demo, cli_demo, demo, cli_video]',\n",
       "       '[index, cli_video, courses_index, cli_bround, courses_index, cli_product]',\n",
       "       '[index, cli_document, index, cli_video]',\n",
       "       '[index, cli_product, None, cli_video, index, cli_blog, index, request, index, request, index, request, index, cli_document]',\n",
       "       '[index, cli_product, None, cli_document, None, cli_bround, index, cli_video, courses_index, cli_logo]',\n",
       "       '[index, cli_video, demo, request]',\n",
       "       '[index, cli_demo, demo, cli_demo, demo, cli_blog, None, cli_about, about, cli_video]',\n",
       "       '[index, cli_blog, courses_index, cli_document, courses_index, cli_product, None, cli_product, None, cli_product, None, cli_about, about, cli_product, None, cli_demo, index, request, about, cli_product, index, cli_about, None, cli_document, about, cli_video, courses_index, cli_blog, courses_index, cli_blog, courses_index, cli_bround, index, cli_blog, index, cli_document, index, cli_about, about, cli_blog, courses_index, cli_bround, None, request, index, request, index, cli_blog, courses_index, cli_document, courses_index, cli_product, None, cli_document, None, cli_bround, index, cli_document, None, cli_bround, index, cli_document, index, cli_bround, demo, cli_bround, index, request, index, cli_blog, None, cli_product, None, cli_about, about, cli_document, index, cli_document, index, cli_product, None, cli_about, about, cli_product, None, cli_demo, index, request]',\n",
       "       '[index, cli_bround, index, cli_video, courses_index, cli_product, None, cli_blog, None, cli_logo]',\n",
       "       '[index, request, index, cli_video, courses_index, cli_about]',\n",
       "       '[index, cli_product, None, cli_bround, None, cli_video, courses_index, cli_document, courses_index, cli_about, about, cli_video, courses_index, cli_product]',\n",
       "       '[index, cli_product, None, cli_demo, demo, cli_demo, demo, cli_about, about, cli_product, None, cli_document, None, cli_product, None, cli_document, None, cli_logo, index, request, index, cli_video, courses_index, cli_document, index, request]',\n",
       "       '[courses_index, cli_blog, courses_index, cli_blog, index, cli_video, courses_index, cli_mail, courses_index, cli_mail, courses_index, cli_video]',\n",
       "       '[index, cli_blog, courses_index, cli_demo, index, request, index, cli_demo, demo, cli_product, None, cli_video, demo, cli_video, courses_index, cli_bround, index, cli_blog]',\n",
       "       '[courses_index, cli_logo, index, cli_video, courses_index, cli_product, None, cli_video]',\n",
       "       '[demo, cli_demo, demo, cli_video]',\n",
       "       '[index, cli_product, None, cli_document, None, cli_video, courses_index, cli_product, None, cli_logo]',\n",
       "       '[index, cli_product, None, cli_video, index, cli_video]',\n",
       "       '[index, cli_product, None, cli_about, None, cli_video]',\n",
       "       '[index, request, index, cli_bround, index, cli_video]',\n",
       "       '[index, cli_video, courses_index, cli_document, courses_index, cli_product, None, cli_demo, demo, request, demo, cli_product, None, cli_product, None, cli_blog, about, request, about, cli_product, None, cli_document]',\n",
       "       '[None, request, index, cli_video]',\n",
       "       '[index, cli_blog, None, cli_about, about, cli_product, about, cli_product, None, cli_video, courses_index, cli_blog, index, cli_about, about, cli_demo, about, cli_document, about, cli_bround, index, cli_bround, index, cli_blog]',\n",
       "       '[index, cli_product, None, cli_demo, demo, cli_logo, index, cli_about, about, cli_product, None, cli_video, courses_index, cli_document, courses_index, cli_demo, demo, request]',\n",
       "       '[index, cli_document, about, cli_product, None, cli_video, courses_index, cli_blog, None, request]',\n",
       "       '[index, cli_product, None, cli_bround, index, cli_document, index, cli_video]',\n",
       "       '[index, cli_video, courses_index, cli_product, None, request, None, cli_demo, index, request]',\n",
       "       '[index, cli_about, about, cli_product, None, cli_demo, demo, cli_video, courses_index, cli_blog, index, cli_about]',\n",
       "       '[index, cli_product, None, cli_document, None, cli_logo, index, cli_video]',\n",
       "       '[index, cli_product, None, cli_product, None, cli_document, None, cli_video, courses_index, cli_bround, index, cli_about]',\n",
       "       '[index, request, index, cli_video, courses_index, cli_document, courses_index, cli_product, None, cli_demo, index, request]',\n",
       "       '[index, cli_product, None, cli_bround, None, cli_demo, demo, request, demo, cli_video]',\n",
       "       '[index, cli_video, courses_index, cli_product, None, cli_demo, index, request, index, cli_demo, demo, request]',\n",
       "       '[index, cli_about, about, cli_product, None, cli_document, None, cli_about, about, cli_bround, index, cli_about, about, cli_video]',\n",
       "       '[index, request, index, cli_video, None, cli_document, None, cli_video]',\n",
       "       '[index, cli_bround, None, cli_logo, index, cli_about, about, cli_demo, demo, request, index, request, index, cli_demo, demo, cli_about, about, cli_product, None, cli_about, about, cli_product, None, cli_document, None, cli_logo, None, cli_about, about, cli_logo, index, request, index, cli_demo, index, cli_blog, courses_index, cli_document, courses_index, cli_logo, index, cli_blog, courses_index, cli_demo, demo, cli_demo, demo, cli_video, courses_index, cli_document, None, cli_blog, None, cli_logo, index, cli_document, courses_index, cli_product, None, cli_logo, index, cli_product, None, cli_about, about, cli_document, about, cli_document, about, cli_document, about, cli_video, demo, cli_demo, demo, cli_demo, courses_index, cli_video, index, cli_product, None, cli_about, about, cli_document]',\n",
       "       '[index, request, index, cli_bround, index, cli_video, demo, request, demo, cli_bround, demo, cli_video, courses_index, cli_product, None, cli_product, None, cli_product, None, cli_blog, demo, request]',\n",
       "       '[index, cli_demo, index, request, index, cli_product, None, cli_video, index, request]',\n",
       "       '[index, cli_demo, demo, cli_demo, index, cli_demo, index, request, index, cli_video, index, cli_document, index, cli_document, demo, cli_document, demo, cli_document]',\n",
       "       '[index, cli_demo, demo, request, demo, cli_bround, index, cli_video]',\n",
       "       '[index, cli_bround, None, request, index, cli_video]',\n",
       "       '[index, cli_product, None, cli_about, about, request, about, cli_video, courses_index, cli_blog]',\n",
       "       '[index, request, index, cli_video, courses_index, cli_demo, demo, cli_video, courses_index, cli_about, about, request, about, cli_demo, demo, request, demo, cli_video, courses_index, cli_bround]',\n",
       "       '[index, request, index, cli_product, None, cli_document, None, cli_video]',\n",
       "       '[index, cli_product, None, cli_document, None, cli_video, None, request, None, cli_demo, index, request]',\n",
       "       '[index, request, index, cli_video, demo, cli_demo, demo, request]',\n",
       "       '[index, cli_bround, index, request, index, cli_video]',\n",
       "       '[index, request, index, cli_document, index, cli_bround, index, cli_video]',\n",
       "       '[demo, cli_demo, demo, cli_logo, index, cli_video]',\n",
       "       '[index, cli_logo, index, cli_video, courses_index, cli_document]',\n",
       "       '[demo, request, demo, request, demo, cli_demo, demo, cli_demo, demo, cli_demo, demo, cli_logo, index, request, index, cli_demo, demo, request, demo, cli_about, about, cli_logo, index, request, index, cli_demo, demo, cli_about, about, cli_product, None, cli_document, None, cli_bround, None, cli_logo, index, cli_blog, courses_index, cli_video, courses_index, cli_document, courses_index, cli_about, about, request, about, cli_about, about, cli_about, about, request, about, cli_about, about, cli_product, index, request, index, cli_document]',\n",
       "       '[index, cli_video, courses_index, cli_blog, index, cli_demo, demo, request, demo, request, demo, cli_product, None, cli_document, None, cli_blog, about, cli_bround, index, cli_document, None, request]',\n",
       "       '[index, cli_bround, index, cli_video, courses_index, cli_document]',\n",
       "       '[index, cli_video, courses_index, cli_document, courses_index, cli_product, None, cli_document]',\n",
       "       '[index, cli_blog, index, request, index, cli_video]',\n",
       "       '[index, request, index, request, index, cli_video]',\n",
       "       '[courses_index, cli_video]',\n",
       "       '[index, cli_demo, demo, cli_document, demo, cli_video]',\n",
       "       '[index, cli_video, courses_index, cli_product, None, cli_document]',\n",
       "       '[index, request, index, cli_video, courses_index, cli_product, None, cli_video]',\n",
       "       '[index, request, index, cli_product, None, cli_video, courses_index, cli_product, None, cli_about, about, cli_bround]',\n",
       "       '[index, cli_demo, demo, cli_bround, index, cli_video]',\n",
       "       '[index, request, index, cli_product, None, cli_about, about, cli_document, about, cli_video]',\n",
       "       '[index, request, index, cli_video, courses_index, cli_demo]',\n",
       "       '[index, cli_document, index, cli_document, index, cli_product, None, cli_product, None, cli_product, None, cli_about, about, cli_video, courses_index, cli_blog]',\n",
       "       '[index, cli_document, index, cli_document, index, cli_demo, demo, request, demo, cli_demo, demo, request, demo, cli_about, about, request, about, cli_document, about, cli_document, about, cli_product, None, cli_video]',\n",
       "       '[index, cli_document, index, cli_about, about, cli_product, None, cli_document, None, cli_video, courses_index, cli_product, None, cli_bround, None, cli_logo]',\n",
       "       '[index, cli_video, courses_index, cli_about, about, cli_product, None, cli_bround]',\n",
       "       '[index, cli_video, about, cli_product, None, cli_blog]',\n",
       "       '[index, cli_video, courses_index, cli_bround, courses_index, cli_document, courses_index, cli_bround, index, cli_video]',\n",
       "       '[index, cli_bround, None, cli_logo, index, cli_product, None, cli_document, index, cli_about, about, cli_product, None, cli_document, None, cli_video, courses_index, cli_bround]',\n",
       "       '[index, cli_document, index, cli_video, courses_index, cli_blog]',\n",
       "       '[index, cli_video, courses_index, cli_about]',\n",
       "       '[index, cli_document, index, cli_video, courses_index, cli_demo, index, request, index, cli_document]',\n",
       "       '[index, request, index, request, index, cli_about, about, cli_video, courses_index, cli_blog]',\n",
       "       '[index, cli_product, None, cli_product, None, cli_document, None, cli_video, index, cli_blog]',\n",
       "       '[index, cli_about, index, cli_demo, demo, cli_about, about, cli_video, courses_index, cli_product, None, request]',\n",
       "       '[index, cli_video, courses_index, cli_document, courses_index, cli_product]',\n",
       "       '[index, cli_document, index, cli_product, None, request, None, cli_blog, courses_index, cli_document, courses_index, cli_about, index, cli_document, index, cli_product, None, cli_blog, demo, cli_demo, demo, request, demo, cli_video, courses_index, cli_bround, courses_index, cli_document, index, cli_video, courses_index, cli_about, index, cli_document]',\n",
       "       '[None, request, None, cli_video, courses_index, cli_document]',\n",
       "       '[index, cli_blog, courses_index, cli_document, courses_index, cli_product, None, cli_product, None, cli_about, about, cli_about, about, cli_demo, demo, request, demo, cli_product, None, cli_document, None, cli_video, courses_index, cli_document, courses_index, cli_video, courses_index, cli_blog, None, cli_about, about, cli_demo, demo, cli_about, about, cli_product, None, cli_document, None, cli_video, courses_index, cli_blog, index, request, index, cli_product, None, cli_bround, None, cli_logo, index, cli_blog, courses_index, cli_document, courses_index, cli_product, None, cli_product, None, cli_about, about, cli_product, None, cli_document, None, cli_video, courses_index, cli_blog, index, cli_video, courses_index, cli_document, courses_index, cli_product, None, cli_document, None, cli_about, about, cli_product, None, cli_document, None, cli_bround, index, cli_product, None, cli_blog, courses_index, cli_document, courses_index, cli_product, None, cli_about, about, cli_about, about, cli_product, None, cli_bround, ...]',\n",
       "       '[index, cli_demo, demo, cli_product, None, cli_video, None, cli_document]',\n",
       "       '[index, request, index, cli_bround, index, cli_video, None, cli_about, about, cli_demo]',\n",
       "       '[index, cli_document, index, cli_video, courses_index, cli_document, None, cli_about, about, cli_document, about, request, about, cli_document, about, request]',\n",
       "       '[index, cli_document, index, cli_video, courses_index, cli_about, about, cli_about, about, cli_demo]',\n",
       "       '[index, cli_video, courses_index, cli_about, about, cli_demo, demo, cli_document]',\n",
       "       '[courses_index, cli_about, about, cli_video, courses_index, cli_document]',\n",
       "       '[index, cli_demo, demo, cli_video, courses_index, cli_bround]',\n",
       "       '[index, request, index, cli_product, None, cli_video, None, request, None, cli_demo, demo, cli_demo, demo, cli_about, about, request, about, cli_document, courses_index, cli_bround, index, cli_blog, about, cli_video, index, cli_video]',\n",
       "       '[index, cli_document, index, cli_product, None, cli_document, None, cli_video]',\n",
       "       '[index, cli_document, index, request, index, cli_bround, index, cli_video]',\n",
       "       '[None, cli_logo, index, request, index, cli_video]',\n",
       "       '[index, cli_product, None, cli_video, courses_index, cli_demo]',\n",
       "       '[index, cli_video, courses_index, cli_document, courses_index, cli_bround]',\n",
       "       '[index, cli_video, courses_index, cli_demo]',\n",
       "       '[index, cli_product, None, cli_demo, demo, cli_video, courses_index, cli_about]',\n",
       "       '[index, request, index, cli_bround, index, cli_video, courses_index, cli_blog]',\n",
       "       '[index, request, index, cli_product, None, cli_blog, index, cli_video, courses_index, cli_document]',\n",
       "       '[index, request, index, cli_blog, None, cli_logo, index, cli_video]',\n",
       "       '[index, cli_video, index, cli_blog, courses_index, cli_product, None, cli_video, index, request, demo, cli_demo, demo, request]',\n",
       "       '[index, request, index, cli_video, courses_index, cli_logo, index, request]',\n",
       "       '[index, cli_bround, index, cli_video, courses_index, cli_demo]',\n",
       "       '[index, request, index, request, index, cli_bround, index, cli_video, courses_index, cli_about, about, cli_blog]',\n",
       "       '[index, cli_video, courses_index, cli_document, courses_index, cli_product, None, cli_demo]'], dtype=object)"
      ]
     },
     "execution_count": 45,
     "metadata": {},
     "output_type": "execute_result"
    }
   ],
   "source": [
    "df[(df.behavior_list.apply(lambda x: 'cli_video' in x))].behavior_list.unique()"
   ]
  },
  {
   "cell_type": "code",
   "execution_count": null,
   "metadata": {
    "collapsed": false
   },
   "outputs": [],
   "source": []
  }
 ],
 "metadata": {
  "kernelspec": {
   "display_name": "Python 2",
   "language": "python",
   "name": "python2"
  },
  "language_info": {
   "codemirror_mode": {
    "name": "ipython",
    "version": 2
   },
   "file_extension": ".py",
   "mimetype": "text/x-python",
   "name": "python",
   "nbconvert_exporter": "python",
   "pygments_lexer": "ipython2",
   "version": "2.7.13"
  }
 },
 "nbformat": 4,
 "nbformat_minor": 0
}
