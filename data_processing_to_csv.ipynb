{
 "cells": [
  {
   "cell_type": "code",
   "execution_count": 1,
   "metadata": {
    "collapsed": true
   },
   "outputs": [],
   "source": [
    "import pandas as pd\n",
    "import json\n",
    "import numpy as np"
   ]
  },
  {
   "cell_type": "code",
   "execution_count": 2,
   "metadata": {
    "collapsed": false,
    "scrolled": true
   },
   "outputs": [],
   "source": [
    "# find all attributes\n",
    "raw_data = pd.read_table('data/sensorswww_data.txt', header = None)"
   ]
  },
  {
   "cell_type": "code",
   "execution_count": 3,
   "metadata": {
    "collapsed": false
   },
   "outputs": [
    {
     "data": {
      "text/plain": [
       "numpy.ndarray"
      ]
     },
     "execution_count": 3,
     "metadata": {},
     "output_type": "execute_result"
    }
   ],
   "source": [
    "type(raw_data[0].values)"
   ]
  },
  {
   "cell_type": "code",
   "execution_count": 6,
   "metadata": {
    "collapsed": false
   },
   "outputs": [
    {
     "data": {
      "text/plain": [
       "51049"
      ]
     },
     "execution_count": 6,
     "metadata": {},
     "output_type": "execute_result"
    }
   ],
   "source": [
    "len(raw_data[0].values)"
   ]
  },
  {
   "cell_type": "code",
   "execution_count": 16,
   "metadata": {
    "collapsed": true
   },
   "outputs": [],
   "source": [
    "str_ser = raw_data[0]"
   ]
  },
  {
   "cell_type": "code",
   "execution_count": 21,
   "metadata": {
    "collapsed": true
   },
   "outputs": [],
   "source": [
    "str_ser = str_ser.apply(lambda x: x.replace(',\"lib\":{',','))"
   ]
  },
  {
   "cell_type": "code",
   "execution_count": 17,
   "metadata": {
    "collapsed": false
   },
   "outputs": [],
   "source": [
    "str_ser = str_ser.apply(lambda x: x.replace('},\"properties\":{',','))"
   ]
  },
  {
   "cell_type": "code",
   "execution_count": 18,
   "metadata": {
    "collapsed": false
   },
   "outputs": [],
   "source": [
    "str_ser = str_ser.apply(lambda x: x.replace('},',','))"
   ]
  },
  {
   "cell_type": "code",
   "execution_count": 22,
   "metadata": {
    "collapsed": false
   },
   "outputs": [],
   "source": [
    "str_list = str_ser.values"
   ]
  },
  {
   "cell_type": "code",
   "execution_count": 23,
   "metadata": {
    "collapsed": false
   },
   "outputs": [
    {
     "data": {
      "text/plain": [
       "'{\"distinct_id\":\"595466e9a8e733434ce08de16e927d985e0b5d48\",\"$lib\":\"js\",\"$lib_method\":\"code\",\"$lib_version\":\"1.6.20\",\"$os\":\"windows\",\"$model\":\"pc\",\"$os_version\":\"6.1\",\"$screen_height\":800,\"$screen_width\":1280,\"$lib\":\"js\",\"$lib_version\":\"1.6.20\",\"$browser\":\"chrome\",\"$browser_version\":\"56\",\"$latest_referrer\":\"\",\"$latest_referrer_host\":\"\",\"$latest_utm_source\":\"baidu\",\"$latest_utm_medium\":\"cpc\",\"$latest_utm_campaign\":\"\\xe9\\x80\\x9a\\xe7\\x94\\xa8\\xe8\\xaf\\x8d\",\"$latest_utm_content\":\"\\xe9\\x80\\x9a\\xe7\\x94\\xa8-\\xe7\\x94\\xa8\\xe6\\x88\\xb7\\xe7\\x94\\xbb\\xe5\\x83\\x8f\",\"$latest_utm_term\":\"\\xe7\\x94\\xa8\\xe6\\x88\\xb7\\xe7\\x94\\xbb\\xe5\\x83\\x8f\",\"_latest_ch\":\"demo\",\"_session_referrer\":\"https://www.baidu.com/baidu.php\",\"_session_referrer_host\":\"www.baidu.com\",\"session_page_url\":\"https://www.sensorsdata.cn/?utm_source=baidu&utm_medium=cpc&utm_term=%E7%94%A8%E6%88%B7%E7%94%BB%E5%83%8F&utm_content=%E9%80%9A%E7%94%A8%2D%E7%94%A8%E6%88%B7%E7%94%BB%E5%83%8F&utm_campaign=%E9%80%9A%E7%94%A8%E8%AF%8D\",\"pageUrl\":\"https://sensorsdata.cn/?ch=demo\",\"pageStayTime\":5.692,\"pagePosition\":2,\"$is_first_day\":true,\"$is_first_time\":false,\"$ip\":\"219.135.131.99\",\"type\":\"track\",\"event\":\"index_leave\",\"_nocache\":\"0654392402996\",\"time\":1488791047953}'"
      ]
     },
     "execution_count": 23,
     "metadata": {},
     "output_type": "execute_result"
    }
   ],
   "source": [
    "str_list[0]"
   ]
  },
  {
   "cell_type": "code",
   "execution_count": 30,
   "metadata": {
    "collapsed": true
   },
   "outputs": [],
   "source": [
    "all_att = set()"
   ]
  },
  {
   "cell_type": "code",
   "execution_count": 39,
   "metadata": {
    "collapsed": false
   },
   "outputs": [],
   "source": [
    "for line in str_list:\n",
    "    dic = json.loads(line)\n",
    "    tmp_att = set(dic.keys())\n",
    "    all_att = all_att.union(tmp_att.difference(all_att))"
   ]
  },
  {
   "cell_type": "code",
   "execution_count": 41,
   "metadata": {
    "collapsed": false,
    "scrolled": true
   },
   "outputs": [
    {
     "data": {
      "text/plain": [
       "68"
      ]
     },
     "execution_count": 41,
     "metadata": {},
     "output_type": "execute_result"
    }
   ],
   "source": [
    "len(all_att)"
   ]
  },
  {
   "cell_type": "code",
   "execution_count": 45,
   "metadata": {
    "collapsed": false
   },
   "outputs": [],
   "source": [
    "df_list = list()\n",
    "for line in str_list:\n",
    "    dic = json.loads(line)\n",
    "    mis_fea = all_att.difference(dic.keys())\n",
    "    for fea in mis_fea:\n",
    "        dic[fea] = None\n",
    "    raw_df = pd.DataFrame(dic, index = [0])\n",
    "    df_list.append(raw_df)"
   ]
  },
  {
   "cell_type": "code",
   "execution_count": 46,
   "metadata": {
    "collapsed": false
   },
   "outputs": [
    {
     "data": {
      "text/html": [
       "<div>\n",
       "<table border=\"1\" class=\"dataframe\">\n",
       "  <thead>\n",
       "    <tr style=\"text-align: right;\">\n",
       "      <th></th>\n",
       "      <th>$browser</th>\n",
       "      <th>$browser_version</th>\n",
       "      <th>$first_browser_language</th>\n",
       "      <th>$first_referrer</th>\n",
       "      <th>$first_referrer_host</th>\n",
       "      <th>$first_visit_time</th>\n",
       "      <th>$ip</th>\n",
       "      <th>$is_first_day</th>\n",
       "      <th>$is_first_time</th>\n",
       "      <th>$latest_referrer</th>\n",
       "      <th>...</th>\n",
       "      <th>referrerUrl</th>\n",
       "      <th>requestBtn</th>\n",
       "      <th>result</th>\n",
       "      <th>session_page_url</th>\n",
       "      <th>siteUrl</th>\n",
       "      <th>site_url</th>\n",
       "      <th>time</th>\n",
       "      <th>type</th>\n",
       "      <th>url_path</th>\n",
       "      <th>verification_code</th>\n",
       "    </tr>\n",
       "  </thead>\n",
       "  <tbody>\n",
       "    <tr>\n",
       "      <th>0</th>\n",
       "      <td>chrome</td>\n",
       "      <td>45</td>\n",
       "      <td>None</td>\n",
       "      <td>None</td>\n",
       "      <td>None</td>\n",
       "      <td>None</td>\n",
       "      <td>1.183.17.21</td>\n",
       "      <td>False</td>\n",
       "      <td>False</td>\n",
       "      <td></td>\n",
       "      <td>...</td>\n",
       "      <td>None</td>\n",
       "      <td>None</td>\n",
       "      <td>None</td>\n",
       "      <td>https://www.sensorsdata.cn/</td>\n",
       "      <td>None</td>\n",
       "      <td>None</td>\n",
       "      <td>None</td>\n",
       "      <td>track</td>\n",
       "      <td>None</td>\n",
       "      <td>None</td>\n",
       "    </tr>\n",
       "  </tbody>\n",
       "</table>\n",
       "<p>1 rows × 68 columns</p>\n",
       "</div>"
      ],
      "text/plain": [
       "  $browser $browser_version $first_browser_language $first_referrer  \\\n",
       "0   chrome               45                    None            None   \n",
       "\n",
       "  $first_referrer_host $first_visit_time          $ip $is_first_day  \\\n",
       "0                 None              None  1.183.17.21         False   \n",
       "\n",
       "  $is_first_time $latest_referrer        ...        referrerUrl requestBtn  \\\n",
       "0          False                         ...               None       None   \n",
       "\n",
       "  result             session_page_url siteUrl site_url  time   type url_path  \\\n",
       "0   None  https://www.sensorsdata.cn/    None     None  None  track     None   \n",
       "\n",
       "  verification_code  \n",
       "0              None  \n",
       "\n",
       "[1 rows x 68 columns]"
      ]
     },
     "execution_count": 46,
     "metadata": {},
     "output_type": "execute_result"
    }
   ],
   "source": [
    "raw_df"
   ]
  },
  {
   "cell_type": "code",
   "execution_count": 47,
   "metadata": {
    "collapsed": true
   },
   "outputs": [],
   "source": [
    "raw_data = pd.concat(df_list, ignore_index = True)"
   ]
  },
  {
   "cell_type": "code",
   "execution_count": 48,
   "metadata": {
    "collapsed": false,
    "scrolled": true
   },
   "outputs": [
    {
     "name": "stdout",
     "output_type": "stream",
     "text": [
      "<class 'pandas.core.frame.DataFrame'>\n",
      "Int64Index: 51049 entries, 0 to 51048\n",
      "Data columns (total 68 columns):\n",
      "$browser                    44564 non-null object\n",
      "$browser_version            44564 non-null object\n",
      "$first_browser_language     6289 non-null object\n",
      "$first_referrer             6485 non-null object\n",
      "$first_referrer_host        6485 non-null object\n",
      "$first_visit_time           6485 non-null object\n",
      "$ip                         44564 non-null object\n",
      "$is_first_day               44564 non-null object\n",
      "$is_first_time              44564 non-null object\n",
      "$latest_referrer            44285 non-null object\n",
      "$latest_referrer_host       44285 non-null object\n",
      "$latest_utm_campaign        27253 non-null object\n",
      "$latest_utm_content         26552 non-null object\n",
      "$latest_utm_medium          27206 non-null object\n",
      "$latest_utm_source          27649 non-null object\n",
      "$latest_utm_term            26828 non-null object\n",
      "$lib                        51049 non-null object\n",
      "$lib_method                 51049 non-null object\n",
      "$lib_version                51049 non-null object\n",
      "$model                      44564 non-null object\n",
      "$os                         44564 non-null object\n",
      "$os_version                 44564 non-null object\n",
      "$referrer                   22038 non-null object\n",
      "$referrer_host              22038 non-null object\n",
      "$screen_height              44564 non-null object\n",
      "$screen_width               44564 non-null object\n",
      "$title                      22038 non-null object\n",
      "$url                        22038 non-null object\n",
      "$url_path                   22038 non-null object\n",
      "$utm_campaign               9694 non-null object\n",
      "$utm_content                9600 non-null object\n",
      "$utm_medium                 9691 non-null object\n",
      "$utm_source                 9766 non-null object\n",
      "$utm_term                   9622 non-null object\n",
      "_latest_ch                  5642 non-null object\n",
      "_nocache                    51048 non-null object\n",
      "_session_from_url           66 non-null object\n",
      "_session_referrer           42877 non-null object\n",
      "_session_referrer_domain    68 non-null object\n",
      "_session_referrer_host      42873 non-null object\n",
      "ch                          400 non-null object\n",
      "company                     888 non-null object\n",
      "contact                     888 non-null object\n",
      "distinct_id                 51049 non-null object\n",
      "email                       888 non-null object\n",
      "event                       44564 non-null object\n",
      "from_url                    666 non-null object\n",
      "info                        772 non-null object\n",
      "isMsg                       313 non-null object\n",
      "isSuccess                   535 non-null object\n",
      "jssdk_error                 33 non-null object\n",
      "name                        10282 non-null object\n",
      "page                        7994 non-null object\n",
      "pagePosition                11334 non-null object\n",
      "pageStayTime                11472 non-null object\n",
      "pageUrl                     20728 non-null object\n",
      "project_name                1672 non-null object\n",
      "referrHostUrl               313 non-null object\n",
      "referrerUrl                 313 non-null object\n",
      "requestBtn                  2962 non-null object\n",
      "result                      772 non-null object\n",
      "session_page_url            42657 non-null object\n",
      "siteUrl                     313 non-null object\n",
      "site_url                    666 non-null object\n",
      "time                        51048 non-null object\n",
      "type                        51049 non-null object\n",
      "url_path                    138 non-null object\n",
      "verification_code           888 non-null object\n",
      "dtypes: object(68)\n",
      "memory usage: 26.9+ MB\n"
     ]
    }
   ],
   "source": [
    "raw_data.info()"
   ]
  },
  {
   "cell_type": "code",
   "execution_count": 57,
   "metadata": {
    "collapsed": true
   },
   "outputs": [],
   "source": [
    "raw_data.to_csv('data/sensors_v1.csv',encoding = 'utf-8', index = False)"
   ]
  },
  {
   "cell_type": "code",
   "execution_count": 58,
   "metadata": {
    "collapsed": false
   },
   "outputs": [
    {
     "name": "stderr",
     "output_type": "stream",
     "text": [
      "G:\\Anaconda2\\lib\\site-packages\\IPython\\core\\interactiveshell.py:2723: DtypeWarning: Columns (36,38,50,66,67) have mixed types. Specify dtype option on import or set low_memory=False.\n",
      "  interactivity=interactivity, compiler=compiler, result=result)\n"
     ]
    }
   ],
   "source": [
    "df = pd.read_csv('data/sensors_v1.csv')"
   ]
  },
  {
   "cell_type": "code",
   "execution_count": 65,
   "metadata": {
    "collapsed": false,
    "scrolled": true
   },
   "outputs": [
    {
     "data": {
      "text/plain": [
       "931       没有来源\n",
       "1226      没有来源\n",
       "1227      没有来源\n",
       "1237      没有来源\n",
       "1238      没有来源\n",
       "1239      没有来源\n",
       "1349      没有来源\n",
       "1352      没有来源\n",
       "1353      没有来源\n",
       "1354      没有来源\n",
       "1358      没有来源\n",
       "1359      没有来源\n",
       "1361      没有来源\n",
       "1944      没有来源\n",
       "1945      没有来源\n",
       "4202      没有来源\n",
       "4336      demo\n",
       "4701      没有来源\n",
       "4702      没有来源\n",
       "6435      没有来源\n",
       "17947     没有来源\n",
       "17950     没有来源\n",
       "17955     没有来源\n",
       "17956     没有来源\n",
       "17957     没有来源\n",
       "18080     没有来源\n",
       "21691     没有来源\n",
       "21720    zhihu\n",
       "22054     demo\n",
       "22056     demo\n",
       "         ...  \n",
       "31428     没有来源\n",
       "31494     没有来源\n",
       "31495     没有来源\n",
       "33283     没有来源\n",
       "35610     没有来源\n",
       "35636     没有来源\n",
       "35637     没有来源\n",
       "36181     没有来源\n",
       "36185     没有来源\n",
       "36186     没有来源\n",
       "36187     没有来源\n",
       "36229     没有来源\n",
       "36230     没有来源\n",
       "36231     没有来源\n",
       "39654     没有来源\n",
       "39655     没有来源\n",
       "39672     没有来源\n",
       "39678     没有来源\n",
       "39679     没有来源\n",
       "39688     没有来源\n",
       "39691     没有来源\n",
       "39692     没有来源\n",
       "39790     没有来源\n",
       "39791     没有来源\n",
       "39792     没有来源\n",
       "40431     没有来源\n",
       "40708     没有来源\n",
       "43224     没有来源\n",
       "44901     没有来源\n",
       "44905     没有来源\n",
       "Name: _session_from_url, dtype: object"
      ]
     },
     "execution_count": 65,
     "metadata": {},
     "output_type": "execute_result"
    }
   ],
   "source": [
    "df[(~df.ix[:,36].isnull())].ix[:,36]"
   ]
  },
  {
   "cell_type": "code",
   "execution_count": 59,
   "metadata": {
    "collapsed": false
   },
   "outputs": [
    {
     "data": {
      "text/html": [
       "<div>\n",
       "<table border=\"1\" class=\"dataframe\">\n",
       "  <thead>\n",
       "    <tr style=\"text-align: right;\">\n",
       "      <th></th>\n",
       "      <th>$browser</th>\n",
       "      <th>$browser_version</th>\n",
       "      <th>$first_browser_language</th>\n",
       "      <th>$first_referrer</th>\n",
       "      <th>$first_referrer_host</th>\n",
       "      <th>$first_visit_time</th>\n",
       "      <th>$ip</th>\n",
       "      <th>$is_first_day</th>\n",
       "      <th>$is_first_time</th>\n",
       "      <th>$latest_referrer</th>\n",
       "      <th>...</th>\n",
       "      <th>referrerUrl</th>\n",
       "      <th>requestBtn</th>\n",
       "      <th>result</th>\n",
       "      <th>session_page_url</th>\n",
       "      <th>siteUrl</th>\n",
       "      <th>site_url</th>\n",
       "      <th>time</th>\n",
       "      <th>type</th>\n",
       "      <th>url_path</th>\n",
       "      <th>verification_code</th>\n",
       "    </tr>\n",
       "  </thead>\n",
       "  <tbody>\n",
       "    <tr>\n",
       "      <th>0</th>\n",
       "      <td>chrome</td>\n",
       "      <td>56.0</td>\n",
       "      <td>NaN</td>\n",
       "      <td>NaN</td>\n",
       "      <td>NaN</td>\n",
       "      <td>NaN</td>\n",
       "      <td>219.135.131.99</td>\n",
       "      <td>True</td>\n",
       "      <td>False</td>\n",
       "      <td>NaN</td>\n",
       "      <td>...</td>\n",
       "      <td>NaN</td>\n",
       "      <td>NaN</td>\n",
       "      <td>NaN</td>\n",
       "      <td>https://www.sensorsdata.cn/?utm_source=baidu&amp;u...</td>\n",
       "      <td>NaN</td>\n",
       "      <td>NaN</td>\n",
       "      <td>1.488791e+12</td>\n",
       "      <td>track</td>\n",
       "      <td>NaN</td>\n",
       "      <td>NaN</td>\n",
       "    </tr>\n",
       "    <tr>\n",
       "      <th>1</th>\n",
       "      <td>NaN</td>\n",
       "      <td>NaN</td>\n",
       "      <td>zh-CN</td>\n",
       "      <td>NaN</td>\n",
       "      <td>NaN</td>\n",
       "      <td>2017-03-06 17:04:10.999</td>\n",
       "      <td>NaN</td>\n",
       "      <td>NaN</td>\n",
       "      <td>NaN</td>\n",
       "      <td>NaN</td>\n",
       "      <td>...</td>\n",
       "      <td>NaN</td>\n",
       "      <td>NaN</td>\n",
       "      <td>NaN</td>\n",
       "      <td>NaN</td>\n",
       "      <td>NaN</td>\n",
       "      <td>NaN</td>\n",
       "      <td>1.490958e+12</td>\n",
       "      <td>profile_set_once</td>\n",
       "      <td>NaN</td>\n",
       "      <td>NaN</td>\n",
       "    </tr>\n",
       "    <tr>\n",
       "      <th>2</th>\n",
       "      <td>chrome</td>\n",
       "      <td>56.0</td>\n",
       "      <td>NaN</td>\n",
       "      <td>NaN</td>\n",
       "      <td>NaN</td>\n",
       "      <td>NaN</td>\n",
       "      <td>111.204.198.242</td>\n",
       "      <td>True</td>\n",
       "      <td>True</td>\n",
       "      <td>NaN</td>\n",
       "      <td>...</td>\n",
       "      <td>NaN</td>\n",
       "      <td>NaN</td>\n",
       "      <td>NaN</td>\n",
       "      <td>https://sensorsdata.cn/?ch=demo</td>\n",
       "      <td>NaN</td>\n",
       "      <td>NaN</td>\n",
       "      <td>1.488791e+12</td>\n",
       "      <td>track</td>\n",
       "      <td>NaN</td>\n",
       "      <td>NaN</td>\n",
       "    </tr>\n",
       "    <tr>\n",
       "      <th>3</th>\n",
       "      <td>chrome</td>\n",
       "      <td>56.0</td>\n",
       "      <td>NaN</td>\n",
       "      <td>NaN</td>\n",
       "      <td>NaN</td>\n",
       "      <td>NaN</td>\n",
       "      <td>111.204.198.242</td>\n",
       "      <td>True</td>\n",
       "      <td>False</td>\n",
       "      <td>NaN</td>\n",
       "      <td>...</td>\n",
       "      <td>NaN</td>\n",
       "      <td>2.0</td>\n",
       "      <td>NaN</td>\n",
       "      <td>https://sensorsdata.cn/?ch=demo</td>\n",
       "      <td>NaN</td>\n",
       "      <td>NaN</td>\n",
       "      <td>1.488791e+12</td>\n",
       "      <td>track</td>\n",
       "      <td>NaN</td>\n",
       "      <td>NaN</td>\n",
       "    </tr>\n",
       "    <tr>\n",
       "      <th>4</th>\n",
       "      <td>chrome</td>\n",
       "      <td>56.0</td>\n",
       "      <td>NaN</td>\n",
       "      <td>NaN</td>\n",
       "      <td>NaN</td>\n",
       "      <td>NaN</td>\n",
       "      <td>111.204.198.242</td>\n",
       "      <td>True</td>\n",
       "      <td>False</td>\n",
       "      <td>NaN</td>\n",
       "      <td>...</td>\n",
       "      <td>NaN</td>\n",
       "      <td>2.0</td>\n",
       "      <td>NaN</td>\n",
       "      <td>https://sensorsdata.cn/?ch=demo</td>\n",
       "      <td>NaN</td>\n",
       "      <td>NaN</td>\n",
       "      <td>1.488791e+12</td>\n",
       "      <td>track</td>\n",
       "      <td>NaN</td>\n",
       "      <td>NaN</td>\n",
       "    </tr>\n",
       "  </tbody>\n",
       "</table>\n",
       "<p>5 rows × 68 columns</p>\n",
       "</div>"
      ],
      "text/plain": [
       "  $browser  $browser_version $first_browser_language $first_referrer  \\\n",
       "0   chrome              56.0                     NaN             NaN   \n",
       "1      NaN               NaN                   zh-CN             NaN   \n",
       "2   chrome              56.0                     NaN             NaN   \n",
       "3   chrome              56.0                     NaN             NaN   \n",
       "4   chrome              56.0                     NaN             NaN   \n",
       "\n",
       "  $first_referrer_host        $first_visit_time              $ip  \\\n",
       "0                  NaN                      NaN   219.135.131.99   \n",
       "1                  NaN  2017-03-06 17:04:10.999              NaN   \n",
       "2                  NaN                      NaN  111.204.198.242   \n",
       "3                  NaN                      NaN  111.204.198.242   \n",
       "4                  NaN                      NaN  111.204.198.242   \n",
       "\n",
       "  $is_first_day $is_first_time $latest_referrer        ...        referrerUrl  \\\n",
       "0          True          False              NaN        ...                NaN   \n",
       "1           NaN            NaN              NaN        ...                NaN   \n",
       "2          True           True              NaN        ...                NaN   \n",
       "3          True          False              NaN        ...                NaN   \n",
       "4          True          False              NaN        ...                NaN   \n",
       "\n",
       "  requestBtn result                                   session_page_url  \\\n",
       "0        NaN    NaN  https://www.sensorsdata.cn/?utm_source=baidu&u...   \n",
       "1        NaN    NaN                                                NaN   \n",
       "2        NaN    NaN                    https://sensorsdata.cn/?ch=demo   \n",
       "3        2.0    NaN                    https://sensorsdata.cn/?ch=demo   \n",
       "4        2.0    NaN                    https://sensorsdata.cn/?ch=demo   \n",
       "\n",
       "  siteUrl site_url          time              type url_path verification_code  \n",
       "0     NaN      NaN  1.488791e+12             track      NaN               NaN  \n",
       "1     NaN      NaN  1.490958e+12  profile_set_once      NaN               NaN  \n",
       "2     NaN      NaN  1.488791e+12             track      NaN               NaN  \n",
       "3     NaN      NaN  1.488791e+12             track      NaN               NaN  \n",
       "4     NaN      NaN  1.488791e+12             track      NaN               NaN  \n",
       "\n",
       "[5 rows x 68 columns]"
      ]
     },
     "execution_count": 59,
     "metadata": {},
     "output_type": "execute_result"
    }
   ],
   "source": [
    "df.head()"
   ]
  },
  {
   "cell_type": "code",
   "execution_count": null,
   "metadata": {
    "collapsed": true
   },
   "outputs": [],
   "source": []
  }
 ],
 "metadata": {
  "kernelspec": {
   "display_name": "Python 2",
   "language": "python",
   "name": "python2"
  },
  "language_info": {
   "codemirror_mode": {
    "name": "ipython",
    "version": 2
   },
   "file_extension": ".py",
   "mimetype": "text/x-python",
   "name": "python",
   "nbconvert_exporter": "python",
   "pygments_lexer": "ipython2",
   "version": "2.7.13"
  }
 },
 "nbformat": 4,
 "nbformat_minor": 0
}
