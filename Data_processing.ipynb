{
 "cells": [
  {
   "cell_type": "code",
   "execution_count": null,
   "metadata": {
    "collapsed": true
   },
   "outputs": [],
   "source": [
    "import pandas as pd\n",
    "import json"
   ]
  },
  {
   "cell_type": "code",
   "execution_count": null,
   "metadata": {
    "collapsed": true
   },
   "outputs": [],
   "source": [
    "# index_leave     # | [官⽹]离开⾸页 |\n",
    "# btnClick        # | [官⽹]点击按钮 |\n",
    "# about_leave     #| [官⽹]离开关于页 |\n",
    "# formSubmit      #[官⽹]申请帐号尝试提交 |\n",
    "# clickSubmit     #| [#官⽹]申请帐号验证通过 |\n",
    "# courses_leave   #| [官⽹]关闭视频页 |\n",
    "# demo_leave      #| [Demo]离#开 |\n",
    "# courses_play_leave #| [官⽹]关闭视频播放页 |\n",
    "# page_close         ##| page_close |\n",
    "# pageview           #| [官⽹]浏览页⾯ |\n",
    "# click_send_cellphone    #| [官⽹]发送验证码 |\n",
    "# verify_cellphone_code   #[官⽹]验证码是否准确"
   ]
  },
  {
   "cell_type": "code",
   "execution_count": null,
   "metadata": {
    "collapsed": false
   },
   "outputs": [],
   "source": [
    "all_features = set([\"distinct_id\",\"lib\",\"properties\",\"type\",\"event\",\"_nocache\", \"time\"])"
   ]
  },
  {
   "cell_type": "code",
   "execution_count": null,
   "metadata": {
    "collapsed": false
   },
   "outputs": [],
   "source": [
    "df_list = list()"
   ]
  },
  {
   "cell_type": "code",
   "execution_count": null,
   "metadata": {
    "collapsed": false,
    "scrolled": true
   },
   "outputs": [],
   "source": [
    "row = 0\n",
    "with open('data/sensorswww_data.txt','r') as f:\n",
    "    for line in f:\n",
    "        row  = row + 1\n",
    "        try:\n",
    "            dic = json.loads(line)\n",
    "            mis_fea = all_features.difference(dic.keys())\n",
    "            for fea in mis_fea:\n",
    "                dic[fea] = None\n",
    "            raw_df = pd.DataFrame([[dic[\"distinct_id\"]],[dic[\"lib\"]],[dic[\"properties\"]],[dic[\"type\"]],\n",
    "                                   [dic[\"event\"]],[dic[\"_nocache\"]], [dic[\"time\"]]\n",
    "                                  ]\n",
    "                                 ).T\n",
    "            df_list.append(raw_df)\n",
    "        except:\n",
    "            print row"
   ]
  },
  {
   "cell_type": "code",
   "execution_count": null,
   "metadata": {
    "collapsed": true
   },
   "outputs": [],
   "source": [
    "raw_data = pd.concat(df_list, ignore_index = True)"
   ]
  },
  {
   "cell_type": "code",
   "execution_count": null,
   "metadata": {
    "collapsed": false
   },
   "outputs": [],
   "source": [
    "raw_data.columns = [\"distinct_id\",\"lib\",\"properties\",\"type\",\"event\",\"_nocache\", \"time\"]"
   ]
  },
  {
   "cell_type": "code",
   "execution_count": null,
   "metadata": {
    "collapsed": false,
    "scrolled": false
   },
   "outputs": [],
   "source": [
    "raw_data.head(4)"
   ]
  },
  {
   "cell_type": "code",
   "execution_count": null,
   "metadata": {
    "collapsed": false
   },
   "outputs": [],
   "source": [
    "raw_data.apply(lambda x: sum(pd.isnull(x)))"
   ]
  },
  {
   "cell_type": "code",
   "execution_count": null,
   "metadata": {
    "collapsed": false
   },
   "outputs": [],
   "source": [
    "# impute missing value in event\n",
    "count  = 0\n",
    "for _, row in raw_data.iterrows():\n",
    "    if '$title' in row.properties.keys() and row.event is None:\n",
    "        count += 1"
   ]
  },
  {
   "cell_type": "code",
   "execution_count": null,
   "metadata": {
    "collapsed": false
   },
   "outputs": [],
   "source": [
    "print count"
   ]
  },
  {
   "cell_type": "code",
   "execution_count": null,
   "metadata": {
    "collapsed": false,
    "scrolled": true
   },
   "outputs": [],
   "source": [
    "count  = 0\n",
    "for _, row in raw_data.iterrows():\n",
    "    if 'info' in row.properties.keys() and row.event is None:\n",
    "        count += 1"
   ]
  },
  {
   "cell_type": "code",
   "execution_count": null,
   "metadata": {
    "collapsed": false
   },
   "outputs": [],
   "source": [
    "count"
   ]
  },
  {
   "cell_type": "code",
   "execution_count": null,
   "metadata": {
    "collapsed": true
   },
   "outputs": [],
   "source": [
    "count  = 0\n",
    "for _, row in raw_data.iterrows():\n",
    "    if 'requestBtn' in row.properties.keys() and row.event is None:\n",
    "        count += 1"
   ]
  },
  {
   "cell_type": "code",
   "execution_count": null,
   "metadata": {
    "collapsed": false
   },
   "outputs": [],
   "source": [
    "count"
   ]
  },
  {
   "cell_type": "code",
   "execution_count": null,
   "metadata": {
    "collapsed": true
   },
   "outputs": [],
   "source": [
    "count  = 0\n",
    "for _, row in raw_data.iterrows():\n",
    "    if 'name' in row.properties.keys() and row.event is None:\n",
    "        count += 1\n",
    "print count"
   ]
  },
  {
   "cell_type": "code",
   "execution_count": null,
   "metadata": {
    "collapsed": false
   },
   "outputs": [],
   "source": [
    "raw_data[(pd.isnull(raw_data.event))]['properties'].values"
   ]
  }
 ],
 "metadata": {
  "kernelspec": {
   "display_name": "Python 2",
   "language": "python",
   "name": "python2"
  },
  "language_info": {
   "codemirror_mode": {
    "name": "ipython",
    "version": 2
   },
   "file_extension": ".py",
   "mimetype": "text/x-python",
   "name": "python",
   "nbconvert_exporter": "python",
   "pygments_lexer": "ipython2",
   "version": "2.7.13"
  }
 },
 "nbformat": 4,
 "nbformat_minor": 0
}
