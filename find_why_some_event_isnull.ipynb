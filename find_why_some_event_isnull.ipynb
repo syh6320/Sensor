{
 "cells": [
  {
   "cell_type": "code",
   "execution_count": 1,
   "metadata": {
    "collapsed": true
   },
   "outputs": [],
   "source": [
    "import pandas as pd\n",
    "import numpy as np"
   ]
  },
  {
   "cell_type": "code",
   "execution_count": 2,
   "metadata": {
    "collapsed": false
   },
   "outputs": [
    {
     "name": "stderr",
     "output_type": "stream",
     "text": [
      "G:\\Anaconda2\\lib\\site-packages\\IPython\\core\\interactiveshell.py:2723: DtypeWarning: Columns (33,35,47,63,64) have mixed types. Specify dtype option on import or set low_memory=False.\n",
      "  interactivity=interactivity, compiler=compiler, result=result)\n"
     ]
    }
   ],
   "source": [
    "df = pd.read_csv('data/sel_data_v1.csv')"
   ]
  },
  {
   "cell_type": "code",
   "execution_count": 3,
   "metadata": {
    "collapsed": false
   },
   "outputs": [
    {
     "data": {
      "text/html": [
       "<div>\n",
       "<table border=\"1\" class=\"dataframe\">\n",
       "  <thead>\n",
       "    <tr style=\"text-align: right;\">\n",
       "      <th></th>\n",
       "      <th>browser</th>\n",
       "      <th>browser_version</th>\n",
       "      <th>first_browser_language</th>\n",
       "      <th>first_referrer</th>\n",
       "      <th>first_referrer_host</th>\n",
       "      <th>first_visit_time</th>\n",
       "      <th>ip</th>\n",
       "      <th>is_first_day</th>\n",
       "      <th>is_first_time</th>\n",
       "      <th>latest_referrer</th>\n",
       "      <th>...</th>\n",
       "      <th>referrerUrl</th>\n",
       "      <th>requestBtn</th>\n",
       "      <th>result</th>\n",
       "      <th>session_page_url</th>\n",
       "      <th>siteUrl</th>\n",
       "      <th>site_url</th>\n",
       "      <th>time</th>\n",
       "      <th>type</th>\n",
       "      <th>url_path.1</th>\n",
       "      <th>verification_code</th>\n",
       "    </tr>\n",
       "  </thead>\n",
       "  <tbody>\n",
       "    <tr>\n",
       "      <th>0</th>\n",
       "      <td>chrome</td>\n",
       "      <td>56.0</td>\n",
       "      <td>NaN</td>\n",
       "      <td>NaN</td>\n",
       "      <td>NaN</td>\n",
       "      <td>NaN</td>\n",
       "      <td>219.135.131.99</td>\n",
       "      <td>True</td>\n",
       "      <td>False</td>\n",
       "      <td>NaN</td>\n",
       "      <td>...</td>\n",
       "      <td>NaN</td>\n",
       "      <td>NaN</td>\n",
       "      <td>NaN</td>\n",
       "      <td>https://www.sensorsdata.cn/?utm_source=baidu&amp;u...</td>\n",
       "      <td>NaN</td>\n",
       "      <td>NaN</td>\n",
       "      <td>1.488791e+12</td>\n",
       "      <td>track</td>\n",
       "      <td>NaN</td>\n",
       "      <td>NaN</td>\n",
       "    </tr>\n",
       "    <tr>\n",
       "      <th>1</th>\n",
       "      <td>NaN</td>\n",
       "      <td>NaN</td>\n",
       "      <td>zh-CN</td>\n",
       "      <td>NaN</td>\n",
       "      <td>NaN</td>\n",
       "      <td>2017-03-06 17:04:10.999</td>\n",
       "      <td>NaN</td>\n",
       "      <td>NaN</td>\n",
       "      <td>NaN</td>\n",
       "      <td>NaN</td>\n",
       "      <td>...</td>\n",
       "      <td>NaN</td>\n",
       "      <td>NaN</td>\n",
       "      <td>NaN</td>\n",
       "      <td>NaN</td>\n",
       "      <td>NaN</td>\n",
       "      <td>NaN</td>\n",
       "      <td>1.490958e+12</td>\n",
       "      <td>profile_set_once</td>\n",
       "      <td>NaN</td>\n",
       "      <td>NaN</td>\n",
       "    </tr>\n",
       "    <tr>\n",
       "      <th>2</th>\n",
       "      <td>chrome</td>\n",
       "      <td>56.0</td>\n",
       "      <td>NaN</td>\n",
       "      <td>NaN</td>\n",
       "      <td>NaN</td>\n",
       "      <td>NaN</td>\n",
       "      <td>111.204.198.242</td>\n",
       "      <td>True</td>\n",
       "      <td>True</td>\n",
       "      <td>NaN</td>\n",
       "      <td>...</td>\n",
       "      <td>NaN</td>\n",
       "      <td>NaN</td>\n",
       "      <td>NaN</td>\n",
       "      <td>https://sensorsdata.cn/?ch=demo</td>\n",
       "      <td>NaN</td>\n",
       "      <td>NaN</td>\n",
       "      <td>1.488791e+12</td>\n",
       "      <td>track</td>\n",
       "      <td>NaN</td>\n",
       "      <td>NaN</td>\n",
       "    </tr>\n",
       "  </tbody>\n",
       "</table>\n",
       "<p>3 rows × 65 columns</p>\n",
       "</div>"
      ],
      "text/plain": [
       "  browser  browser_version first_browser_language first_referrer  \\\n",
       "0  chrome             56.0                    NaN            NaN   \n",
       "1     NaN              NaN                  zh-CN            NaN   \n",
       "2  chrome             56.0                    NaN            NaN   \n",
       "\n",
       "  first_referrer_host         first_visit_time               ip is_first_day  \\\n",
       "0                 NaN                      NaN   219.135.131.99         True   \n",
       "1                 NaN  2017-03-06 17:04:10.999              NaN          NaN   \n",
       "2                 NaN                      NaN  111.204.198.242         True   \n",
       "\n",
       "  is_first_time latest_referrer        ...        referrerUrl requestBtn  \\\n",
       "0         False             NaN        ...                NaN        NaN   \n",
       "1           NaN             NaN        ...                NaN        NaN   \n",
       "2          True             NaN        ...                NaN        NaN   \n",
       "\n",
       "  result                                   session_page_url siteUrl site_url  \\\n",
       "0    NaN  https://www.sensorsdata.cn/?utm_source=baidu&u...     NaN      NaN   \n",
       "1    NaN                                                NaN     NaN      NaN   \n",
       "2    NaN                    https://sensorsdata.cn/?ch=demo     NaN      NaN   \n",
       "\n",
       "           time              type  url_path.1 verification_code  \n",
       "0  1.488791e+12             track         NaN               NaN  \n",
       "1  1.490958e+12  profile_set_once         NaN               NaN  \n",
       "2  1.488791e+12             track         NaN               NaN  \n",
       "\n",
       "[3 rows x 65 columns]"
      ]
     },
     "execution_count": 3,
     "metadata": {},
     "output_type": "execute_result"
    }
   ],
   "source": [
    "df.head(3)"
   ]
  },
  {
   "cell_type": "code",
   "execution_count": 11,
   "metadata": {
    "collapsed": false,
    "scrolled": true
   },
   "outputs": [
    {
     "name": "stdout",
     "output_type": "stream",
     "text": [
      "NaN    6289\n",
      "Name: event, dtype: int64\n",
      "$pageview                22038\n",
      "btnClick                  9394\n",
      "index_leave               7115\n",
      "demo_leave                2388\n",
      "about_leave                696\n",
      "courses_leave              628\n",
      "formSubmit                 535\n",
      "courses_play_leave         507\n",
      "click_send_cellphone       400\n",
      "verify_cellphone_code      372\n",
      "clickSubmit                353\n",
      "NaN                        196\n",
      "page_close                 138\n",
      "Name: event, dtype: int64\n"
     ]
    }
   ],
   "source": [
    "print df[df.first_browser_language.notnull()].event.value_counts(dropna = False)\n",
    "print df[df.first_browser_language.isnull()].event.value_counts(dropna = False)"
   ]
  },
  {
   "cell_type": "code",
   "execution_count": 10,
   "metadata": {
    "collapsed": false,
    "scrolled": false
   },
   "outputs": [
    {
     "name": "stdout",
     "output_type": "stream",
     "text": [
      "zh-CN    4893\n",
      "zh-cn     874\n",
      "en-US     406\n",
      "NaN       196\n",
      "en-us      50\n",
      "en-GB      15\n",
      "C          14\n",
      "ru          8\n",
      "zh-tw       7\n",
      "zh-TW       7\n",
      "ja-jp       3\n",
      "ru-RU       2\n",
      "ja          2\n",
      "de-de       1\n",
      "ja-JP       1\n",
      "fr          1\n",
      "en-sg       1\n",
      "zh-HK       1\n",
      "zh          1\n",
      "hy-AM       1\n",
      "ko          1\n",
      "Name: first_browser_language, dtype: int64\n",
      "6485\n"
     ]
    }
   ],
   "source": [
    "print df[df.event.isnull()].first_browser_language.value_counts(dropna = False)\n",
    "print df[df.event.isnull()].first_browser_language.value_counts(dropna = False).sum()"
   ]
  },
  {
   "cell_type": "code",
   "execution_count": 13,
   "metadata": {
    "collapsed": false
   },
   "outputs": [
    {
     "name": "stdout",
     "output_type": "stream",
     "text": [
      "NaN    4728\n",
      "Name: event, dtype: int64\n",
      "$pageview                22038\n",
      "btnClick                  9394\n",
      "index_leave               7115\n",
      "demo_leave                2388\n",
      "NaN                       1757\n",
      "about_leave                696\n",
      "courses_leave              628\n",
      "formSubmit                 535\n",
      "courses_play_leave         507\n",
      "click_send_cellphone       400\n",
      "verify_cellphone_code      372\n",
      "clickSubmit                353\n",
      "page_close                 138\n",
      "Name: event, dtype: int64\n"
     ]
    }
   ],
   "source": [
    "print df[df.first_referrer.notnull()].event.value_counts(dropna = False)\n",
    "print df[df.first_referrer.isnull()].event.value_counts(dropna = False)"
   ]
  },
  {
   "cell_type": "code",
   "execution_count": 17,
   "metadata": {
    "collapsed": false,
    "scrolled": true
   },
   "outputs": [
    {
     "data": {
      "text/plain": [
       "08ba9b365da9b395ab2a03ed1a76b97e01716a39    211\n",
       "0b904201f18f938733280545936a9a743480b925    199\n",
       "835cc4405ee7e42e5b401a25e65b4830b02af7d3    196\n",
       "e78c29d1f263477389a86add3ee4c0c575886caf    171\n",
       "95cd75560edb05c1a4e097da927a5c8301e6851c    168\n",
       "66c3755db12f7aeddfc7833ba59585c6aee6d132    149\n",
       "8b2fb3aed0d951fcc5f68a2201009466f872c1b5    134\n",
       "baf6ee46757fe9f224a683c3eef4bb64f3fe10a1    134\n",
       "eb3c91bdb68c3a6ccfe1a477591e89b36499e1cd    124\n",
       "ca87e1a0fd642c7287e822c5136a8a7bb23e5d2c    120\n",
       "87091bab3fc571740f15ac4021efc4c7674776d5    119\n",
       "19db3f7f99eb0f14e5ea5730fe3a936996941269    112\n",
       "c33e5457e3c8de3e23e6926337636784998f4257    111\n",
       "9b6b97ad53fc72131eeb4e068480cdd17e050cde    107\n",
       "203024e10168f1269ea98dcc98c2a2e777cea862    106\n",
       "af2c12d0b891fb24abbb0b33fd087cdfc686c72c    103\n",
       "2d891b75f4d9dd41299a98b7f9ca59daf1e7e772    100\n",
       "07f08d78fceb0524aab2384bb57a2dcf56028f07     93\n",
       "6c4085e72488c53c0c3600d553b4a8b98254221c     80\n",
       "3d362ad1a3d2bdb524726cafae5e31599d726536     80\n",
       "8cf296039c6a5bb9d46a2d9d3155330924cbb4aa     78\n",
       "683c17409df05c2225b2e30df78d995f991b62db     76\n",
       "6a0abcb887ebfca8df3825088cc9ebc4ba2afc74     75\n",
       "cc03b92cbfeebd715cd97f7f3d0cff31d96322a8     74\n",
       "6385c72ae967b336fbbdd08225579bfd4264e77b     72\n",
       "822430614a4a95612699d4c24d1ea48e9bd6ee60     71\n",
       "203d5340264bc657e4de1c529040dfb0dfafdc4a     69\n",
       "e1cdb5a7ab9810606f8995906887a4ee3acd8950     68\n",
       "777a0303207470ce62837ad38307eb9873501caa     68\n",
       "7c0fe25e47e0e2dad153e3463b18dbf032df430c     66\n",
       "                                           ... \n",
       "c161628419ce8575af82b193e769f03a2911e7f8      1\n",
       "408a6421e9935824ee5cd0bfbf4581398c812c26      1\n",
       "beda22d6aa1c653c64c678e81ab7335774b6f417      1\n",
       "8fe1533cf178ae77c07381f58c5ea70dc9f298ba      1\n",
       "da43e6317f04596c41c764aed3221df750d94e78      1\n",
       "36580b9b41995e806bed6c948c76f1a790442770      1\n",
       "b0df00ec1303a33ff1bbef024abe268bc598de96      1\n",
       "02aedf45704220bba1084ef4babba7eece237d1f      1\n",
       "f2c8d81b8df07e796968ce954d3cee63376af0de      1\n",
       "22aca28c2fc5f8c8b8aa0bb596edd5f82faca036      1\n",
       "92bd4020c883f8b1ec8199bde4422de0502e3511      1\n",
       "10fefaec01db149b971bfc7506b323652d249992      1\n",
       "67c2f5de0825c80d368052c7b2f77d6699869fa8      1\n",
       "a96aa79faee0c917073175427e7943abe11d4614      1\n",
       "a4c48eafd2a15d53224b9be6fd9eea6ac34ecc95      1\n",
       "5412a0e5c4518e121f5d0f8e5c8baed280e7bcfb      1\n",
       "c64c6d9f6a4d4d4b86f022d2c9fc239f9ad2fd9c      1\n",
       "2951a388192c8fdd18181ebede26731fdc99f6a8      1\n",
       "7ef5defa195a736644349f67b1e0e068aae02552      1\n",
       "8cd1cbab2f261a36869fa2ba83e04ed0cd4ef162      1\n",
       "a7ca36ed925adc10be87bd4c0869fe736d03557a      1\n",
       "272c8253ae13ebb7dc2d6ef8ce0b59509cde5ea3      1\n",
       "8f10177cd0b2c09ebf4ec2879c6d747e35c0e99b      1\n",
       "002e2c1cd393b3d240ef46c45990c76f9b37a182      1\n",
       "50be50102d008fd59117c5ce7671bdefc2863c61      1\n",
       "267605f9de52502fa6bf4c8fb54628bf00d2f34a      1\n",
       "630731d443e0ec3a03516fe2c8ce9274ee7a0481      1\n",
       "26ddf4cf5bc96f1ef9b3c783f5d98e190283a7cc      1\n",
       "2d870da91508548099f854ea74898eb85e1540af      1\n",
       "dce4fe5e323e6811185314b1edd682f8f0cf81f7      1\n",
       "Name: distinct_id, dtype: int64"
      ]
     },
     "execution_count": 17,
     "metadata": {},
     "output_type": "execute_result"
    }
   ],
   "source": [
    "df.distinct_id.value_counts()"
   ]
  },
  {
   "cell_type": "code",
   "execution_count": null,
   "metadata": {
    "collapsed": false,
    "scrolled": true
   },
   "outputs": [],
   "source": [
    "df.columns"
   ]
  },
  {
   "cell_type": "code",
   "execution_count": null,
   "metadata": {
    "collapsed": false,
    "scrolled": true
   },
   "outputs": [],
   "source": [
    "df[(df.event.isnull()) & (df.title.notnull())]"
   ]
  },
  {
   "cell_type": "code",
   "execution_count": null,
   "metadata": {
    "collapsed": false,
    "scrolled": true
   },
   "outputs": [],
   "source": [
    "df[(df['info'].notnull())].event.value_counts(dropna = False)"
   ]
  },
  {
   "cell_type": "code",
   "execution_count": null,
   "metadata": {
    "collapsed": false
   },
   "outputs": [],
   "source": [
    "df.event.value_counts(dropna = False)"
   ]
  },
  {
   "cell_type": "code",
   "execution_count": null,
   "metadata": {
    "collapsed": false
   },
   "outputs": [],
   "source": [
    "df[(df['requestBtn'].notnull())].event.value_counts(dropna = False)"
   ]
  },
  {
   "cell_type": "code",
   "execution_count": 14,
   "metadata": {
    "collapsed": false
   },
   "outputs": [
    {
     "data": {
      "text/plain": [
       "formSubmit    313\n",
       "Name: event, dtype: int64"
      ]
     },
     "execution_count": 14,
     "metadata": {},
     "output_type": "execute_result"
    }
   ],
   "source": [
    "df[(df['isMsg'].notnull())].event.value_counts(dropna = False)"
   ]
  },
  {
   "cell_type": "code",
   "execution_count": null,
   "metadata": {
    "collapsed": false
   },
   "outputs": [],
   "source": [
    "df[(df.event == 'formSubmit')].shape"
   ]
  },
  {
   "cell_type": "code",
   "execution_count": null,
   "metadata": {
    "collapsed": false,
    "scrolled": true
   },
   "outputs": [],
   "source": [
    "df[(df.event == 'formSubmit')].isMsg.value_counts(dropna = False)"
   ]
  },
  {
   "cell_type": "code",
   "execution_count": 15,
   "metadata": {
    "collapsed": false
   },
   "outputs": [
    {
     "data": {
      "text/plain": [
       "btnClick    7994\n",
       "Name: event, dtype: int64"
      ]
     },
     "execution_count": 15,
     "metadata": {},
     "output_type": "execute_result"
    }
   ],
   "source": [
    "df[(df['page'].notnull())].event.value_counts(dropna = False)"
   ]
  },
  {
   "cell_type": "code",
   "execution_count": 16,
   "metadata": {
    "collapsed": false
   },
   "outputs": [
    {
     "data": {
      "text/plain": [
       "clickSubmit    300\n",
       "Name: event, dtype: int64"
      ]
     },
     "execution_count": 16,
     "metadata": {},
     "output_type": "execute_result"
    }
   ],
   "source": [
    "df[(df['from_url'].notnull()) & (df['event'] != 'formSubmit')].event.value_counts(dropna = False)"
   ]
  },
  {
   "cell_type": "code",
   "execution_count": null,
   "metadata": {
    "collapsed": false
   },
   "outputs": [],
   "source": [
    "df[(df['latest_utm_campaign'].notnull())].event.value_counts(dropna = False)"
   ]
  },
  {
   "cell_type": "code",
   "execution_count": null,
   "metadata": {
    "collapsed": false
   },
   "outputs": [],
   "source": [
    "df[(df['latest_utm_source'].notnull())].event.value_counts(dropna = False)"
   ]
  },
  {
   "cell_type": "code",
   "execution_count": null,
   "metadata": {
    "collapsed": true
   },
   "outputs": [],
   "source": [
    "null_event_df = df[(df.event.isnull())]"
   ]
  },
  {
   "cell_type": "code",
   "execution_count": null,
   "metadata": {
    "collapsed": false
   },
   "outputs": [],
   "source": [
    "null_event_df.shape"
   ]
  },
  {
   "cell_type": "code",
   "execution_count": null,
   "metadata": {
    "collapsed": false
   },
   "outputs": [],
   "source": [
    "for col_name in null_event_df.columns:\n",
    "    print col_name\n",
    "    print null_event_df[col_name].value_counts(dropna = False)\n",
    "    print \"***********************************\""
   ]
  }
 ],
 "metadata": {
  "kernelspec": {
   "display_name": "Python 2",
   "language": "python",
   "name": "python2"
  },
  "language_info": {
   "codemirror_mode": {
    "name": "ipython",
    "version": 2
   },
   "file_extension": ".py",
   "mimetype": "text/x-python",
   "name": "python",
   "nbconvert_exporter": "python",
   "pygments_lexer": "ipython2",
   "version": "2.7.13"
  }
 },
 "nbformat": 4,
 "nbformat_minor": 0
}
