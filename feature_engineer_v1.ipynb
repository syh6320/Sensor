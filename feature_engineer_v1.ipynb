{
 "cells": [
  {
   "cell_type": "code",
   "execution_count": 6,
   "metadata": {
    "collapsed": true
   },
   "outputs": [],
   "source": [
    "import pandas as pd\n",
    "import numpy as np\n",
    "import datetime\n",
    "\n",
    "sel_sel_df = pd.read_csv('data/lastest_data.csv')\n",
    "\n",
    "sel_sel_df.distinct_id.nunique()\n",
    "\n",
    "sel_sel_df['Bj_timestamp'] = sel_sel_df['time'].apply(lambda x: datetime.datetime.utcfromtimestamp(int(x)/1000).strftime(\"%Y-%m-%d %H:%M:%S\"))\n",
    "\n",
    "sel_sel_df['Bj_timestamp'] = pd.to_datetime(sel_sel_df['Bj_timestamp'])\n",
    "\n",
    "sel_sel_df['dayofweek'] = sel_sel_df.Bj_timestamp.apply(lambda x: datetime.datetime.weekday(x))\n",
    "\n",
    "sel_sel_df['hourofday'] = sel_sel_df.Bj_timestamp.apply(lambda x: x.hour)\n",
    "\n",
    "sel_sel_df['date'] = sel_sel_df.Bj_timestamp.apply(lambda x: datetime.datetime.date(x))"
   ]
  },
  {
   "cell_type": "code",
   "execution_count": 7,
   "metadata": {
    "collapsed": true
   },
   "outputs": [],
   "source": [
    "# deleting more useless features\n",
    "\n",
    "sel_sel_df.drop(labels = 'nocache', axis = 1, inplace = True)\n",
    "\n",
    "# sel_sel_df.ch.value_counts(dropna = False)\n",
    "sel_sel_df.drop(labels = 'ch', axis = 1, inplace = True)\n",
    "\n",
    "# sel_sel_df.ch.value_counts(dropna = False)\n",
    "sel_sel_df.drop(labels = 'latest_ch', axis = 1, inplace = True)"
   ]
  },
  {
   "cell_type": "code",
   "execution_count": 8,
   "metadata": {},
   "outputs": [
    {
     "data": {
      "text/plain": [
       "$pageview                22037\n",
       "btnClick                  9394\n",
       "index_leave               7115\n",
       "profile_set_once          6485\n",
       "demo_leave                2388\n",
       "about_leave                696\n",
       "courses_leave              628\n",
       "formSubmit                 535\n",
       "courses_play_leave         507\n",
       "click_send_cellphone       400\n",
       "verify_cellphone_code      372\n",
       "clickSubmit                353\n",
       "page_close                 138\n",
       "Name: event, dtype: int64"
      ]
     },
     "execution_count": 8,
     "metadata": {},
     "output_type": "execute_result"
    }
   ],
   "source": [
    "sel_sel_df.event.value_counts()"
   ]
  },
  {
   "cell_type": "code",
   "execution_count": 9,
   "metadata": {},
   "outputs": [
    {
     "data": {
      "text/plain": [
       "NaN                                                                                                                                                                    29011\n",
       "/                                                                                                                                                                       8454\n",
       "/demo.html                                                                                                                                                              2911\n",
       "/manual/                                                                                                                                                                1751\n",
       "/product.html                                                                                                                                                           1680\n",
       "/b-round.html                                                                                                                                                           1215\n",
       "/index.html                                                                                                                                                              959\n",
       "/about.html                                                                                                                                                              807\n",
       "/courses/                                                                                                                                                                605\n",
       "/manual/index.html                                                                                                                                                       595\n",
       "/courses/play.html                                                                                                                                                       571\n",
       "/courses/index.html                                                                                                                                                      177\n",
       "/manual/data_model.html                                                                                                                                                  158\n",
       "/manual/js_sdk.html                                                                                                                                                      157\n",
       "/manual/data_schema.html                                                                                                                                                 113\n",
       "/manual/event_ana.html                                                                                                                                                   105\n",
       "/tools/url_create.html                                                                                                                                                    94\n",
       "/manual/android_sdk.html                                                                                                                                                  89\n",
       "/manual/vtrack_intro.html                                                                                                                                                 89\n",
       "/manual/user_identify.html                                                                                                                                                77\n",
       "/manual/eb_case.html                                                                                                                                                      75\n",
       "/manual/ios_sdk.html                                                                                                                                                      73\n",
       "/manual/use_steps.html                                                                                                                                                    71\n",
       "/manual/data_import.html                                                                                                                                                  71\n",
       "/tools/code_auto/                                                                                                                                                         62\n",
       "/manual/user_segmentation.html                                                                                                                                            50\n",
       "/manual/java_sdk.html                                                                                                                                                     50\n",
       "/manual/funnel.html                                                                                                                                                       47\n",
       "/manual/retention.html                                                                                                                                                    46\n",
       "/manual/query.html                                                                                                                                                        41\n",
       "                                                                                                                                                                       ...  \n",
       "/D:/x-certificate!/%E7%94%A8%E6%88%B7%E8%A1%8C%E4%B8%BA%E5%88%86%E6%9E%90/Sensors%20Analytics%20%E4%BD%BF%E7%94%A8%E6%89%8B%E5%86%8C/changelog.html                        1\n",
       "/D:/x-certificate!/Sensors%20Analytics%20%E4%BD%BF%E7%94%A8%E6%89%8B%E5%86%8C/Sensors%20Analytics%20%E4%BD%BF%E7%94%A8%E6%89%8B%E5%86%8C/ios_sdk_faq.html                  1\n",
       "/D:/x-certificate!/Sensors%20Analytics%20%E4%BD%BF%E7%94%A8%E6%89%8B%E5%86%8C/Sensors%20Analytics%20%E4%BD%BF%E7%94%A8%E6%89%8B%E5%86%8C/api.html                          1\n",
       "/D:/x-certificate!/Sensors%20Analytics%20%E4%BD%BF%E7%94%A8%E6%89%8B%E5%86%8C/Sensors%20Analytics%20%E4%BD%BF%E7%94%A8%E6%89%8B%E5%86%8C/web_channel_tracking.html         1\n",
       "/manual/other_tools.html                                                                                                                                                   1\n",
       "/D:/x-certificate!/Sensors%20Analytics%20%E4%BD%BF%E7%94%A8%E6%89%8B%E5%86%8C/Sensors%20Analytics%20%E4%BD%BF%E7%94%A8%E6%89%8B%E5%86%8C/android_sdk_autotrack.html        1\n",
       "/D:/x-certificate!/Sensors%20Analytics%20%E4%BD%BF%E7%94%A8%E6%89%8B%E5%86%8C/Sensors%20Analytics%20%E4%BD%BF%E7%94%A8%E6%89%8B%E5%86%8C/user_identify.html                1\n",
       "/translate_c                                                                                                                                                               1\n",
       "/D:/x-certificate!/Sensors%20Analytics%20%E4%BD%BF%E7%94%A8%E6%89%8B%E5%86%8C/Sensors%20Analytics%20%E4%BD%BF%E7%94%A8%E6%89%8B%E5%86%8C/custom_user_segmenter.html        1\n",
       "/manual/b2b_homepage_case_data_feed.html                                                                                                                                   1\n",
       "/D:/x-certificate!/%E7%94%A8%E6%88%B7%E8%A1%8C%E4%B8%BA%E5%88%86%E6%9E%90/Sensors%20Analytics%20%E4%BD%BF%E7%94%A8%E6%89%8B%E5%86%8C/about.html                            1\n",
       "/manual/data_import_advanced.html                                                                                                                                          1\n",
       "/manual/about.html                                                                                                                                                         1\n",
       "/D:/x-certificate!/Sensors%20Analytics%20%E4%BD%BF%E7%94%A8%E6%89%8B%E5%86%8C/Sensors%20Analytics%20%E4%BD%BF%E7%94%A8%E6%89%8B%E5%86%8C/query.html                        1\n",
       "/D:/x-certificate!/Sensors%20Analytics%20%E4%BD%BF%E7%94%A8%E6%89%8B%E5%86%8C/Sensors%20Analytics%20%E4%BD%BF%E7%94%A8%E6%89%8B%E5%86%8C/apicloud_sdk.html                 1\n",
       "/manual/android_sdk_faq.html                                                                                                                                               1\n",
       "/D:/x-certificate!/Sensors%20Analytics%20%E4%BD%BF%E7%94%A8%E6%89%8B%E5%86%8C/Sensors%20Analytics%20%E4%BD%BF%E7%94%A8%E6%89%8B%E5%86%8C/event_ana.html                    1\n",
       "/D:/x-certificate!/Sensors%20Analytics%20%E4%BD%BF%E7%94%A8%E6%89%8B%E5%86%8C/Sensors%20Analytics%20%E4%BD%BF%E7%94%A8%E6%89%8B%E5%86%8C/android_sdk.html                  1\n",
       "/D:/x-certificate!/Sensors%20Analytics%20%E4%BD%BF%E7%94%A8%E6%89%8B%E5%86%8C/Sensors%20Analytics%20%E4%BD%BF%E7%94%A8%E6%89%8B%E5%86%8C/eb_case.html                      1\n",
       "/D:/x-certificate!/Sensors%20Analytics%20%E4%BD%BF%E7%94%A8%E6%89%8B%E5%86%8C/Sensors%20Analytics%20%E4%BD%BF%E7%94%A8%E6%89%8B%E5%86%8C/data_model.html                   1\n",
       "/manual/sampling_query.html                                                                                                                                                1\n",
       "/manual/ios_sdk_faq.html                                                                                                                                                   1\n",
       "/D:/x-certificate!/Sensors%20Analytics%20%E4%BD%BF%E7%94%A8%E6%89%8B%E5%86%8C/Sensors%20Analytics%20%E4%BD%BF%E7%94%A8%E6%89%8B%E5%86%8C/about.html                        1\n",
       "/D:/x-certificate!/Sensors%20Analytics%20%E4%BD%BF%E7%94%A8%E6%89%8B%E5%86%8C/Sensors%20Analytics%20%E4%BD%BF%E7%94%A8%E6%89%8B%E5%86%8C/android_sdk_faq.html              1\n",
       "/D:/x-certificate!/Sensors%20Analytics%20%E4%BD%BF%E7%94%A8%E6%89%8B%E5%86%8C/Sensors%20Analytics%20%E4%BD%BF%E7%94%A8%E6%89%8B%E5%86%8C/import_tool.html                  1\n",
       "/manual/basic_term.html                                                                                                                                                    1\n",
       "/D:/x-certificate!/Sensors%20Analytics%20%E4%BD%BF%E7%94%A8%E6%89%8B%E5%86%8C/Sensors%20Analytics%20%E4%BD%BF%E7%94%A8%E6%89%8B%E5%86%8C/ios_sdk_autotrack.html            1\n",
       "/manual/access_control_tool.html                                                                                                                                           1\n",
       "/D:/x-certificate!/Sensors%20Analytics%20%E4%BD%BF%E7%94%A8%E6%89%8B%E5%86%8C/Sensors%20Analytics%20%E4%BD%BF%E7%94%A8%E6%89%8B%E5%86%8C/accessories.html                  1\n",
       "/manual/c_sdk.html                                                                                                                                                         1\n",
       "Name: url_path, dtype: int64"
      ]
     },
     "execution_count": 9,
     "metadata": {},
     "output_type": "execute_result"
    }
   ],
   "source": [
    "#     for url_path\n",
    "sel_sel_df.url_path.value_counts(dropna = False)"
   ]
  },
  {
   "cell_type": "code",
   "execution_count": 10,
   "metadata": {
    "collapsed": true
   },
   "outputs": [],
   "source": [
    "sel_sel_df.url_path.fillna('None', inplace = True)\n",
    "\n",
    "sel_sel_df.loc[(sel_sel_df.url_path.apply(lambda x: ('/C:' in x) or ('/D:' in x))),'url_path'] = 'local_host'\n",
    "\n",
    "sel_sel_df.loc[(sel_sel_df.url_path.apply(lambda x: ('/tools/' in x))),'url_path'] = 'tool'\n",
    "\n",
    "sel_sel_df.loc[(sel_sel_df.url_path.apply(lambda x: ('/courses/play' in x))),'url_path'] = 'play_video'\n",
    "\n",
    "sel_sel_df.loc[(sel_sel_df.url_path.apply(lambda x: ('/courses/' in x))),'url_path'] = 'courses'\n",
    "\n",
    "sel_sel_df.loc[(sel_sel_df.url_path.apply(lambda x: ('/share/' in x))),'url_path'] = 'share'\n",
    "\n",
    "sel_sel_df.loc[(sel_sel_df.url_path.apply(lambda x: ('/about' in x))),'url_path'] = 'about'\n",
    "\n",
    "sel_sel_df.loc[(sel_sel_df.url_path.apply(lambda x: ('/index' in x))),'url_path'] = 'index'\n",
    "\n",
    "sel_sel_df.loc[(sel_sel_df.url_path.apply(lambda x: ('/b-round' in x))),'url_path'] = 'bround'\n",
    "\n",
    "sel_sel_df.loc[(sel_sel_df.url_path.apply(lambda x: ('/product' in x))),'url_path'] = 'product'\n",
    "\n",
    "sel_sel_df.loc[(sel_sel_df.url_path.apply(lambda x: ('/manual' in x) and ('html' in x))),'url_path'] = 'lookmanual'\n",
    "\n",
    "sel_sel_df.loc[(sel_sel_df.url_path.apply(lambda x: ('/manual' in x))),'url_path'] = 'manual'\n",
    "\n",
    "sel_sel_df.loc[(sel_sel_df.url_path.apply(lambda x: ('/demo' in x))),'url_path'] = 'demo'\n",
    "\n",
    "sel_sel_df.loc[(sel_sel_df.url_path.apply(lambda x: ('/translate_c' in x))),'url_path'] = 'translate_c'\n",
    "\n",
    "sel_sel_df.loc[(sel_sel_df.url_path.apply(lambda x: ('/' in x))),'url_path'] = 'homepage'\n",
    "\n",
    "sel_sel_df.rename(columns = {'url_path': 'current_page'}, inplace = True)"
   ]
  },
  {
   "cell_type": "code",
   "execution_count": 12,
   "metadata": {},
   "outputs": [
    {
     "data": {
      "text/plain": [
       "None           29011\n",
       "homepage        8454\n",
       "demo            2911\n",
       "lookmanual      2085\n",
       "manual          1751\n",
       "product         1680\n",
       "index           1554\n",
       "bround          1215\n",
       "about            808\n",
       "courses          782\n",
       "play_video       571\n",
       "tool             156\n",
       "local_host        45\n",
       "share             24\n",
       "translate_c        1\n",
       "Name: current_page, dtype: int64"
      ]
     },
     "execution_count": 12,
     "metadata": {},
     "output_type": "execute_result"
    }
   ],
   "source": [
    "sel_sel_df.current_page.value_counts(dropna = False)"
   ]
  },
  {
   "cell_type": "code",
   "execution_count": 13,
   "metadata": {
    "collapsed": true
   },
   "outputs": [],
   "source": [
    "# for pageUrl\n",
    "\n",
    "# sel_sel_df.pageUrl.value_counts(dropna = False)\n",
    "# according to doc from sensor, it's same with current_page\n",
    "# deleting it\n",
    "sel_sel_df.drop(labels = 'pageUrl', axis = 1, inplace = True)"
   ]
  },
  {
   "cell_type": "code",
   "execution_count": 15,
   "metadata": {
    "collapsed": true
   },
   "outputs": [],
   "source": [
    "# for page\n",
    "\n",
    "sel_sel_df.page.value_counts(dropna = False)\n",
    "\n",
    "sel_sel_df.rename(columns = {'page':'btnClick_page'},inplace = True)\n",
    "\n",
    "sel_sel_df.btnClick_page.fillna('None',inplace = True)\n",
    "\n",
    "#     for from_url\n",
    "\n",
    "sel_sel_df.from_url.fillna('None',inplace = True)\n",
    "\n",
    "sel_sel_df.rename(columns = {'from_url': 'url_to_submit'}, inplace = True)"
   ]
  },
  {
   "cell_type": "code",
   "execution_count": 16,
   "metadata": {},
   "outputs": [
    {
     "data": {
      "text/plain": [
       "https://www.sensorsdata.cn/                                                                                                                                                                                                                                                                                                         11487\n",
       "NaN                                                                                                                                                                                                                                                                                                                                  8392\n",
       "https://www.sensorsdata.cn/?utm_source=baidu&utm_medium=cpc&utm_term=%E7%A5%9E%E7%AD%96&utm_content=%E5%93%81%E7%89%8C%2D%E7%A5%9E%E7%AD%96&utm_campaign=%E5%93%81%E7%89%8C%E8%AF%8D                                                                                                                                                 3589\n",
       "https://www.sensorsdata.cn/?utm_source=baidu&utm_medium=cpc&utm_term=%E7%94%A8%E6%88%B7%E7%94%BB%E5%83%8F&utm_content=%E9%80%9A%E7%94%A8%2D%E7%94%A8%E6%88%B7%E7%94%BB%E5%83%8F&utm_campaign=%E9%80%9A%E7%94%A8%E8%AF%8D                                                                                                             3396\n",
       "https://sensorsdata.cn/                                                                                                                                                                                                                                                                                                              2968\n",
       "https://www.sensorsdata.cn/?utm_source=baidu&utm_medium=cpc&utm_term=%E7%A5%9E%E7%AD%96%E6%95%B0%E6%8D%AE&utm_content=%E5%93%81%E7%89%8C%2D%E7%A5%9E%E7%AD%96&utm_campaign=%E5%93%81%E7%89%8C%E8%AF%8D                                                                                                                               1651\n",
       "https://www.sensorsdata.cn/demo.html                                                                                                                                                                                                                                                                                                 1203\n",
       "https://www.sensorsdata.cn/?utm_source=baidu&utm_medium=mfeed&utm_term=%E9%A6%96%E9%A1%B5-%E9%80%9A%E7%94%A8%E8%AF%8D-%E4%B8%89%E5%9B%BE-%E5%9B%BE1&utm_content=%E9%80%9A%E7%94%A8%E8%AF%8D-%E4%B8%89%E5%9B%BE&utm_campaign=%E9%A6%96%E9%A1%B5                                                                                        698\n",
       "https://www.sensorsdata.cn/?utm_source=sogou&utm_medium=mcpc&utm_term=%e6%95%b0%e6%8d%ae%e5%88%86%e6%9e%90&utm_content=%e9%80%9a%e7%94%a8-%e6%95%b0%e6%8d%ae%e5%88%86%e6%9e%90&utm_campaign=S-%e9%80%9a%e7%94%a8%e8%af%8d                                                                                                             679\n",
       "https://www.sensorsdata.cn/index.html                                                                                                                                                                                                                                                                                                 649\n",
       "https://www.sensorsdata.cn/?utm_source=baidu&utm_medium=cpc&utm_term=%E7%94%A8%E6%88%B7%E5%88%86%E6%9E%90&utm_content=%E9%80%9A%E7%94%A8%2D%E7%94%A8%E6%88%B7%E5%88%86%E6%9E%90&utm_campaign=%E9%80%9A%E7%94%A8%E8%AF%8D                                                                                                              554\n",
       "https://www.sensorsdata.cn/?utm_source=baidu&utm_medium=cpc&utm_term=%E7%94%B5%E5%AD%90%E5%95%86%E5%8A%A1%E6%95%B0%E6%8D%AE&utm_content=%E9%80%9A%E7%94%A8%2D%E7%94%B5%E5%95%86%E8%BF%90%E8%90%A5&utm_campaign=%E9%80%9A%E7%94%A8%E8%AF%8D                                                                                            405\n",
       "https://www.sensorsdata.cn/?utm_source=baidu&utm_medium=cpc&utm_term=%E5%A4%A7%E6%95%B0%E6%8D%AE%E5%88%86%E6%9E%90&utm_content=%E9%80%9A%E7%94%A8%2D%E6%95%B0%E6%8D%AE%E5%88%86%E6%9E%90&utm_campaign=%E9%80%9A%E7%94%A8%E8%AF%8D                                                                                                     400\n",
       "https://www.sensorsdata.cn/?utm_source=baidu&utm_medium=cpc&utm_term=%E7%A5%9E%E7%AD%96%E5%88%86%E6%9E%90&utm_content=%E5%93%81%E7%89%8C%2D%E7%A5%9E%E7%AD%96&utm_campaign=%E5%93%81%E7%89%8C%E8%AF%8D                                                                                                                                362\n",
       "https://www.sensorsdata.cn/?utm_source=baidu&utm_medium=cpc&utm_term=%E7%BD%91%E7%AB%99%E6%95%B0%E6%8D%AE%E7%BB%9F%E8%AE%A1&utm_content=%E9%80%9A%E7%94%A8%2D%E6%95%B0%E6%8D%AE%E7%BB%9F%E8%AE%A1&utm_campaign=%E9%80%9A%E7%94%A8%E8%AF%8D                                                                                            335\n",
       "https://www.sensorsdata.cn/?utm_source=baidu&utm_medium=cpc&utm_term=%E7%BD%91%E7%AB%99%E8%BF%90%E8%90%A5%E6%95%B0%E6%8D%AE%E5%88%86%E6%9E%90&utm_content=%E9%80%9A%E7%94%A8%2D%E6%95%B0%E6%8D%AE%E5%88%86%E6%9E%90%2D%E8%BF%90%E8%90%A5&utm_campaign=%E9%80%9A%E7%94%A8%E8%AF%8D                                                     318\n",
       "https://sensorsdata.cn/demo.html                                                                                                                                                                                                                                                                                                      303\n",
       "https://www.sensorsdata.cn/?utm_source=baidu&utm_medium=cpc&utm_term=%E6%97%85%E6%B8%B8%E5%A4%A7%E6%95%B0%E6%8D%AE&utm_content=%E9%80%9A%E7%94%A8%2D%E5%A4%A7%E6%95%B0%E6%8D%AE%2D%E8%A1%8C%E4%B8%9A&utm_campaign=%E9%80%9A%E7%94%A8%E8%AF%8D                                                                                         300\n",
       "https://www.sensorsdata.cn/?utm_source=baidu&utm_medium=cpc&utm_term=app%E6%95%B0%E6%8D%AE&utm_content=%E9%80%9A%E7%94%A8%2DAPP%E8%BF%90%E8%90%A5&utm_campaign=%E9%80%9A%E7%94%A8%E8%AF%8D                                                                                                                                            272\n",
       "https://www.sensorsdata.cn/?utm_source=baidu&utm_medium=cpc&utm_term=%E4%BA%A7%E5%93%81%E6%95%B0%E6%8D%AE%E5%88%86%E6%9E%90&utm_content=%E9%80%9A%E7%94%A8%2D%E6%95%B0%E6%8D%AE%E5%88%86%E6%9E%90&utm_campaign=%E9%80%9A%E7%94%A8%E8%AF%8D                                                                                            254\n",
       "https://www.sensorsdata.cn/?utm_source=baidu&utm_medium=cpc&utm_term=%E6%95%B0%E6%8D%AE%E5%88%86%E6%9E%90&utm_content=%E9%80%9A%E7%94%A8%2D%E6%95%B0%E6%8D%AE%E5%88%86%E6%9E%90&utm_campaign=%E9%80%9A%E7%94%A8%E8%AF%8D                                                                                                              245\n",
       "https://sensorsdata.cn/index.html                                                                                                                                                                                                                                                                                                     230\n",
       "https://www.sensorsdata.cn/product.html                                                                                                                                                                                                                                                                                               222\n",
       "http://localhost:8080/                                                                                                                                                                                                                                                                                                                214\n",
       "https://www.sensorsdata.cn/?utm_source=baidu&utm_medium=cpc&utm_term=%E6%95%B0%E6%8D%AE%E5%88%86%E6%9E%90%E7%B3%BB%E7%BB%9F&utm_content=%E9%80%9A%E7%94%A8%2D%E6%95%B0%E6%8D%AE%E5%88%86%E6%9E%90%2D%E4%BA%A7%E5%93%81&utm_campaign=%E9%80%9A%E7%94%A8%E8%AF%8D                                                                       213\n",
       "https://www.sensorsdata.cn/?utm_source=baidu&utm_medium=cpc&utm_term=%E7%94%A8%E6%88%B7%E7%94%BB%E5%83%8F%E5%88%86%E6%9E%90&utm_content=%E9%80%9A%E7%94%A8%2D%E7%94%A8%E6%88%B7%E7%94%BB%E5%83%8F%2D%E4%BA%A7%E5%93%81&utm_campaign=%E9%80%9A%E7%94%A8%E8%AF%8D                                                                       204\n",
       "https://www.sensorsdata.cn/?utm_source=baidu&utm_medium=cpc&utm_term=%E8%81%9A%E7%B1%BB%E5%88%86%E6%9E%90&utm_content=%E9%80%9A%E7%94%A8%2D%E6%95%B0%E6%8D%AE%E5%88%86%E6%9E%90&utm_campaign=%E9%80%9A%E7%94%A8%E8%AF%8D                                                                                                              198\n",
       "https://www.sensorsdata.cn/?utm_source=baidu&utm_medium=cpc&utm_term=%E5%AE%A2%E6%88%B7%E7%94%BB%E5%83%8F&utm_content=%E9%80%9A%E7%94%A8%2D%E7%94%A8%E6%88%B7%E7%94%BB%E5%83%8F&utm_campaign=%E9%80%9A%E7%94%A8%E8%AF%8D                                                                                                              195\n",
       "https://www.sensorsdata.cn/?utm_source=baidu&utm_medium=cpc&utm_term=%E6%97%A5%E5%BF%97%E5%88%86%E6%9E%90%E7%B3%BB%E7%BB%9F&utm_content=%E9%80%9A%E7%94%A8%2D%E6%95%B0%E6%8D%AE%E7%B3%BB%E7%BB%9F&utm_campaign=%E9%80%9A%E7%94%A8%E8%AF%8D                                                                                            193\n",
       "https://www.sensorsdata.cn/?utm_source=baidu&utm_medium=cpc&utm_term=app%E5%88%86%E6%9E%90&utm_content=%E9%80%9A%E7%94%A8%2DAPP%E8%BF%90%E8%90%A5&utm_campaign=%E9%80%9A%E7%94%A8%E8%AF%8D                                                                                                                                            186\n",
       "                                                                                                                                                                                                                                                                                                                                    ...  \n",
       "https://www.sensorsdata.cn/?utm_source=baidu&utm_medium=cpc&utm_term=%E7%94%A8%E6%88%B7%E7%94%BB%E5%83%8F%20%E5%A4%A7%E6%95%B0%E6%8D%AE&utm_content=%E9%80%9A%E7%94%A8-%E7%94%A8%E6%88%B7%E7%94%BB%E5%83%8F-%E5%8A%9F%E8%83%BD&utm_campaign=%E9%80%9A%E7%94%A8%E8%AF%8D                                                                 1\n",
       "https://www.sensorsdata.cn/?utm_source=baidu&utm_medium=cpc&utm_term=%E6%B8%B8%E6%88%8F%E6%95%B0%E6%8D%AE%E5%88%86%E6%9E%90&utm_content=%E9%80%9A%E7%94%A8-%E6%95%B0%E6%8D%AE%E5%88%86%E6%9E%90-%E8%A1%8C%E4%B8%9A&utm_campaign=%E9%80%9A%E7%94%A8%E8%AF%8D                                                                             1\n",
       "https://www.sensorsdata.cn/?utm_source=baidu&utm_medium=cpc&utm_term=%E6%B8%B8%E6%88%8F%E7%95%99%E5%AD%98&utm_content=%E9%80%9A%E7%94%A8-%E7%94%A8%E6%88%B7%E7%95%99%E5%AD%98-%E8%A1%8C%E4%B8%9A&utm_campaign=%E9%80%9A%E7%94%A8%E8%AF%8D                                                                                               1\n",
       "https://www.sensorsdata.cn/?utm_source=sogou&utm_medium=mcpc&utm_term=%e6%95%b0%e6%8d%ae%e5%88%86%e6%9e%90%e6%a8%a1%e5%9e%8b&utm_content=%e9%80%9a%e7%94%a8-%e6%95%b0%e6%8d%ae%e5%88%86%e6%9e%90-%e5%85%b6%e4%bb%96&utm_campaign=S-%e9%80%9a%e7%94%a8%e8%af%8d                                                                          1\n",
       "https://www.sensorsdata.cn/?utm_source=baidu&utm_medium=cpc&utm_term=%E6%89%8B%E6%B8%B8%E7%95%99%E5%AD%98%E7%8E%87&utm_content=%E9%80%9A%E7%94%A8-%E7%94%A8%E6%88%B7%E7%95%99%E5%AD%98-%E8%A1%8C%E4%B8%9A&utm_campaign=%E9%80%9A%E7%94%A8%E8%AF%8D                                                                                      1\n",
       "https://www.sensorsdata.cn/?utm_source=baidu&utm_medium=mcpc&utm_campaign=%e7%a5%9e%e7%ad%96-%e7%a7%bb%e5%8a%a8%e6%8e%a8%e5%b9%bf&utm_content=%e9%80%9a%e7%94%a8%e8%af%8d-M&utm_term=%e7%94%a8%e6%88%b7%e6%95%b0%e6%8d%ae%e5%88%86%e6%9e%90                                                                                             1\n",
       "https://www.sensorsdata.cn/?utm_source=baidu&utm_medium=cpc&utm_term=%E7%BD%91%E7%AB%99%E8%BF%90%E8%90%A5%20%E6%95%B0%E6%8D%AE%E5%88%86%E6%9E%90&utm_content=%E9%80%9A%E7%94%A8-%E6%95%B0%E6%8D%AE%E5%88%86%E6%9E%90-%E8%BF%90%E8%90%A5&utm_campaign=%E9%80%9A%E7%94%A8%E8%AF%8D                                                        1\n",
       "https://www.sensorsdata.cn/?utm_source=baidu&utm_medium=cpc&utm_term=%E6%95%B0%E6%8D%AE%E5%A4%84%E7%90%86&utm_content=%E9%80%9A%E7%94%A8-%E6%95%B0%E6%8D%AE%E5%A4%84%E7%90%86&utm_campaign=%E9%80%9A%E7%94%A8%E8%AF%8D                                                                                                                  1\n",
       "https://www.sensorsdata.cn/?utm_source=baidu&utm_medium=cpc&utm_term=%E5%A4%9A%E7%BB%B4%E5%88%86%E6%9E%90&utm_content=%E9%80%9A%E7%94%A8-%E5%A4%9A%E7%BB%B4%E5%88%86%E6%9E%90&utm_campaign=%E9%80%9A%E7%94%A8%E8%AF%8D                                                                                                                  1\n",
       "https://www.sensorsdata.cn/?utm_source=baidu&utm_medium=cpc&utm_term=%E7%A5%9E%E7%AD%96%E5%88%86%E6%9E%90&utm_content=%E5%93%81%E7%89%8C-%E7%A5%9E%E7%AD%96&utm_campaign=%E5%93%81%E7%89%8C%E8%AF%8D                                                                                                                                    1\n",
       "https://www.sensorsdata.cn/?utm_source=baidu&utm_medium=cpc&utm_term=%E6%95%B0%E6%8D%AE%E5%88%86%E6%9E%90%E7%B3%BB%E7%BB%9F&utm_content=%E9%80%9A%E7%94%A8-%E6%95%B0%E6%8D%AE%E5%88%86%E6%9E%90-%E4%BA%A7%E5%93%81&utm_campaign=%E9%80%9A%E7%94%A8%E8%AF%8D                                                                             1\n",
       "https://www.sensorsdata.cn/?utm_source=sogou&utm_medium=mcpc&utm_term=%e5%a4%a7%e6%95%b0%e6%8d%ae%e7%ae%a1%e7%90%86&utm_content=%e9%80%9a%e7%94%a8-%e5%a4%a7%e6%95%b0%e6%8d%ae-%e5%85%b6%e4%bb%96&utm_campaign=S-%e9%80%9a%e7%94%a8%e8%af%8d                                                                                            1\n",
       "https://www.sensorsdata.cn/?utm_source=baidu&utm_medium=cpc&utm_term=%E7%94%A8%E6%88%B7%E8%A1%8C%E4%B8%BA%E6%95%B0%E6%8D%AE&utm_content=%E9%80%9A%E7%94%A8-%E7%94%A8%E6%88%B7%E8%A1%8C%E4%B8%BA%E5%88%86%E6%9E%90&utm_campaign=%E9%80%9A%E7%94%A8%E8%AF%8D                                                                              1\n",
       "https://www.sensorsdata.cn/?utm_source=baidu&utm_medium=cpc&utm_term=%E5%9C%A8%E7%BA%BF%E6%95%B0%E6%8D%AE%E5%88%86%E6%9E%90%E5%B7%A5%E5%85%B7&utm_content=%E9%80%9A%E7%94%A8-%E6%95%B0%E6%8D%AE%E5%88%86%E6%9E%90-%E4%BA%A7%E5%93%81&utm_campaign=%E9%80%9A%E7%94%A8%E8%AF%8D                                                           1\n",
       "https://www.sensorsdata.cn/?utm_source=baidu&utm_medium=cpc&utm_term=%E6%95%B0%E6%8D%AE%E5%8C%96%E8%BF%90%E8%90%A5&utm_content=%E9%80%9A%E7%94%A8-%E6%95%B0%E6%8D%AE%E8%BF%90%E8%90%A5&utm_campaign=%E9%80%9A%E7%94%A8%E8%AF%8D                                                                                                         1\n",
       "https://www.sensorsdata.cn/?utm_source=baidu&utm_medium=cpc&utm_term=%E6%B8%B8%E6%88%8F%E8%BF%90%E8%90%A5%E6%95%B0%E6%8D%AE%E5%88%86%E6%9E%90&utm_content=%E9%80%9A%E7%94%A8-%E6%95%B0%E6%8D%AE%E5%88%86%E6%9E%90-%E8%A1%8C%E4%B8%9A&utm_campaign=%E9%80%9A%E7%94%A8%E8%AF%8D                                                           1\n",
       "https://www.sensorsdata.cn/?utm_source=baidu&utm_medium=cpc&utm_term=%E5%A4%A7%E6%95%B0%E6%8D%AE%E7%94%A8%E6%88%B7%E7%94%BB%E5%83%8F&utm_content=%E9%80%9A%E7%94%A8-%E7%94%A8%E6%88%B7%E7%94%BB%E5%83%8F-%E8%A1%8C%E4%B8%9A&utm_campaign=%E9%80%9A%E7%94%A8%E8%AF%8D                                                                    1\n",
       "https://www.sensorsdata.cn/?utm_source=baidu&utm_medium=mcpc&utm_campaign=%e7%a5%9e%e7%ad%96-%e7%a7%bb%e5%8a%a8%e6%8e%a8%e5%b9%bf&utm_content=%e9%80%9a%e7%94%a8%e8%af%8d-M&utm_term=%e7%94%a8%e6%88%b7%e7%94%bb%e5%83%8f#%7Csrc_%E5%AE%A2%E6%9C%8D%E8%87%AA%E7%94%BB%E5%83%8F%7Csa_tb&word=%E7%94%A8%E6%88%B7%E7%94%BB%E5%83%8F        1\n",
       "https://www.sensorsdata.cn/share/share.html?utm_campaign=jumei-cluster&utm_medium=default&utm_source=xiangc                                                                                                                                                                                                                             1\n",
       "https://www.sensorsdata.cn/?utm_source=baidu&utm_medium=cpc&utm_term=%E7%94%B5%E5%95%86%E8%BF%90%E8%90%A5%E6%95%B0%E6%8D%AE%E5%88%86%E6%9E%90&utm_content=%E9%80%9A%E7%94%A8-%E6%95%B0%E6%8D%AE%E5%88%86%E6%9E%90-%E7%94%B5%E5%95%86&utm_campaign=%E9%80%9A%E7%94%A8%E8%AF%8D                                                           1\n",
       "https://www.sensorsdata.cn/?utm_source=baidu&utm_medium=cpc&utm_term=%E7%94%A8%E6%88%B7%E5%88%86%E6%9E%90&utm_content=%E9%80%9A%E7%94%A8-%E7%94%A8%E6%88%B7%E5%88%86%E6%9E%90&utm_campaign=%E9%80%9A%E7%94%A8%E8%AF%8D                                                                                                                  1\n",
       "https://www.sensorsdata.cn/?utm_source=baidu&utm_medium=mcpc&utm_term=%E6%95%B0%E6%8D%AE%E5%A4%84%E7%90%86&utm_content=%E9%80%9A%E7%94%A8-%E6%95%B0%E6%8D%AE%E5%A4%84%E7%90%86&utm_campaign=%E9%80%9A%E7%94%A8%E8%AF%8D                                                                                                                 1\n",
       "https://www.sensorsdata.cn/?utm_source=baidu&utm_medium=cpc&utm_term=%E6%95%B0%E6%8D%AE%E5%88%86%E6%9E%90&utm_content=%E9%80%9A%E7%94%A8-%E6%95%B0%E6%8D%AE%E5%88%86%E6%9E%90&utm_campaign=%E9%80%9A%E7%94%A8%E8%AF%8D                                                                                                                  1\n",
       "https://www.sensorsdata.cn/?utm_source=baidu&utm_medium=cpc&utm_term=%E7%BD%91%E7%AB%99%E8%BF%90%E8%90%A5%E5%88%86%E6%9E%90&utm_content=%E9%80%9A%E7%94%A8-%E7%BD%91%E7%AB%99%E8%BF%90%E8%90%A5&utm_campaign=%E9%80%9A%E7%94%A8%E8%AF%8D                                                                                                1\n",
       "https://www.sensorsdata.cn/?utm_source=baidu&utm_medium=cpc&utm_term=%E7%94%B5%E5%95%86%E6%95%B0%E6%8D%AE%E5%88%86%E6%9E%90%E5%B7%A5%E5%85%B7&utm_content=%E9%80%9A%E7%94%A8-%E6%95%B0%E6%8D%AE%E5%88%86%E6%9E%90-%E4%BA%A7%E5%93%81&utm_campaign=%E9%80%9A%E7%94%A8%E8%AF%8D                                                           1\n",
       "https://www.sensorsdata.cn/?utm_source=baidu&utm_medium=cpc&utm_term=%E6%95%B0%E6%8D%AE%E6%8C%96%E6%8E%98&utm_content=%E9%80%9A%E7%94%A8-%E6%95%B0%E6%8D%AE%E5%A4%84%E7%90%86&utm_campaign=%E9%80%9A%E7%94%A8%E8%AF%8D                                                                                                                  1\n",
       "https://www.sensorsdata.cn/?utm_source=baidu&utm_medium=cpc&utm_term=%E6%95%B0%E6%8D%AE%E5%B1%95%E7%A4%BA%E5%B9%B3%E5%8F%B0&utm_content=%E9%80%9A%E7%94%A8-%E6%95%B0%E6%8D%AE%E8%BF%90%E8%90%A5-%E5%B9%B3%E5%8F%B0&utm_campaign=%E9%80%9A%E7%94%A8%E8%AF%8D                                                                             1\n",
       "https://www.sensorsdata.cn/?utm_source=baidu&utm_medium=mcpc&utm_campaign=%E7%A5%9E%E7%AD%96-%E7%A7%BB%E5%8A%A8%E6%8E%A8%E5%B9%BF&utm_content=%E9%80%9A%E7%94%A8%E8%AF%8D-M&utm_term=%E6%95%B0%E6%8D%AE%E5%88%86%E6%9E%90                                                                                                               1\n",
       "https://www.sensorsdata.cn/?utm_source=baidu&utm_medium=mcpc&utm_term=%E8%81%9A%E7%B1%BB%E5%88%86%E6%9E%90&utm_content=%E9%80%9A%E7%94%A8-%E6%95%B0%E6%8D%AE%E5%88%86%E6%9E%90&utm_campaign=%E9%80%9A%E7%94%A8%E8%AF%8D                                                                                                                 1\n",
       "https://www.sensorsdata.cn/?utm_source=baidu&utm_medium=cpc&utm_term=%E5%A4%A7%E6%95%B0%E6%8D%AE%E8%A7%A3%E5%86%B3%E6%96%B9%E6%A1%88&utm_content=%E9%80%9A%E7%94%A8-%E5%A4%A7%E6%95%B0%E6%8D%AE-%E6%96%B9%E6%A1%88&utm_campaign=%E9%80%9A%E7%94%A8%E8%AF%8D                                                                             1\n",
       "Name: session_page_url, dtype: int64"
      ]
     },
     "execution_count": 16,
     "metadata": {},
     "output_type": "execute_result"
    }
   ],
   "source": [
    "#     For session_page_url\n",
    "sel_sel_df.session_page_url.value_counts(dropna=False)"
   ]
  },
  {
   "cell_type": "code",
   "execution_count": 17,
   "metadata": {
    "collapsed": true
   },
   "outputs": [],
   "source": [
    "sel_sel_df.session_page_url.fillna('None', inplace = True)\n",
    "\n",
    "sel_sel_df.loc[(sel_sel_df.session_page_url.apply(lambda x: ('/translate_c' in x))),'session_page_url'] = 'translate_c'\n",
    "\n",
    "sel_sel_df.loc[(sel_sel_df.session_page_url.apply(lambda x: ('/demo' in x))),'session_page_url'] = 'demo'\n",
    "\n",
    "sel_sel_df[(sel_sel_df.session_page_url.apply(lambda x: '/manual' in x))].session_page_url.value_counts(dropna = False)\n",
    "\n",
    "sel_sel_df.loc[(sel_sel_df.session_page_url.apply(lambda x: ('/product' in x))),'session_page_url'] = 'product'\n",
    "\n",
    "sel_sel_df.loc[(sel_sel_df.session_page_url.apply(lambda x: ('/b-round' in x))),'session_page_url'] = 'bround'\n",
    "\n",
    "sel_sel_df.loc[(sel_sel_df.session_page_url.apply(lambda x: ('/index' in x))),'session_page_url'] = 'index'\n",
    "\n",
    "sel_sel_df.loc[(sel_sel_df.session_page_url.apply(lambda x: ('/about' in x))),'session_page_url'] = 'about'\n",
    "\n",
    "sel_sel_df.loc[(sel_sel_df.session_page_url.apply(lambda x: ('/share' in x))),'session_page_url'] = 'share'\n",
    "\n",
    "sel_sel_df.loc[(sel_sel_df.session_page_url.apply(lambda x: ('/courses/play' in x))),'session_page_url'] = 'play_video'\n",
    "\n",
    "sel_sel_df.loc[(sel_sel_df.session_page_url.apply(lambda x: ('/courses' in x))),'session_page_url'] = 'course'\n",
    "\n",
    "sel_sel_df.loc[(sel_sel_df.session_page_url.apply(lambda x: ('/local' in x) or ('/C' in x))),'session_page_url'] = 'local_host'\n",
    "\n",
    "sel_sel_df.loc[(sel_sel_df.session_page_url.apply(lambda x: 'utm' in x)),'session_page_url'] = 'homepage_utm'\n",
    "# sel_sel_df.loc[(sel_sel_df.session_page_url.apply(lambda x: 'homepage' in x)),'session_page_url'] = 'homepage_utm'\n",
    "\n",
    "sel_sel_df.loc[(sel_sel_df.session_page_url.apply(lambda x: 'ch=zhihu' in x)),'session_page_url'] = 'homepage_ch=zhihu'\n",
    "\n",
    "sel_sel_df.loc[(sel_sel_df.session_page_url.apply(lambda x: 'ch=demo' in x)),'session_page_url'] = 'homepage_ch=demo'\n",
    "\n",
    "sel_sel_df.loc[(sel_sel_df.session_page_url.apply(lambda x: 'ch=chiyuan' in x)),'session_page_url'] = 'homepage_ch=chiyuan'\n",
    "\n",
    "sel_sel_df.loc[(sel_sel_df.session_page_url.apply(lambda x: 'homepage_cch=itjuzi' in x)),'session_page_url'] = 'homepage_ch=itjuzi'\n",
    "\n",
    "sel_sel_df.loc[(sel_sel_df.session_page_url.apply(lambda x: 'ch=sangwenfeng' in x)),'session_page_url'] = 'homepage_ch=sangwenfeng'\n",
    "\n",
    "sel_sel_df.loc[(sel_sel_df.session_page_url.apply(lambda x: 'ch=36' in x)),'session_page_url'] = 'homepage_ch=36'\n",
    "\n",
    "sel_sel_df.loc[(sel_sel_df.session_page_url.apply(lambda x: 'ch=pedaily' in x)),'session_page_url'] = 'homepage_ch=pedaily'\n",
    "\n",
    "sel_sel_df.loc[(sel_sel_df.session_page_url.apply(lambda x: 'winzoom=1' in x)),'session_page_url'] = 'homepage_winzoom=1'\n",
    "\n",
    "sel_sel_df.loc[(sel_sel_df.session_page_url.apply(lambda x: 'from' in x)),'session_page_url'] = 'homepage_from'\n",
    "\n",
    "sel_sel_df.loc[(sel_sel_df.session_page_url.apply(lambda x: 'sensors' in x)),'session_page_url'] = 'homepage'"
   ]
  },
  {
   "cell_type": "code",
   "execution_count": 18,
   "metadata": {},
   "outputs": [
    {
     "data": {
      "text/plain": [
       "homepage_utm               23830\n",
       "homepage                   14479\n",
       "None                        8392\n",
       "demo                        1630\n",
       "index                        939\n",
       "course                       277\n",
       "product                      247\n",
       "play_video                   222\n",
       "local_host                   220\n",
       "homepage_ch=zhihu            219\n",
       "bround                       177\n",
       "homepage_ch=demo             149\n",
       "about                        144\n",
       "homepage_winzoom=1            32\n",
       "homepage_from                 29\n",
       "homepage_ch=chiyuan           25\n",
       "share                         15\n",
       "homepage_ch=36                12\n",
       "homepage_ch=pedaily            7\n",
       "homepage_ch=sangwenfeng        2\n",
       "translate_c                    1\n",
       "Name: session_page_url, dtype: int64"
      ]
     },
     "execution_count": 18,
     "metadata": {},
     "output_type": "execute_result"
    }
   ],
   "source": [
    "sel_sel_df.session_page_url.value_counts(dropna = False)"
   ]
  },
  {
   "cell_type": "code",
   "execution_count": 19,
   "metadata": {},
   "outputs": [
    {
     "data": {
      "text/plain": [
       "None                50910\n",
       "tools_url_create       73\n",
       "tools_code_auto        65\n",
       "Name: url_on_page_close, dtype: int64"
      ]
     },
     "execution_count": 19,
     "metadata": {},
     "output_type": "execute_result"
    }
   ],
   "source": [
    "#     url_path.1\n",
    "\n",
    "sel_sel_df['url_path.1'].value_counts(dropna = False)\n",
    "\n",
    "sel_sel_df[(sel_sel_df['url_path.1'].notnull())].project_name.value_counts(dropna = False)\n",
    "\n",
    "sel_sel_df.rename(columns = {'url_path.1' : 'url_on_page_close'}, inplace = True)\n",
    "\n",
    "sel_sel_df.url_on_page_close.fillna('None', inplace = True)\n",
    "\n",
    "sel_sel_df.loc[(sel_sel_df.url_on_page_close.apply(lambda x: 'url' in x)),'url_on_page_close'] = 'tools_url_create'\n",
    "\n",
    "sel_sel_df.loc[(sel_sel_df.url_on_page_close.apply(lambda x: 'code_auto' in x)),'url_on_page_close'] = 'tools_code_auto'\n",
    "\n",
    "sel_sel_df.url_on_page_close.value_counts(dropna = False)"
   ]
  },
  {
   "cell_type": "code",
   "execution_count": 21,
   "metadata": {},
   "outputs": [],
   "source": [
    "sel_sel_df.utm_source.value_counts(dropna = False)\n",
    "sel_sel_df.utm_source.fillna('None',inplace = True)\n",
    "sel_sel_df.loc[(sel_sel_df.utm_source.apply(lambda x: x not in ['baidu','sougo','google','wechat','None'])),'utm_source'] = 'others'"
   ]
  },
  {
   "cell_type": "code",
   "execution_count": 22,
   "metadata": {},
   "outputs": [
    {
     "data": {
      "text/plain": [
       "$pageview                22037\n",
       "btnClick                  9394\n",
       "index_leave               7115\n",
       "profile_set_once          6485\n",
       "demo_leave                2388\n",
       "about_leave                696\n",
       "courses_leave              628\n",
       "formSubmit                 535\n",
       "courses_play_leave         507\n",
       "click_send_cellphone       400\n",
       "verify_cellphone_code      372\n",
       "clickSubmit                353\n",
       "page_close                 138\n",
       "Name: event, dtype: int64"
      ]
     },
     "execution_count": 22,
     "metadata": {},
     "output_type": "execute_result"
    }
   ],
   "source": [
    "sel_sel_df[(sel_sel_df.utm_source.notnull())].event.value_counts(dropna = False)"
   ]
  },
  {
   "cell_type": "code",
   "execution_count": 23,
   "metadata": {},
   "outputs": [
    {
     "data": {
      "text/plain": [
       "baidu     24734\n",
       "None      23399\n",
       "others     2384\n",
       "wechat      276\n",
       "google      255\n",
       "Name: latest_utm_source, dtype: int64"
      ]
     },
     "execution_count": 23,
     "metadata": {},
     "output_type": "execute_result"
    }
   ],
   "source": [
    "sel_sel_df.latest_utm_source.value_counts(dropna = False)\n",
    "sel_sel_df.latest_utm_source.fillna('None',inplace = True)\n",
    "sel_sel_df.loc[(sel_sel_df.latest_utm_source.apply(lambda x: x not in ['baidu','sougo','google','wechat','None'])),'latest_utm_source'] = 'others'\n",
    "sel_sel_df.latest_utm_source.value_counts()"
   ]
  },
  {
   "cell_type": "code",
   "execution_count": 24,
   "metadata": {
    "collapsed": true
   },
   "outputs": [],
   "source": [
    "tmp_df = sel_sel_df"
   ]
  },
  {
   "cell_type": "markdown",
   "metadata": {},
   "source": [
    " # distinguish different user from the same distinct_id"
   ]
  },
  {
   "cell_type": "markdown",
   "metadata": {
    "collapsed": true
   },
   "source": [
    "    our goal is to distinguish different users who are willing to sign in from the same machine(distinct_id)"
   ]
  },
  {
   "cell_type": "code",
   "execution_count": 25,
   "metadata": {},
   "outputs": [
    {
     "name": "stderr",
     "output_type": "stream",
     "text": [
      "G:\\Anaconda2\\lib\\site-packages\\pandas\\core\\generic.py:2698: SettingWithCopyWarning: \n",
      "A value is trying to be set on a copy of a slice from a DataFrame.\n",
      "Try using .loc[row_indexer,col_indexer] = value instead\n",
      "\n",
      "See the caveats in the documentation: http://pandas.pydata.org/pandas-docs/stable/indexing.html#indexing-view-versus-copy\n",
      "  self[name] = value\n"
     ]
    },
    {
     "data": {
      "text/plain": [
       "8265"
      ]
     },
     "execution_count": 25,
     "metadata": {},
     "output_type": "execute_result"
    }
   ],
   "source": [
    "pattern = sel_sel_df.groupby(by = 'distinct_id').apply(lambda x: x.sort_values('Bj_timestamp'))\n",
    "\n",
    "pattern\n",
    "\n",
    "distinct_id = pattern.distinct_id.unique()\n",
    "\n",
    "len(distinct_id)\n",
    "\n",
    "last_row = None\n",
    "btn_list = list()\n",
    "for user in distinct_id:\n",
    "    user_sel_df = pattern[(pattern.distinct_id == user)]\n",
    "    for _, row in user_sel_df.iterrows():\n",
    "        if row.event == 'click_send_cellphone':\n",
    "            if last_row.event == 'btnClick':\n",
    "                btn_list.append(last_row['name'])\n",
    "            else:\n",
    "                btn_list.append(last_row.event)\n",
    "            break\n",
    "        else:\n",
    "            last_row = row\n",
    "    else:\n",
    "        btn_list.append('not_sign_in')\n",
    "\n",
    "sum(list(map((lambda x: 'not_sign_in' == x), btn_list)))\n",
    "\n",
    "pd.Series(btn_list).value_counts()\n",
    "\n",
    "sel_sel_df[(sel_sel_df.event == 'btnClick')]['name'].value_counts()\n",
    "\n",
    "sel_sel_df.distinct_id.nunique()\n",
    "\n",
    "#     from above, we find that the event just before click_send_cellphone is (clickBtn and name = 'request')\n",
    "\n",
    "# [isSuccess = False, True]\n",
    "num_submit = list()\n",
    "\n",
    "for user in distinct_id:\n",
    "    num_t = 0\n",
    "    num_f = 0\n",
    "    user_sel_df = pattern[(pattern.distinct_id == user)]\n",
    "    for _, row in user_sel_df.iterrows():\n",
    "        if row.event == 'formSubmit':\n",
    "            if row.isSuccess:\n",
    "                num_t += 1\n",
    "            else:\n",
    "                num_f += 1\n",
    "    else:\n",
    "        num_submit.append([num_t, num_f])\n",
    "\n",
    "mul_sumbit_index = list()\n",
    "for i,j in enumerate(num_submit):\n",
    "    if j[0] > 1:\n",
    "        mul_sumbit_index.append(i)\n",
    "\n",
    "mul_sumbit_index\n",
    "\n",
    "# for i in mul_sumbit_index:\n",
    "#     mul_submit_id.append(pattern['distinct_id'].unique()[i])\n",
    "# # mul_sumbit_id = pattern.index\n",
    "mul_submit_id = pattern['distinct_id'].unique()[mul_sumbit_index]\n",
    "\n",
    "mul_submit_id\n",
    "\n",
    "sel_sel_df[(sel_sel_df.distinct_id == '6a0abcb887ebfca8sel_df3825088cc9ebc4ba2afc74')\n",
    "       & (sel_sel_df.event == 'formSubmit')\n",
    "      ][['event','Bj_timestamp','name', 'isSuccess']]\n",
    "\n",
    "sel_sel_df[(sel_sel_df.distinct_id == '6a0abcb887ebfca8sel_df3825088cc9ebc4ba2afc74')][['event','Bj_timestamp','name', 'isSuccess']]\n",
    "\n",
    "sel_sel_df.loc[(sel_sel_df.distinct_id == '6a0abcb887ebfca8sel_df3825088cc9ebc4ba2afc74') \n",
    "       & (sel_sel_df.Bj_timestamp >= '2017-03-07 09:37:06'),'distinct_id'] = '6a0abcb887ebfca8sel_df3825088cc9ebc4ba2afc74_2'\n",
    "\n",
    "sel_sel_df[(sel_sel_df.distinct_id == '6a0abcb887ebfca8sel_df3825088cc9ebc4ba2afc74')][['event','Bj_timestamp','name', 'isSuccess']]\n",
    "\n",
    "sel_sel_df[(sel_sel_df.distinct_id == '6a0abcb887ebfca8sel_df3825088cc9ebc4ba2afc74_2')][['event','Bj_timestamp','name', 'isSuccess']]\n",
    "\n",
    "sel_sel_df[(sel_sel_df.distinct_id == '6a0abcb887ebfca8sel_df3825088cc9ebc4ba2afc74')].event.value_counts()\n",
    "\n",
    "sel_sel_df[(sel_sel_df.distinct_id == '6a0abcb887ebfca8sel_df3825088cc9ebc4ba2afc74_2')].event.value_counts()\n",
    "\n",
    "sel_sel_df.distinct_id.nunique()\n",
    "\n",
    "#     we find that this user don't set profile once, so we don't create profile for 6a0abcb887ebfca8sel_df3825088cc9ebc4ba2afc74_2\n",
    "\n",
    "sel_sel_df[(sel_sel_df.distinct_id == '7b0215cb110a50650cb3900532fb859ebdceeb9d') \n",
    "       & (sel_sel_df.event == 'formSubmit')\n",
    "      ][['event','Bj_timestamp','name', 'isSuccess']]\n",
    "\n",
    "sel_sel_df[(sel_sel_df.distinct_id == '7b0215cb110a50650cb3900532fb859ebdceeb9d')][['event','Bj_timestamp','name', 'isSuccess']]\n",
    "\n",
    "sel_sel_df.loc[(sel_sel_df.distinct_id == '7b0215cb110a50650cb3900532fb859ebdceeb9d') \n",
    "       & (sel_sel_df.Bj_timestamp >= '2017-03-09 08:20:54'),'distinct_id'] = '7b0215cb110a50650cb3900532fb859ebdceeb9d_2'\n",
    "\n",
    "sel_sel_df[(sel_sel_df.distinct_id == '7b0215cb110a50650cb3900532fb859ebdceeb9d')].event.value_counts()\n",
    "\n",
    "sel_sel_df[(sel_sel_df.distinct_id == '7b0215cb110a50650cb3900532fb859ebdceeb9d_2')].event.value_counts()\n",
    "\n",
    "add_pro = sel_sel_df[(sel_sel_df.distinct_id == '7b0215cb110a50650cb3900532fb859ebdceeb9d_2') & (sel_sel_df.event == 'profile_set_once')]\n",
    "add_pro.distinct_id = '7b0215cb110a50650cb3900532fb859ebdceeb9d'\n",
    "sel_sel_df = sel_sel_df.append(add_pro,ignore_index = True)\n",
    "\n",
    "sel_sel_df.distinct_id.nunique()\n",
    "\n",
    "sel_sel_df[(sel_sel_df.distinct_id == '95cd75560edb05c1a4e097da927a5c8301e6851c') \n",
    "       & (sel_sel_df.event == 'formSubmit')\n",
    "      ][['event','Bj_timestamp','name', 'isSuccess']]\n",
    "\n",
    "sel_sel_df[(sel_sel_df.distinct_id == '95cd75560edb05c1a4e097da927a5c8301e6851c')].date.value_counts()\n",
    "\n",
    "sel_sel_df.loc[(sel_sel_df.distinct_id == '95cd75560edb05c1a4e097da927a5c8301e6851c')\n",
    "      & (sel_sel_df.date == datetime.date(2017, 3, 7)), 'distinct_id'] = '95cd75560edb05c1a4e097da927a5c8301e6851c_2'\n",
    "\n",
    "sel_sel_df.distinct_id.nunique()\n",
    "\n",
    "sel_sel_df[(sel_sel_df.distinct_id == 'cc03b92cbfeebd715cd97f7f3d0cff31d96322a8') \n",
    "       & (sel_sel_df.event == 'formSubmit')\n",
    "      ][['event','Bj_timestamp','name', 'isSuccess']]\n",
    "\n",
    "sel_sel_df[(sel_sel_df.distinct_id == 'cc03b92cbfeebd715cd97f7f3d0cff31d96322a8')].date.value_counts()\n",
    "\n",
    "sel_sel_df.loc[((sel_sel_df.distinct_id == 'cc03b92cbfeebd715cd97f7f3d0cff31d96322a8')\n",
    "            & (sel_sel_df.Bj_timestamp >= '2017-03-08 04:24:12') \n",
    "          & (sel_sel_df.Bj_timestamp <= '2017-03-08 04:25:22')), 'distinct_id'] = 'cc03b92cbfeebd715cd97f7f3d0cff31d96322a8_2'\n",
    "\n",
    "sel_sel_df.loc[((sel_sel_df.distinct_id == 'cc03b92cbfeebd715cd97f7f3d0cff31d96322a8') \n",
    "            & (sel_sel_df.Bj_timestamp >= '2017-03-08 04:31:11') \n",
    "            & (sel_sel_df.Bj_timestamp <= '2017-03-08 08:30:46')), 'distinct_id']='cc03b92cbfeebd715cd97f7f3d0cff31d96322a8_3'\n",
    "\n",
    "sel_sel_df.loc[((sel_sel_df.distinct_id == 'cc03b92cbfeebd715cd97f7f3d0cff31d96322a8')\n",
    "            &(sel_sel_df.Bj_timestamp >= '2017-03-09 03:28:42')\n",
    "            & (sel_sel_df.Bj_timestamp <= '2017-03-09 03:34:42')), 'distinct_id']='cc03b92cbfeebd715cd97f7f3d0cff31d96322a8_4'\n",
    "\n",
    "sel_sel_df.loc[((sel_sel_df.distinct_id == 'cc03b92cbfeebd715cd97f7f3d0cff31d96322a8')\n",
    "            &(sel_sel_df.Bj_timestamp >= '2017-03-09 08:06:51') \n",
    "            & (sel_sel_df.Bj_timestamp <= '2017-03-10 08:48:35')), 'distinct_id']='cc03b92cbfeebd715cd97f7f3d0cff31d96322a8_5'\n",
    "\n",
    "sel_sel_df.distinct_id.nunique()"
   ]
  },
  {
   "cell_type": "code",
   "execution_count": 26,
   "metadata": {
    "scrolled": true
   },
   "outputs": [
    {
     "data": {
      "text/html": [
       "<div>\n",
       "<table border=\"1\" class=\"dataframe\">\n",
       "  <thead>\n",
       "    <tr style=\"text-align: right;\">\n",
       "      <th></th>\n",
       "      <th>btnClick_page</th>\n",
       "      <th>event</th>\n",
       "      <th>isSuccess</th>\n",
       "      <th>Bj_timestamp</th>\n",
       "      <th>name</th>\n",
       "    </tr>\n",
       "  </thead>\n",
       "  <tbody>\n",
       "    <tr>\n",
       "      <th>48963</th>\n",
       "      <td>None</td>\n",
       "      <td>click_send_cellphone</td>\n",
       "      <td>NaN</td>\n",
       "      <td>2017-03-12 01:20:29</td>\n",
       "      <td>NaN</td>\n",
       "    </tr>\n",
       "    <tr>\n",
       "      <th>48966</th>\n",
       "      <td>None</td>\n",
       "      <td>verify_cellphone_code</td>\n",
       "      <td>NaN</td>\n",
       "      <td>2017-03-12 01:20:41</td>\n",
       "      <td>NaN</td>\n",
       "    </tr>\n",
       "    <tr>\n",
       "      <th>48967</th>\n",
       "      <td>None</td>\n",
       "      <td>clickSubmit</td>\n",
       "      <td>NaN</td>\n",
       "      <td>2017-03-12 01:21:14</td>\n",
       "      <td>方*</td>\n",
       "    </tr>\n",
       "    <tr>\n",
       "      <th>48968</th>\n",
       "      <td>None</td>\n",
       "      <td>formSubmit</td>\n",
       "      <td>True</td>\n",
       "      <td>2017-03-12 01:21:14</td>\n",
       "      <td>方*</td>\n",
       "    </tr>\n",
       "    <tr>\n",
       "      <th>48969</th>\n",
       "      <td>index</td>\n",
       "      <td>btnClick</td>\n",
       "      <td>NaN</td>\n",
       "      <td>2017-03-12 01:21:51</td>\n",
       "      <td>request</td>\n",
       "    </tr>\n",
       "    <tr>\n",
       "      <th>48970</th>\n",
       "      <td>None</td>\n",
       "      <td>clickSubmit</td>\n",
       "      <td>NaN</td>\n",
       "      <td>2017-03-12 01:21:53</td>\n",
       "      <td>方*</td>\n",
       "    </tr>\n",
       "    <tr>\n",
       "      <th>48971</th>\n",
       "      <td>None</td>\n",
       "      <td>click_send_cellphone</td>\n",
       "      <td>NaN</td>\n",
       "      <td>2017-03-12 01:21:58</td>\n",
       "      <td>NaN</td>\n",
       "    </tr>\n",
       "    <tr>\n",
       "      <th>48972</th>\n",
       "      <td>None</td>\n",
       "      <td>verify_cellphone_code</td>\n",
       "      <td>NaN</td>\n",
       "      <td>2017-03-12 01:22:09</td>\n",
       "      <td>NaN</td>\n",
       "    </tr>\n",
       "    <tr>\n",
       "      <th>48973</th>\n",
       "      <td>None</td>\n",
       "      <td>clickSubmit</td>\n",
       "      <td>NaN</td>\n",
       "      <td>2017-03-12 01:22:11</td>\n",
       "      <td>方*</td>\n",
       "    </tr>\n",
       "    <tr>\n",
       "      <th>48979</th>\n",
       "      <td>None</td>\n",
       "      <td>clickSubmit</td>\n",
       "      <td>NaN</td>\n",
       "      <td>2017-03-12 01:24:34</td>\n",
       "      <td>方*</td>\n",
       "    </tr>\n",
       "    <tr>\n",
       "      <th>48980</th>\n",
       "      <td>None</td>\n",
       "      <td>clickSubmit</td>\n",
       "      <td>NaN</td>\n",
       "      <td>2017-03-12 01:24:38</td>\n",
       "      <td>方*</td>\n",
       "    </tr>\n",
       "    <tr>\n",
       "      <th>48981</th>\n",
       "      <td>index</td>\n",
       "      <td>btnClick</td>\n",
       "      <td>NaN</td>\n",
       "      <td>2017-03-12 01:24:49</td>\n",
       "      <td>request</td>\n",
       "    </tr>\n",
       "    <tr>\n",
       "      <th>48982</th>\n",
       "      <td>index</td>\n",
       "      <td>btnClick</td>\n",
       "      <td>NaN</td>\n",
       "      <td>2017-03-12 01:24:54</td>\n",
       "      <td>request</td>\n",
       "    </tr>\n",
       "    <tr>\n",
       "      <th>48983</th>\n",
       "      <td>None</td>\n",
       "      <td>clickSubmit</td>\n",
       "      <td>NaN</td>\n",
       "      <td>2017-03-12 01:24:56</td>\n",
       "      <td>方*</td>\n",
       "    </tr>\n",
       "    <tr>\n",
       "      <th>48984</th>\n",
       "      <td>index</td>\n",
       "      <td>btnClick</td>\n",
       "      <td>NaN</td>\n",
       "      <td>2017-03-12 01:25:02</td>\n",
       "      <td>blog</td>\n",
       "    </tr>\n",
       "    <tr>\n",
       "      <th>48985</th>\n",
       "      <td>None</td>\n",
       "      <td>index_leave</td>\n",
       "      <td>NaN</td>\n",
       "      <td>2017-03-12 01:25:02</td>\n",
       "      <td>NaN</td>\n",
       "    </tr>\n",
       "    <tr>\n",
       "      <th>48986</th>\n",
       "      <td>None</td>\n",
       "      <td>$pageview</td>\n",
       "      <td>NaN</td>\n",
       "      <td>2017-03-12 01:25:17</td>\n",
       "      <td>NaN</td>\n",
       "    </tr>\n",
       "    <tr>\n",
       "      <th>48987</th>\n",
       "      <td>index</td>\n",
       "      <td>btnClick</td>\n",
       "      <td>NaN</td>\n",
       "      <td>2017-03-12 01:25:23</td>\n",
       "      <td>viedo</td>\n",
       "    </tr>\n",
       "    <tr>\n",
       "      <th>48988</th>\n",
       "      <td>None</td>\n",
       "      <td>index_leave</td>\n",
       "      <td>NaN</td>\n",
       "      <td>2017-03-12 01:25:23</td>\n",
       "      <td>NaN</td>\n",
       "    </tr>\n",
       "    <tr>\n",
       "      <th>48989</th>\n",
       "      <td>None</td>\n",
       "      <td>$pageview</td>\n",
       "      <td>NaN</td>\n",
       "      <td>2017-03-12 01:25:24</td>\n",
       "      <td>NaN</td>\n",
       "    </tr>\n",
       "    <tr>\n",
       "      <th>48990</th>\n",
       "      <td>courses_index</td>\n",
       "      <td>btnClick</td>\n",
       "      <td>NaN</td>\n",
       "      <td>2017-03-12 01:25:33</td>\n",
       "      <td>demo</td>\n",
       "    </tr>\n",
       "    <tr>\n",
       "      <th>48991</th>\n",
       "      <td>None</td>\n",
       "      <td>courses_leave</td>\n",
       "      <td>NaN</td>\n",
       "      <td>2017-03-12 01:25:33</td>\n",
       "      <td>NaN</td>\n",
       "    </tr>\n",
       "    <tr>\n",
       "      <th>48992</th>\n",
       "      <td>None</td>\n",
       "      <td>$pageview</td>\n",
       "      <td>NaN</td>\n",
       "      <td>2017-03-12 01:25:35</td>\n",
       "      <td>NaN</td>\n",
       "    </tr>\n",
       "    <tr>\n",
       "      <th>48995</th>\n",
       "      <td>None</td>\n",
       "      <td>demo_leave</td>\n",
       "      <td>NaN</td>\n",
       "      <td>2017-03-12 01:26:31</td>\n",
       "      <td>NaN</td>\n",
       "    </tr>\n",
       "    <tr>\n",
       "      <th>49890</th>\n",
       "      <td>index</td>\n",
       "      <td>btnClick</td>\n",
       "      <td>NaN</td>\n",
       "      <td>2017-03-12 07:06:55</td>\n",
       "      <td>request</td>\n",
       "    </tr>\n",
       "    <tr>\n",
       "      <th>49891</th>\n",
       "      <td>None</td>\n",
       "      <td>click_send_cellphone</td>\n",
       "      <td>NaN</td>\n",
       "      <td>2017-03-12 07:07:25</td>\n",
       "      <td>NaN</td>\n",
       "    </tr>\n",
       "    <tr>\n",
       "      <th>49892</th>\n",
       "      <td>None</td>\n",
       "      <td>verify_cellphone_code</td>\n",
       "      <td>NaN</td>\n",
       "      <td>2017-03-12 07:07:41</td>\n",
       "      <td>NaN</td>\n",
       "    </tr>\n",
       "    <tr>\n",
       "      <th>49893</th>\n",
       "      <td>None</td>\n",
       "      <td>clickSubmit</td>\n",
       "      <td>NaN</td>\n",
       "      <td>2017-03-12 07:07:58</td>\n",
       "      <td>方***</td>\n",
       "    </tr>\n",
       "    <tr>\n",
       "      <th>49894</th>\n",
       "      <td>None</td>\n",
       "      <td>formSubmit</td>\n",
       "      <td>True</td>\n",
       "      <td>2017-03-12 07:07:58</td>\n",
       "      <td>方***</td>\n",
       "    </tr>\n",
       "  </tbody>\n",
       "</table>\n",
       "</div>"
      ],
      "text/plain": [
       "       btnClick_page                  event isSuccess        Bj_timestamp  \\\n",
       "48963           None   click_send_cellphone       NaN 2017-03-12 01:20:29   \n",
       "48966           None  verify_cellphone_code       NaN 2017-03-12 01:20:41   \n",
       "48967           None            clickSubmit       NaN 2017-03-12 01:21:14   \n",
       "48968           None             formSubmit      True 2017-03-12 01:21:14   \n",
       "48969          index               btnClick       NaN 2017-03-12 01:21:51   \n",
       "48970           None            clickSubmit       NaN 2017-03-12 01:21:53   \n",
       "48971           None   click_send_cellphone       NaN 2017-03-12 01:21:58   \n",
       "48972           None  verify_cellphone_code       NaN 2017-03-12 01:22:09   \n",
       "48973           None            clickSubmit       NaN 2017-03-12 01:22:11   \n",
       "48979           None            clickSubmit       NaN 2017-03-12 01:24:34   \n",
       "48980           None            clickSubmit       NaN 2017-03-12 01:24:38   \n",
       "48981          index               btnClick       NaN 2017-03-12 01:24:49   \n",
       "48982          index               btnClick       NaN 2017-03-12 01:24:54   \n",
       "48983           None            clickSubmit       NaN 2017-03-12 01:24:56   \n",
       "48984          index               btnClick       NaN 2017-03-12 01:25:02   \n",
       "48985           None            index_leave       NaN 2017-03-12 01:25:02   \n",
       "48986           None              $pageview       NaN 2017-03-12 01:25:17   \n",
       "48987          index               btnClick       NaN 2017-03-12 01:25:23   \n",
       "48988           None            index_leave       NaN 2017-03-12 01:25:23   \n",
       "48989           None              $pageview       NaN 2017-03-12 01:25:24   \n",
       "48990  courses_index               btnClick       NaN 2017-03-12 01:25:33   \n",
       "48991           None          courses_leave       NaN 2017-03-12 01:25:33   \n",
       "48992           None              $pageview       NaN 2017-03-12 01:25:35   \n",
       "48995           None             demo_leave       NaN 2017-03-12 01:26:31   \n",
       "49890          index               btnClick       NaN 2017-03-12 07:06:55   \n",
       "49891           None   click_send_cellphone       NaN 2017-03-12 07:07:25   \n",
       "49892           None  verify_cellphone_code       NaN 2017-03-12 07:07:41   \n",
       "49893           None            clickSubmit       NaN 2017-03-12 07:07:58   \n",
       "49894           None             formSubmit      True 2017-03-12 07:07:58   \n",
       "\n",
       "          name  \n",
       "48963      NaN  \n",
       "48966      NaN  \n",
       "48967       方*  \n",
       "48968       方*  \n",
       "48969  request  \n",
       "48970       方*  \n",
       "48971      NaN  \n",
       "48972      NaN  \n",
       "48973       方*  \n",
       "48979       方*  \n",
       "48980       方*  \n",
       "48981  request  \n",
       "48982  request  \n",
       "48983       方*  \n",
       "48984     blog  \n",
       "48985      NaN  \n",
       "48986      NaN  \n",
       "48987    viedo  \n",
       "48988      NaN  \n",
       "48989      NaN  \n",
       "48990     demo  \n",
       "48991      NaN  \n",
       "48992      NaN  \n",
       "48995      NaN  \n",
       "49890  request  \n",
       "49891      NaN  \n",
       "49892      NaN  \n",
       "49893     方***  \n",
       "49894     方***  "
      ]
     },
     "execution_count": 26,
     "metadata": {},
     "output_type": "execute_result"
    }
   ],
   "source": [
    "sel_sel_df[(sel_sel_df.distinct_id == 'e0da77db8fe93d037c574ff7e6e7aadcdfa62975')][['btnClick_page','event','isSuccess','Bj_timestamp','name']]"
   ]
  },
  {
   "cell_type": "code",
   "execution_count": 27,
   "metadata": {},
   "outputs": [],
   "source": [
    "sel_sel_df.loc[((sel_sel_df.distinct_id == 'e0da77db8fe93d037c574ff7e6e7aadcdfa62975')\n",
    "            &(sel_sel_df.Bj_timestamp >= '2017-03-12 07:06:55')), 'distinct_id']='e0da77db8fe93d037c574ff7e6e7aadcdfa62975_2'"
   ]
  },
  {
   "cell_type": "code",
   "execution_count": 28,
   "metadata": {},
   "outputs": [
    {
     "data": {
      "text/plain": [
       "NaN      50514\n",
       "True       313\n",
       "False      222\n",
       "Name: isSuccess, dtype: int64"
      ]
     },
     "execution_count": 28,
     "metadata": {},
     "output_type": "execute_result"
    }
   ],
   "source": [
    "sel_sel_df.isSuccess.value_counts(dropna = False)"
   ]
  },
  {
   "cell_type": "code",
   "execution_count": 29,
   "metadata": {},
   "outputs": [
    {
     "data": {
      "text/plain": [
       "$pageview                22037\n",
       "btnClick                  9394\n",
       "index_leave               7115\n",
       "profile_set_once          6486\n",
       "demo_leave                2388\n",
       "about_leave                696\n",
       "courses_leave              628\n",
       "formSubmit                 535\n",
       "courses_play_leave         507\n",
       "click_send_cellphone       400\n",
       "verify_cellphone_code      372\n",
       "clickSubmit                353\n",
       "page_close                 138\n",
       "Name: event, dtype: int64"
      ]
     },
     "execution_count": 29,
     "metadata": {},
     "output_type": "execute_result"
    }
   ],
   "source": [
    "sel_sel_df.event.value_counts()"
   ]
  },
  {
   "cell_type": "code",
   "execution_count": 30,
   "metadata": {},
   "outputs": [
    {
     "data": {
      "text/plain": [
       "8266"
      ]
     },
     "execution_count": 30,
     "metadata": {},
     "output_type": "execute_result"
    }
   ],
   "source": [
    "sel_sel_df.distinct_id.nunique()"
   ]
  },
  {
   "cell_type": "code",
   "execution_count": 31,
   "metadata": {
    "collapsed": true
   },
   "outputs": [],
   "source": [
    "tmp_df = sel_sel_df"
   ]
  },
  {
   "cell_type": "markdown",
   "metadata": {},
   "source": [
    "# clean duplication"
   ]
  },
  {
   "cell_type": "code",
   "execution_count": 32,
   "metadata": {},
   "outputs": [
    {
     "data": {
      "text/plain": [
       "(51049, 52)"
      ]
     },
     "execution_count": 32,
     "metadata": {},
     "output_type": "execute_result"
    }
   ],
   "source": [
    "sel_sel_df.shape"
   ]
  },
  {
   "cell_type": "code",
   "execution_count": 33,
   "metadata": {},
   "outputs": [
    {
     "data": {
      "text/plain": [
       "8266"
      ]
     },
     "execution_count": 33,
     "metadata": {},
     "output_type": "execute_result"
    }
   ],
   "source": [
    "sel_sel_df.distinct_id.nunique()"
   ]
  },
  {
   "cell_type": "code",
   "execution_count": 34,
   "metadata": {
    "collapsed": true
   },
   "outputs": [],
   "source": [
    "sel_sel_df.drop_duplicates(inplace = True)"
   ]
  },
  {
   "cell_type": "code",
   "execution_count": 35,
   "metadata": {
    "scrolled": true
   },
   "outputs": [
    {
     "data": {
      "text/plain": [
       "(51034, 52)"
      ]
     },
     "execution_count": 35,
     "metadata": {},
     "output_type": "execute_result"
    }
   ],
   "source": [
    "sel_sel_df.shape"
   ]
  },
  {
   "cell_type": "code",
   "execution_count": 36,
   "metadata": {},
   "outputs": [
    {
     "data": {
      "text/plain": [
       "$pageview                22029\n",
       "btnClick                  9392\n",
       "index_leave               7115\n",
       "profile_set_once          6481\n",
       "demo_leave                2388\n",
       "about_leave                696\n",
       "courses_leave              628\n",
       "formSubmit                 535\n",
       "courses_play_leave         507\n",
       "click_send_cellphone       400\n",
       "verify_cellphone_code      372\n",
       "clickSubmit                353\n",
       "page_close                 138\n",
       "Name: event, dtype: int64"
      ]
     },
     "execution_count": 36,
     "metadata": {},
     "output_type": "execute_result"
    }
   ],
   "source": [
    "sel_sel_df.event.value_counts()"
   ]
  },
  {
   "cell_type": "code",
   "execution_count": 37,
   "metadata": {
    "collapsed": true
   },
   "outputs": [],
   "source": [
    "tmp_df = sel_sel_df"
   ]
  },
  {
   "cell_type": "code",
   "execution_count": 38,
   "metadata": {},
   "outputs": [],
   "source": [
    "sel_sel_df.drop(labels = 'session_referrer', axis = 1, inplace = True)"
   ]
  },
  {
   "cell_type": "code",
   "execution_count": 39,
   "metadata": {
    "collapsed": true
   },
   "outputs": [],
   "source": [
    "# #     referrer_host, referrHostUrl, first_referrer_host(profile_set_once)\n",
    "\n",
    "# sel_sel_df.referrHostUrl.value_counts(dropna = False)\n",
    "\n",
    "# sel_sel_df[(sel_sel_df.referrHostUrl.notnull())].event.value_counts(dropna = False)\n",
    "\n",
    "# # use referrHostUrl to impute session_referrer_host\n",
    "# # sel_sel_df.loc[(sel_sel_df.session_referrer_host.isnull()) \n",
    "# #            & (sel_sel_df.event == 'formSubmit'),'session_referrer_host'] = sel_sel_df.loc[(sel_sel_df.session_referrer_host.isnull()) \n",
    "# #                                                                                   & (sel_sel_df.event == 'formSubmit'),'referrHostUrl']\n",
    "\n",
    "# # sel_sel_df[(sel_sel_df.session_referrer_host.isnull())].event.value_counts(dropna = False)\n",
    "\n",
    "# sel_sel_df.referrer_host.value_counts(dropna = False)\n",
    "\n",
    "# sel_sel_df[(sel_sel_df.referrer_host.notnull())].event.value_counts(dropna = False)\n",
    "\n",
    "# # # use referrer_host to impute session_referrer_host\n",
    "# # sel_sel_df.loc[(sel_sel_df.session_referrer_host.isnull()) \n",
    "# #            & (sel_sel_df.event == '$pageview'),'session_referrer_host'] = sel_sel_df.loc[(sel_sel_df.session_referrer_host.isnull()) \n",
    "# #                                                                                   & (sel_sel_df.event == '$pageview'),'referrer_host']\n",
    "\n",
    "# sel_sel_df[(sel_sel_df.session_referrer_host.isnull())].event.value_counts(dropna = False)\n",
    "\n",
    "# sel_sel_df[(sel_sel_df.first_referrer_host.notnull())].event.value_counts(dropna = False)\n",
    "\n",
    "# # use first_referrer_host to impute session_referrer_host\n",
    "# sel_sel_df.loc[(sel_sel_df.session_referrer_host.isnull()) \n",
    "#            & (sel_sel_df.event == 'profile_set_once'),'session_referrer_host'] = sel_sel_df.loc[(sel_sel_df.session_referrer_host.isnull()) \n",
    "#                                                                                   & (sel_sel_df.event == 'profile_set_once'),'first_referrer_host']\n",
    "\n",
    "# sel_sel_df[(sel_sel_df.session_referrer_host.isnull())].event.value_counts(dropna = False)\n",
    "\n",
    "# sel_sel_df.referrHostUrl.value_counts(dropna = False)\n",
    "\n",
    "# sel_sel_df[(sel_sel_df.referrHostUrl.notnull())].event.value_counts(dropna = False)\n",
    "\n",
    "# use referrHostUrl to impute session_referrer_host\n",
    "# sel_sel_df.loc[(sel_sel_df.session_referrer_host.isnull()) \n",
    "#            & (sel_sel_df.event == 'formSubmit'),'session_referrer_host'] = sel_sel_df.loc[(sel_sel_df.session_referrer_host.isnull()) \n",
    "#                                                                                   & (sel_sel_df.event == 'formSubmit'),'referrHostUrl']\n",
    "\n",
    "# sel_sel_df[(sel_sel_df.session_referrer_host.isnull())].event.value_counts(dropna = False)\n",
    "\n",
    "# sel_sel_df.referrer_host.value_counts(dropna = False)\n",
    "\n",
    "# sel_sel_df[(sel_sel_df.referrer_host.notnull())].event.value_counts(dropna = False)\n",
    "\n",
    "# # # use referrer_host to impute session_referrer_host\n",
    "# # sel_sel_df.loc[(sel_sel_df.session_referrer_host.isnull()) \n",
    "# #            & (sel_sel_df.event == '$pageview'),'session_referrer_host'] = sel_sel_df.loc[(sel_sel_df.session_referrer_host.isnull()) \n",
    "# #                                                                                   & (sel_sel_df.event == '$pageview'),'referrer_host']\n",
    "\n",
    "# sel_sel_df[(sel_sel_df.session_referrer_host.isnull())].event.value_counts(dropna = False)\n",
    "\n",
    "# sel_sel_df[(sel_sel_df.first_referrer_host.notnull())].event.value_counts(dropna = False)\n",
    "\n",
    "# # use first_referrer_host to impute session_referrer_host\n",
    "# sel_sel_df.loc[(sel_sel_df.session_referrer_host.isnull()) \n",
    "#            & (sel_sel_df.event == 'profile_set_once'),'session_referrer_host'] = sel_sel_df.loc[(sel_sel_df.session_referrer_host.isnull()) \n",
    "#                                                                                   & (sel_sel_df.event == 'profile_set_once'),'first_referrer_host']\n",
    "\n",
    "# sel_sel_df[(sel_sel_df.session_referrer_host.isnull())].event.value_counts(dropna = False)"
   ]
  },
  {
   "cell_type": "code",
   "execution_count": 41,
   "metadata": {
    "collapsed": true
   },
   "outputs": [],
   "source": [
    "sel_sel_df.to_csv('data/sel_sel_df.csv', index = False, encoding = 'utf-8')"
   ]
  },
  {
   "cell_type": "markdown",
   "metadata": {},
   "source": [
    "# just keep records before signing up for every user"
   ]
  },
  {
   "cell_type": "code",
   "execution_count": 42,
   "metadata": {
    "collapsed": true
   },
   "outputs": [],
   "source": [
    "sel_df = pd.read_csv('data/sel_sel_df.csv')"
   ]
  },
  {
   "cell_type": "code",
   "execution_count": 43,
   "metadata": {
    "collapsed": true
   },
   "outputs": [],
   "source": [
    "distinct_id = sel_df.distinct_id.unique()"
   ]
  },
  {
   "cell_type": "code",
   "execution_count": 44,
   "metadata": {},
   "outputs": [],
   "source": [
    "pattern = sel_df.groupby(by = 'distinct_id').apply(lambda x: x.sort_values('Bj_timestamp'))"
   ]
  },
  {
   "cell_type": "code",
   "execution_count": 45,
   "metadata": {
    "collapsed": true
   },
   "outputs": [],
   "source": [
    "group_sel_df = sel_df.groupby(by = 'distinct_id').apply(lambda x: x.sort_values('Bj_timestamp'))"
   ]
  },
  {
   "cell_type": "code",
   "execution_count": 46,
   "metadata": {
    "collapsed": true
   },
   "outputs": [],
   "source": [
    "profile_index = sel_df[(sel_df.event == 'profile_set_once')].index"
   ]
  },
  {
   "cell_type": "code",
   "execution_count": 47,
   "metadata": {},
   "outputs": [],
   "source": [
    "# profile_index"
   ]
  },
  {
   "cell_type": "code",
   "execution_count": 48,
   "metadata": {},
   "outputs": [],
   "source": [
    "keep_index_list = list()\n",
    "for user in distinct_id:\n",
    "    user_sel_df = group_sel_df[(group_sel_df.distinct_id == user)]\n",
    "    for index, row in user_sel_df.iterrows():\n",
    "        if (row.event == 'formSubmit') and (row.isSuccess):\n",
    "            keep_index_list.append(index[1])\n",
    "            break\n",
    "        else:\n",
    "            keep_index_list.append(index[1])"
   ]
  },
  {
   "cell_type": "code",
   "execution_count": 49,
   "metadata": {},
   "outputs": [],
   "source": [
    "keep = list(set(keep_index_list).union(set(profile_index)))"
   ]
  },
  {
   "cell_type": "code",
   "execution_count": 50,
   "metadata": {},
   "outputs": [],
   "source": [
    "b4_sign_df = sel_df.ix[keep]"
   ]
  },
  {
   "cell_type": "code",
   "execution_count": 51,
   "metadata": {
    "scrolled": true
   },
   "outputs": [
    {
     "data": {
      "text/plain": [
       "(46528, 51)"
      ]
     },
     "execution_count": 51,
     "metadata": {},
     "output_type": "execute_result"
    }
   ],
   "source": [
    "b4_sign_df.shape"
   ]
  },
  {
   "cell_type": "code",
   "execution_count": 52,
   "metadata": {},
   "outputs": [
    {
     "data": {
      "text/plain": [
       "$pageview                20288\n",
       "btnClick                  8282\n",
       "index_leave               6692\n",
       "profile_set_once          6481\n",
       "demo_leave                1339\n",
       "about_leave                653\n",
       "courses_leave              594\n",
       "formSubmit                 532\n",
       "courses_play_leave         488\n",
       "click_send_cellphone       393\n",
       "verify_cellphone_code      362\n",
       "clickSubmit                290\n",
       "page_close                 134\n",
       "Name: event, dtype: int64"
      ]
     },
     "execution_count": 52,
     "metadata": {},
     "output_type": "execute_result"
    }
   ],
   "source": [
    "b4_sign_dfsign_df.event.value_counts()"
   ]
  },
  {
   "cell_type": "code",
   "execution_count": 156,
   "metadata": {
    "collapsed": true
   },
   "outputs": [],
   "source": [
    "b4_sign_df.to_csv('data/b4_sign_v1.csv', encoding = 'utf-8', index = False)"
   ]
  },
  {
   "cell_type": "markdown",
   "metadata": {},
   "source": [
    "# comparing is_firt_day, is_first_time, profile_set_once"
   ]
  },
  {
   "cell_type": "code",
   "execution_count": 1,
   "metadata": {
    "collapsed": true
   },
   "outputs": [],
   "source": [
    "import pandas as pd"
   ]
  },
  {
   "cell_type": "code",
   "execution_count": 3,
   "metadata": {},
   "outputs": [],
   "source": [
    "b4_sign_df = pd.read_csv('data/b4_sign_v1.csv')"
   ]
  },
  {
   "cell_type": "code",
   "execution_count": 20,
   "metadata": {
    "collapsed": true
   },
   "outputs": [],
   "source": [
    "b4_sign_df.drop_duplicates(inplace = True)"
   ]
  },
  {
   "cell_type": "code",
   "execution_count": 21,
   "metadata": {},
   "outputs": [
    {
     "data": {
      "text/plain": [
       "True     26845\n",
       "False    13217\n",
       "NaN       6481\n",
       "Name: is_first_day, dtype: int64"
      ]
     },
     "execution_count": 21,
     "metadata": {},
     "output_type": "execute_result"
    }
   ],
   "source": [
    "b4_sign_df.is_first_day.value_counts(dropna = False)"
   ]
  },
  {
   "cell_type": "code",
   "execution_count": null,
   "metadata": {},
   "outputs": [],
   "source": [
    "# first_day_df = b4_sign_sel_df[(b4_sign_sel_df.is_first_day.notnull())]"
   ]
  },
  {
   "cell_type": "code",
   "execution_count": null,
   "metadata": {
    "scrolled": true
   },
   "outputs": [],
   "source": [
    "# first_day_df[(first_day_sel_df.is_first_day)].is_first_time.value_counts(dropna = False)"
   ]
  },
  {
   "cell_type": "code",
   "execution_count": 28,
   "metadata": {},
   "outputs": [
    {
     "data": {
      "text/plain": [
       "False    33613\n",
       "True      6449\n",
       "Name: is_first_time, dtype: int64"
      ]
     },
     "execution_count": 28,
     "metadata": {},
     "output_type": "execute_result"
    }
   ],
   "source": [
    "b4_sign_df[(b4_sign_df.is_first_day.isnull())].is_first_time.value_counts(dropna = False)"
   ]
  },
  {
   "cell_type": "code",
   "execution_count": 29,
   "metadata": {},
   "outputs": [
    {
     "data": {
      "text/plain": [
       "False    33613\n",
       "True      6449\n",
       "Name: is_first_time, dtype: int64"
      ]
     },
     "execution_count": 29,
     "metadata": {},
     "output_type": "execute_result"
    }
   ],
   "source": [
    "b4_sign_df[(b4_sign_df.is_first_day.notnull())].is_first_time.value_counts(dropna = False)"
   ]
  },
  {
   "cell_type": "code",
   "execution_count": 6,
   "metadata": {
    "scrolled": true
   },
   "outputs": [
    {
     "data": {
      "text/plain": [
       "NaN    6481\n",
       "Name: is_first_day, dtype: int64"
      ]
     },
     "execution_count": 6,
     "metadata": {},
     "output_type": "execute_result"
    }
   ],
   "source": [
    "b4_sign_df[(b4_sign_df.is_first_time.isnull())].is_first_day.value_counts(dropna = False)"
   ]
  },
  {
   "cell_type": "code",
   "execution_count": 30,
   "metadata": {
    "scrolled": false
   },
   "outputs": [
    {
     "data": {
      "text/plain": [
       "True     26845\n",
       "False    13217\n",
       "Name: is_first_day, dtype: int64"
      ]
     },
     "execution_count": 30,
     "metadata": {},
     "output_type": "execute_result"
    }
   ],
   "source": [
    "b4_sign_df[(b4_sign_df.is_first_time.notnull())].is_first_day.value_counts(dropna = False)"
   ]
  },
  {
   "cell_type": "code",
   "execution_count": 31,
   "metadata": {},
   "outputs": [
    {
     "data": {
      "text/plain": [
       "$pageview                20293\n",
       "btnClick                  8286\n",
       "index_leave               6693\n",
       "demo_leave                1339\n",
       "about_leave                653\n",
       "courses_leave              594\n",
       "formSubmit                 533\n",
       "courses_play_leave         488\n",
       "click_send_cellphone       395\n",
       "verify_cellphone_code      363\n",
       "clickSubmit                291\n",
       "page_close                 134\n",
       "Name: event, dtype: int64"
      ]
     },
     "execution_count": 31,
     "metadata": {},
     "output_type": "execute_result"
    }
   ],
   "source": [
    "b4_sign_df[(b4_sign_df.is_first_day.notnull())].event.value_counts()"
   ]
  },
  {
   "cell_type": "code",
   "execution_count": 32,
   "metadata": {
    "scrolled": true
   },
   "outputs": [
    {
     "data": {
      "text/plain": [
       "$pageview                20293\n",
       "btnClick                  8286\n",
       "index_leave               6693\n",
       "demo_leave                1339\n",
       "about_leave                653\n",
       "courses_leave              594\n",
       "formSubmit                 533\n",
       "courses_play_leave         488\n",
       "click_send_cellphone       395\n",
       "verify_cellphone_code      363\n",
       "clickSubmit                291\n",
       "page_close                 134\n",
       "Name: event, dtype: int64"
      ]
     },
     "execution_count": 32,
     "metadata": {},
     "output_type": "execute_result"
    }
   ],
   "source": [
    "b4_sign_df[(b4_sign_df.is_first_time.notnull())].event.value_counts()"
   ]
  },
  {
   "cell_type": "code",
   "execution_count": 7,
   "metadata": {
    "scrolled": true
   },
   "outputs": [
    {
     "data": {
      "text/plain": [
       "6666"
      ]
     },
     "execution_count": 7,
     "metadata": {},
     "output_type": "execute_result"
    }
   ],
   "source": [
    "b4_sign_df[(b4_sign_df.is_first_day == True)].distinct_id.nunique()"
   ]
  },
  {
   "cell_type": "code",
   "execution_count": 8,
   "metadata": {},
   "outputs": [
    {
     "data": {
      "text/plain": [
       "6446"
      ]
     },
     "execution_count": 8,
     "metadata": {},
     "output_type": "execute_result"
    }
   ],
   "source": [
    "b4_sign_df[(b4_sign_df.is_first_time == True)].distinct_id.nunique()"
   ]
  },
  {
   "cell_type": "code",
   "execution_count": 9,
   "metadata": {},
   "outputs": [
    {
     "data": {
      "text/plain": [
       "6362"
      ]
     },
     "execution_count": 9,
     "metadata": {},
     "output_type": "execute_result"
    }
   ],
   "source": [
    "b4_sign_df[(b4_sign_df.is_first_day == True) & (b4_sign_df.is_first_time == True)].distinct_id.nunique()"
   ]
  },
  {
   "cell_type": "code",
   "execution_count": 22,
   "metadata": {},
   "outputs": [
    {
     "data": {
      "text/plain": [
       "6480"
      ]
     },
     "execution_count": 22,
     "metadata": {},
     "output_type": "execute_result"
    }
   ],
   "source": [
    "b4_sign_df[(b4_sign_df.event == 'profile_set_once')].distinct_id.nunique()"
   ]
  },
  {
   "cell_type": "code",
   "execution_count": null,
   "metadata": {
    "collapsed": true
   },
   "outputs": [],
   "source": [
    "b4_sign_df"
   ]
  },
  {
   "cell_type": "code",
   "execution_count": 23,
   "metadata": {
    "scrolled": true
   },
   "outputs": [
    {
     "data": {
      "text/plain": [
       "6be727db0adc4b0ea41431cc91c8a5e1481125ac    2\n",
       "48750097fd1aa2e3b6705f594ce1144f13941e22    1\n",
       "0907253c722231733b67aedda6e71495ae989c4e    1\n",
       "20625603c04af153bd8e5fc5c1d6aa9ffc2a6a79    1\n",
       "f0b4fddb433927b5d60c931bb63305406cc517ca    1\n",
       "95d7f21c6eac47810aef794c87653ad902dfd2bb    1\n",
       "c827c371b124a430e711ecfca92709680b10088b    1\n",
       "40349580bf620e1ed484e6b14c137088390492e5    1\n",
       "5eeb8ae1bdb0c6924bcb4707d48dbbcc77eaf003    1\n",
       "fee49906d6452a393bef06c657d33e36ccc98c8a    1\n",
       "ecb4d9190f4d5fee13aa6502314f9916f756c4f5    1\n",
       "cacb3e7d7ce3ef8ce514319fec7011e2744bab99    1\n",
       "6a918a5a9b55a26d04f0c974746836c74caf1e54    1\n",
       "3290a1d5ef03bfb9004995b6307e9df41431cc68    1\n",
       "a806714dc41a3e019d75850267031c8babfd57fa    1\n",
       "3dee95a0caf4d43221976b22bbdaa2773303c1f8    1\n",
       "36c857f2e3f17601bbc4ae61f80255d6d7969bb8    1\n",
       "98740ab1810eb56820b62cf42fe499498ab19875    1\n",
       "c6b306cbf6d94b7b7df49538977ea84cfdf11e16    1\n",
       "05a4d0e5f4a88d766b0594474a42424691952268    1\n",
       "3c6e3862af2d7c04e228c4478a5066b3b337a4ac    1\n",
       "b87667a1986a1554e6c8317ab80b032a1ca51d13    1\n",
       "4ac9e45f7755192b5910e06ad20c72f86a650920    1\n",
       "ec416225b7ef2287523bf136005046cba0d60ee2    1\n",
       "9a316a9d589c886f43a9c28a7bc8d1423ad1b371    1\n",
       "a0e00668d0ae07ca8359c33b7c33a65754b72fc0    1\n",
       "140bbcb6b469d994c7718787940dc5ae26cd304c    1\n",
       "b12c2a45350b19cc67916e01cffccd49511595c8    1\n",
       "fc0979f8884cca2038a2f7efc8668f7305f2aa56    1\n",
       "e07af609ce65526c718d703abf5ad5f80eb2d505    1\n",
       "                                           ..\n",
       "efae76a2c85c67b61884be6e726dcb56eb0e206f    1\n",
       "2f3f7c271864880a2bc5a4e897deeb2e66c0a5a7    1\n",
       "b630cd8d06bd0ec6f841e0be4d5511794934cbdf    1\n",
       "112dbac415742420aa9d8918d6206ed022183543    1\n",
       "7e44c4a0ac26e7b045d6d053b793ce03f4439dac    1\n",
       "1f2dbc8375270b6647b757bb1436cddc24539511    1\n",
       "8639abb6e35e91df88c6b12487ae7e6531bc943c    1\n",
       "16b2e4cc26d0b55f2381cd7ad3e01fd482d3614f    1\n",
       "f285138d5273784c8f4bcc3b41e9d6329b8af5b8    1\n",
       "d2714201dde989657eca8f9287e899bd5a764970    1\n",
       "5a5c840429bb56e95342ebb51a20233c7de80d90    1\n",
       "812952a08f00a4e3eb66dada6ddad57f40d24a54    1\n",
       "32d4b2064084d3713b4b9983f59f02650b095c2d    1\n",
       "4983624c4bd3867cefca40fdc0a4200717050d99    1\n",
       "ebf364f05a990f14f666f68e3a0e898923fbc3f4    1\n",
       "39fa35f17dad25fd0c11db09338731c6e3145ec7    1\n",
       "bcb41faebfe8a81c5849422639e441c25c57f098    1\n",
       "dab3ff53e4de6a2f6bd42342fe82b85e7826c1ce    1\n",
       "b8ed671ac97ffa6d5cd63365bb5e0bb6574661f2    1\n",
       "6f6990d589d8636f74aa9d7dc986da8854f8fc13    1\n",
       "1e0e5e718d0042883dc0bda0ecb47885e4778470    1\n",
       "759692bfee90057c89f69927f141cdbcfa3467a7    1\n",
       "ec4f931c68e224a062dfa6da8358d4668d3b62aa    1\n",
       "8f829802aa00c14bbd20e9a504faa81457d99a1c    1\n",
       "249e7d7e1bdd5d54da5a162bc5e2f5527a591af7    1\n",
       "d9408b9f70645f1703793151971ddc374f8ee9ec    1\n",
       "12716c7ed6e344bd597a4763888eaec8a5d16fd0    1\n",
       "6e199c1e0c0a8821bdc28fcd8408626d6f949cba    1\n",
       "97dca60e292ab351c430afc8f039d4183f6a6ee0    1\n",
       "f56e5c0557f9eafd7ce976c2cf31ed545899f8ee    1\n",
       "Name: distinct_id, dtype: int64"
      ]
     },
     "execution_count": 23,
     "metadata": {},
     "output_type": "execute_result"
    }
   ],
   "source": [
    "b4_sign_df[(b4_sign_df.event == 'profile_set_once')].distinct_id.value_counts()"
   ]
  },
  {
   "cell_type": "code",
   "execution_count": 24,
   "metadata": {},
   "outputs": [
    {
     "data": {
      "text/html": [
       "<div>\n",
       "<table border=\"1\" class=\"dataframe\">\n",
       "  <thead>\n",
       "    <tr style=\"text-align: right;\">\n",
       "      <th></th>\n",
       "      <th>distinct_id</th>\n",
       "      <th>event</th>\n",
       "      <th>browser</th>\n",
       "      <th>browser_version</th>\n",
       "      <th>first_browser_language</th>\n",
       "      <th>first_referrer_host</th>\n",
       "      <th>first_visit_time</th>\n",
       "      <th>ip</th>\n",
       "      <th>is_first_day</th>\n",
       "      <th>is_first_time</th>\n",
       "      <th>...</th>\n",
       "      <th>requestBtn</th>\n",
       "      <th>result</th>\n",
       "      <th>session_page_url</th>\n",
       "      <th>site_url</th>\n",
       "      <th>url_on_page_close</th>\n",
       "      <th>time</th>\n",
       "      <th>Bj_timestamp</th>\n",
       "      <th>dayofweek</th>\n",
       "      <th>hourofday</th>\n",
       "      <th>date</th>\n",
       "    </tr>\n",
       "  </thead>\n",
       "  <tbody>\n",
       "    <tr>\n",
       "      <th>40360</th>\n",
       "      <td>6be727db0adc4b0ea41431cc91c8a5e1481125ac</td>\n",
       "      <td>profile_set_once</td>\n",
       "      <td>NaN</td>\n",
       "      <td>NaN</td>\n",
       "      <td>zh-cn</td>\n",
       "      <td>m.baidu.com</td>\n",
       "      <td>2017-03-10 21:34:38.503</td>\n",
       "      <td>NaN</td>\n",
       "      <td>NaN</td>\n",
       "      <td>NaN</td>\n",
       "      <td>...</td>\n",
       "      <td>NaN</td>\n",
       "      <td>NaN</td>\n",
       "      <td>None</td>\n",
       "      <td>NaN</td>\n",
       "      <td>None</td>\n",
       "      <td>1.490958e+12</td>\n",
       "      <td>2017-03-31 11:05:49</td>\n",
       "      <td>4</td>\n",
       "      <td>11</td>\n",
       "      <td>2017-03-31</td>\n",
       "    </tr>\n",
       "    <tr>\n",
       "      <th>40361</th>\n",
       "      <td>6be727db0adc4b0ea41431cc91c8a5e1481125ac</td>\n",
       "      <td>profile_set_once</td>\n",
       "      <td>NaN</td>\n",
       "      <td>NaN</td>\n",
       "      <td>zh-cn</td>\n",
       "      <td>m.baidu.com</td>\n",
       "      <td>2017-03-10 21:34:38.503</td>\n",
       "      <td>NaN</td>\n",
       "      <td>NaN</td>\n",
       "      <td>NaN</td>\n",
       "      <td>...</td>\n",
       "      <td>NaN</td>\n",
       "      <td>NaN</td>\n",
       "      <td>None</td>\n",
       "      <td>NaN</td>\n",
       "      <td>None</td>\n",
       "      <td>1.490958e+12</td>\n",
       "      <td>2017-03-31 11:05:49</td>\n",
       "      <td>4</td>\n",
       "      <td>11</td>\n",
       "      <td>2017-03-31</td>\n",
       "    </tr>\n",
       "  </tbody>\n",
       "</table>\n",
       "<p>2 rows × 51 columns</p>\n",
       "</div>"
      ],
      "text/plain": [
       "                                    distinct_id             event browser  \\\n",
       "40360  6be727db0adc4b0ea41431cc91c8a5e1481125ac  profile_set_once     NaN   \n",
       "40361  6be727db0adc4b0ea41431cc91c8a5e1481125ac  profile_set_once     NaN   \n",
       "\n",
       "       browser_version first_browser_language first_referrer_host  \\\n",
       "40360              NaN                  zh-cn         m.baidu.com   \n",
       "40361              NaN                  zh-cn         m.baidu.com   \n",
       "\n",
       "              first_visit_time   ip is_first_day is_first_time     ...      \\\n",
       "40360  2017-03-10 21:34:38.503  NaN          NaN           NaN     ...       \n",
       "40361  2017-03-10 21:34:38.503  NaN          NaN           NaN     ...       \n",
       "\n",
       "      requestBtn result session_page_url site_url url_on_page_close  \\\n",
       "40360        NaN    NaN             None      NaN              None   \n",
       "40361        NaN    NaN             None      NaN              None   \n",
       "\n",
       "               time         Bj_timestamp  dayofweek hourofday        date  \n",
       "40360  1.490958e+12  2017-03-31 11:05:49          4        11  2017-03-31  \n",
       "40361  1.490958e+12  2017-03-31 11:05:49          4        11  2017-03-31  \n",
       "\n",
       "[2 rows x 51 columns]"
      ]
     },
     "execution_count": 24,
     "metadata": {},
     "output_type": "execute_result"
    }
   ],
   "source": [
    "b4_sign_df[(b4_sign_df.distinct_id == '6be727db0adc4b0ea41431cc91c8a5e1481125ac')\n",
    "          & (b4_sign_df.event == 'profile_set_once')]"
   ]
  },
  {
   "cell_type": "code",
   "execution_count": 26,
   "metadata": {},
   "outputs": [
    {
     "data": {
      "text/plain": [
       "profile_set_once    6481\n",
       "Name: event, dtype: int64"
      ]
     },
     "execution_count": 26,
     "metadata": {},
     "output_type": "execute_result"
    }
   ],
   "source": [
    "b4_sign_df[(b4_sign_df.is_first_day.isnull())].event.value_counts(dropna = False)"
   ]
  },
  {
   "cell_type": "code",
   "execution_count": 27,
   "metadata": {},
   "outputs": [
    {
     "data": {
      "text/plain": [
       "NaN    6481\n",
       "Name: is_first_day, dtype: int64"
      ]
     },
     "execution_count": 27,
     "metadata": {},
     "output_type": "execute_result"
    }
   ],
   "source": [
    "b4_sign_df[(b4_sign_df.event == 'profile_set_once')].is_first_day.value_counts(dropna = False)"
   ]
  },
  {
   "cell_type": "code",
   "execution_count": 25,
   "metadata": {},
   "outputs": [
    {
     "data": {
      "text/plain": [
       "$pageview                20293\n",
       "btnClick                  8286\n",
       "index_leave               6693\n",
       "profile_set_once          6481\n",
       "demo_leave                1339\n",
       "about_leave                653\n",
       "courses_leave              594\n",
       "formSubmit                 533\n",
       "courses_play_leave         488\n",
       "click_send_cellphone       395\n",
       "verify_cellphone_code      363\n",
       "clickSubmit                291\n",
       "page_close                 134\n",
       "Name: event, dtype: int64"
      ]
     },
     "execution_count": 25,
     "metadata": {},
     "output_type": "execute_result"
    }
   ],
   "source": [
    "b4_sign_df.event.value_counts()"
   ]
  },
  {
   "cell_type": "markdown",
   "metadata": {},
   "source": [
    "## we find that is_first_day, is_first_time is for paging view while profile_set_once is for new user"
   ]
  },
  {
   "cell_type": "code",
   "execution_count": 1,
   "metadata": {
    "collapsed": true
   },
   "outputs": [],
   "source": [
    "import pandas as pd"
   ]
  },
  {
   "cell_type": "code",
   "execution_count": 2,
   "metadata": {
    "collapsed": true
   },
   "outputs": [],
   "source": [
    "df = pd.read_csv('data/b4_sign_v1.csv')"
   ]
  },
  {
   "cell_type": "code",
   "execution_count": 3,
   "metadata": {},
   "outputs": [
    {
     "data": {
      "text/plain": [
       "$pageview                20293\n",
       "btnClick                  8286\n",
       "index_leave               6693\n",
       "profile_set_once          6481\n",
       "demo_leave                1339\n",
       "about_leave                653\n",
       "courses_leave              594\n",
       "formSubmit                 533\n",
       "courses_play_leave         488\n",
       "click_send_cellphone       395\n",
       "verify_cellphone_code      363\n",
       "clickSubmit                291\n",
       "page_close                 134\n",
       "Name: event, dtype: int64"
      ]
     },
     "execution_count": 3,
     "metadata": {},
     "output_type": "execute_result"
    }
   ],
   "source": [
    "df.event.value_counts()"
   ]
  },
  {
   "cell_type": "code",
   "execution_count": 4,
   "metadata": {},
   "outputs": [
    {
     "name": "stderr",
     "output_type": "stream",
     "text": [
      "G:\\Anaconda2\\lib\\site-packages\\IPython\\core\\interactiveshell.py:2723: DtypeWarning: Columns (50) have mixed types. Specify dtype option on import or set low_memory=False.\n",
      "  interactivity=interactivity, compiler=compiler, result=result)\n"
     ]
    }
   ],
   "source": [
    "sel_sel_df = pd.read_csv('data/lastest_data.csv')"
   ]
  },
  {
   "cell_type": "code",
   "execution_count": 5,
   "metadata": {},
   "outputs": [
    {
     "data": {
      "text/plain": [
       "$pageview                22037\n",
       "btnClick                  9394\n",
       "index_leave               7115\n",
       "profile_set_once          6485\n",
       "demo_leave                2388\n",
       "about_leave                696\n",
       "courses_leave              628\n",
       "formSubmit                 535\n",
       "courses_play_leave         507\n",
       "click_send_cellphone       400\n",
       "verify_cellphone_code      372\n",
       "clickSubmit                353\n",
       "page_close                 138\n",
       "Name: event, dtype: int64"
      ]
     },
     "execution_count": 5,
     "metadata": {},
     "output_type": "execute_result"
    }
   ],
   "source": [
    "sel_sel_df.event.value_counts()"
   ]
  }
 ],
 "metadata": {
  "kernelspec": {
   "display_name": "Python 3",
   "language": "python",
   "name": "python3"
  },
  "language_info": {
   "codemirror_mode": {
    "name": "ipython",
    "version": 3
   },
   "file_extension": ".py",
   "mimetype": "text/x-python",
   "name": "python",
   "nbconvert_exporter": "python",
   "pygments_lexer": "ipython3",
   "version": "3.6.1"
  }
 },
 "nbformat": 4,
 "nbformat_minor": 1
}
