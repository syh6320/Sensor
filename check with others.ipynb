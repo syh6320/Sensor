{
 "cells": [
  {
   "cell_type": "code",
   "execution_count": 1,
   "metadata": {
    "collapsed": true
   },
   "outputs": [],
   "source": [
    "import pandas as pd\n",
    "import numpy as np"
   ]
  },
  {
   "cell_type": "code",
   "execution_count": 2,
   "metadata": {
    "collapsed": false
   },
   "outputs": [
    {
     "name": "stderr",
     "output_type": "stream",
     "text": [
      "G:\\Anaconda2\\lib\\site-packages\\IPython\\core\\interactiveshell.py:2723: DtypeWarning: Columns (30) have mixed types. Specify dtype option on import or set low_memory=False.\n",
      "  interactivity=interactivity, compiler=compiler, result=result)\n"
     ]
    }
   ],
   "source": [
    "xiao_df = pd.read_csv('data/sensor_xiao.csv')"
   ]
  },
  {
   "cell_type": "code",
   "execution_count": 3,
   "metadata": {
    "collapsed": false
   },
   "outputs": [
    {
     "data": {
      "text/html": [
       "<div>\n",
       "<table border=\"1\" class=\"dataframe\">\n",
       "  <thead>\n",
       "    <tr style=\"text-align: right;\">\n",
       "      <th></th>\n",
       "      <th>distinct_id</th>\n",
       "      <th>lib</th>\n",
       "      <th>lib_method</th>\n",
       "      <th>lib_version</th>\n",
       "      <th>os</th>\n",
       "      <th>model</th>\n",
       "      <th>os_version</th>\n",
       "      <th>screen_height</th>\n",
       "      <th>screen_width</th>\n",
       "      <th>browser</th>\n",
       "      <th>...</th>\n",
       "      <th>first_referrer_host</th>\n",
       "      <th>referrerUrl</th>\n",
       "      <th>pagePosition</th>\n",
       "      <th>is_first_day</th>\n",
       "      <th>is_first_time</th>\n",
       "      <th>ip</th>\n",
       "      <th>type</th>\n",
       "      <th>event</th>\n",
       "      <th>nocache</th>\n",
       "      <th>time</th>\n",
       "    </tr>\n",
       "  </thead>\n",
       "  <tbody>\n",
       "    <tr>\n",
       "      <th>0</th>\n",
       "      <td>595466e9a8e733434ce08de16e927d985e0b5d48</td>\n",
       "      <td>js</td>\n",
       "      <td>code</td>\n",
       "      <td>1.6.20</td>\n",
       "      <td>windows</td>\n",
       "      <td>pc</td>\n",
       "      <td>6.1</td>\n",
       "      <td>800.0</td>\n",
       "      <td>1280.0</td>\n",
       "      <td>chrome</td>\n",
       "      <td>...</td>\n",
       "      <td>NaN</td>\n",
       "      <td>NaN</td>\n",
       "      <td>2.0</td>\n",
       "      <td>True</td>\n",
       "      <td>False</td>\n",
       "      <td>219.135.131.99</td>\n",
       "      <td>track</td>\n",
       "      <td>index_leave</td>\n",
       "      <td>6.540000e+11</td>\n",
       "      <td>1.490000e+12</td>\n",
       "    </tr>\n",
       "    <tr>\n",
       "      <th>1</th>\n",
       "      <td>9939d3e087bca29c42334d96dccd25ca0e06652a</td>\n",
       "      <td>js</td>\n",
       "      <td>code</td>\n",
       "      <td>1.6.20</td>\n",
       "      <td>NaN</td>\n",
       "      <td>NaN</td>\n",
       "      <td>NaN</td>\n",
       "      <td>NaN</td>\n",
       "      <td>NaN</td>\n",
       "      <td>NaN</td>\n",
       "      <td>...</td>\n",
       "      <td>NaN</td>\n",
       "      <td>NaN</td>\n",
       "      <td>NaN</td>\n",
       "      <td>NaN</td>\n",
       "      <td>NaN</td>\n",
       "      <td>NaN</td>\n",
       "      <td>profile_set_once</td>\n",
       "      <td>NaN</td>\n",
       "      <td>3.040000e+12</td>\n",
       "      <td>1.490000e+12</td>\n",
       "    </tr>\n",
       "    <tr>\n",
       "      <th>2</th>\n",
       "      <td>9939d3e087bca29c42334d96dccd25ca0e06652a</td>\n",
       "      <td>js</td>\n",
       "      <td>code</td>\n",
       "      <td>1.6.20</td>\n",
       "      <td>windows</td>\n",
       "      <td>pc</td>\n",
       "      <td>10.0</td>\n",
       "      <td>768.0</td>\n",
       "      <td>1366.0</td>\n",
       "      <td>chrome</td>\n",
       "      <td>...</td>\n",
       "      <td>NaN</td>\n",
       "      <td>NaN</td>\n",
       "      <td>NaN</td>\n",
       "      <td>True</td>\n",
       "      <td>True</td>\n",
       "      <td>111.204.198.242</td>\n",
       "      <td>track</td>\n",
       "      <td>$pageview</td>\n",
       "      <td>9.590000e+12</td>\n",
       "      <td>1.490000e+12</td>\n",
       "    </tr>\n",
       "  </tbody>\n",
       "</table>\n",
       "<p>3 rows × 53 columns</p>\n",
       "</div>"
      ],
      "text/plain": [
       "                                distinct_id lib lib_method lib_version  \\\n",
       "0  595466e9a8e733434ce08de16e927d985e0b5d48  js       code      1.6.20   \n",
       "1  9939d3e087bca29c42334d96dccd25ca0e06652a  js       code      1.6.20   \n",
       "2  9939d3e087bca29c42334d96dccd25ca0e06652a  js       code      1.6.20   \n",
       "\n",
       "        os model  os_version  screen_height  screen_width browser  \\\n",
       "0  windows    pc         6.1          800.0        1280.0  chrome   \n",
       "1      NaN   NaN         NaN            NaN           NaN     NaN   \n",
       "2  windows    pc        10.0          768.0        1366.0  chrome   \n",
       "\n",
       "       ...       first_referrer_host  referrerUrl pagePosition is_first_day  \\\n",
       "0      ...                       NaN          NaN          2.0         True   \n",
       "1      ...                       NaN          NaN          NaN          NaN   \n",
       "2      ...                       NaN          NaN          NaN         True   \n",
       "\n",
       "  is_first_time               ip              type        event       nocache  \\\n",
       "0         False   219.135.131.99             track  index_leave  6.540000e+11   \n",
       "1           NaN              NaN  profile_set_once          NaN  3.040000e+12   \n",
       "2          True  111.204.198.242             track    $pageview  9.590000e+12   \n",
       "\n",
       "           time  \n",
       "0  1.490000e+12  \n",
       "1  1.490000e+12  \n",
       "2  1.490000e+12  \n",
       "\n",
       "[3 rows x 53 columns]"
      ]
     },
     "execution_count": 3,
     "metadata": {},
     "output_type": "execute_result"
    }
   ],
   "source": [
    "xiao_df.head(3)"
   ]
  },
  {
   "cell_type": "code",
   "execution_count": 4,
   "metadata": {
    "collapsed": false
   },
   "outputs": [
    {
     "data": {
      "text/plain": [
       "(51049, 53)"
      ]
     },
     "execution_count": 4,
     "metadata": {},
     "output_type": "execute_result"
    }
   ],
   "source": [
    "xiao_df.shape"
   ]
  }
 ],
 "metadata": {
  "kernelspec": {
   "display_name": "Python 2",
   "language": "python",
   "name": "python2"
  },
  "language_info": {
   "codemirror_mode": {
    "name": "ipython",
    "version": 2
   },
   "file_extension": ".py",
   "mimetype": "text/x-python",
   "name": "python",
   "nbconvert_exporter": "python",
   "pygments_lexer": "ipython2",
   "version": "2.7.13"
  }
 },
 "nbformat": 4,
 "nbformat_minor": 0
}
