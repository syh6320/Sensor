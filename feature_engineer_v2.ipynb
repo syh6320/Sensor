{
 "cells": [
  {
   "cell_type": "code",
   "execution_count": 1,
   "metadata": {
    "collapsed": true
   },
   "outputs": [],
   "source": [
    "import pandas as pd"
   ]
  },
  {
   "cell_type": "code",
   "execution_count": 2,
   "metadata": {
    "collapsed": true
   },
   "outputs": [],
   "source": [
    "b4_sign_df = pd.read_csv('data/b4_sign_v1.csv')"
   ]
  },
  {
   "cell_type": "code",
   "execution_count": 4,
   "metadata": {
    "collapsed": false
   },
   "outputs": [
    {
     "data": {
      "text/plain": [
       "Index([u'distinct_id', u'event', u'browser', u'browser_version',\n",
       "       u'first_browser_language', u'first_referrer_host', u'first_visit_time',\n",
       "       u'ip', u'is_first_day', u'is_first_time', u'latest_utm_campaign',\n",
       "       u'latest_utm_content', u'latest_utm_medium', u'latest_utm_source',\n",
       "       u'latest_utm_term', u'model', u'os', u'os_version', u'referrer_host',\n",
       "       u'screen_height', u'screen_width', u'title', u'current_page',\n",
       "       u'utm_campaign', u'utm_content', u'utm_medium', u'utm_source',\n",
       "       u'utm_term', u'session_referrer_host', u'company', u'contact', u'email',\n",
       "       u'url_to_submit', u'isMsg', u'isSuccess', u'name', u'btnClick_page',\n",
       "       u'pagePosition', u'pageStayTime', u'project_name', u'referrHostUrl',\n",
       "       u'requestBtn', u'result', u'session_page_url', u'site_url',\n",
       "       u'url_on_page_close', u'time', u'Bj_timestamp', u'dayofweek',\n",
       "       u'hourofday', u'date'],\n",
       "      dtype='object')"
      ]
     },
     "execution_count": 4,
     "metadata": {},
     "output_type": "execute_result"
    }
   ],
   "source": [
    "b4_sign_df.columns"
   ]
  },
  {
   "cell_type": "markdown",
   "metadata": {},
   "source": [
    "# select/create useful features used in flating data"
   ]
  },
  {
   "cell_type": "markdown",
   "metadata": {},
   "source": [
    "### distinct_id"
   ]
  },
  {
   "cell_type": "markdown",
   "metadata": {},
   "source": [
    "### event， pageStageTime, current_page"
   ]
  },
  {
   "cell_type": "code",
   "execution_count": 5,
   "metadata": {
    "collapsed": false,
    "scrolled": true
   },
   "outputs": [],
   "source": [
    "# b4_sign_df.event.value_counts()"
   ]
  },
  {
   "cell_type": "code",
   "execution_count": 6,
   "metadata": {
    "collapsed": false
   },
   "outputs": [],
   "source": [
    "# b4_sign_df.current_page.value_counts(dropna = False)"
   ]
  },
  {
   "cell_type": "code",
   "execution_count": 7,
   "metadata": {
    "collapsed": false,
    "scrolled": true
   },
   "outputs": [],
   "source": [
    "# b4_sign_df[['event','current_page','pageStayTime']]"
   ]
  },
  {
   "cell_type": "code",
   "execution_count": 8,
   "metadata": {
    "collapsed": false,
    "scrolled": true
   },
   "outputs": [],
   "source": [
    "# b4_sign_df[(b4_sign_df.pageStayTime.notnull())][['event','current_page']]"
   ]
  },
  {
   "cell_type": "markdown",
   "metadata": {},
   "source": [
    "### for event:\n",
    "    event_to_sign:              \n",
    "        click_send_cellphone:    ---> result: # of failure, whether success(0/1)\n",
    "        verify_cellphone_code:   ---> result: # of failure, whether success(0/1)\n",
    "        clickSubmit:             ---> may be dropped\n",
    "        formSubmit:              ---> isSuccess: # of failure, whether success(0/1)\n",
    "    event_b4_sign:\n",
    "        $pageview                ---> look into current_page column\n",
    "        btnClick                 ---> page, name\n",
    "        index_leave              ---> pageStayTime, pagePosition\n",
    "        demo_leave               ---> pageStayTime, pagePosition\n",
    "        about_leave              ---> pageStayTime, pagePosition\n",
    "        courses_leave            ---> pageStayTime, pagePosition\n",
    "        courses_play_leave       ---> pageStayTime, pagePosition\n",
    "    other:\n",
    "        profile_set_once         ---> if someone has this column, it's a new user, otherwise not (0/1)\n",
    "        page_close               ---> pageStayTime,?? but when does it happen, url_on_page_close, for user signing up or not?"
   ]
  },
  {
   "cell_type": "markdown",
   "metadata": {},
   "source": [
    "### for current_page: different degree to which a user to sign up, a feature or column is active_sign\n",
    "    page with interface to sign up: score 1\n",
    "        homepage    \n",
    "        demo        \n",
    "        about\n",
    "        play_video\n",
    "    page without interface to sign up: score 0\n",
    "        lookmanual  ---> \n",
    "        manual\n",
    "        product\n",
    "        index\n",
    "    others: score\n",
    "        tool         \n",
    "        bround          \n",
    "        share             \n",
    "        translate_c --> delete     \n",
    "        local_host: ----> homepage"
   ]
  },
  {
   "cell_type": "code",
   "execution_count": 9,
   "metadata": {
    "collapsed": false
   },
   "outputs": [
    {
     "data": {
      "text/plain": [
       "22647    c86f9a49f36a1b1a8ad8176b5db44724334748c2\n",
       "Name: distinct_id, dtype: object"
      ]
     },
     "execution_count": 9,
     "metadata": {},
     "output_type": "execute_result"
    }
   ],
   "source": [
    "b4_sign_df[(b4_sign_df.current_page == 'translate_c')].distinct_id"
   ]
  },
  {
   "cell_type": "code",
   "execution_count": 10,
   "metadata": {
    "collapsed": false
   },
   "outputs": [],
   "source": [
    "b4_sign_df.drop(labels = 22647, axis = 0, inplace = True)"
   ]
  },
  {
   "cell_type": "code",
   "execution_count": 11,
   "metadata": {
    "collapsed": false
   },
   "outputs": [],
   "source": [
    "b4_sign_df.reset_index(drop = True, inplace = True)"
   ]
  },
  {
   "cell_type": "code",
   "execution_count": 12,
   "metadata": {
    "collapsed": true
   },
   "outputs": [],
   "source": [
    "b4_sign_df.loc[(b4_sign_df.current_page == 'local_host'),'current_page'] = 'homepage'"
   ]
  },
  {
   "cell_type": "code",
   "execution_count": 13,
   "metadata": {
    "collapsed": false
   },
   "outputs": [
    {
     "data": {
      "text/plain": [
       "None          26250\n",
       "homepage       8345\n",
       "lookmanual     1965\n",
       "demo           1867\n",
       "manual         1701\n",
       "product        1595\n",
       "index          1421\n",
       "bround         1158\n",
       "about           770\n",
       "courses         752\n",
       "play_video      547\n",
       "tool            151\n",
       "share            20\n",
       "Name: current_page, dtype: int64"
      ]
     },
     "execution_count": 13,
     "metadata": {},
     "output_type": "execute_result"
    }
   ],
   "source": [
    "b4_sign_df.current_page.value_counts(dropna = False)"
   ]
  },
  {
   "cell_type": "markdown",
   "metadata": {},
   "source": [
    "### browser"
   ]
  },
  {
   "cell_type": "code",
   "execution_count": 14,
   "metadata": {
    "collapsed": false,
    "scrolled": true
   },
   "outputs": [
    {
     "data": {
      "text/plain": [
       "chrome            25494\n",
       "NaN                6481\n",
       "safari             4340\n",
       "firefox            2422\n",
       "qq                 1920\n",
       "sogou              1604\n",
       "ie                 1454\n",
       "edge                727\n",
       "uc                  632\n",
       "micromessenger      522\n",
       "webview             203\n",
       "maxthon             179\n",
       "mi                  105\n",
       "baidu                85\n",
       "theworld             82\n",
       "liebao               71\n",
       "360                  59\n",
       "na                   59\n",
       "opera                46\n",
       "android              33\n",
       "tt                   15\n",
       "coolnovo              4\n",
       "yandex                4\n",
       "ali-ap                1\n",
       "Name: browser, dtype: int64"
      ]
     },
     "execution_count": 14,
     "metadata": {},
     "output_type": "execute_result"
    }
   ],
   "source": [
    "b4_sign_df.browser.value_counts(dropna = False)"
   ]
  },
  {
   "cell_type": "markdown",
   "metadata": {},
   "source": [
    "#### classify them into some main group:\n",
    "    chrom, safari, firefox, qq, sogou, ie, others"
   ]
  },
  {
   "cell_type": "code",
   "execution_count": 15,
   "metadata": {
    "collapsed": true
   },
   "outputs": [],
   "source": [
    "b4_sign_df.browser.fillna('None',inplace = True)"
   ]
  },
  {
   "cell_type": "code",
   "execution_count": 16,
   "metadata": {
    "collapsed": false
   },
   "outputs": [],
   "source": [
    "b4_sign_df.loc[(b4_sign_df.browser.apply(lambda x: x not in ['chrome','safari','firefox','qq','sogou','ie', 'None'])),'browser'] = 'others'"
   ]
  },
  {
   "cell_type": "code",
   "execution_count": 17,
   "metadata": {
    "collapsed": false
   },
   "outputs": [
    {
     "data": {
      "text/plain": [
       "chrome     25494\n",
       "None        6481\n",
       "safari      4340\n",
       "others      2827\n",
       "firefox     2422\n",
       "qq          1920\n",
       "sogou       1604\n",
       "ie          1454\n",
       "Name: browser, dtype: int64"
      ]
     },
     "execution_count": 17,
     "metadata": {},
     "output_type": "execute_result"
    }
   ],
   "source": [
    "b4_sign_df.browser.value_counts(dropna = False)"
   ]
  },
  {
   "cell_type": "markdown",
   "metadata": {},
   "source": [
    "### for first_visit_time, just with profile_set_once, not use now"
   ]
  },
  {
   "cell_type": "code",
   "execution_count": 18,
   "metadata": {
    "collapsed": false,
    "scrolled": true
   },
   "outputs": [],
   "source": [
    "# b4_sign_df.first_visit_time.value_counts(dropna=False)\n",
    "# b4_sign_df[(b4_sign_df.first_visit_time.notnull())].event.value_counts(dropna = False)"
   ]
  },
  {
   "cell_type": "code",
   "execution_count": 19,
   "metadata": {
    "collapsed": false
   },
   "outputs": [],
   "source": [
    "# b4_sign_df[(b4_sign_df.event == 'profile_set_once')].tail(1)"
   ]
  },
  {
   "cell_type": "code",
   "execution_count": 20,
   "metadata": {
    "collapsed": false,
    "scrolled": true
   },
   "outputs": [],
   "source": [
    "# b4_sign_df[(b4_sign_df.distinct_id == '7b0215cb110a50650cb3900532fb859ebdceeb9d')]"
   ]
  },
  {
   "cell_type": "code",
   "execution_count": 21,
   "metadata": {
    "collapsed": false,
    "scrolled": true
   },
   "outputs": [],
   "source": [
    "# b4_sign_df.first_visit_time.value_counts(dropna = False)"
   ]
  },
  {
   "cell_type": "markdown",
   "metadata": {},
   "source": [
    "### for ip, maybe we can convert it to district, district is a new feature"
   ]
  },
  {
   "cell_type": "code",
   "execution_count": 22,
   "metadata": {
    "collapsed": false
   },
   "outputs": [],
   "source": [
    "# b4_sign_df[(b4_sign_df.ip.notnull())].event.value_counts(dropna = False)"
   ]
  },
  {
   "cell_type": "markdown",
   "metadata": {},
   "source": [
    "### for latest_utm_term"
   ]
  },
  {
   "cell_type": "code",
   "execution_count": 23,
   "metadata": {
    "collapsed": false,
    "scrolled": true
   },
   "outputs": [],
   "source": [
    "# b4_sign_df.latest_utm_term.value_counts(dropna = False)"
   ]
  },
  {
   "cell_type": "markdown",
   "metadata": {
    "collapsed": false,
    "scrolled": true
   },
   "source": [
    "### for u'latest_utm_campaign'"
   ]
  },
  {
   "cell_type": "code",
   "execution_count": 24,
   "metadata": {
    "collapsed": false
   },
   "outputs": [],
   "source": [
    "# b4_sign_df[(b4_sign_df.latest_utm_campaign.notnull())].event.value_counts(dropna = False)"
   ]
  },
  {
   "cell_type": "code",
   "execution_count": 25,
   "metadata": {
    "collapsed": false,
    "scrolled": true
   },
   "outputs": [],
   "source": [
    "# b4_sign_df.latest_utm_campaign.value_counts(dropna = False)"
   ]
  },
  {
   "cell_type": "markdown",
   "metadata": {
    "collapsed": false,
    "scrolled": true
   },
   "source": [
    "### for u'latest_utm_content'"
   ]
  },
  {
   "cell_type": "code",
   "execution_count": 26,
   "metadata": {
    "collapsed": false,
    "scrolled": true
   },
   "outputs": [],
   "source": [
    "# b4_sign_df.latest_utm_content.value_counts(dropna = False)"
   ]
  },
  {
   "cell_type": "markdown",
   "metadata": {},
   "source": [
    "### for model and os"
   ]
  },
  {
   "cell_type": "code",
   "execution_count": 27,
   "metadata": {
    "collapsed": false,
    "scrolled": true
   },
   "outputs": [
    {
     "data": {
      "text/plain": [
       "pc         24936\n",
       "mac        11796\n",
       "NaN         6481\n",
       "iphone      1437\n",
       "android      487\n",
       "huawei       352\n",
       "na           299\n",
       "vivo         188\n",
       "samsung      133\n",
       "meizu        125\n",
       "mi           113\n",
       "ipad          89\n",
       "nexus         49\n",
       "hongmi        30\n",
       "lenovo         9\n",
       "coolpad        8\n",
       "htc            4\n",
       "oppo           3\n",
       "zte            2\n",
       "lg             1\n",
       "Name: model, dtype: int64"
      ]
     },
     "execution_count": 27,
     "metadata": {},
     "output_type": "execute_result"
    }
   ],
   "source": [
    "# pc, mac, phone,\n",
    "# na???\n",
    "# samsung --> phone\n",
    "b4_sign_df.model.value_counts(dropna = False)"
   ]
  },
  {
   "cell_type": "code",
   "execution_count": 28,
   "metadata": {
    "collapsed": true
   },
   "outputs": [],
   "source": [
    "# b4_sign_df.model.fillna('None',inplace = True)"
   ]
  },
  {
   "cell_type": "code",
   "execution_count": 29,
   "metadata": {
    "collapsed": true
   },
   "outputs": [],
   "source": [
    "# b4_sign_df.loc[(b4_sign_df.model.apply(lambda x: x not in ['pc','mac','iphone','ipad','android','None'])),'model'] = 'android'"
   ]
  },
  {
   "cell_type": "code",
   "execution_count": 30,
   "metadata": {
    "collapsed": false
   },
   "outputs": [
    {
     "data": {
      "text/plain": [
       "windows    24936\n",
       "macosx     11796\n",
       "NaN         6481\n",
       "iOS         1526\n",
       "Android     1504\n",
       "linux        267\n",
       "na            32\n",
       "Name: os, dtype: int64"
      ]
     },
     "execution_count": 30,
     "metadata": {},
     "output_type": "execute_result"
    }
   ],
   "source": [
    "b4_sign_df.os.value_counts(dropna = False)"
   ]
  },
  {
   "cell_type": "markdown",
   "metadata": {},
   "source": [
    "### for title, seems to be overlap with current_page, drop it"
   ]
  },
  {
   "cell_type": "code",
   "execution_count": 31,
   "metadata": {
    "collapsed": false
   },
   "outputs": [],
   "source": [
    "# b4_sign_df[(b4_sign_df.title.notnull())].event.value_counts(dropna = False)"
   ]
  },
  {
   "cell_type": "code",
   "execution_count": 32,
   "metadata": {
    "collapsed": false
   },
   "outputs": [],
   "source": [
    "# b4_sign_df.title.value_counts(dropna = False)"
   ]
  },
  {
   "cell_type": "code",
   "execution_count": 33,
   "metadata": {
    "collapsed": false
   },
   "outputs": [],
   "source": [
    "# b4_sign_df.current_page.value_counts(dropna = False)"
   ]
  },
  {
   "cell_type": "markdown",
   "metadata": {},
   "source": [
    "### for u'utm_campaign', u'utm_content', u'utm_medium', u'utm_source',u'utm_term'"
   ]
  },
  {
   "cell_type": "code",
   "execution_count": 34,
   "metadata": {
    "collapsed": false
   },
   "outputs": [
    {
     "data": {
      "text/plain": [
       "None      36846\n",
       "baidu      8540\n",
       "others      908\n",
       "google      184\n",
       "wechat       64\n",
       "Name: utm_source, dtype: int64"
      ]
     },
     "execution_count": 34,
     "metadata": {},
     "output_type": "execute_result"
    }
   ],
   "source": [
    "b4_sign_df.utm_source.value_counts(dropna = False)"
   ]
  },
  {
   "cell_type": "code",
   "execution_count": 35,
   "metadata": {
    "collapsed": false,
    "scrolled": true
   },
   "outputs": [
    {
     "data": {
      "text/plain": [
       "$pageview           5469\n",
       "profile_set_once    4227\n",
       "Name: event, dtype: int64"
      ]
     },
     "execution_count": 35,
     "metadata": {},
     "output_type": "execute_result"
    }
   ],
   "source": [
    "b4_sign_df[(b4_sign_df.utm_source != 'None')].event.value_counts(dropna = False)"
   ]
  },
  {
   "cell_type": "markdown",
   "metadata": {},
   "source": [
    "### combine latest_utm_source and utm_source"
   ]
  },
  {
   "cell_type": "code",
   "execution_count": 36,
   "metadata": {
    "collapsed": false
   },
   "outputs": [
    {
     "data": {
      "text/plain": [
       "None      22213\n",
       "baidu     21710\n",
       "others     2089\n",
       "wechat      275\n",
       "google      255\n",
       "Name: latest_utm_source, dtype: int64"
      ]
     },
     "execution_count": 36,
     "metadata": {},
     "output_type": "execute_result"
    }
   ],
   "source": [
    "b4_sign_df.latest_utm_source.value_counts(dropna = False)"
   ]
  },
  {
   "cell_type": "code",
   "execution_count": 37,
   "metadata": {
    "collapsed": false
   },
   "outputs": [
    {
     "data": {
      "text/plain": [
       "$pageview                11731\n",
       "btnClick                  5146\n",
       "index_leave               4762\n",
       "demo_leave                 619\n",
       "about_leave                368\n",
       "formSubmit                 353\n",
       "courses_leave              289\n",
       "click_send_cellphone       274\n",
       "courses_play_leave         271\n",
       "verify_cellphone_code      263\n",
       "clickSubmit                213\n",
       "page_close                  40\n",
       "Name: event, dtype: int64"
      ]
     },
     "execution_count": 37,
     "metadata": {},
     "output_type": "execute_result"
    }
   ],
   "source": [
    "b4_sign_df[(b4_sign_df.latest_utm_source != 'None')].event.value_counts(dropna = False)"
   ]
  },
  {
   "cell_type": "code",
   "execution_count": 38,
   "metadata": {
    "collapsed": true
   },
   "outputs": [],
   "source": [
    "b4_sign_df.loc[(b4_sign_df.latest_utm_source == 'None'),\n",
    "               'latest_utm_source'] = b4_sign_df.loc[(b4_sign_df.latest_utm_source == 'None'),'utm_source']"
   ]
  },
  {
   "cell_type": "code",
   "execution_count": 39,
   "metadata": {
    "collapsed": false
   },
   "outputs": [
    {
     "data": {
      "text/plain": [
       "baidu     25418\n",
       "None      17986\n",
       "others     2500\n",
       "google      336\n",
       "wechat      302\n",
       "Name: latest_utm_source, dtype: int64"
      ]
     },
     "execution_count": 39,
     "metadata": {},
     "output_type": "execute_result"
    }
   ],
   "source": [
    "b4_sign_df.latest_utm_source.value_counts(dropna = False)"
   ]
  },
  {
   "cell_type": "markdown",
   "metadata": {},
   "source": [
    "### for utm_media"
   ]
  },
  {
   "cell_type": "code",
   "execution_count": 40,
   "metadata": {
    "collapsed": false
   },
   "outputs": [
    {
     "data": {
      "text/plain": [
       "$pageview           5422\n",
       "profile_set_once    4202\n",
       "Name: event, dtype: int64"
      ]
     },
     "execution_count": 40,
     "metadata": {},
     "output_type": "execute_result"
    }
   ],
   "source": [
    "b4_sign_df[(b4_sign_df.utm_medium.notnull())].event.value_counts(dropna = False)"
   ]
  },
  {
   "cell_type": "code",
   "execution_count": 41,
   "metadata": {
    "collapsed": false
   },
   "outputs": [
    {
     "data": {
      "text/plain": [
       "NaN           36918\n",
       "cpc            7239\n",
       "mcpc           1616\n",
       "mfeed           745\n",
       "default          19\n",
       "production        5\n",
       "Name: utm_medium, dtype: int64"
      ]
     },
     "execution_count": 41,
     "metadata": {},
     "output_type": "execute_result"
    }
   ],
   "source": [
    "b4_sign_df.utm_medium.value_counts(dropna = False)"
   ]
  },
  {
   "cell_type": "code",
   "execution_count": 42,
   "metadata": {
    "collapsed": false
   },
   "outputs": [
    {
     "data": {
      "text/plain": [
       "$pageview                11509\n",
       "btnClick                  5054\n",
       "index_leave               4682\n",
       "demo_leave                 608\n",
       "about_leave                356\n",
       "formSubmit                 352\n",
       "courses_leave              284\n",
       "click_send_cellphone       273\n",
       "courses_play_leave         271\n",
       "verify_cellphone_code      262\n",
       "clickSubmit                212\n",
       "page_close                  40\n",
       "Name: event, dtype: int64"
      ]
     },
     "execution_count": 42,
     "metadata": {},
     "output_type": "execute_result"
    }
   ],
   "source": [
    "b4_sign_df[(b4_sign_df.latest_utm_medium.notnull())].event.value_counts(dropna = False)"
   ]
  },
  {
   "cell_type": "code",
   "execution_count": 43,
   "metadata": {
    "collapsed": false
   },
   "outputs": [
    {
     "data": {
      "text/plain": [
       "NaN                   22639\n",
       "cpc                   20657\n",
       "mcpc                   2153\n",
       "mfeed                   620\n",
       "default                 283\n",
       "answer                   72\n",
       "hao.caibaojian.com       29\n",
       "banner                   23\n",
       "referral                 15\n",
       "production               15\n",
       "toutiao.io               13\n",
       "youjian                   7\n",
       "customer_m                5\n",
       "lixinya                   5\n",
       "sidonghui                 4\n",
       "sidashidai                2\n",
       "Name: latest_utm_medium, dtype: int64"
      ]
     },
     "execution_count": 43,
     "metadata": {},
     "output_type": "execute_result"
    }
   ],
   "source": [
    "b4_sign_df.latest_utm_medium.value_counts(dropna = False)"
   ]
  },
  {
   "cell_type": "code",
   "execution_count": 44,
   "metadata": {
    "collapsed": true
   },
   "outputs": [],
   "source": [
    "b4_sign_df.loc[(b4_sign_df.latest_utm_medium.isnull()),\n",
    "               'latest_utm_medium'] = b4_sign_df.loc[(b4_sign_df.latest_utm_medium.isnull()),'utm_medium']"
   ]
  },
  {
   "cell_type": "markdown",
   "metadata": {},
   "source": [
    "### for latest_utm_medium\n",
    "    google most frequently used medium"
   ]
  },
  {
   "cell_type": "code",
   "execution_count": 45,
   "metadata": {
    "collapsed": true
   },
   "outputs": [],
   "source": [
    "b4_sign_df.latest_utm_medium.fillna('None',inplace = True)"
   ]
  },
  {
   "cell_type": "code",
   "execution_count": 46,
   "metadata": {
    "collapsed": false
   },
   "outputs": [],
   "source": [
    "# b4_sign_df[(b4_sign_df.latest_utm_medium.notnull())].event.value_counts(dropna = False)"
   ]
  },
  {
   "cell_type": "code",
   "execution_count": 47,
   "metadata": {
    "collapsed": true
   },
   "outputs": [],
   "source": [
    "b4_sign_df.loc[(b4_sign_df.latest_utm_medium.apply(lambda x: x not in ['cpc','None','mcpc','mfeed','default'])),\n",
    "               'latest_utm_medium'] = 'other'"
   ]
  },
  {
   "cell_type": "code",
   "execution_count": 48,
   "metadata": {
    "collapsed": false,
    "scrolled": true
   },
   "outputs": [
    {
     "data": {
      "text/plain": [
       "cpc        23789\n",
       "None       18437\n",
       "mcpc        2898\n",
       "mfeed        941\n",
       "default      286\n",
       "other        191\n",
       "Name: latest_utm_medium, dtype: int64"
      ]
     },
     "execution_count": 48,
     "metadata": {},
     "output_type": "execute_result"
    }
   ],
   "source": [
    "b4_sign_df.latest_utm_medium.value_counts(dropna = False)"
   ]
  },
  {
   "cell_type": "markdown",
   "metadata": {},
   "source": [
    "### for u'session_referrer_host' just keep it"
   ]
  },
  {
   "cell_type": "code",
   "execution_count": 49,
   "metadata": {
    "collapsed": false,
    "scrolled": true
   },
   "outputs": [],
   "source": [
    "# b4_sign_df.session_referrer_host.value_counts(dropna = False)"
   ]
  },
  {
   "cell_type": "code",
   "execution_count": 50,
   "metadata": {
    "collapsed": false
   },
   "outputs": [],
   "source": [
    "# b4_sign_df[(b4_sign_df.session_referrer_host.notnull())].event.value_counts()"
   ]
  },
  {
   "cell_type": "markdown",
   "metadata": {},
   "source": [
    "    waiting for being imputed by others"
   ]
  },
  {
   "cell_type": "markdown",
   "metadata": {},
   "source": [
    "### for u'referrer_host', keep it alone"
   ]
  },
  {
   "cell_type": "code",
   "execution_count": 51,
   "metadata": {
    "collapsed": false,
    "scrolled": true
   },
   "outputs": [
    {
     "data": {
      "text/plain": [
       "NaN                                       30718\n",
       "www.sensorsdata.cn                         7397\n",
       "www.baidu.com                              4250\n",
       "sensorsdata.cn                             1525\n",
       "m.baidu.com                                 582\n",
       "www.sogou.com                               240\n",
       "36kr.com                                    166\n",
       "localhost                                   151\n",
       "www.google.com                              120\n",
       "wap.sogou.com                               106\n",
       "www.google.com.hk                           100\n",
       "link.zhihu.com                               96\n",
       "m.sogou.com                                  94\n",
       "image.baidu.com                              53\n",
       "www.so.com                                   38\n",
       "googleads.g.doubleclick.net                  35\n",
       "www.google.co.jp                             34\n",
       "47.93.117.49                                 27\n",
       "www.woshipm.com                              26\n",
       "zhengbangchuangyi.cloud.sensorsdata.cn       20\n",
       "cn.bing.com                                  20\n",
       "zhidao.baidu.com                             19\n",
       "ebizdemo.cloud.sensorsdata.cn                19\n",
       "116.62.89.9                                  16\n",
       "wapbaike.baidu.com                           15\n",
       "sensors.ishansong.com                        14\n",
       "youxuan.baidu.com                            14\n",
       "data.corp.36kr.com                           12\n",
       "data.jyw.xy.com                              12\n",
       "c.tieba.baidu.com                            11\n",
       "                                          ...  \n",
       "114.215.45.105                                1\n",
       "rong.36kr.com                                 1\n",
       "www.appganhuo.com                             1\n",
       "120.25.99.90                                  1\n",
       "100.73.0.56                                   1\n",
       "www.google.fr                                 1\n",
       "sensors.sta.holaverse.com                     1\n",
       "sc.ppmoney.com                                1\n",
       "106.185.42.123                                1\n",
       "hao.2b.cn                                     1\n",
       "huaban.com                                    1\n",
       "mail.yixia.com                                1\n",
       "salestest.cloud.sensorsdata.cn                1\n",
       "www.google.com.au                             1\n",
       "mm.263.com                                    1\n",
       "api.ezrpro.com                                1\n",
       "ts2.m.sm.cn                                   1\n",
       "zhibodemo.cloud.sensorsdata.cn                1\n",
       "saweb.quickcan.com                            1\n",
       "wiki.corp.apus.com                            1\n",
       "sc.zhugefang.com                              1\n",
       "qiye.aliyun.com                               1\n",
       "192.168.19.105                                1\n",
       "192.168.1.254                                 1\n",
       "sensorsdata.ppdaicorp.com                     1\n",
       "mail.ym.163.com                               1\n",
       "192.168.3.130                                 1\n",
       "uxren.cn                                      1\n",
       "note.youdao.com                               1\n",
       "ju.outofmemory.cn                             1\n",
       "Name: referrer_host, dtype: int64"
      ]
     },
     "execution_count": 51,
     "metadata": {},
     "output_type": "execute_result"
    }
   ],
   "source": [
    "b4_sign_df.referrer_host.value_counts(dropna = False)"
   ]
  },
  {
   "cell_type": "code",
   "execution_count": 52,
   "metadata": {
    "collapsed": false
   },
   "outputs": [
    {
     "data": {
      "text/plain": [
       "$pageview    15824\n",
       "Name: event, dtype: int64"
      ]
     },
     "execution_count": 52,
     "metadata": {},
     "output_type": "execute_result"
    }
   ],
   "source": [
    "b4_sign_df[(b4_sign_df.referrer_host.notnull())].event.value_counts()"
   ]
  },
  {
   "cell_type": "code",
   "execution_count": 53,
   "metadata": {
    "collapsed": true
   },
   "outputs": [],
   "source": [
    "b4_sign_df.referrer_host.fillna('None',inplace = True)"
   ]
  },
  {
   "cell_type": "code",
   "execution_count": 54,
   "metadata": {
    "collapsed": false
   },
   "outputs": [],
   "source": [
    "b4_sign_df.loc[(b4_sign_df.referrer_host.apply(lambda x: 'baidu' in x)),'referrer_host'] = 'baidu'"
   ]
  },
  {
   "cell_type": "code",
   "execution_count": 55,
   "metadata": {
    "collapsed": false
   },
   "outputs": [],
   "source": [
    "b4_sign_df.loc[(b4_sign_df.referrer_host.apply(lambda x: 'google' in x)),'referrer_host'] = 'google'"
   ]
  },
  {
   "cell_type": "code",
   "execution_count": 56,
   "metadata": {
    "collapsed": false
   },
   "outputs": [],
   "source": [
    "b4_sign_df.loc[(b4_sign_df.referrer_host.apply(lambda x: 'sogou' in x)),'referrer_host'] = 'sogou'"
   ]
  },
  {
   "cell_type": "code",
   "execution_count": 57,
   "metadata": {
    "collapsed": false
   },
   "outputs": [],
   "source": [
    "b4_sign_df.loc[(b4_sign_df.referrer_host.apply(lambda x: 'bing' in x)),'referrer_host'] = 'bing'"
   ]
  },
  {
   "cell_type": "code",
   "execution_count": 58,
   "metadata": {
    "collapsed": false
   },
   "outputs": [],
   "source": [
    "b4_sign_df.loc[(b4_sign_df.referrer_host.apply(lambda x: 'sensors' in x)),'referrer_host'] = 'sensors'"
   ]
  },
  {
   "cell_type": "code",
   "execution_count": 59,
   "metadata": {
    "collapsed": false
   },
   "outputs": [],
   "source": [
    "b4_sign_df.loc[(b4_sign_df.referrer_host.apply(lambda x: '36kr' in x)),'referrer_host'] = '36kr'"
   ]
  },
  {
   "cell_type": "code",
   "execution_count": 60,
   "metadata": {
    "collapsed": false
   },
   "outputs": [],
   "source": [
    "b4_sign_df.loc[(b4_sign_df.referrer_host.apply(lambda x: 'zhihu' in x)),'referrer_host'] = 'zhihu'"
   ]
  },
  {
   "cell_type": "code",
   "execution_count": 61,
   "metadata": {
    "collapsed": false
   },
   "outputs": [],
   "source": [
    "# b4_sign_df.loc[(b4_sign_df.referrer_host.apply(lambda x: 'github' in x)),'referrer_host'] = 'github'"
   ]
  },
  {
   "cell_type": "code",
   "execution_count": 62,
   "metadata": {
    "collapsed": false
   },
   "outputs": [],
   "source": [
    "b4_sign_df.loc[(\n",
    "        b4_sign_df.referrer_host.apply(\n",
    "            lambda x: \n",
    "            x not in ['google','None', 'baidu','sogou','36kr','localhost','sensors','zhihu'])),\n",
    "               'referrer_host'] = 'others'"
   ]
  },
  {
   "cell_type": "code",
   "execution_count": 63,
   "metadata": {
    "collapsed": false
   },
   "outputs": [
    {
     "data": {
      "text/plain": [
       "None         30718\n",
       "sensors       9076\n",
       "baidu         4970\n",
       "others         555\n",
       "sogou          455\n",
       "google         322\n",
       "36kr           199\n",
       "localhost      151\n",
       "zhihu           96\n",
       "Name: referrer_host, dtype: int64"
      ]
     },
     "execution_count": 63,
     "metadata": {},
     "output_type": "execute_result"
    }
   ],
   "source": [
    "b4_sign_df.referrer_host.value_counts(dropna = False)"
   ]
  },
  {
   "cell_type": "code",
   "execution_count": 64,
   "metadata": {
    "collapsed": true
   },
   "outputs": [],
   "source": [
    "b4_sign_df.rename(columns = {'referrer_host':'ref_host_pageview'}, inplace = True)"
   ]
  },
  {
   "cell_type": "markdown",
   "metadata": {},
   "source": [
    "### for u'referrHostUrl', to impute url_to_submit, and session_referrer_host, and drop it."
   ]
  },
  {
   "cell_type": "code",
   "execution_count": 65,
   "metadata": {
    "collapsed": false,
    "scrolled": true
   },
   "outputs": [
    {
     "data": {
      "text/plain": [
       "NaN                   46358\n",
       "www.baidu.com           148\n",
       "www.sogou.com            13\n",
       "www.so.com                4\n",
       "m.baidu.com               3\n",
       "link.zhihu.com            2\n",
       "www.google.com.hk         2\n",
       "class.sanjieke.cn         1\n",
       "blog.csdn.net             1\n",
       "qiye.aliyun.com           1\n",
       "cn.bing.com               1\n",
       "blog.tingyun.com          1\n",
       "shimo.im                  1\n",
       "segmentfault.com          1\n",
       "newseed.pedaily.cn        1\n",
       "sc.vipkid.com.cn          1\n",
       "youxuan.baidu.com         1\n",
       "so.m.sm.cn                1\n",
       "www.tisiwi.com            1\n",
       "Name: referrHostUrl, dtype: int64"
      ]
     },
     "execution_count": 65,
     "metadata": {},
     "output_type": "execute_result"
    }
   ],
   "source": [
    "b4_sign_df.referrHostUrl.value_counts(dropna = False)"
   ]
  },
  {
   "cell_type": "code",
   "execution_count": 66,
   "metadata": {
    "collapsed": false
   },
   "outputs": [
    {
     "data": {
      "text/plain": [
       "formSubmit    184\n",
       "Name: event, dtype: int64"
      ]
     },
     "execution_count": 66,
     "metadata": {},
     "output_type": "execute_result"
    }
   ],
   "source": [
    "b4_sign_df[(b4_sign_df.referrHostUrl.notnull())].event.value_counts()"
   ]
  },
  {
   "cell_type": "code",
   "execution_count": 67,
   "metadata": {
    "collapsed": false,
    "scrolled": true
   },
   "outputs": [
    {
     "data": {
      "text/plain": [
       "www.baidu.com                             20045\n",
       "NaN                                       17814\n",
       "www.sensorsdata.cn                         1291\n",
       "36kr.com                                   1087\n",
       "www.sogou.com                              1066\n",
       "m.baidu.com                                1063\n",
       "www.google.com                              648\n",
       "www.google.com.hk                           542\n",
       "sensorsdata.cn                              380\n",
       "www.so.com                                  243\n",
       "link.zhihu.com                              209\n",
       "cn.bing.com                                 155\n",
       "www.google.co.jp                            147\n",
       "wap.sogou.com                               137\n",
       "m.sogou.com                                 124\n",
       "www.woshipm.com                             118\n",
       "image.baidu.com                              74\n",
       "class.sanjieke.cn                            56\n",
       "www.mulumu.com                               54\n",
       "passport.36kr.com                            53\n",
       "googleads.g.doubleclick.net                  50\n",
       "zhengbangchuangyi.cloud.sensorsdata.cn       49\n",
       "wenku.baidu.com                              46\n",
       "zhidao.baidu.com                             46\n",
       "mail.alibaba-inc.com                         45\n",
       "youxuan.baidu.com                            42\n",
       "www.linear.vc                                41\n",
       "www.google.com.ph                            37\n",
       "www.itjuzi.com                               31\n",
       "www.google.com.tw                            28\n",
       "                                          ...  \n",
       "www.3lian.com                                 3\n",
       "ch.cloud.sensorsdata.cn                       3\n",
       "hao.199it.com                                 3\n",
       "geek.csdn.net                                 2\n",
       "sensors.ymt360.com                            2\n",
       "uc.36kr.com                                   2\n",
       "sd.int.jumei.com                              2\n",
       "www.xfz.cn                                    2\n",
       "65.111.161.235                                2\n",
       "www.google.co.kr                              2\n",
       "datadang.com                                  2\n",
       "10.201.48.21                                  2\n",
       "rong.36kr.com                                 2\n",
       "106.185.42.123                                2\n",
       "huaban.com                                    2\n",
       "www.prnasia.com                               2\n",
       "tower.im                                      2\n",
       "vtrack.cloud.sensorsdata.cn                   2\n",
       "101.37.29.83                                  1\n",
       "hao.2b.cn                                     1\n",
       "sas.foneshare.cn                              1\n",
       "116.62.89.9                                   1\n",
       "duckduckgo.com                                1\n",
       "www.google.com.au                             1\n",
       "www.imgeek.org                                1\n",
       "lnkd.in                                       1\n",
       "chuang.36kr.com                               1\n",
       "sd.xingshulin.com                             1\n",
       "www.jiuzhilan.com                             1\n",
       "www.google.co.zm                              1\n",
       "Name: session_referrer_host, dtype: int64"
      ]
     },
     "execution_count": 67,
     "metadata": {},
     "output_type": "execute_result"
    }
   ],
   "source": [
    "b4_sign_df.session_referrer_host.value_counts(dropna = False)"
   ]
  },
  {
   "cell_type": "code",
   "execution_count": 68,
   "metadata": {
    "collapsed": true
   },
   "outputs": [],
   "source": [
    "b4_sign_df.loc[(b4_sign_df.session_referrer_host.isnull()),\n",
    "               'session_referrer_host'] = b4_sign_df.loc[(b4_sign_df.session_referrer_host.isnull()),'referrHostUrl']"
   ]
  },
  {
   "cell_type": "code",
   "execution_count": 69,
   "metadata": {
    "collapsed": false,
    "scrolled": true
   },
   "outputs": [
    {
     "data": {
      "text/plain": [
       "www.baidu.com                             20045\n",
       "NaN                                       17812\n",
       "www.sensorsdata.cn                         1291\n",
       "36kr.com                                   1087\n",
       "www.sogou.com                              1066\n",
       "m.baidu.com                                1063\n",
       "www.google.com                              648\n",
       "www.google.com.hk                           542\n",
       "sensorsdata.cn                              380\n",
       "www.so.com                                  243\n",
       "link.zhihu.com                              209\n",
       "cn.bing.com                                 155\n",
       "www.google.co.jp                            147\n",
       "wap.sogou.com                               137\n",
       "m.sogou.com                                 124\n",
       "www.woshipm.com                             118\n",
       "image.baidu.com                              74\n",
       "class.sanjieke.cn                            56\n",
       "www.mulumu.com                               54\n",
       "passport.36kr.com                            53\n",
       "googleads.g.doubleclick.net                  50\n",
       "zhengbangchuangyi.cloud.sensorsdata.cn       49\n",
       "wenku.baidu.com                              46\n",
       "zhidao.baidu.com                             46\n",
       "mail.alibaba-inc.com                         45\n",
       "youxuan.baidu.com                            42\n",
       "www.linear.vc                                41\n",
       "www.google.com.ph                            37\n",
       "www.itjuzi.com                               31\n",
       "www.google.com.tw                            28\n",
       "                                          ...  \n",
       "www.3lian.com                                 3\n",
       "ch.cloud.sensorsdata.cn                       3\n",
       "hao.199it.com                                 3\n",
       "geek.csdn.net                                 2\n",
       "sensors.ymt360.com                            2\n",
       "uc.36kr.com                                   2\n",
       "sd.int.jumei.com                              2\n",
       "www.xfz.cn                                    2\n",
       "65.111.161.235                                2\n",
       "www.google.co.kr                              2\n",
       "datadang.com                                  2\n",
       "10.201.48.21                                  2\n",
       "rong.36kr.com                                 2\n",
       "106.185.42.123                                2\n",
       "huaban.com                                    2\n",
       "www.prnasia.com                               2\n",
       "tower.im                                      2\n",
       "vtrack.cloud.sensorsdata.cn                   2\n",
       "101.37.29.83                                  1\n",
       "hao.2b.cn                                     1\n",
       "sas.foneshare.cn                              1\n",
       "116.62.89.9                                   1\n",
       "duckduckgo.com                                1\n",
       "www.google.com.au                             1\n",
       "www.imgeek.org                                1\n",
       "lnkd.in                                       1\n",
       "chuang.36kr.com                               1\n",
       "sd.xingshulin.com                             1\n",
       "www.jiuzhilan.com                             1\n",
       "www.google.co.zm                              1\n",
       "Name: session_referrer_host, dtype: int64"
      ]
     },
     "execution_count": 69,
     "metadata": {},
     "output_type": "execute_result"
    }
   ],
   "source": [
    "b4_sign_df.session_referrer_host.value_counts(dropna = False)"
   ]
  },
  {
   "cell_type": "code",
   "execution_count": 70,
   "metadata": {
    "collapsed": false
   },
   "outputs": [
    {
     "data": {
      "text/plain": [
       "None           46035\n",
       "baidu            407\n",
       "demo              64\n",
       "sogou             26\n",
       "zhihu              4\n",
       "wechat             2\n",
       "tianguang          2\n",
       "sanjieke.cn        2\n",
       "Name: url_to_submit, dtype: int64"
      ]
     },
     "execution_count": 70,
     "metadata": {},
     "output_type": "execute_result"
    }
   ],
   "source": [
    "b4_sign_df.url_to_submit.value_counts(dropna = False)"
   ]
  },
  {
   "cell_type": "code",
   "execution_count": 71,
   "metadata": {
    "collapsed": true
   },
   "outputs": [],
   "source": [
    "b4_sign_df.loc[(b4_sign_df.url_to_submit == 'None'),\n",
    "               'url_to_submit'] = b4_sign_df.loc[(b4_sign_df.url_to_submit == 'None'),'referrHostUrl']"
   ]
  },
  {
   "cell_type": "code",
   "execution_count": 72,
   "metadata": {
    "collapsed": false
   },
   "outputs": [
    {
     "data": {
      "text/plain": [
       "NaN                   46006\n",
       "baidu                   407\n",
       "demo                     64\n",
       "sogou                    26\n",
       "www.baidu.com            17\n",
       "zhihu                     4\n",
       "www.so.com                3\n",
       "www.google.com.hk         2\n",
       "wechat                    2\n",
       "tianguang                 2\n",
       "sanjieke.cn               2\n",
       "qiye.aliyun.com           1\n",
       "link.zhihu.com            1\n",
       "shimo.im                  1\n",
       "blog.tingyun.com          1\n",
       "newseed.pedaily.cn        1\n",
       "cn.bing.com               1\n",
       "www.tisiwi.com            1\n",
       "Name: url_to_submit, dtype: int64"
      ]
     },
     "execution_count": 72,
     "metadata": {},
     "output_type": "execute_result"
    }
   ],
   "source": [
    "b4_sign_df.url_to_submit.value_counts(dropna = False)"
   ]
  },
  {
   "cell_type": "code",
   "execution_count": 73,
   "metadata": {
    "collapsed": true
   },
   "outputs": [],
   "source": [
    "b4_sign_df.url_to_submit.fillna('None',inplace = True)"
   ]
  },
  {
   "cell_type": "code",
   "execution_count": 74,
   "metadata": {
    "collapsed": true
   },
   "outputs": [],
   "source": [
    "b4_sign_df.loc[(b4_sign_df.url_to_submit.apply(lambda x: 'baidu' in x)), 'url_to_submit'] = 'baidu'"
   ]
  },
  {
   "cell_type": "code",
   "execution_count": 75,
   "metadata": {
    "collapsed": true
   },
   "outputs": [],
   "source": [
    "b4_sign_df.loc[(b4_sign_df.url_to_submit.apply(lambda x: x not in ['None', 'demo', 'sogou', 'baidu'])), 'url_to_submit'] = 'others'"
   ]
  },
  {
   "cell_type": "markdown",
   "metadata": {},
   "source": [
    "### for first_referrer_host', impute session_referr_host, drop it."
   ]
  },
  {
   "cell_type": "code",
   "execution_count": 76,
   "metadata": {
    "collapsed": false,
    "scrolled": true
   },
   "outputs": [],
   "source": [
    "# b4_sign_df.first_referrer_host.value_counts(dropna = False)"
   ]
  },
  {
   "cell_type": "code",
   "execution_count": 77,
   "metadata": {
    "collapsed": false,
    "scrolled": true
   },
   "outputs": [
    {
     "data": {
      "text/plain": [
       "www.baidu.com                             20045\n",
       "NaN                                       17812\n",
       "www.sensorsdata.cn                         1291\n",
       "36kr.com                                   1087\n",
       "www.sogou.com                              1066\n",
       "m.baidu.com                                1063\n",
       "www.google.com                              648\n",
       "www.google.com.hk                           542\n",
       "sensorsdata.cn                              380\n",
       "www.so.com                                  243\n",
       "link.zhihu.com                              209\n",
       "cn.bing.com                                 155\n",
       "www.google.co.jp                            147\n",
       "wap.sogou.com                               137\n",
       "m.sogou.com                                 124\n",
       "www.woshipm.com                             118\n",
       "image.baidu.com                              74\n",
       "class.sanjieke.cn                            56\n",
       "www.mulumu.com                               54\n",
       "passport.36kr.com                            53\n",
       "googleads.g.doubleclick.net                  50\n",
       "zhengbangchuangyi.cloud.sensorsdata.cn       49\n",
       "wenku.baidu.com                              46\n",
       "zhidao.baidu.com                             46\n",
       "mail.alibaba-inc.com                         45\n",
       "youxuan.baidu.com                            42\n",
       "www.linear.vc                                41\n",
       "www.google.com.ph                            37\n",
       "www.itjuzi.com                               31\n",
       "www.google.com.tw                            28\n",
       "                                          ...  \n",
       "www.3lian.com                                 3\n",
       "ch.cloud.sensorsdata.cn                       3\n",
       "hao.199it.com                                 3\n",
       "geek.csdn.net                                 2\n",
       "sensors.ymt360.com                            2\n",
       "uc.36kr.com                                   2\n",
       "sd.int.jumei.com                              2\n",
       "www.xfz.cn                                    2\n",
       "65.111.161.235                                2\n",
       "www.google.co.kr                              2\n",
       "datadang.com                                  2\n",
       "10.201.48.21                                  2\n",
       "rong.36kr.com                                 2\n",
       "106.185.42.123                                2\n",
       "huaban.com                                    2\n",
       "www.prnasia.com                               2\n",
       "tower.im                                      2\n",
       "vtrack.cloud.sensorsdata.cn                   2\n",
       "101.37.29.83                                  1\n",
       "hao.2b.cn                                     1\n",
       "sas.foneshare.cn                              1\n",
       "116.62.89.9                                   1\n",
       "duckduckgo.com                                1\n",
       "www.google.com.au                             1\n",
       "www.imgeek.org                                1\n",
       "lnkd.in                                       1\n",
       "chuang.36kr.com                               1\n",
       "sd.xingshulin.com                             1\n",
       "www.jiuzhilan.com                             1\n",
       "www.google.co.zm                              1\n",
       "Name: session_referrer_host, dtype: int64"
      ]
     },
     "execution_count": 77,
     "metadata": {},
     "output_type": "execute_result"
    }
   ],
   "source": [
    "b4_sign_df.session_referrer_host.value_counts(dropna = False)"
   ]
  },
  {
   "cell_type": "code",
   "execution_count": 78,
   "metadata": {
    "collapsed": true
   },
   "outputs": [],
   "source": [
    "b4_sign_df.loc[(b4_sign_df.session_referrer_host.isnull()),\n",
    "               'session_referrer_host'] = b4_sign_df.loc[(b4_sign_df.session_referrer_host.isnull()),'first_referrer_host']"
   ]
  },
  {
   "cell_type": "code",
   "execution_count": 79,
   "metadata": {
    "collapsed": false,
    "scrolled": true
   },
   "outputs": [
    {
     "data": {
      "text/plain": [
       "www.baidu.com                             23104\n",
       "NaN                                       13089\n",
       "m.baidu.com                                1529\n",
       "www.sensorsdata.cn                         1339\n",
       "www.sogou.com                              1278\n",
       "36kr.com                                   1240\n",
       "www.google.com                              697\n",
       "www.google.com.hk                           600\n",
       "sensorsdata.cn                              383\n",
       "link.zhihu.com                              277\n",
       "www.so.com                                  271\n",
       "wap.sogou.com                               230\n",
       "m.sogou.com                                 202\n",
       "cn.bing.com                                 164\n",
       "www.google.co.jp                            161\n",
       "www.woshipm.com                             138\n",
       "image.baidu.com                             110\n",
       "googleads.g.doubleclick.net                  84\n",
       "class.sanjieke.cn                            65\n",
       "zhidao.baidu.com                             61\n",
       "passport.36kr.com                            59\n",
       "wenku.baidu.com                              56\n",
       "www.mulumu.com                               55\n",
       "youxuan.baidu.com                            52\n",
       "zhengbangchuangyi.cloud.sensorsdata.cn       49\n",
       "mail.alibaba-inc.com                         45\n",
       "www.linear.vc                                42\n",
       "www.google.com.ph                            40\n",
       "www.itjuzi.com                               34\n",
       "www.google.com.tw                            33\n",
       "                                          ...  \n",
       "analytics.51credit.com                        2\n",
       "chuang.36kr.com                               2\n",
       "www.google.co.zm                              2\n",
       "vtrack.cloud.sensorsdata.cn                   2\n",
       "sensors.jiedaibao.com                         1\n",
       "127.0.0.1                                     1\n",
       "sc.ppmoney.com                                1\n",
       "data.corp.36kr.com                            1\n",
       "ba-demo.tingyun.com                           1\n",
       "tongji.yeshen.com                             1\n",
       "192.168.229.26                                1\n",
       "112.124.212.243                               1\n",
       "data.jyw.xy.com                               1\n",
       "sawiki2.nie.netease.com                       1\n",
       "101.37.29.83                                  1\n",
       "sc.zhugefang.com                              1\n",
       "confluence.bbtree.com                         1\n",
       "view.yiqioffice.com                           1\n",
       "saweb.quickcan.com                            1\n",
       "data.kikuu.com                                1\n",
       "168.63.205.22                                 1\n",
       "ysdss.tking.cn                                1\n",
       "106.75.134.247                                1\n",
       "192.168.1.254                                 1\n",
       "ts2.m.sm.cn                                   1\n",
       "10.10.16.14                                   1\n",
       "sd.xingshulin.com                             1\n",
       "stat-sc.formaxoa.com                          1\n",
       "120.25.99.90                                  1\n",
       "data.wxrrd.com                                1\n",
       "Name: session_referrer_host, dtype: int64"
      ]
     },
     "execution_count": 79,
     "metadata": {},
     "output_type": "execute_result"
    }
   ],
   "source": [
    "b4_sign_df.session_referrer_host.value_counts(dropna = False)"
   ]
  },
  {
   "cell_type": "code",
   "execution_count": 80,
   "metadata": {
    "collapsed": true
   },
   "outputs": [],
   "source": [
    "b4_sign_df.session_referrer_host.fillna('None', inplace = True)"
   ]
  },
  {
   "cell_type": "code",
   "execution_count": 81,
   "metadata": {
    "collapsed": false
   },
   "outputs": [],
   "source": [
    "b4_sign_df.loc[(b4_sign_df.session_referrer_host.apply(lambda x: 'baidu' in x)), 'session_referrer_host'] = 'baidu'"
   ]
  },
  {
   "cell_type": "code",
   "execution_count": 82,
   "metadata": {
    "collapsed": false
   },
   "outputs": [],
   "source": [
    "b4_sign_df.loc[(b4_sign_df.session_referrer_host.apply(lambda x: 'sogou' in x)), 'session_referrer_host'] = 'sogou'"
   ]
  },
  {
   "cell_type": "code",
   "execution_count": 83,
   "metadata": {
    "collapsed": false
   },
   "outputs": [],
   "source": [
    "b4_sign_df.loc[(b4_sign_df.session_referrer_host.apply(lambda x: 'google' in x)), 'session_referrer_host'] = 'google'"
   ]
  },
  {
   "cell_type": "code",
   "execution_count": 84,
   "metadata": {
    "collapsed": false
   },
   "outputs": [],
   "source": [
    "b4_sign_df.loc[(b4_sign_df.session_referrer_host.apply(lambda x: 'zhihu' in x)), 'session_referrer_host'] = 'zhihu'"
   ]
  },
  {
   "cell_type": "code",
   "execution_count": 85,
   "metadata": {
    "collapsed": false
   },
   "outputs": [],
   "source": [
    "b4_sign_df.loc[(b4_sign_df.session_referrer_host.apply(lambda x: 'bing' in x)), 'session_referrer_host'] = 'bing'"
   ]
  },
  {
   "cell_type": "code",
   "execution_count": 86,
   "metadata": {
    "collapsed": false
   },
   "outputs": [],
   "source": [
    "b4_sign_df.loc[(b4_sign_df.session_referrer_host.apply(lambda x: 'sensors' in x)), 'session_referrer_host'] = 'sensors'"
   ]
  },
  {
   "cell_type": "code",
   "execution_count": 87,
   "metadata": {
    "collapsed": true
   },
   "outputs": [],
   "source": [
    "b4_sign_df.loc[(\n",
    "        b4_sign_df.session_referrer_host.apply(\n",
    "            lambda x: x not in ['None', 'baidu', 'sogou', 'google','zhihu','bing','36kr','bing','sensors'])), \n",
    "               'session_referrer_host'] = 'others'"
   ]
  },
  {
   "cell_type": "markdown",
   "metadata": {},
   "source": [
    "### for u'company', u'contact', u'email', name, if fill out form to sign up"
   ]
  },
  {
   "cell_type": "markdown",
   "metadata": {},
   "source": [
    "### for u'url_to_submit'(from_url) just keep it"
   ]
  },
  {
   "cell_type": "code",
   "execution_count": 88,
   "metadata": {
    "collapsed": false
   },
   "outputs": [
    {
     "data": {
      "text/plain": [
       "None      46006\n",
       "baidu       424\n",
       "demo         64\n",
       "sogou        26\n",
       "others       22\n",
       "Name: url_to_submit, dtype: int64"
      ]
     },
     "execution_count": 88,
     "metadata": {},
     "output_type": "execute_result"
    }
   ],
   "source": [
    "b4_sign_df.url_to_submit.value_counts(dropna = False)"
   ]
  },
  {
   "cell_type": "markdown",
   "metadata": {},
   "source": [
    "### for u'isMsg' only in formSubmit ???"
   ]
  },
  {
   "cell_type": "code",
   "execution_count": 89,
   "metadata": {
    "collapsed": false
   },
   "outputs": [],
   "source": [
    "# b4_sign_df.isMsg.value_counts(dropna = False)"
   ]
  },
  {
   "cell_type": "code",
   "execution_count": 90,
   "metadata": {
    "collapsed": false
   },
   "outputs": [],
   "source": [
    "# b4_sign_df[(b4_sign_df.isMsg.notnull())].event.value_counts(dropna = False)"
   ]
  },
  {
   "cell_type": "code",
   "execution_count": 91,
   "metadata": {
    "collapsed": false
   },
   "outputs": [],
   "source": [
    "# b4_sign_df[(b4_sign_df.isMsg == True)].isSuccess.value_counts(dropna = False)"
   ]
  },
  {
   "cell_type": "code",
   "execution_count": 92,
   "metadata": {
    "collapsed": false
   },
   "outputs": [],
   "source": [
    "# b4_sign_df[(b4_sign_df.isMsg == False)].isSuccess.value_counts(dropna = False)"
   ]
  },
  {
   "cell_type": "markdown",
   "metadata": {},
   "source": [
    "### for isSuccess just keep it, count # failure and wether it successed at last"
   ]
  },
  {
   "cell_type": "markdown",
   "metadata": {},
   "source": [
    "### for name in btnClick just use it when name == request, set others aside"
   ]
  },
  {
   "cell_type": "code",
   "execution_count": 93,
   "metadata": {
    "collapsed": false
   },
   "outputs": [
    {
     "data": {
      "text/plain": [
       "btnClick       8286\n",
       "formSubmit      502\n",
       "clickSubmit     291\n",
       "Name: event, dtype: int64"
      ]
     },
     "execution_count": 93,
     "metadata": {},
     "output_type": "execute_result"
    }
   ],
   "source": [
    "b4_sign_df[(b4_sign_df.name.notnull())].event.value_counts()"
   ]
  },
  {
   "cell_type": "code",
   "execution_count": 94,
   "metadata": {
    "collapsed": false,
    "scrolled": true
   },
   "outputs": [
    {
     "data": {
      "text/plain": [
       "request     1891\n",
       "document    1314\n",
       "demo        1280\n",
       "product     1211\n",
       "b-round      814\n",
       "about        588\n",
       "blog         496\n",
       "viedo        361\n",
       "logo         278\n",
       "mail          53\n",
       "Name: name, dtype: int64"
      ]
     },
     "execution_count": 94,
     "metadata": {},
     "output_type": "execute_result"
    }
   ],
   "source": [
    "b4_sign_df[(b4_sign_df.event == 'btnClick')].name.value_counts(dropna = False)"
   ]
  },
  {
   "cell_type": "code",
   "execution_count": 95,
   "metadata": {
    "collapsed": false
   },
   "outputs": [
    {
     "data": {
      "text/plain": [
       "homepage      8345\n",
       "lookmanual    1965\n",
       "demo          1867\n",
       "manual        1701\n",
       "product       1595\n",
       "index         1421\n",
       "bround        1158\n",
       "about          770\n",
       "courses        752\n",
       "play_video     547\n",
       "tool           151\n",
       "share           20\n",
       "Name: current_page, dtype: int64"
      ]
     },
     "execution_count": 95,
     "metadata": {},
     "output_type": "execute_result"
    }
   ],
   "source": [
    "b4_sign_df[b4_sign_df.event == '$pageview'].current_page.value_counts(dropna = False)"
   ]
  },
  {
   "cell_type": "markdown",
   "metadata": {},
   "source": [
    "### for u'btnClick_page'"
   ]
  },
  {
   "cell_type": "code",
   "execution_count": 97,
   "metadata": {
    "collapsed": false
   },
   "outputs": [
    {
     "data": {
      "text/plain": [
       "None             39574\n",
       "index             5143\n",
       "demo               853\n",
       "about              526\n",
       "courses_index      446\n",
       "Name: btnClick_page, dtype: int64"
      ]
     },
     "execution_count": 97,
     "metadata": {},
     "output_type": "execute_result"
    }
   ],
   "source": [
    "b4_sign_df.btnClick_page.value_counts(dropna = False)"
   ]
  },
  {
   "cell_type": "code",
   "execution_count": 99,
   "metadata": {
    "collapsed": false,
    "scrolled": true
   },
   "outputs": [
    {
     "data": {
      "text/plain": [
       "$pageview                20292\n",
       "btnClick                  8286\n",
       "index_leave               6693\n",
       "profile_set_once          6481\n",
       "demo_leave                1339\n",
       "about_leave                653\n",
       "courses_leave              594\n",
       "formSubmit                 533\n",
       "courses_play_leave         488\n",
       "click_send_cellphone       395\n",
       "verify_cellphone_code      363\n",
       "clickSubmit                291\n",
       "page_close                 134\n",
       "Name: event, dtype: int64"
      ]
     },
     "execution_count": 99,
     "metadata": {},
     "output_type": "execute_result"
    }
   ],
   "source": [
    "b4_sign_df[(b4_sign_df.btnClick_page.notnull())].event.value_counts()"
   ]
  },
  {
   "cell_type": "markdown",
   "metadata": {},
   "source": [
    "### for set aside u'pagePosition',  add up pageStayTime "
   ]
  },
  {
   "cell_type": "code",
   "execution_count": 100,
   "metadata": {
    "collapsed": false
   },
   "outputs": [
    {
     "data": {
      "text/plain": [
       "NaN     36775\n",
       " 1.0     5971\n",
       " 2.0     2626\n",
       " 4.0      590\n",
       " 3.0      580\n",
       "Name: pagePosition, dtype: int64"
      ]
     },
     "execution_count": 100,
     "metadata": {},
     "output_type": "execute_result"
    }
   ],
   "source": [
    "b4_sign_df.pagePosition.value_counts(dropna = False)"
   ]
  },
  {
   "cell_type": "code",
   "execution_count": 101,
   "metadata": {
    "collapsed": false,
    "scrolled": true
   },
   "outputs": [
    {
     "data": {
      "text/html": [
       "<div>\n",
       "<table border=\"1\" class=\"dataframe\">\n",
       "  <thead>\n",
       "    <tr style=\"text-align: right;\">\n",
       "      <th></th>\n",
       "      <th>pagePosition</th>\n",
       "      <th>pageStayTime</th>\n",
       "      <th>event</th>\n",
       "    </tr>\n",
       "  </thead>\n",
       "  <tbody>\n",
       "    <tr>\n",
       "      <th>0</th>\n",
       "      <td>2.0</td>\n",
       "      <td>5.692</td>\n",
       "      <td>index_leave</td>\n",
       "    </tr>\n",
       "    <tr>\n",
       "      <th>1</th>\n",
       "      <td>NaN</td>\n",
       "      <td>NaN</td>\n",
       "      <td>profile_set_once</td>\n",
       "    </tr>\n",
       "    <tr>\n",
       "      <th>2</th>\n",
       "      <td>NaN</td>\n",
       "      <td>NaN</td>\n",
       "      <td>$pageview</td>\n",
       "    </tr>\n",
       "    <tr>\n",
       "      <th>3</th>\n",
       "      <td>NaN</td>\n",
       "      <td>NaN</td>\n",
       "      <td>btnClick</td>\n",
       "    </tr>\n",
       "    <tr>\n",
       "      <th>4</th>\n",
       "      <td>NaN</td>\n",
       "      <td>NaN</td>\n",
       "      <td>btnClick</td>\n",
       "    </tr>\n",
       "    <tr>\n",
       "      <th>5</th>\n",
       "      <td>1.0</td>\n",
       "      <td>21.291</td>\n",
       "      <td>demo_leave</td>\n",
       "    </tr>\n",
       "    <tr>\n",
       "      <th>6</th>\n",
       "      <td>NaN</td>\n",
       "      <td>NaN</td>\n",
       "      <td>btnClick</td>\n",
       "    </tr>\n",
       "    <tr>\n",
       "      <th>7</th>\n",
       "      <td>NaN</td>\n",
       "      <td>NaN</td>\n",
       "      <td>$pageview</td>\n",
       "    </tr>\n",
       "    <tr>\n",
       "      <th>8</th>\n",
       "      <td>NaN</td>\n",
       "      <td>NaN</td>\n",
       "      <td>btnClick</td>\n",
       "    </tr>\n",
       "    <tr>\n",
       "      <th>9</th>\n",
       "      <td>NaN</td>\n",
       "      <td>NaN</td>\n",
       "      <td>btnClick</td>\n",
       "    </tr>\n",
       "    <tr>\n",
       "      <th>10</th>\n",
       "      <td>NaN</td>\n",
       "      <td>NaN</td>\n",
       "      <td>$pageview</td>\n",
       "    </tr>\n",
       "    <tr>\n",
       "      <th>11</th>\n",
       "      <td>NaN</td>\n",
       "      <td>NaN</td>\n",
       "      <td>$pageview</td>\n",
       "    </tr>\n",
       "    <tr>\n",
       "      <th>12</th>\n",
       "      <td>NaN</td>\n",
       "      <td>NaN</td>\n",
       "      <td>$pageview</td>\n",
       "    </tr>\n",
       "    <tr>\n",
       "      <th>13</th>\n",
       "      <td>NaN</td>\n",
       "      <td>NaN</td>\n",
       "      <td>profile_set_once</td>\n",
       "    </tr>\n",
       "    <tr>\n",
       "      <th>14</th>\n",
       "      <td>NaN</td>\n",
       "      <td>NaN</td>\n",
       "      <td>$pageview</td>\n",
       "    </tr>\n",
       "    <tr>\n",
       "      <th>15</th>\n",
       "      <td>1.0</td>\n",
       "      <td>949.723</td>\n",
       "      <td>index_leave</td>\n",
       "    </tr>\n",
       "    <tr>\n",
       "      <th>16</th>\n",
       "      <td>1.0</td>\n",
       "      <td>994.147</td>\n",
       "      <td>demo_leave</td>\n",
       "    </tr>\n",
       "    <tr>\n",
       "      <th>17</th>\n",
       "      <td>NaN</td>\n",
       "      <td>NaN</td>\n",
       "      <td>click_send_cellphone</td>\n",
       "    </tr>\n",
       "    <tr>\n",
       "      <th>18</th>\n",
       "      <td>NaN</td>\n",
       "      <td>NaN</td>\n",
       "      <td>profile_set_once</td>\n",
       "    </tr>\n",
       "    <tr>\n",
       "      <th>19</th>\n",
       "      <td>NaN</td>\n",
       "      <td>NaN</td>\n",
       "      <td>$pageview</td>\n",
       "    </tr>\n",
       "    <tr>\n",
       "      <th>20</th>\n",
       "      <td>NaN</td>\n",
       "      <td>NaN</td>\n",
       "      <td>profile_set_once</td>\n",
       "    </tr>\n",
       "    <tr>\n",
       "      <th>21</th>\n",
       "      <td>NaN</td>\n",
       "      <td>NaN</td>\n",
       "      <td>$pageview</td>\n",
       "    </tr>\n",
       "    <tr>\n",
       "      <th>22</th>\n",
       "      <td>NaN</td>\n",
       "      <td>NaN</td>\n",
       "      <td>$pageview</td>\n",
       "    </tr>\n",
       "    <tr>\n",
       "      <th>23</th>\n",
       "      <td>NaN</td>\n",
       "      <td>NaN</td>\n",
       "      <td>verify_cellphone_code</td>\n",
       "    </tr>\n",
       "    <tr>\n",
       "      <th>24</th>\n",
       "      <td>NaN</td>\n",
       "      <td>NaN</td>\n",
       "      <td>$pageview</td>\n",
       "    </tr>\n",
       "    <tr>\n",
       "      <th>25</th>\n",
       "      <td>NaN</td>\n",
       "      <td>NaN</td>\n",
       "      <td>verify_cellphone_code</td>\n",
       "    </tr>\n",
       "    <tr>\n",
       "      <th>26</th>\n",
       "      <td>NaN</td>\n",
       "      <td>NaN</td>\n",
       "      <td>$pageview</td>\n",
       "    </tr>\n",
       "    <tr>\n",
       "      <th>27</th>\n",
       "      <td>NaN</td>\n",
       "      <td>NaN</td>\n",
       "      <td>btnClick</td>\n",
       "    </tr>\n",
       "    <tr>\n",
       "      <th>28</th>\n",
       "      <td>1.0</td>\n",
       "      <td>4.060</td>\n",
       "      <td>index_leave</td>\n",
       "    </tr>\n",
       "    <tr>\n",
       "      <th>29</th>\n",
       "      <td>1.0</td>\n",
       "      <td>43.181</td>\n",
       "      <td>index_leave</td>\n",
       "    </tr>\n",
       "    <tr>\n",
       "      <th>...</th>\n",
       "      <td>...</td>\n",
       "      <td>...</td>\n",
       "      <td>...</td>\n",
       "    </tr>\n",
       "    <tr>\n",
       "      <th>46512</th>\n",
       "      <td>NaN</td>\n",
       "      <td>NaN</td>\n",
       "      <td>btnClick</td>\n",
       "    </tr>\n",
       "    <tr>\n",
       "      <th>46513</th>\n",
       "      <td>NaN</td>\n",
       "      <td>NaN</td>\n",
       "      <td>$pageview</td>\n",
       "    </tr>\n",
       "    <tr>\n",
       "      <th>46514</th>\n",
       "      <td>2.0</td>\n",
       "      <td>18.756</td>\n",
       "      <td>index_leave</td>\n",
       "    </tr>\n",
       "    <tr>\n",
       "      <th>46515</th>\n",
       "      <td>1.0</td>\n",
       "      <td>206.495</td>\n",
       "      <td>courses_leave</td>\n",
       "    </tr>\n",
       "    <tr>\n",
       "      <th>46516</th>\n",
       "      <td>1.0</td>\n",
       "      <td>364.600</td>\n",
       "      <td>courses_leave</td>\n",
       "    </tr>\n",
       "    <tr>\n",
       "      <th>46517</th>\n",
       "      <td>1.0</td>\n",
       "      <td>534.982</td>\n",
       "      <td>courses_leave</td>\n",
       "    </tr>\n",
       "    <tr>\n",
       "      <th>46518</th>\n",
       "      <td>NaN</td>\n",
       "      <td>NaN</td>\n",
       "      <td>profile_set_once</td>\n",
       "    </tr>\n",
       "    <tr>\n",
       "      <th>46519</th>\n",
       "      <td>NaN</td>\n",
       "      <td>NaN</td>\n",
       "      <td>$pageview</td>\n",
       "    </tr>\n",
       "    <tr>\n",
       "      <th>46520</th>\n",
       "      <td>1.0</td>\n",
       "      <td>5.426</td>\n",
       "      <td>index_leave</td>\n",
       "    </tr>\n",
       "    <tr>\n",
       "      <th>46521</th>\n",
       "      <td>1.0</td>\n",
       "      <td>23.287</td>\n",
       "      <td>demo_leave</td>\n",
       "    </tr>\n",
       "    <tr>\n",
       "      <th>46522</th>\n",
       "      <td>NaN</td>\n",
       "      <td>NaN</td>\n",
       "      <td>btnClick</td>\n",
       "    </tr>\n",
       "    <tr>\n",
       "      <th>46523</th>\n",
       "      <td>1.0</td>\n",
       "      <td>54.142</td>\n",
       "      <td>about_leave</td>\n",
       "    </tr>\n",
       "    <tr>\n",
       "      <th>46524</th>\n",
       "      <td>NaN</td>\n",
       "      <td>NaN</td>\n",
       "      <td>$pageview</td>\n",
       "    </tr>\n",
       "    <tr>\n",
       "      <th>46525</th>\n",
       "      <td>NaN</td>\n",
       "      <td>NaN</td>\n",
       "      <td>profile_set_once</td>\n",
       "    </tr>\n",
       "    <tr>\n",
       "      <th>46526</th>\n",
       "      <td>NaN</td>\n",
       "      <td>NaN</td>\n",
       "      <td>$pageview</td>\n",
       "    </tr>\n",
       "    <tr>\n",
       "      <th>46527</th>\n",
       "      <td>NaN</td>\n",
       "      <td>NaN</td>\n",
       "      <td>btnClick</td>\n",
       "    </tr>\n",
       "    <tr>\n",
       "      <th>46528</th>\n",
       "      <td>NaN</td>\n",
       "      <td>NaN</td>\n",
       "      <td>btnClick</td>\n",
       "    </tr>\n",
       "    <tr>\n",
       "      <th>46529</th>\n",
       "      <td>NaN</td>\n",
       "      <td>NaN</td>\n",
       "      <td>$pageview</td>\n",
       "    </tr>\n",
       "    <tr>\n",
       "      <th>46530</th>\n",
       "      <td>NaN</td>\n",
       "      <td>NaN</td>\n",
       "      <td>$pageview</td>\n",
       "    </tr>\n",
       "    <tr>\n",
       "      <th>46531</th>\n",
       "      <td>NaN</td>\n",
       "      <td>NaN</td>\n",
       "      <td>profile_set_once</td>\n",
       "    </tr>\n",
       "    <tr>\n",
       "      <th>46532</th>\n",
       "      <td>NaN</td>\n",
       "      <td>NaN</td>\n",
       "      <td>$pageview</td>\n",
       "    </tr>\n",
       "    <tr>\n",
       "      <th>46533</th>\n",
       "      <td>1.0</td>\n",
       "      <td>5.123</td>\n",
       "      <td>index_leave</td>\n",
       "    </tr>\n",
       "    <tr>\n",
       "      <th>46534</th>\n",
       "      <td>NaN</td>\n",
       "      <td>NaN</td>\n",
       "      <td>btnClick</td>\n",
       "    </tr>\n",
       "    <tr>\n",
       "      <th>46535</th>\n",
       "      <td>NaN</td>\n",
       "      <td>NaN</td>\n",
       "      <td>$pageview</td>\n",
       "    </tr>\n",
       "    <tr>\n",
       "      <th>46536</th>\n",
       "      <td>NaN</td>\n",
       "      <td>NaN</td>\n",
       "      <td>btnClick</td>\n",
       "    </tr>\n",
       "    <tr>\n",
       "      <th>46537</th>\n",
       "      <td>NaN</td>\n",
       "      <td>NaN</td>\n",
       "      <td>$pageview</td>\n",
       "    </tr>\n",
       "    <tr>\n",
       "      <th>46538</th>\n",
       "      <td>NaN</td>\n",
       "      <td>NaN</td>\n",
       "      <td>profile_set_once</td>\n",
       "    </tr>\n",
       "    <tr>\n",
       "      <th>46539</th>\n",
       "      <td>NaN</td>\n",
       "      <td>NaN</td>\n",
       "      <td>$pageview</td>\n",
       "    </tr>\n",
       "    <tr>\n",
       "      <th>46540</th>\n",
       "      <td>NaN</td>\n",
       "      <td>NaN</td>\n",
       "      <td>$pageview</td>\n",
       "    </tr>\n",
       "    <tr>\n",
       "      <th>46541</th>\n",
       "      <td>NaN</td>\n",
       "      <td>NaN</td>\n",
       "      <td>profile_set_once</td>\n",
       "    </tr>\n",
       "  </tbody>\n",
       "</table>\n",
       "<p>46542 rows × 3 columns</p>\n",
       "</div>"
      ],
      "text/plain": [
       "       pagePosition  pageStayTime                  event\n",
       "0               2.0         5.692            index_leave\n",
       "1               NaN           NaN       profile_set_once\n",
       "2               NaN           NaN              $pageview\n",
       "3               NaN           NaN               btnClick\n",
       "4               NaN           NaN               btnClick\n",
       "5               1.0        21.291             demo_leave\n",
       "6               NaN           NaN               btnClick\n",
       "7               NaN           NaN              $pageview\n",
       "8               NaN           NaN               btnClick\n",
       "9               NaN           NaN               btnClick\n",
       "10              NaN           NaN              $pageview\n",
       "11              NaN           NaN              $pageview\n",
       "12              NaN           NaN              $pageview\n",
       "13              NaN           NaN       profile_set_once\n",
       "14              NaN           NaN              $pageview\n",
       "15              1.0       949.723            index_leave\n",
       "16              1.0       994.147             demo_leave\n",
       "17              NaN           NaN   click_send_cellphone\n",
       "18              NaN           NaN       profile_set_once\n",
       "19              NaN           NaN              $pageview\n",
       "20              NaN           NaN       profile_set_once\n",
       "21              NaN           NaN              $pageview\n",
       "22              NaN           NaN              $pageview\n",
       "23              NaN           NaN  verify_cellphone_code\n",
       "24              NaN           NaN              $pageview\n",
       "25              NaN           NaN  verify_cellphone_code\n",
       "26              NaN           NaN              $pageview\n",
       "27              NaN           NaN               btnClick\n",
       "28              1.0         4.060            index_leave\n",
       "29              1.0        43.181            index_leave\n",
       "...             ...           ...                    ...\n",
       "46512           NaN           NaN               btnClick\n",
       "46513           NaN           NaN              $pageview\n",
       "46514           2.0        18.756            index_leave\n",
       "46515           1.0       206.495          courses_leave\n",
       "46516           1.0       364.600          courses_leave\n",
       "46517           1.0       534.982          courses_leave\n",
       "46518           NaN           NaN       profile_set_once\n",
       "46519           NaN           NaN              $pageview\n",
       "46520           1.0         5.426            index_leave\n",
       "46521           1.0        23.287             demo_leave\n",
       "46522           NaN           NaN               btnClick\n",
       "46523           1.0        54.142            about_leave\n",
       "46524           NaN           NaN              $pageview\n",
       "46525           NaN           NaN       profile_set_once\n",
       "46526           NaN           NaN              $pageview\n",
       "46527           NaN           NaN               btnClick\n",
       "46528           NaN           NaN               btnClick\n",
       "46529           NaN           NaN              $pageview\n",
       "46530           NaN           NaN              $pageview\n",
       "46531           NaN           NaN       profile_set_once\n",
       "46532           NaN           NaN              $pageview\n",
       "46533           1.0         5.123            index_leave\n",
       "46534           NaN           NaN               btnClick\n",
       "46535           NaN           NaN              $pageview\n",
       "46536           NaN           NaN               btnClick\n",
       "46537           NaN           NaN              $pageview\n",
       "46538           NaN           NaN       profile_set_once\n",
       "46539           NaN           NaN              $pageview\n",
       "46540           NaN           NaN              $pageview\n",
       "46541           NaN           NaN       profile_set_once\n",
       "\n",
       "[46542 rows x 3 columns]"
      ]
     },
     "execution_count": 101,
     "metadata": {},
     "output_type": "execute_result"
    }
   ],
   "source": [
    "b4_sign_df[['pagePosition','pageStayTime','event']]"
   ]
  },
  {
   "cell_type": "markdown",
   "metadata": {},
   "source": [
    "### for u'project_name'"
   ]
  },
  {
   "cell_type": "code",
   "execution_count": 102,
   "metadata": {
    "collapsed": false
   },
   "outputs": [
    {
     "data": {
      "text/plain": [
       "NaN           44871\n",
       "default        1352\n",
       "production      307\n",
       "hunter           12\n",
       "Name: project_name, dtype: int64"
      ]
     },
     "execution_count": 102,
     "metadata": {},
     "output_type": "execute_result"
    }
   ],
   "source": [
    "b4_sign_df.project_name.value_counts(dropna = False)"
   ]
  },
  {
   "cell_type": "code",
   "execution_count": 104,
   "metadata": {
    "collapsed": false
   },
   "outputs": [
    {
     "data": {
      "text/plain": [
       "88"
      ]
     },
     "execution_count": 104,
     "metadata": {},
     "output_type": "execute_result"
    }
   ],
   "source": [
    "b4_sign_df[(b4_sign_df.project_name.notnull())].distinct_id.nunique()"
   ]
  },
  {
   "cell_type": "code",
   "execution_count": 103,
   "metadata": {
    "collapsed": false
   },
   "outputs": [
    {
     "data": {
      "text/plain": [
       "$pageview                960\n",
       "btnClick                 323\n",
       "index_leave              245\n",
       "demo_leave                85\n",
       "page_close                18\n",
       "about_leave               17\n",
       "courses_play_leave        10\n",
       "courses_leave              9\n",
       "verify_cellphone_code      2\n",
       "click_send_cellphone       2\n",
       "Name: event, dtype: int64"
      ]
     },
     "execution_count": 103,
     "metadata": {},
     "output_type": "execute_result"
    }
   ],
   "source": [
    "b4_sign_df[(b4_sign_df.project_name.notnull())].event.value_counts()"
   ]
  },
  {
   "cell_type": "code",
   "execution_count": 105,
   "metadata": {
    "collapsed": false
   },
   "outputs": [
    {
     "data": {
      "text/plain": [
       "233    NaN\n",
       "234    NaN\n",
       "Name: project_name, dtype: object"
      ]
     },
     "execution_count": 105,
     "metadata": {},
     "output_type": "execute_result"
    }
   ],
   "source": [
    "b4_sign_df[(b4_sign_df.distinct_id == '0af0ee8e79705baa47156239e537b00750d9e919')]['project_name']"
   ]
  },
  {
   "cell_type": "markdown",
   "metadata": {},
   "source": [
    "### for u'result', wrong_num, less_than_1min, send_success."
   ]
  },
  {
   "cell_type": "code",
   "execution_count": 106,
   "metadata": {
    "collapsed": false
   },
   "outputs": [
    {
     "data": {
      "text/plain": [
       "ajax success      349\n",
       "手机号格式错误            43\n",
       "距上次发送时间不到 1 分钟      3\n",
       "Name: result, dtype: int64"
      ]
     },
     "execution_count": 106,
     "metadata": {},
     "output_type": "execute_result"
    }
   ],
   "source": [
    "b4_sign_df[(b4_sign_df.event == 'click_send_cellphone')].result.value_counts(dropna = False)"
   ]
  },
  {
   "cell_type": "code",
   "execution_count": 107,
   "metadata": {
    "collapsed": false,
    "scrolled": true
   },
   "outputs": [
    {
     "data": {
      "text/plain": [
       "49914a389c53aa6c4d07fc0999f663dcacd900b5      2\n",
       "81cb2c9dde1f55bd895f5e7ece5880ba2c2ce585      2\n",
       "54d7b3ad4e7a56ac24370d9d8d1917eb70f6fa49      2\n",
       "3348a66396a6a599a513d407e6e352186fbe57d4      1\n",
       "95c887443e128504f165fca4e132de3d855a4cea      1\n",
       "48d10ba62c0ee3ef6f66d84f67c8f62fc7ffcd4c      1\n",
       "0fbad502076a89517b80f7b6773776d201ddfcc2      1\n",
       "cacb3e7d7ce3ef8ce514319fec7011e2744bab99      1\n",
       "f8d282d5c55ac9f661c28f8d59e028c1e37c2a23      1\n",
       "b82dc696129aaa465d5a93095077d73f00258f80      1\n",
       "bdd86ba8e24695531b651747c8e7fbb23965bf98      1\n",
       "28caa9908b8720267dbf19db0ed3250fe12de950      1\n",
       "7d24f773e21a9ad718c0d30c159435621e0ce71c      1\n",
       "18c36368821ba19542b4304c50e4249e440ffd6f      1\n",
       "19cb635bb4520c1315dda0a75fc721e3c7e2d249      1\n",
       "0442857fa6eac7c50f5d72268a925e774ce2ed99      1\n",
       "158fa1f5ab6367b3f7e2e937cfc619b0fbf07a91      1\n",
       "40b41ede887727adb6ccf73a484d7454b5bb952c      1\n",
       "ffbabac7e036dfa0896887d5a33ef1a970bf8394      1\n",
       "870e185d90a112bf6e6d219eb359bd1b25ce2924      1\n",
       "04b0e0ed4def01a7a2881d3d8aa55c341a36cbbc      1\n",
       "b5c2c643fa7ebf0ef3c72e617b017408f72c8630      1\n",
       "00007ef910b6c9911f1b89d01a09aa3fc862f4a9      1\n",
       "74858a2717a85915b1840dea78a26388344b8ab8      1\n",
       "6a0abcb887ebfca8df3825088cc9ebc4ba2afc74      1\n",
       "ffba0da231dbced6e7b853c591bd87d0f9676086      1\n",
       "01e3824eeafaa87ee43b4fa47c0b1ea76ac32b7f      1\n",
       "d0ce500441e272f16ce767e543ba7845f3911082      1\n",
       "87a67721647bbf6adf840f5e7ad4e49fcd003f9c      1\n",
       "5031207ebbc44e2b01f7f0348dfb01b80f6bf7fe      1\n",
       "4341256efe51a9db33acf761160c947164d0064e      1\n",
       "6a0abcb887ebfca8df3825088cc9ebc4ba2afc74_2    1\n",
       "1f52fbb4707492cfeae2cdd2902f8ac9f93bbce5      1\n",
       "2034fcbba27bf9a2b320b598308beaac0adaed48      1\n",
       "18135f3368b1021224295101dd162888f52dc98f      1\n",
       "b501dbd78de34fa4f5e4309c4489bd0435d5233f      1\n",
       "bc82a165e2bb0a2a0b2b4ac733d2e9aa03f971db      1\n",
       "35d7e07fe01e6f29ebc0acf8b7060ae316fcf0ee      1\n",
       "239c5debea538c6e57404581163d28cb9cf5e619      1\n",
       "c40f04fefebdbd935c294477a4dcc03441f062a6      1\n",
       "Name: distinct_id, dtype: int64"
      ]
     },
     "execution_count": 107,
     "metadata": {},
     "output_type": "execute_result"
    }
   ],
   "source": [
    "b4_sign_df[(b4_sign_df.result == '手机号格式错误')].distinct_id.value_counts(dropna = False)"
   ]
  },
  {
   "cell_type": "code",
   "execution_count": 108,
   "metadata": {
    "collapsed": false,
    "scrolled": true
   },
   "outputs": [
    {
     "data": {
      "text/plain": [
       "e3e17b041fcc15be7cb3cbae474ad39da4603441    2\n",
       "e1cdb5a7ab9810606f8995906887a4ee3acd8950    1\n",
       "Name: distinct_id, dtype: int64"
      ]
     },
     "execution_count": 108,
     "metadata": {},
     "output_type": "execute_result"
    }
   ],
   "source": [
    "b4_sign_df[(b4_sign_df.result == '距上次发送时间不到 1 分钟')].distinct_id.value_counts(dropna = False)"
   ]
  },
  {
   "cell_type": "code",
   "execution_count": 109,
   "metadata": {
    "collapsed": false
   },
   "outputs": [
    {
     "data": {
      "text/plain": [
       "正确           350\n",
       "验证码错误         10\n",
       "没有该号码验证信息      3\n",
       "Name: result, dtype: int64"
      ]
     },
     "execution_count": 109,
     "metadata": {},
     "output_type": "execute_result"
    }
   ],
   "source": [
    "b4_sign_df[(b4_sign_df.event == 'verify_cellphone_code')].result.value_counts(dropna = False)"
   ]
  },
  {
   "cell_type": "markdown",
   "metadata": {},
   "source": [
    "### wrong_code, no_code, verify_success"
   ]
  },
  {
   "cell_type": "markdown",
   "metadata": {},
   "source": [
    "### for u'time', u'Bj_timestamp', u'dayofweek',u'hourofday', u'date'"
   ]
  },
  {
   "cell_type": "markdown",
   "metadata": {
    "collapsed": true
   },
   "source": [
    "### time zoom: morning, afternoon, evening (0/1)\n",
    "#### weekday, Monday - Sunday, (0/1)"
   ]
  },
  {
   "cell_type": "markdown",
   "metadata": {},
   "source": [
    "### for u'session_page_url', u'site_url', set them aside"
   ]
  },
  {
   "cell_type": "code",
   "execution_count": 110,
   "metadata": {
    "collapsed": false,
    "scrolled": true
   },
   "outputs": [
    {
     "data": {
      "text/plain": [
       "homepage_utm               20837\n",
       "homepage                   13177\n",
       "None                        8378\n",
       "demo                        1578\n",
       "index                        930\n",
       "course                       264\n",
       "product                      227\n",
       "local_host                   220\n",
       "play_video                   202\n",
       "bround                       173\n",
       "homepage_ch=zhihu            162\n",
       "about                        144\n",
       "homepage_ch=demo             128\n",
       "homepage_winzoom=1            32\n",
       "homepage_from                 29\n",
       "homepage_ch=chiyuan           25\n",
       "share                         15\n",
       "homepage_ch=36                12\n",
       "homepage_ch=pedaily            7\n",
       "homepage_ch=sangwenfeng        2\n",
       "Name: session_page_url, dtype: int64"
      ]
     },
     "execution_count": 110,
     "metadata": {},
     "output_type": "execute_result"
    }
   ],
   "source": [
    "b4_sign_df.session_page_url.value_counts(dropna = False)"
   ]
  },
  {
   "cell_type": "code",
   "execution_count": 112,
   "metadata": {
    "collapsed": false
   },
   "outputs": [
    {
     "data": {
      "text/plain": [
       "None          26250\n",
       "homepage       8345\n",
       "lookmanual     1965\n",
       "demo           1867\n",
       "manual         1701\n",
       "product        1595\n",
       "index          1421\n",
       "bround         1158\n",
       "about           770\n",
       "courses         752\n",
       "play_video      547\n",
       "tool            151\n",
       "share            20\n",
       "Name: current_page, dtype: int64"
      ]
     },
     "execution_count": 112,
     "metadata": {},
     "output_type": "execute_result"
    }
   ],
   "source": [
    "b4_sign_df.current_page.value_counts()"
   ]
  },
  {
   "cell_type": "code",
   "execution_count": 111,
   "metadata": {
    "collapsed": false
   },
   "outputs": [
    {
     "data": {
      "text/plain": [
       "$pageview                18474\n",
       "btnClick                  8284\n",
       "index_leave               6693\n",
       "demo_leave                1339\n",
       "about_leave                653\n",
       "courses_leave              594\n",
       "formSubmit                 533\n",
       "courses_play_leave         488\n",
       "click_send_cellphone       395\n",
       "verify_cellphone_code      363\n",
       "clickSubmit                291\n",
       "page_close                  57\n",
       "Name: event, dtype: int64"
      ]
     },
     "execution_count": 111,
     "metadata": {},
     "output_type": "execute_result"
    }
   ],
   "source": [
    "b4_sign_df[(b4_sign_df.session_page_url != 'None')].event.value_counts(dropna = False)"
   ]
  },
  {
   "cell_type": "markdown",
   "metadata": {},
   "source": [
    "### u'url_on_page_close' combine with current_page"
   ]
  },
  {
   "cell_type": "code",
   "execution_count": 113,
   "metadata": {
    "collapsed": false
   },
   "outputs": [
    {
     "data": {
      "text/plain": [
       "None                46408\n",
       "tools_url_create       73\n",
       "tools_code_auto        61\n",
       "Name: url_on_page_close, dtype: int64"
      ]
     },
     "execution_count": 113,
     "metadata": {},
     "output_type": "execute_result"
    }
   ],
   "source": [
    "b4_sign_df.url_on_page_close.value_counts(dropna = False)"
   ]
  },
  {
   "cell_type": "code",
   "execution_count": 114,
   "metadata": {
    "collapsed": false
   },
   "outputs": [
    {
     "data": {
      "text/plain": [
       "page_close    134\n",
       "Name: event, dtype: int64"
      ]
     },
     "execution_count": 114,
     "metadata": {},
     "output_type": "execute_result"
    }
   ],
   "source": [
    "b4_sign_df[(b4_sign_df.url_on_page_close != 'None')].event.value_counts()"
   ]
  },
  {
   "cell_type": "code",
   "execution_count": 115,
   "metadata": {
    "collapsed": false,
    "scrolled": true
   },
   "outputs": [
    {
     "data": {
      "text/plain": [
       "None          26250\n",
       "homepage       8345\n",
       "lookmanual     1965\n",
       "demo           1867\n",
       "manual         1701\n",
       "product        1595\n",
       "index          1421\n",
       "bround         1158\n",
       "about           770\n",
       "courses         752\n",
       "play_video      547\n",
       "tool            151\n",
       "share            20\n",
       "Name: current_page, dtype: int64"
      ]
     },
     "execution_count": 115,
     "metadata": {},
     "output_type": "execute_result"
    }
   ],
   "source": [
    "b4_sign_df.current_page.value_counts(dropna = False)"
   ]
  },
  {
   "cell_type": "code",
   "execution_count": 116,
   "metadata": {
    "collapsed": false
   },
   "outputs": [
    {
     "data": {
      "text/plain": [
       "None    134\n",
       "Name: current_page, dtype: int64"
      ]
     },
     "execution_count": 116,
     "metadata": {},
     "output_type": "execute_result"
    }
   ],
   "source": [
    "b4_sign_df[(b4_sign_df.event == 'page_close')].current_page.value_counts(dropna = False)"
   ]
  },
  {
   "cell_type": "code",
   "execution_count": 117,
   "metadata": {
    "collapsed": false
   },
   "outputs": [
    {
     "data": {
      "text/plain": [
       "None                26116\n",
       "tools_url_create       73\n",
       "tools_code_auto        61\n",
       "Name: url_on_page_close, dtype: int64"
      ]
     },
     "execution_count": 117,
     "metadata": {},
     "output_type": "execute_result"
    }
   ],
   "source": [
    "b4_sign_df[(b4_sign_df.current_page == 'None')].url_on_page_close.value_counts(dropna = False)"
   ]
  },
  {
   "cell_type": "code",
   "execution_count": 118,
   "metadata": {
    "collapsed": true
   },
   "outputs": [],
   "source": [
    "b4_sign_df.loc[(b4_sign_df.current_page == 'None'),\n",
    "               'current_page'] = b4_sign_df.loc[(b4_sign_df.current_page == 'None'),'url_on_page_close']"
   ]
  },
  {
   "cell_type": "code",
   "execution_count": 119,
   "metadata": {
    "collapsed": false
   },
   "outputs": [
    {
     "data": {
      "text/plain": [
       "None                26116\n",
       "homepage             8345\n",
       "lookmanual           1965\n",
       "demo                 1867\n",
       "manual               1701\n",
       "product              1595\n",
       "index                1421\n",
       "bround               1158\n",
       "about                 770\n",
       "courses               752\n",
       "play_video            547\n",
       "tool                  151\n",
       "tools_url_create       73\n",
       "tools_code_auto        61\n",
       "share                  20\n",
       "Name: current_page, dtype: int64"
      ]
     },
     "execution_count": 119,
     "metadata": {},
     "output_type": "execute_result"
    }
   ],
   "source": [
    "b4_sign_df.current_page.value_counts(dropna = False)"
   ]
  },
  {
   "cell_type": "code",
   "execution_count": 122,
   "metadata": {
    "collapsed": true
   },
   "outputs": [],
   "source": [
    "b4_sign_df.loc[(b4_sign_df.current_page.apply(lambda x: 'tools_' in x)),'current_page'] = 'tools_page_close'"
   ]
  },
  {
   "cell_type": "code",
   "execution_count": 123,
   "metadata": {
    "collapsed": false
   },
   "outputs": [
    {
     "data": {
      "text/plain": [
       "None                26116\n",
       "homepage             8345\n",
       "lookmanual           1965\n",
       "demo                 1867\n",
       "manual               1701\n",
       "product              1595\n",
       "index                1421\n",
       "bround               1158\n",
       "about                 770\n",
       "courses               752\n",
       "play_video            547\n",
       "tool                  151\n",
       "tools_page_close      134\n",
       "share                  20\n",
       "Name: current_page, dtype: int64"
      ]
     },
     "execution_count": 123,
     "metadata": {},
     "output_type": "execute_result"
    }
   ],
   "source": [
    "b4_sign_df.current_page.value_counts(dropna = False)"
   ]
  },
  {
   "cell_type": "markdown",
   "metadata": {},
   "source": [
    "## columns not useful:\n",
    "    first_visit_time\n",
    "    isMsg\n",
    "    is_first_day, is_first_time\n",
    "    u'browser_version, first_browser_language\n",
    "    u'os_version', \n",
    "    u'latest_utm_term', latest_utm_campaign, latest_utm_content\n",
    "    u'utm_campaign', u'utm_content',u'utm_term\n",
    "    utm_source,utm_medium\n",
    "    u'screen_height', u'screen_width'\n",
    "    title,\n",
    "    u'company', u'contact', u'email\n",
    "    referrHostUrl, first_referrer_host\n",
    "    model,\n",
    "    url_on_page_close"
   ]
  },
  {
   "cell_type": "code",
   "execution_count": 124,
   "metadata": {
    "collapsed": true
   },
   "outputs": [],
   "source": [
    "b4_sign_df.to_csv('data/b4_sign_v2.csv', index = False, encoding = 'utf-8')"
   ]
  },
  {
   "cell_type": "code",
   "execution_count": 1,
   "metadata": {
    "collapsed": true
   },
   "outputs": [],
   "source": [
    "import pandas as pd"
   ]
  },
  {
   "cell_type": "code",
   "execution_count": 31,
   "metadata": {
    "collapsed": true
   },
   "outputs": [],
   "source": [
    "b4_sign_df = pd.read_csv('data/b4_sign_v2.csv')"
   ]
  },
  {
   "cell_type": "code",
   "execution_count": 32,
   "metadata": {
    "collapsed": true
   },
   "outputs": [],
   "source": [
    "b4_sign_df.name.fillna('None',inplace = True)"
   ]
  },
  {
   "cell_type": "code",
   "execution_count": 33,
   "metadata": {
    "collapsed": false,
    "scrolled": true
   },
   "outputs": [],
   "source": [
    "a = ['request','demo','product','document','b-round','about','blog','viedo','logo','mail','None']"
   ]
  },
  {
   "cell_type": "code",
   "execution_count": 34,
   "metadata": {
    "collapsed": true
   },
   "outputs": [],
   "source": [
    "b4_sign_df.loc[(b4_sign_df.name.apply(lambda x: x not in a)),'name'] = 'last_name'"
   ]
  },
  {
   "cell_type": "code",
   "execution_count": 5,
   "metadata": {
    "collapsed": false,
    "scrolled": false
   },
   "outputs": [
    {
     "data": {
      "text/plain": [
       "None            37463\n",
       "request          1891\n",
       "cli_document     1314\n",
       "cli_demo         1280\n",
       "cli_product      1211\n",
       "cli_bround        814\n",
       "last_name         793\n",
       "cli_about         588\n",
       "cli_blog          496\n",
       "cli_video         361\n",
       "cli_logo          278\n",
       "cli_mail           53\n",
       "Name: name, dtype: int64"
      ]
     },
     "execution_count": 5,
     "metadata": {},
     "output_type": "execute_result"
    }
   ],
   "source": [
    "b4_sign_df.name.value_counts(dropna = False)"
   ]
  },
  {
   "cell_type": "code",
   "execution_count": 36,
   "metadata": {
    "collapsed": false,
    "scrolled": true
   },
   "outputs": [],
   "source": [
    "b4_sign_df.loc[(b4_sign_df.name == 'demo'),'name'] = 'cli_demo'"
   ]
  },
  {
   "cell_type": "code",
   "execution_count": 37,
   "metadata": {
    "collapsed": true
   },
   "outputs": [],
   "source": [
    "b4_sign_df.loc[(b4_sign_df.name == 'document'),'name'] = 'cli_document'"
   ]
  },
  {
   "cell_type": "code",
   "execution_count": 38,
   "metadata": {
    "collapsed": true
   },
   "outputs": [],
   "source": [
    "b4_sign_df.loc[(b4_sign_df.name == 'product'),'name'] = 'cli_product'"
   ]
  },
  {
   "cell_type": "code",
   "execution_count": 39,
   "metadata": {
    "collapsed": true
   },
   "outputs": [],
   "source": [
    "b4_sign_df.loc[(b4_sign_df.name == 'b-round'),'name'] = 'cli_bround'"
   ]
  },
  {
   "cell_type": "code",
   "execution_count": 40,
   "metadata": {
    "collapsed": true
   },
   "outputs": [],
   "source": [
    "b4_sign_df.loc[(b4_sign_df.name == 'about'),'name'] = 'cli_about'"
   ]
  },
  {
   "cell_type": "code",
   "execution_count": 41,
   "metadata": {
    "collapsed": true
   },
   "outputs": [],
   "source": [
    "b4_sign_df.loc[(b4_sign_df.name == 'blog'),'name'] = 'cli_blog'"
   ]
  },
  {
   "cell_type": "code",
   "execution_count": 42,
   "metadata": {
    "collapsed": true
   },
   "outputs": [],
   "source": [
    "b4_sign_df.loc[(b4_sign_df.name == 'viedo'),'name'] = 'cli_video'"
   ]
  },
  {
   "cell_type": "code",
   "execution_count": 43,
   "metadata": {
    "collapsed": true
   },
   "outputs": [],
   "source": [
    "b4_sign_df.loc[(b4_sign_df.name == 'logo'),'name'] = 'cli_logo'"
   ]
  },
  {
   "cell_type": "code",
   "execution_count": 44,
   "metadata": {
    "collapsed": true
   },
   "outputs": [],
   "source": [
    "b4_sign_df.loc[(b4_sign_df.name == 'mail'),'name'] = 'cli_mail'"
   ]
  },
  {
   "cell_type": "code",
   "execution_count": 46,
   "metadata": {
    "collapsed": false
   },
   "outputs": [],
   "source": [
    "b4_sign_df.drop(labels = ['first_visit_time','isMsg','is_first_day', 'is_first_time',\n",
    "                          'browser_version', 'first_browser_language',\n",
    "                          'os_version', 'latest_utm_term', 'latest_utm_campaign', 'latest_utm_content',\n",
    "                          'utm_campaign', 'utm_content','utm_term',\n",
    "                          'utm_source','utm_medium',\n",
    "                          'title',u'company', u'contact', u'email',\n",
    "                          'referrHostUrl', 'first_referrer_host',\n",
    "                          'model','url_on_page_close'\n",
    "                         ], \n",
    "                axis = 1, \n",
    "                inplace = True)"
   ]
  },
  {
   "cell_type": "code",
   "execution_count": 47,
   "metadata": {
    "collapsed": false,
    "scrolled": true
   },
   "outputs": [],
   "source": [
    "b4_sign_df.dayofweek = b4_sign_df.dayofweek + 1"
   ]
  },
  {
   "cell_type": "code",
   "execution_count": 48,
   "metadata": {
    "collapsed": true
   },
   "outputs": [],
   "source": [
    "b4_sign_df.to_csv('data/b4_sign_without_no_useful_col.csv',index = False, encoding = 'utf-8')"
   ]
  },
  {
   "cell_type": "code",
   "execution_count": 1,
   "metadata": {
    "collapsed": false
   },
   "outputs": [],
   "source": [
    "import pandas as pd\n",
    "import numpy as np"
   ]
  },
  {
   "cell_type": "code",
   "execution_count": 2,
   "metadata": {
    "collapsed": false
   },
   "outputs": [],
   "source": [
    "b4_sign_df = pd.read_csv('data/b4_sign_without_no_useful_col.csv')"
   ]
  },
  {
   "cell_type": "code",
   "execution_count": 6,
   "metadata": {
    "collapsed": false
   },
   "outputs": [
    {
     "data": {
      "text/plain": [
       "array(['None', 'homepage', 'manual', 'courses', 'index', 'play_video',\n",
       "       'lookmanual', 'demo', 'product', 'about', 'bround', 'tool',\n",
       "       'tools_page_close', 'share'], dtype=object)"
      ]
     },
     "execution_count": 6,
     "metadata": {},
     "output_type": "execute_result"
    }
   ],
   "source": [
    "b4_sign_df.current_page.unique()"
   ]
  },
  {
   "cell_type": "code",
   "execution_count": 7,
   "metadata": {
    "collapsed": false
   },
   "outputs": [
    {
     "data": {
      "text/plain": [
       "None             39574\n",
       "index             5143\n",
       "demo               853\n",
       "about              526\n",
       "courses_index      446\n",
       "Name: btnClick_page, dtype: int64"
      ]
     },
     "execution_count": 7,
     "metadata": {},
     "output_type": "execute_result"
    }
   ],
   "source": [
    "b4_sign_df.btnClick_page.value_counts(dropna = False)"
   ]
  },
  {
   "cell_type": "code",
   "execution_count": 8,
   "metadata": {
    "collapsed": true
   },
   "outputs": [],
   "source": [
    "b4_sign_df.loc[(b4_sign_df.btnClick_page == 'index'),'btnClick_page'] = 'btnpage_index'"
   ]
  },
  {
   "cell_type": "code",
   "execution_count": 9,
   "metadata": {
    "collapsed": true
   },
   "outputs": [],
   "source": [
    "b4_sign_df.loc[(b4_sign_df.btnClick_page == 'demo'),'btnClick_page'] = 'btnpage_demo'"
   ]
  },
  {
   "cell_type": "code",
   "execution_count": 10,
   "metadata": {
    "collapsed": true
   },
   "outputs": [],
   "source": [
    "b4_sign_df.loc[(b4_sign_df.btnClick_page == 'about'),'btnClick_page'] = 'btnpage_about'"
   ]
  },
  {
   "cell_type": "code",
   "execution_count": 11,
   "metadata": {
    "collapsed": true
   },
   "outputs": [],
   "source": [
    "b4_sign_df.loc[(b4_sign_df.btnClick_page == 'about'),'courses_index'] = 'btnpage_courses_index'"
   ]
  },
  {
   "cell_type": "code",
   "execution_count": 12,
   "metadata": {
    "collapsed": false
   },
   "outputs": [
    {
     "data": {
      "text/plain": [
       "None             39574\n",
       "btnpage_index     5143\n",
       "btnpage_demo       853\n",
       "btnpage_about      526\n",
       "courses_index      446\n",
       "Name: btnClick_page, dtype: int64"
      ]
     },
     "execution_count": 12,
     "metadata": {},
     "output_type": "execute_result"
    }
   ],
   "source": [
    "b4_sign_df.btnClick_page.value_counts(dropna = False)"
   ]
  },
  {
   "cell_type": "code",
   "execution_count": 15,
   "metadata": {
    "collapsed": false
   },
   "outputs": [
    {
     "data": {
      "text/plain": [
       "array(['None', 'request', 'cli_document', 'cli_video', 'cli_blog',\n",
       "       'last_name', 'cli_demo', 'cli_logo', 'cli_product', 'cli_about',\n",
       "       'cli_bround', 'cli_mail'], dtype=object)"
      ]
     },
     "execution_count": 15,
     "metadata": {},
     "output_type": "execute_result"
    }
   ],
   "source": [
    "b4_sign_df.name.unique()"
   ]
  },
  {
   "cell_type": "code",
   "execution_count": 14,
   "metadata": {
    "collapsed": false
   },
   "outputs": [],
   "source": [
    "b4_sign_df.loc[(b4_sign_df.btnClick_page == 'None'), 'btnClick_page'] = b4_sign_df[(b4_sign_df.btnClick_page == 'None')].current_page"
   ]
  },
  {
   "cell_type": "code",
   "execution_count": 16,
   "metadata": {
    "collapsed": true
   },
   "outputs": [],
   "source": [
    "b4_sign_df.loc[(b4_sign_df.name == 'None'), 'name'] = b4_sign_df[(b4_sign_df.name == 'None')].event"
   ]
  },
  {
   "cell_type": "code",
   "execution_count": 17,
   "metadata": {
    "collapsed": true
   },
   "outputs": [],
   "source": [
    "pattern = b4_sign_df.groupby(by = 'distinct_id').apply(lambda x: x.sort_values('Bj_timestamp'))"
   ]
  },
  {
   "cell_type": "code",
   "execution_count": 20,
   "metadata": {
    "collapsed": false
   },
   "outputs": [
    {
     "data": {
      "text/html": [
       "<div>\n",
       "<table border=\"1\" class=\"dataframe\">\n",
       "  <thead>\n",
       "    <tr style=\"text-align: right;\">\n",
       "      <th></th>\n",
       "      <th></th>\n",
       "      <th>btnClick_page</th>\n",
       "      <th>name</th>\n",
       "      <th>event</th>\n",
       "      <th>current_page</th>\n",
       "      <th>Bj_timestamp</th>\n",
       "    </tr>\n",
       "    <tr>\n",
       "      <th>distinct_id</th>\n",
       "      <th></th>\n",
       "      <th></th>\n",
       "      <th></th>\n",
       "      <th></th>\n",
       "      <th></th>\n",
       "      <th></th>\n",
       "    </tr>\n",
       "  </thead>\n",
       "  <tbody>\n",
       "    <tr>\n",
       "      <th rowspan=\"7\" valign=\"top\">00007ef910b6c9911f1b89d01a09aa3fc862f4a9</th>\n",
       "      <th>6317</th>\n",
       "      <td>homepage</td>\n",
       "      <td>$pageview</td>\n",
       "      <td>$pageview</td>\n",
       "      <td>homepage</td>\n",
       "      <td>2017-03-07 05:52:17</td>\n",
       "    </tr>\n",
       "    <tr>\n",
       "      <th>6323</th>\n",
       "      <td>btnpage_index</td>\n",
       "      <td>request</td>\n",
       "      <td>btnClick</td>\n",
       "      <td>None</td>\n",
       "      <td>2017-03-07 05:52:20</td>\n",
       "    </tr>\n",
       "    <tr>\n",
       "      <th>6326</th>\n",
       "      <td>None</td>\n",
       "      <td>click_send_cellphone</td>\n",
       "      <td>click_send_cellphone</td>\n",
       "      <td>None</td>\n",
       "      <td>2017-03-07 05:52:29</td>\n",
       "    </tr>\n",
       "    <tr>\n",
       "      <th>6334</th>\n",
       "      <td>None</td>\n",
       "      <td>click_send_cellphone</td>\n",
       "      <td>click_send_cellphone</td>\n",
       "      <td>None</td>\n",
       "      <td>2017-03-07 05:52:36</td>\n",
       "    </tr>\n",
       "    <tr>\n",
       "      <th>6339</th>\n",
       "      <td>None</td>\n",
       "      <td>last_name</td>\n",
       "      <td>formSubmit</td>\n",
       "      <td>None</td>\n",
       "      <td>2017-03-07 05:52:50</td>\n",
       "    </tr>\n",
       "    <tr>\n",
       "      <th>6340</th>\n",
       "      <td>None</td>\n",
       "      <td>verify_cellphone_code</td>\n",
       "      <td>verify_cellphone_code</td>\n",
       "      <td>None</td>\n",
       "      <td>2017-03-07 05:52:51</td>\n",
       "    </tr>\n",
       "    <tr>\n",
       "      <th>6316</th>\n",
       "      <td>None</td>\n",
       "      <td>profile_set_once</td>\n",
       "      <td>profile_set_once</td>\n",
       "      <td>None</td>\n",
       "      <td>2017-03-31 11:05:08</td>\n",
       "    </tr>\n",
       "    <tr>\n",
       "      <th rowspan=\"23\" valign=\"top\">000c46a27ef69fa22b56d253a9c72773338a1686</th>\n",
       "      <th>6277</th>\n",
       "      <td>homepage</td>\n",
       "      <td>$pageview</td>\n",
       "      <td>$pageview</td>\n",
       "      <td>homepage</td>\n",
       "      <td>2017-03-07 05:49:05</td>\n",
       "    </tr>\n",
       "    <tr>\n",
       "      <th>6279</th>\n",
       "      <td>btnpage_index</td>\n",
       "      <td>cli_blog</td>\n",
       "      <td>btnClick</td>\n",
       "      <td>None</td>\n",
       "      <td>2017-03-07 05:49:11</td>\n",
       "    </tr>\n",
       "    <tr>\n",
       "      <th>6280</th>\n",
       "      <td>None</td>\n",
       "      <td>index_leave</td>\n",
       "      <td>index_leave</td>\n",
       "      <td>None</td>\n",
       "      <td>2017-03-07 05:49:11</td>\n",
       "    </tr>\n",
       "    <tr>\n",
       "      <th>6380</th>\n",
       "      <td>index</td>\n",
       "      <td>$pageview</td>\n",
       "      <td>$pageview</td>\n",
       "      <td>index</td>\n",
       "      <td>2017-03-07 05:58:13</td>\n",
       "    </tr>\n",
       "    <tr>\n",
       "      <th>6381</th>\n",
       "      <td>btnpage_index</td>\n",
       "      <td>request</td>\n",
       "      <td>btnClick</td>\n",
       "      <td>None</td>\n",
       "      <td>2017-03-07 05:58:17</td>\n",
       "    </tr>\n",
       "    <tr>\n",
       "      <th>6382</th>\n",
       "      <td>btnpage_index</td>\n",
       "      <td>request</td>\n",
       "      <td>btnClick</td>\n",
       "      <td>None</td>\n",
       "      <td>2017-03-07 05:58:21</td>\n",
       "    </tr>\n",
       "    <tr>\n",
       "      <th>6383</th>\n",
       "      <td>btnpage_index</td>\n",
       "      <td>request</td>\n",
       "      <td>btnClick</td>\n",
       "      <td>None</td>\n",
       "      <td>2017-03-07 05:58:25</td>\n",
       "    </tr>\n",
       "    <tr>\n",
       "      <th>7020</th>\n",
       "      <td>btnpage_index</td>\n",
       "      <td>cli_bround</td>\n",
       "      <td>btnClick</td>\n",
       "      <td>None</td>\n",
       "      <td>2017-03-07 06:41:23</td>\n",
       "    </tr>\n",
       "    <tr>\n",
       "      <th>7021</th>\n",
       "      <td>btnpage_index</td>\n",
       "      <td>cli_blog</td>\n",
       "      <td>btnClick</td>\n",
       "      <td>None</td>\n",
       "      <td>2017-03-07 06:41:27</td>\n",
       "    </tr>\n",
       "    <tr>\n",
       "      <th>7022</th>\n",
       "      <td>btnpage_index</td>\n",
       "      <td>cli_blog</td>\n",
       "      <td>btnClick</td>\n",
       "      <td>None</td>\n",
       "      <td>2017-03-07 06:41:29</td>\n",
       "    </tr>\n",
       "    <tr>\n",
       "      <th>7023</th>\n",
       "      <td>None</td>\n",
       "      <td>index_leave</td>\n",
       "      <td>index_leave</td>\n",
       "      <td>None</td>\n",
       "      <td>2017-03-07 06:41:29</td>\n",
       "    </tr>\n",
       "    <tr>\n",
       "      <th>7026</th>\n",
       "      <td>None</td>\n",
       "      <td>index_leave</td>\n",
       "      <td>index_leave</td>\n",
       "      <td>None</td>\n",
       "      <td>2017-03-07 06:41:32</td>\n",
       "    </tr>\n",
       "    <tr>\n",
       "      <th>7027</th>\n",
       "      <td>None</td>\n",
       "      <td>index_leave</td>\n",
       "      <td>index_leave</td>\n",
       "      <td>None</td>\n",
       "      <td>2017-03-07 06:41:34</td>\n",
       "    </tr>\n",
       "    <tr>\n",
       "      <th>7028</th>\n",
       "      <td>btnpage_index</td>\n",
       "      <td>cli_video</td>\n",
       "      <td>btnClick</td>\n",
       "      <td>None</td>\n",
       "      <td>2017-03-07 06:41:35</td>\n",
       "    </tr>\n",
       "    <tr>\n",
       "      <th>7032</th>\n",
       "      <td>None</td>\n",
       "      <td>index_leave</td>\n",
       "      <td>index_leave</td>\n",
       "      <td>None</td>\n",
       "      <td>2017-03-07 06:41:37</td>\n",
       "    </tr>\n",
       "    <tr>\n",
       "      <th>7035</th>\n",
       "      <td>courses</td>\n",
       "      <td>$pageview</td>\n",
       "      <td>$pageview</td>\n",
       "      <td>courses</td>\n",
       "      <td>2017-03-07 06:41:37</td>\n",
       "    </tr>\n",
       "    <tr>\n",
       "      <th>7540</th>\n",
       "      <td>courses_index</td>\n",
       "      <td>cli_bround</td>\n",
       "      <td>btnClick</td>\n",
       "      <td>None</td>\n",
       "      <td>2017-03-07 07:11:49</td>\n",
       "    </tr>\n",
       "    <tr>\n",
       "      <th>7541</th>\n",
       "      <td>None</td>\n",
       "      <td>courses_leave</td>\n",
       "      <td>courses_leave</td>\n",
       "      <td>None</td>\n",
       "      <td>2017-03-07 07:11:49</td>\n",
       "    </tr>\n",
       "    <tr>\n",
       "      <th>7543</th>\n",
       "      <td>bround</td>\n",
       "      <td>$pageview</td>\n",
       "      <td>$pageview</td>\n",
       "      <td>bround</td>\n",
       "      <td>2017-03-07 07:11:51</td>\n",
       "    </tr>\n",
       "    <tr>\n",
       "      <th>7556</th>\n",
       "      <td>index</td>\n",
       "      <td>$pageview</td>\n",
       "      <td>$pageview</td>\n",
       "      <td>index</td>\n",
       "      <td>2017-03-07 07:12:01</td>\n",
       "    </tr>\n",
       "    <tr>\n",
       "      <th>7558</th>\n",
       "      <td>bround</td>\n",
       "      <td>$pageview</td>\n",
       "      <td>$pageview</td>\n",
       "      <td>bround</td>\n",
       "      <td>2017-03-07 07:12:02</td>\n",
       "    </tr>\n",
       "    <tr>\n",
       "      <th>7557</th>\n",
       "      <td>None</td>\n",
       "      <td>index_leave</td>\n",
       "      <td>index_leave</td>\n",
       "      <td>None</td>\n",
       "      <td>2017-03-07 07:12:02</td>\n",
       "    </tr>\n",
       "    <tr>\n",
       "      <th>6276</th>\n",
       "      <td>None</td>\n",
       "      <td>profile_set_once</td>\n",
       "      <td>profile_set_once</td>\n",
       "      <td>None</td>\n",
       "      <td>2017-03-31 11:05:08</td>\n",
       "    </tr>\n",
       "    <tr>\n",
       "      <th>...</th>\n",
       "      <th>...</th>\n",
       "      <td>...</td>\n",
       "      <td>...</td>\n",
       "      <td>...</td>\n",
       "      <td>...</td>\n",
       "      <td>...</td>\n",
       "    </tr>\n",
       "    <tr>\n",
       "      <th>ffc8ee900f28e2f14fd066413f1f74082125e6e1</th>\n",
       "      <th>11704</th>\n",
       "      <td>None</td>\n",
       "      <td>profile_set_once</td>\n",
       "      <td>profile_set_once</td>\n",
       "      <td>None</td>\n",
       "      <td>2017-03-31 11:05:13</td>\n",
       "    </tr>\n",
       "    <tr>\n",
       "      <th rowspan=\"2\" valign=\"top\">ffc97d4a5d6396e902a05f53ae07ad98e7d3cd11</th>\n",
       "      <th>34929</th>\n",
       "      <td>homepage</td>\n",
       "      <td>$pageview</td>\n",
       "      <td>$pageview</td>\n",
       "      <td>homepage</td>\n",
       "      <td>2017-03-10 05:15:50</td>\n",
       "    </tr>\n",
       "    <tr>\n",
       "      <th>34928</th>\n",
       "      <td>None</td>\n",
       "      <td>profile_set_once</td>\n",
       "      <td>profile_set_once</td>\n",
       "      <td>None</td>\n",
       "      <td>2017-03-31 11:05:45</td>\n",
       "    </tr>\n",
       "    <tr>\n",
       "      <th rowspan=\"2\" valign=\"top\">ffd207edf81afd355fbba616480ccae95666a439</th>\n",
       "      <th>27513</th>\n",
       "      <td>lookmanual</td>\n",
       "      <td>$pageview</td>\n",
       "      <td>$pageview</td>\n",
       "      <td>lookmanual</td>\n",
       "      <td>2017-03-09 08:34:42</td>\n",
       "    </tr>\n",
       "    <tr>\n",
       "      <th>27512</th>\n",
       "      <td>None</td>\n",
       "      <td>profile_set_once</td>\n",
       "      <td>profile_set_once</td>\n",
       "      <td>None</td>\n",
       "      <td>2017-03-31 11:05:34</td>\n",
       "    </tr>\n",
       "    <tr>\n",
       "      <th rowspan=\"2\" valign=\"top\">ffdb2208bf05f87ffa460b8e61ff8c60d6b1582d</th>\n",
       "      <th>6576</th>\n",
       "      <td>homepage</td>\n",
       "      <td>$pageview</td>\n",
       "      <td>$pageview</td>\n",
       "      <td>homepage</td>\n",
       "      <td>2017-03-07 06:16:52</td>\n",
       "    </tr>\n",
       "    <tr>\n",
       "      <th>6575</th>\n",
       "      <td>None</td>\n",
       "      <td>profile_set_once</td>\n",
       "      <td>profile_set_once</td>\n",
       "      <td>None</td>\n",
       "      <td>2017-03-31 11:05:08</td>\n",
       "    </tr>\n",
       "    <tr>\n",
       "      <th rowspan=\"3\" valign=\"top\">ffe7a2a48843239c636c0ec54503e223531a03d2</th>\n",
       "      <th>29538</th>\n",
       "      <td>tool</td>\n",
       "      <td>$pageview</td>\n",
       "      <td>$pageview</td>\n",
       "      <td>tool</td>\n",
       "      <td>2017-03-09 10:12:17</td>\n",
       "    </tr>\n",
       "    <tr>\n",
       "      <th>29671</th>\n",
       "      <td>tools_page_close</td>\n",
       "      <td>page_close</td>\n",
       "      <td>page_close</td>\n",
       "      <td>tools_page_close</td>\n",
       "      <td>2017-03-09 10:24:36</td>\n",
       "    </tr>\n",
       "    <tr>\n",
       "      <th>29539</th>\n",
       "      <td>None</td>\n",
       "      <td>profile_set_once</td>\n",
       "      <td>profile_set_once</td>\n",
       "      <td>None</td>\n",
       "      <td>2017-03-31 11:05:36</td>\n",
       "    </tr>\n",
       "    <tr>\n",
       "      <th rowspan=\"3\" valign=\"top\">ffe9025fc888f30546528e5e9f1cac24d1526476</th>\n",
       "      <th>45594</th>\n",
       "      <td>homepage</td>\n",
       "      <td>$pageview</td>\n",
       "      <td>$pageview</td>\n",
       "      <td>homepage</td>\n",
       "      <td>2017-03-12 07:32:22</td>\n",
       "    </tr>\n",
       "    <tr>\n",
       "      <th>45595</th>\n",
       "      <td>None</td>\n",
       "      <td>index_leave</td>\n",
       "      <td>index_leave</td>\n",
       "      <td>None</td>\n",
       "      <td>2017-03-12 07:32:50</td>\n",
       "    </tr>\n",
       "    <tr>\n",
       "      <th>45593</th>\n",
       "      <td>None</td>\n",
       "      <td>profile_set_once</td>\n",
       "      <td>profile_set_once</td>\n",
       "      <td>None</td>\n",
       "      <td>2017-03-31 11:06:07</td>\n",
       "    </tr>\n",
       "    <tr>\n",
       "      <th rowspan=\"12\" valign=\"top\">fff9ee23119dac9d0379b2f8149cca8d31744d5c</th>\n",
       "      <th>32539</th>\n",
       "      <td>homepage</td>\n",
       "      <td>$pageview</td>\n",
       "      <td>$pageview</td>\n",
       "      <td>homepage</td>\n",
       "      <td>2017-03-10 01:20:37</td>\n",
       "    </tr>\n",
       "    <tr>\n",
       "      <th>32546</th>\n",
       "      <td>btnpage_index</td>\n",
       "      <td>cli_logo</td>\n",
       "      <td>btnClick</td>\n",
       "      <td>None</td>\n",
       "      <td>2017-03-10 01:23:04</td>\n",
       "    </tr>\n",
       "    <tr>\n",
       "      <th>32547</th>\n",
       "      <td>None</td>\n",
       "      <td>index_leave</td>\n",
       "      <td>index_leave</td>\n",
       "      <td>None</td>\n",
       "      <td>2017-03-10 01:23:04</td>\n",
       "    </tr>\n",
       "    <tr>\n",
       "      <th>32548</th>\n",
       "      <td>index</td>\n",
       "      <td>$pageview</td>\n",
       "      <td>$pageview</td>\n",
       "      <td>index</td>\n",
       "      <td>2017-03-10 01:23:05</td>\n",
       "    </tr>\n",
       "    <tr>\n",
       "      <th>32549</th>\n",
       "      <td>about</td>\n",
       "      <td>$pageview</td>\n",
       "      <td>$pageview</td>\n",
       "      <td>about</td>\n",
       "      <td>2017-03-10 01:23:08</td>\n",
       "    </tr>\n",
       "    <tr>\n",
       "      <th>32550</th>\n",
       "      <td>btnpage_about</td>\n",
       "      <td>cli_product</td>\n",
       "      <td>btnClick</td>\n",
       "      <td>None</td>\n",
       "      <td>2017-03-10 01:23:21</td>\n",
       "    </tr>\n",
       "    <tr>\n",
       "      <th>32551</th>\n",
       "      <td>None</td>\n",
       "      <td>about_leave</td>\n",
       "      <td>about_leave</td>\n",
       "      <td>None</td>\n",
       "      <td>2017-03-10 01:23:21</td>\n",
       "    </tr>\n",
       "    <tr>\n",
       "      <th>32552</th>\n",
       "      <td>product</td>\n",
       "      <td>$pageview</td>\n",
       "      <td>$pageview</td>\n",
       "      <td>product</td>\n",
       "      <td>2017-03-10 01:23:21</td>\n",
       "    </tr>\n",
       "    <tr>\n",
       "      <th>32554</th>\n",
       "      <td>None</td>\n",
       "      <td>cli_product</td>\n",
       "      <td>btnClick</td>\n",
       "      <td>None</td>\n",
       "      <td>2017-03-10 01:23:32</td>\n",
       "    </tr>\n",
       "    <tr>\n",
       "      <th>32555</th>\n",
       "      <td>product</td>\n",
       "      <td>$pageview</td>\n",
       "      <td>$pageview</td>\n",
       "      <td>product</td>\n",
       "      <td>2017-03-10 01:23:33</td>\n",
       "    </tr>\n",
       "    <tr>\n",
       "      <th>32620</th>\n",
       "      <td>None</td>\n",
       "      <td>index_leave</td>\n",
       "      <td>index_leave</td>\n",
       "      <td>None</td>\n",
       "      <td>2017-03-10 01:29:56</td>\n",
       "    </tr>\n",
       "    <tr>\n",
       "      <th>32538</th>\n",
       "      <td>None</td>\n",
       "      <td>profile_set_once</td>\n",
       "      <td>profile_set_once</td>\n",
       "      <td>None</td>\n",
       "      <td>2017-03-31 11:05:42</td>\n",
       "    </tr>\n",
       "    <tr>\n",
       "      <th rowspan=\"5\" valign=\"top\">fffa276c4cc840ddb5993a52112b22542bd29c8b</th>\n",
       "      <th>18712</th>\n",
       "      <td>homepage</td>\n",
       "      <td>$pageview</td>\n",
       "      <td>$pageview</td>\n",
       "      <td>homepage</td>\n",
       "      <td>2017-03-08 09:04:49</td>\n",
       "    </tr>\n",
       "    <tr>\n",
       "      <th>18713</th>\n",
       "      <td>btnpage_index</td>\n",
       "      <td>cli_blog</td>\n",
       "      <td>btnClick</td>\n",
       "      <td>None</td>\n",
       "      <td>2017-03-08 09:04:53</td>\n",
       "    </tr>\n",
       "    <tr>\n",
       "      <th>18714</th>\n",
       "      <td>None</td>\n",
       "      <td>index_leave</td>\n",
       "      <td>index_leave</td>\n",
       "      <td>None</td>\n",
       "      <td>2017-03-08 09:04:53</td>\n",
       "    </tr>\n",
       "    <tr>\n",
       "      <th>18716</th>\n",
       "      <td>product</td>\n",
       "      <td>$pageview</td>\n",
       "      <td>$pageview</td>\n",
       "      <td>product</td>\n",
       "      <td>2017-03-08 09:05:00</td>\n",
       "    </tr>\n",
       "    <tr>\n",
       "      <th>18711</th>\n",
       "      <td>None</td>\n",
       "      <td>profile_set_once</td>\n",
       "      <td>profile_set_once</td>\n",
       "      <td>None</td>\n",
       "      <td>2017-03-31 11:05:23</td>\n",
       "    </tr>\n",
       "  </tbody>\n",
       "</table>\n",
       "<p>46542 rows × 5 columns</p>\n",
       "</div>"
      ],
      "text/plain": [
       "                                                   btnClick_page  \\\n",
       "distinct_id                                                        \n",
       "00007ef910b6c9911f1b89d01a09aa3fc862f4a9 6317           homepage   \n",
       "                                         6323      btnpage_index   \n",
       "                                         6326               None   \n",
       "                                         6334               None   \n",
       "                                         6339               None   \n",
       "                                         6340               None   \n",
       "                                         6316               None   \n",
       "000c46a27ef69fa22b56d253a9c72773338a1686 6277           homepage   \n",
       "                                         6279      btnpage_index   \n",
       "                                         6280               None   \n",
       "                                         6380              index   \n",
       "                                         6381      btnpage_index   \n",
       "                                         6382      btnpage_index   \n",
       "                                         6383      btnpage_index   \n",
       "                                         7020      btnpage_index   \n",
       "                                         7021      btnpage_index   \n",
       "                                         7022      btnpage_index   \n",
       "                                         7023               None   \n",
       "                                         7026               None   \n",
       "                                         7027               None   \n",
       "                                         7028      btnpage_index   \n",
       "                                         7032               None   \n",
       "                                         7035            courses   \n",
       "                                         7540      courses_index   \n",
       "                                         7541               None   \n",
       "                                         7543             bround   \n",
       "                                         7556              index   \n",
       "                                         7558             bround   \n",
       "                                         7557               None   \n",
       "                                         6276               None   \n",
       "...                                                          ...   \n",
       "ffc8ee900f28e2f14fd066413f1f74082125e6e1 11704              None   \n",
       "ffc97d4a5d6396e902a05f53ae07ad98e7d3cd11 34929          homepage   \n",
       "                                         34928              None   \n",
       "ffd207edf81afd355fbba616480ccae95666a439 27513        lookmanual   \n",
       "                                         27512              None   \n",
       "ffdb2208bf05f87ffa460b8e61ff8c60d6b1582d 6576           homepage   \n",
       "                                         6575               None   \n",
       "ffe7a2a48843239c636c0ec54503e223531a03d2 29538              tool   \n",
       "                                         29671  tools_page_close   \n",
       "                                         29539              None   \n",
       "ffe9025fc888f30546528e5e9f1cac24d1526476 45594          homepage   \n",
       "                                         45595              None   \n",
       "                                         45593              None   \n",
       "fff9ee23119dac9d0379b2f8149cca8d31744d5c 32539          homepage   \n",
       "                                         32546     btnpage_index   \n",
       "                                         32547              None   \n",
       "                                         32548             index   \n",
       "                                         32549             about   \n",
       "                                         32550     btnpage_about   \n",
       "                                         32551              None   \n",
       "                                         32552           product   \n",
       "                                         32554              None   \n",
       "                                         32555           product   \n",
       "                                         32620              None   \n",
       "                                         32538              None   \n",
       "fffa276c4cc840ddb5993a52112b22542bd29c8b 18712          homepage   \n",
       "                                         18713     btnpage_index   \n",
       "                                         18714              None   \n",
       "                                         18716           product   \n",
       "                                         18711              None   \n",
       "\n",
       "                                                                 name  \\\n",
       "distinct_id                                                             \n",
       "00007ef910b6c9911f1b89d01a09aa3fc862f4a9 6317               $pageview   \n",
       "                                         6323                 request   \n",
       "                                         6326    click_send_cellphone   \n",
       "                                         6334    click_send_cellphone   \n",
       "                                         6339               last_name   \n",
       "                                         6340   verify_cellphone_code   \n",
       "                                         6316        profile_set_once   \n",
       "000c46a27ef69fa22b56d253a9c72773338a1686 6277               $pageview   \n",
       "                                         6279                cli_blog   \n",
       "                                         6280             index_leave   \n",
       "                                         6380               $pageview   \n",
       "                                         6381                 request   \n",
       "                                         6382                 request   \n",
       "                                         6383                 request   \n",
       "                                         7020              cli_bround   \n",
       "                                         7021                cli_blog   \n",
       "                                         7022                cli_blog   \n",
       "                                         7023             index_leave   \n",
       "                                         7026             index_leave   \n",
       "                                         7027             index_leave   \n",
       "                                         7028               cli_video   \n",
       "                                         7032             index_leave   \n",
       "                                         7035               $pageview   \n",
       "                                         7540              cli_bround   \n",
       "                                         7541           courses_leave   \n",
       "                                         7543               $pageview   \n",
       "                                         7556               $pageview   \n",
       "                                         7558               $pageview   \n",
       "                                         7557             index_leave   \n",
       "                                         6276        profile_set_once   \n",
       "...                                                               ...   \n",
       "ffc8ee900f28e2f14fd066413f1f74082125e6e1 11704       profile_set_once   \n",
       "ffc97d4a5d6396e902a05f53ae07ad98e7d3cd11 34929              $pageview   \n",
       "                                         34928       profile_set_once   \n",
       "ffd207edf81afd355fbba616480ccae95666a439 27513              $pageview   \n",
       "                                         27512       profile_set_once   \n",
       "ffdb2208bf05f87ffa460b8e61ff8c60d6b1582d 6576               $pageview   \n",
       "                                         6575        profile_set_once   \n",
       "ffe7a2a48843239c636c0ec54503e223531a03d2 29538              $pageview   \n",
       "                                         29671             page_close   \n",
       "                                         29539       profile_set_once   \n",
       "ffe9025fc888f30546528e5e9f1cac24d1526476 45594              $pageview   \n",
       "                                         45595            index_leave   \n",
       "                                         45593       profile_set_once   \n",
       "fff9ee23119dac9d0379b2f8149cca8d31744d5c 32539              $pageview   \n",
       "                                         32546               cli_logo   \n",
       "                                         32547            index_leave   \n",
       "                                         32548              $pageview   \n",
       "                                         32549              $pageview   \n",
       "                                         32550            cli_product   \n",
       "                                         32551            about_leave   \n",
       "                                         32552              $pageview   \n",
       "                                         32554            cli_product   \n",
       "                                         32555              $pageview   \n",
       "                                         32620            index_leave   \n",
       "                                         32538       profile_set_once   \n",
       "fffa276c4cc840ddb5993a52112b22542bd29c8b 18712              $pageview   \n",
       "                                         18713               cli_blog   \n",
       "                                         18714            index_leave   \n",
       "                                         18716              $pageview   \n",
       "                                         18711       profile_set_once   \n",
       "\n",
       "                                                                event  \\\n",
       "distinct_id                                                             \n",
       "00007ef910b6c9911f1b89d01a09aa3fc862f4a9 6317               $pageview   \n",
       "                                         6323                btnClick   \n",
       "                                         6326    click_send_cellphone   \n",
       "                                         6334    click_send_cellphone   \n",
       "                                         6339              formSubmit   \n",
       "                                         6340   verify_cellphone_code   \n",
       "                                         6316        profile_set_once   \n",
       "000c46a27ef69fa22b56d253a9c72773338a1686 6277               $pageview   \n",
       "                                         6279                btnClick   \n",
       "                                         6280             index_leave   \n",
       "                                         6380               $pageview   \n",
       "                                         6381                btnClick   \n",
       "                                         6382                btnClick   \n",
       "                                         6383                btnClick   \n",
       "                                         7020                btnClick   \n",
       "                                         7021                btnClick   \n",
       "                                         7022                btnClick   \n",
       "                                         7023             index_leave   \n",
       "                                         7026             index_leave   \n",
       "                                         7027             index_leave   \n",
       "                                         7028                btnClick   \n",
       "                                         7032             index_leave   \n",
       "                                         7035               $pageview   \n",
       "                                         7540                btnClick   \n",
       "                                         7541           courses_leave   \n",
       "                                         7543               $pageview   \n",
       "                                         7556               $pageview   \n",
       "                                         7558               $pageview   \n",
       "                                         7557             index_leave   \n",
       "                                         6276        profile_set_once   \n",
       "...                                                               ...   \n",
       "ffc8ee900f28e2f14fd066413f1f74082125e6e1 11704       profile_set_once   \n",
       "ffc97d4a5d6396e902a05f53ae07ad98e7d3cd11 34929              $pageview   \n",
       "                                         34928       profile_set_once   \n",
       "ffd207edf81afd355fbba616480ccae95666a439 27513              $pageview   \n",
       "                                         27512       profile_set_once   \n",
       "ffdb2208bf05f87ffa460b8e61ff8c60d6b1582d 6576               $pageview   \n",
       "                                         6575        profile_set_once   \n",
       "ffe7a2a48843239c636c0ec54503e223531a03d2 29538              $pageview   \n",
       "                                         29671             page_close   \n",
       "                                         29539       profile_set_once   \n",
       "ffe9025fc888f30546528e5e9f1cac24d1526476 45594              $pageview   \n",
       "                                         45595            index_leave   \n",
       "                                         45593       profile_set_once   \n",
       "fff9ee23119dac9d0379b2f8149cca8d31744d5c 32539              $pageview   \n",
       "                                         32546               btnClick   \n",
       "                                         32547            index_leave   \n",
       "                                         32548              $pageview   \n",
       "                                         32549              $pageview   \n",
       "                                         32550               btnClick   \n",
       "                                         32551            about_leave   \n",
       "                                         32552              $pageview   \n",
       "                                         32554               btnClick   \n",
       "                                         32555              $pageview   \n",
       "                                         32620            index_leave   \n",
       "                                         32538       profile_set_once   \n",
       "fffa276c4cc840ddb5993a52112b22542bd29c8b 18712              $pageview   \n",
       "                                         18713               btnClick   \n",
       "                                         18714            index_leave   \n",
       "                                         18716              $pageview   \n",
       "                                         18711       profile_set_once   \n",
       "\n",
       "                                                    current_page  \\\n",
       "distinct_id                                                        \n",
       "00007ef910b6c9911f1b89d01a09aa3fc862f4a9 6317           homepage   \n",
       "                                         6323               None   \n",
       "                                         6326               None   \n",
       "                                         6334               None   \n",
       "                                         6339               None   \n",
       "                                         6340               None   \n",
       "                                         6316               None   \n",
       "000c46a27ef69fa22b56d253a9c72773338a1686 6277           homepage   \n",
       "                                         6279               None   \n",
       "                                         6280               None   \n",
       "                                         6380              index   \n",
       "                                         6381               None   \n",
       "                                         6382               None   \n",
       "                                         6383               None   \n",
       "                                         7020               None   \n",
       "                                         7021               None   \n",
       "                                         7022               None   \n",
       "                                         7023               None   \n",
       "                                         7026               None   \n",
       "                                         7027               None   \n",
       "                                         7028               None   \n",
       "                                         7032               None   \n",
       "                                         7035            courses   \n",
       "                                         7540               None   \n",
       "                                         7541               None   \n",
       "                                         7543             bround   \n",
       "                                         7556              index   \n",
       "                                         7558             bround   \n",
       "                                         7557               None   \n",
       "                                         6276               None   \n",
       "...                                                          ...   \n",
       "ffc8ee900f28e2f14fd066413f1f74082125e6e1 11704              None   \n",
       "ffc97d4a5d6396e902a05f53ae07ad98e7d3cd11 34929          homepage   \n",
       "                                         34928              None   \n",
       "ffd207edf81afd355fbba616480ccae95666a439 27513        lookmanual   \n",
       "                                         27512              None   \n",
       "ffdb2208bf05f87ffa460b8e61ff8c60d6b1582d 6576           homepage   \n",
       "                                         6575               None   \n",
       "ffe7a2a48843239c636c0ec54503e223531a03d2 29538              tool   \n",
       "                                         29671  tools_page_close   \n",
       "                                         29539              None   \n",
       "ffe9025fc888f30546528e5e9f1cac24d1526476 45594          homepage   \n",
       "                                         45595              None   \n",
       "                                         45593              None   \n",
       "fff9ee23119dac9d0379b2f8149cca8d31744d5c 32539          homepage   \n",
       "                                         32546              None   \n",
       "                                         32547              None   \n",
       "                                         32548             index   \n",
       "                                         32549             about   \n",
       "                                         32550              None   \n",
       "                                         32551              None   \n",
       "                                         32552           product   \n",
       "                                         32554              None   \n",
       "                                         32555           product   \n",
       "                                         32620              None   \n",
       "                                         32538              None   \n",
       "fffa276c4cc840ddb5993a52112b22542bd29c8b 18712          homepage   \n",
       "                                         18713              None   \n",
       "                                         18714              None   \n",
       "                                         18716           product   \n",
       "                                         18711              None   \n",
       "\n",
       "                                                       Bj_timestamp  \n",
       "distinct_id                                                          \n",
       "00007ef910b6c9911f1b89d01a09aa3fc862f4a9 6317   2017-03-07 05:52:17  \n",
       "                                         6323   2017-03-07 05:52:20  \n",
       "                                         6326   2017-03-07 05:52:29  \n",
       "                                         6334   2017-03-07 05:52:36  \n",
       "                                         6339   2017-03-07 05:52:50  \n",
       "                                         6340   2017-03-07 05:52:51  \n",
       "                                         6316   2017-03-31 11:05:08  \n",
       "000c46a27ef69fa22b56d253a9c72773338a1686 6277   2017-03-07 05:49:05  \n",
       "                                         6279   2017-03-07 05:49:11  \n",
       "                                         6280   2017-03-07 05:49:11  \n",
       "                                         6380   2017-03-07 05:58:13  \n",
       "                                         6381   2017-03-07 05:58:17  \n",
       "                                         6382   2017-03-07 05:58:21  \n",
       "                                         6383   2017-03-07 05:58:25  \n",
       "                                         7020   2017-03-07 06:41:23  \n",
       "                                         7021   2017-03-07 06:41:27  \n",
       "                                         7022   2017-03-07 06:41:29  \n",
       "                                         7023   2017-03-07 06:41:29  \n",
       "                                         7026   2017-03-07 06:41:32  \n",
       "                                         7027   2017-03-07 06:41:34  \n",
       "                                         7028   2017-03-07 06:41:35  \n",
       "                                         7032   2017-03-07 06:41:37  \n",
       "                                         7035   2017-03-07 06:41:37  \n",
       "                                         7540   2017-03-07 07:11:49  \n",
       "                                         7541   2017-03-07 07:11:49  \n",
       "                                         7543   2017-03-07 07:11:51  \n",
       "                                         7556   2017-03-07 07:12:01  \n",
       "                                         7558   2017-03-07 07:12:02  \n",
       "                                         7557   2017-03-07 07:12:02  \n",
       "                                         6276   2017-03-31 11:05:08  \n",
       "...                                                             ...  \n",
       "ffc8ee900f28e2f14fd066413f1f74082125e6e1 11704  2017-03-31 11:05:13  \n",
       "ffc97d4a5d6396e902a05f53ae07ad98e7d3cd11 34929  2017-03-10 05:15:50  \n",
       "                                         34928  2017-03-31 11:05:45  \n",
       "ffd207edf81afd355fbba616480ccae95666a439 27513  2017-03-09 08:34:42  \n",
       "                                         27512  2017-03-31 11:05:34  \n",
       "ffdb2208bf05f87ffa460b8e61ff8c60d6b1582d 6576   2017-03-07 06:16:52  \n",
       "                                         6575   2017-03-31 11:05:08  \n",
       "ffe7a2a48843239c636c0ec54503e223531a03d2 29538  2017-03-09 10:12:17  \n",
       "                                         29671  2017-03-09 10:24:36  \n",
       "                                         29539  2017-03-31 11:05:36  \n",
       "ffe9025fc888f30546528e5e9f1cac24d1526476 45594  2017-03-12 07:32:22  \n",
       "                                         45595  2017-03-12 07:32:50  \n",
       "                                         45593  2017-03-31 11:06:07  \n",
       "fff9ee23119dac9d0379b2f8149cca8d31744d5c 32539  2017-03-10 01:20:37  \n",
       "                                         32546  2017-03-10 01:23:04  \n",
       "                                         32547  2017-03-10 01:23:04  \n",
       "                                         32548  2017-03-10 01:23:05  \n",
       "                                         32549  2017-03-10 01:23:08  \n",
       "                                         32550  2017-03-10 01:23:21  \n",
       "                                         32551  2017-03-10 01:23:21  \n",
       "                                         32552  2017-03-10 01:23:21  \n",
       "                                         32554  2017-03-10 01:23:32  \n",
       "                                         32555  2017-03-10 01:23:33  \n",
       "                                         32620  2017-03-10 01:29:56  \n",
       "                                         32538  2017-03-31 11:05:42  \n",
       "fffa276c4cc840ddb5993a52112b22542bd29c8b 18712  2017-03-08 09:04:49  \n",
       "                                         18713  2017-03-08 09:04:53  \n",
       "                                         18714  2017-03-08 09:04:53  \n",
       "                                         18716  2017-03-08 09:05:00  \n",
       "                                         18711  2017-03-31 11:05:23  \n",
       "\n",
       "[46542 rows x 5 columns]"
      ]
     },
     "execution_count": 20,
     "metadata": {},
     "output_type": "execute_result"
    }
   ],
   "source": [
    "pattern[['btnClick_page', 'name', 'event', 'current_page','Bj_timestamp']]"
   ]
  },
  {
   "cell_type": "code",
   "execution_count": 21,
   "metadata": {
    "collapsed": false
   },
   "outputs": [],
   "source": [
    "b4_sign_df.to_csv('data/b4_sign_no_useless_col_eventAndname_btnclickpageAndcurrentpage.csv', index = False, encoding = 'utf-8')"
   ]
  },
  {
   "cell_type": "code",
   "execution_count": null,
   "metadata": {
    "collapsed": true
   },
   "outputs": [],
   "source": []
  }
 ],
 "metadata": {
  "kernelspec": {
   "display_name": "Python 2",
   "language": "python",
   "name": "python2"
  },
  "language_info": {
   "codemirror_mode": {
    "name": "ipython",
    "version": 2
   },
   "file_extension": ".py",
   "mimetype": "text/x-python",
   "name": "python",
   "nbconvert_exporter": "python",
   "pygments_lexer": "ipython2",
   "version": "2.7.13"
  }
 },
 "nbformat": 4,
 "nbformat_minor": 0
}
