{
 "cells": [
  {
   "cell_type": "code",
   "execution_count": 1,
   "metadata": {
    "collapsed": true
   },
   "outputs": [],
   "source": [
    "import pandas as pd\n",
    "import numpy as np"
   ]
  },
  {
   "cell_type": "code",
   "execution_count": 2,
   "metadata": {
    "collapsed": false
   },
   "outputs": [
    {
     "name": "stderr",
     "output_type": "stream",
     "text": [
      "G:\\Anaconda2\\lib\\site-packages\\IPython\\core\\interactiveshell.py:2723: DtypeWarning: Columns (3,36,38,61,62) have mixed types. Specify dtype option on import or set low_memory=False.\n",
      "  interactivity=interactivity, compiler=compiler, result=result)\n"
     ]
    }
   ],
   "source": [
    "raw_df = pd.read_csv('data/unify_raw_data.csv')"
   ]
  },
  {
   "cell_type": "code",
   "execution_count": 8,
   "metadata": {
    "collapsed": false
   },
   "outputs": [
    {
     "data": {
      "text/plain": [
       "Index([u'nocache', u'distinct_id', u'event', u'jssdk_error', u'browser',\n",
       "       u'browser_version', u'first_browser_language', u'first_referrer',\n",
       "       u'first_referrer_host', u'first_visit_time', u'ip', u'is_first_day',\n",
       "       u'is_first_time', u'latest_referrer', u'latest_referrer_host',\n",
       "       u'latest_utm_campaign', u'latest_utm_content', u'latest_utm_medium',\n",
       "       u'latest_utm_source', u'latest_utm_term', u'model', u'os',\n",
       "       u'os_version', u'referrer', u'referrer_host', u'screen_height',\n",
       "       u'screen_width', u'title', u'url', u'url_path', u'utm_campaign',\n",
       "       u'utm_content', u'utm_medium', u'utm_source', u'utm_term', u'latest_ch',\n",
       "       u'session_from_url', u'session_referrer', u'session_referrer_domain',\n",
       "       u'session_referrer_host', u'ch', u'company', u'contact', u'email',\n",
       "       u'from_url', u'info', u'isMsg', u'isSuccess', u'name', u'page',\n",
       "       u'pagePosition', u'pageStayTime', u'pageUrl', u'project_name',\n",
       "       u'referrHostUrl', u'referrerUrl', u'requestBtn', u'result',\n",
       "       u'session_page_url', u'siteUrl', u'site_url', u'url_path.1',\n",
       "       u'verification_code', u'time', u'type'],\n",
       "      dtype='object')"
      ]
     },
     "execution_count": 8,
     "metadata": {},
     "output_type": "execute_result"
    }
   ],
   "source": [
    "raw_df.columns"
   ]
  },
  {
   "cell_type": "code",
   "execution_count": 4,
   "metadata": {
    "collapsed": true
   },
   "outputs": [
    {
     "data": {
      "text/plain": [
       "https://www.sensorsdata.cn/demo.html                                                                                                                                                                                                                                                          3108\n",
       "https://www.sensorsdata.cn/                                                                                                                                                                                                                                                                   2597\n",
       "https://www.sensorsdata.cn/index.html                                                                                                                                                                                                                                                         1164\n",
       "https://www.sensorsdata.cn/product.html                                                                                                                                                                                                                                                       1075\n",
       "https://www.sensorsdata.cn/?utm_source=baidu&utm_medium=cpc&utm_term=%E7%94%A8%E6%88%B7%E7%94%BB%E5%83%8F&utm_content=%E9%80%9A%E7%94%A8%2D%E7%94%A8%E6%88%B7%E7%94%BB%E5%83%8F&utm_campaign=%E9%80%9A%E7%94%A8%E8%AF%8D                                                                      1059\n",
       "https://www.sensorsdata.cn/about.html                                                                                                                                                                                                                                                          987\n",
       "https://sensorsdata.cn/                                                                                                                                                                                                                                                                        928\n",
       "https://sensorsdata.cn/demo.html                                                                                                                                                                                                                                                               836\n",
       "https://www.sensorsdata.cn/?utm_source=baidu&utm_medium=cpc&utm_term=%E7%A5%9E%E7%AD%96&utm_content=%E5%93%81%E7%89%8C%2D%E7%A5%9E%E7%AD%96&utm_campaign=%E5%93%81%E7%89%8C%E8%AF%8D                                                                                                           832\n",
       "https://www.sensorsdata.cn/courses/                                                                                                                                                                                                                                                            725\n",
       "https://sensorsdata.cn/?ch=demo                                                                                                                                                                                                                                                                636\n",
       "https://www.sensorsdata.cn/?utm_source=baidu&utm_medium=cpc&utm_term=%E7%A5%9E%E7%AD%96%E6%95%B0%E6%8D%AE&utm_content=%E5%93%81%E7%89%8C%2D%E7%A5%9E%E7%AD%96&utm_campaign=%E5%93%81%E7%89%8C%E8%AF%8D                                                                                         361\n",
       "https://sensorsdata.cn/index.html                                                                                                                                                                                                                                                              313\n",
       "https://sensorsdata.cn/about.html                                                                                                                                                                                                                                                              264\n",
       "https://www.sensorsdata.cn/?utm_source=sogou&utm_medium=mcpc&utm_term=%e6%95%b0%e6%8d%ae%e5%88%86%e6%9e%90&utm_content=%e9%80%9a%e7%94%a8-%e6%95%b0%e6%8d%ae%e5%88%86%e6%9e%90&utm_campaign=S-%e9%80%9a%e7%94%a8%e8%af%8d                                                                      209\n",
       "https://www.sensorsdata.cn/?utm_source=baidu&utm_medium=cpc&utm_term=%E7%94%A8%E6%88%B7%E5%88%86%E6%9E%90&utm_content=%E9%80%9A%E7%94%A8%2D%E7%94%A8%E6%88%B7%E5%88%86%E6%9E%90&utm_campaign=%E9%80%9A%E7%94%A8%E8%AF%8D                                                                       200\n",
       "https://www.sensorsdata.cn/courses/index.html                                                                                                                                                                                                                                                  197\n",
       "https://sensorsdata.cn/product.html                                                                                                                                                                                                                                                            191\n",
       "https://sensorsdata.cn/courses/                                                                                                                                                                                                                                                                167\n",
       "https://www.sensorsdata.cn/?utm_source=baidu&utm_medium=cpc&utm_term=%E7%94%B5%E5%AD%90%E5%95%86%E5%8A%A1%E6%95%B0%E6%8D%AE&utm_content=%E9%80%9A%E7%94%A8%2D%E7%94%B5%E5%95%86%E8%BF%90%E8%90%A5&utm_campaign=%E9%80%9A%E7%94%A8%E8%AF%8D                                                     150\n",
       "https://www.sensorsdata.cn/courses/play.html?v=first                                                                                                                                                                                                                                           135\n",
       "https://www.sensorsdata.cn/?utm_source=baidu&utm_medium=cpc&utm_term=%E5%A4%A7%E6%95%B0%E6%8D%AE%E5%88%86%E6%9E%90&utm_content=%E9%80%9A%E7%94%A8%2D%E6%95%B0%E6%8D%AE%E5%88%86%E6%9E%90&utm_campaign=%E9%80%9A%E7%94%A8%E8%AF%8D                                                              129\n",
       "https://www.sensorsdata.cn/?utm_source=baidu&utm_medium=mfeed&utm_term=%E9%A6%96%E9%A1%B5-%E9%80%9A%E7%94%A8%E8%AF%8D-%E4%B8%89%E5%9B%BE-%E5%9B%BE1&utm_content=%E9%80%9A%E7%94%A8%E8%AF%8D-%E4%B8%89%E5%9B%BE&utm_campaign=%E9%A6%96%E9%A1%B5                                                 128\n",
       "https://www.sensorsdata.cn/b-round.html                                                                                                                                                                                                                                                        105\n",
       "https://www.sensorsdata.cn/?utm_source=baidu&utm_medium=cpc&utm_term=%E6%97%85%E6%B8%B8%E5%A4%A7%E6%95%B0%E6%8D%AE&utm_content=%E9%80%9A%E7%94%A8%2D%E5%A4%A7%E6%95%B0%E6%8D%AE%2D%E8%A1%8C%E4%B8%9A&utm_campaign=%E9%80%9A%E7%94%A8%E8%AF%8D                                                  103\n",
       "https://www.sensorsdata.cn/?utm_source=baidu&utm_medium=cpc&utm_term=%E4%BA%A7%E5%93%81%E6%95%B0%E6%8D%AE%E5%88%86%E6%9E%90&utm_content=%E9%80%9A%E7%94%A8%2D%E6%95%B0%E6%8D%AE%E5%88%86%E6%9E%90&utm_campaign=%E9%80%9A%E7%94%A8%E8%AF%8D                                                      98\n",
       "https://www.sensorsdata.cn/?utm_source=baidu&utm_medium=cpc&utm_term=%E7%BD%91%E7%AB%99%E6%95%B0%E6%8D%AE%E7%BB%9F%E8%AE%A1&utm_content=%E9%80%9A%E7%94%A8%2D%E6%95%B0%E6%8D%AE%E7%BB%9F%E8%AE%A1&utm_campaign=%E9%80%9A%E7%94%A8%E8%AF%8D                                                      94\n",
       "https://www.sensorsdata.cn/?utm_source=baidu&utm_medium=cpc&utm_term=%E6%95%B0%E6%8D%AE%E5%88%86%E6%9E%90&utm_content=%E9%80%9A%E7%94%A8%2D%E6%95%B0%E6%8D%AE%E5%88%86%E6%9E%90&utm_campaign=%E9%80%9A%E7%94%A8%E8%AF%8D                                                                        87\n",
       "https://www.sensorsdata.cn/?utm_source=baidu&utm_medium=cpc&utm_term=%E7%BD%91%E7%AB%99%E8%BF%90%E8%90%A5%E6%95%B0%E6%8D%AE%E5%88%86%E6%9E%90&utm_content=%E9%80%9A%E7%94%A8%2D%E6%95%B0%E6%8D%AE%E5%88%86%E6%9E%90%2D%E8%BF%90%E8%90%A5&utm_campaign=%E9%80%9A%E7%94%A8%E8%AF%8D               83\n",
       "https://www.sensorsdata.cn/?utm_source=baidu&utm_medium=cpc&utm_term=app%E6%95%B0%E6%8D%AE&utm_content=%E9%80%9A%E7%94%A8%2DAPP%E8%BF%90%E8%90%A5&utm_campaign=%E9%80%9A%E7%94%A8%E8%AF%8D                                                                                                      82\n",
       "                                                                                                                                                                                                                                                                                              ... \n",
       "https://www.sensorsdata.cn/?utm_source=baidu&utm_medium=cpc&utm_term=%E7%94%A8%E6%88%B7%E8%A1%8C%E4%B8%BA%E6%8C%96%E6%8E%98&utm_content=%E9%80%9A%E7%94%A8%2D%E7%94%A8%E6%88%B7%E8%A1%8C%E4%B8%BA%E5%88%86%E6%9E%90&utm_campaign=%E9%80%9A%E7%94%A8%E8%AF%8D                                     1\n",
       "https://www.sensorsdata.cn/?utm_source=sogou&utm_medium=mcpc&utm_term=7%e6%97%a5%e7%95%99%e5%ad%98&utm_content=%e9%80%9a%e7%94%a8-%e7%94%a8%e6%88%b7%e7%95%99%e5%ad%98&utm_campaign=S-%e9%80%9a%e7%94%a8%e8%af%8d                                                                                1\n",
       "https://www.sensorsdata.cn/?utm_source=google&utm_medium=cpc&utm_term=app%E6%95%B0%E6%8D%AE&utm_content=%E9%80%9A%E7%94%A8%2DAPP%E8%BF%90%E8%90%A5&utm_campaign=G%2D%E9%80%9A%E7%94%A8%E8%AF%8D                                                                                                  1\n",
       "https://www.sensorsdata.cn/?utm_source=baidu&utm_medium=cpc&utm_term=app%E7%94%A8%E6%88%B7%E7%94%BB%E5%83%8F%E5%88%86%E6%9E%90&utm_content=%E9%80%9A%E7%94%A8%2D%E7%94%A8%E6%88%B7%E7%94%BB%E5%83%8F%2D%E8%A1%8C%E4%B8%9A&utm_campaign=%E9%80%9A%E7%94%A8%E8%AF%8D                               1\n",
       "https://www.sensorsdata.cn/?utm_source=baidu&utm_medium=mcpc&utm_campaign=%e7%a5%9e%e7%ad%96-%e7%a7%bb%e5%8a%a8%e6%8e%a8%e5%b9%bf&utm_content=%e9%80%9a%e7%94%a8%e8%af%8d-M&utm_term=%e7%94%a8%e6%88%b7%e6%95%b0%e6%8d%ae%e5%88%86%e6%9e%90                                                      1\n",
       "https://www.sensorsdata.cn/?utm_source=baidu&utm_medium=cpc&utm_term=%E6%95%B0%E6%8D%AE%E7%BB%9F%E8%AE%A1%E5%88%86%E6%9E%90%E7%B3%BB%E7%BB%9F&utm_content=%E9%80%9A%E7%94%A8%2D%E6%95%B0%E6%8D%AE%E7%BB%9F%E8%AE%A1%2D%E4%BA%A7%E5%93%81&utm_campaign=%E9%80%9A%E7%94%A8%E8%AF%8D                1\n",
       "https://www.sensorsdata.cn/?utm_source=sogou&utm_medium=mcpc&utm_term=%e5%a4%a7%e6%95%b0%e6%8d%ae%e5%88%86%e6%9e%90%e8%bd%af%e4%bb%b6&utm_content=%e9%80%9a%e7%94%a8-%e6%95%b0%e6%8d%ae%e5%88%86%e6%9e%90-%e4%ba%a7%e5%93%81&utm_campaign=S-%e9%80%9a%e7%94%a8%e8%af%8d                          1\n",
       "https://www.sensorsdata.cn/?utm_source=baidu&utm_medium=cpc&utm_term=%E7%94%B5%E5%95%86%E5%88%86%E6%9E%90&utm_content=%E9%80%9A%E7%94%A8%2D%E7%94%B5%E5%95%86%E8%BF%90%E8%90%A5&utm_campaign=%E9%80%9A%E7%94%A8%E8%AF%8D                                                                         1\n",
       "https://www.sensorsdata.cn/?utm_source=sogou&utm_medium=mcpc&utm_term=%e6%95%b0%e6%8d%ae%e5%8c%96%e8%bf%90%e8%90%a5&utm_content=%e9%80%9a%e7%94%a8-%e6%95%b0%e6%8d%ae%e8%bf%90%e8%90%a5&utm_campaign=S-%e9%80%9a%e7%94%a8%e8%af%8d                                                               1\n",
       "https://www.sensorsdata.cn/?utm_source=sogou&utm_medium=cpc&utm_term=%E5%9B%BE%E7%89%87&utm_content=&utm_campaign=%E7%9A%87%E5%86%A0%E5%AD%90%E9%93%BE                                                                                                                                           1\n",
       "https://www.sensorsdata.cn/?utm_source=baidu&utm_medium=cpc&utm_term=sensors%20data&utm_content=%E5%93%81%E7%89%8C%2D%E7%A5%9E%E7%AD%96%2D%E8%8B%B1%E6%96%87&utm_campaign=%E5%93%81%E7%89%8C%E8%AF%8D                                                                                            1\n",
       "https://www.sensorsdata.cn/?utm_source=baidu&utm_medium=cpc&utm_term=%E5%9B%BD%E5%86%85%E5%A4%A7%E6%95%B0%E6%8D%AE%E5%88%86%E6%9E%90&utm_content=%E9%80%9A%E7%94%A8%2D%E6%95%B0%E6%8D%AE%E5%88%86%E6%9E%90&utm_campaign=%E9%80%9A%E7%94%A8%E8%AF%8D                                              1\n",
       "https://www.sensorsdata.cn/?utm_source=23h5                                                                                                                                                                                                                                                      1\n",
       "https://www.sensorsdata.cn/?utm_source=sogou&utm_medium=mcpc&utm_term=%e5%b9%bf%e5%91%8a%e6%95%88%e6%9e%9c%e8%af%84%e4%bc%b0&utm_content=%e9%80%9a%e7%94%a8-%e5%b9%bf%e5%91%8a%e4%bc%98%e5%8c%96&utm_campaign=S-%e9%80%9a%e7%94%a8%e8%af%8d                                                      1\n",
       "https://www.sensorsdata.cn/demo.html?token=9c283f5711ef03e61e2a67c007100fce&project=new_project                                                                                                                                                                                                  1\n",
       "https://www.sensorsdata.cn/?utm_source=baidu&utm_medium=mcpc&utm_campaign=%e7%a5%9e%e7%ad%96-%e7%a7%bb%e5%8a%a8%e6%8e%a8%e5%b9%bf&utm_content=%e9%80%9a%e7%94%a8%e8%af%8d-M&utm_term=%e6%95%b0%e6%8d%ae%e5%8f%af%e8%a7%86%e5%8c%96%e5%b7%a5%e5%85%b7                                             1\n",
       "https://www.sensorsdata.cn/?utm_source=baidu&utm_medium=cpc&utm_term=%E7%A5%9E%E7%AD%96%E6%95%B0%E6%8D%AE&utm_content=%E5%93%81%E7%89%8C-%E7%A5%9E%E7%AD%96&utm_campaign=%E5%93%81%E7%89%8C%E8%AF%8D&winzoom=1                                                                                   1\n",
       "https://www.sensorsdata.cn/?utm_source=baidu&utm_mhttp://mt.sohu.com/20160902/n467329892.shtml                                                                                                                                                                                                   1\n",
       "https://www.sensorsdata.cn/?utm_source=baidu&utm_medium=cpc&utm_term=%E8%90%A5%E8%BF%90%E6%95%B0%E6%8D%AE%E5%88%86%E6%9E%90&utm_content=%E9%80%9A%E7%94%A8%2D%E6%95%B0%E6%8D%AE%E5%88%86%E6%9E%90%2D%E8%BF%90%E8%90%A5&utm_campaign=%E9%80%9A%E7%94%A8%E8%AF%8D                                  1\n",
       "https://www.sensorsdata.cn/?utm_source=google&utm_medium=cpc&utm_term=%E7%94%B5%E5%AD%90%E5%95%86%E5%8A%A1%E6%95%B0%E6%8D%AE&utm_content=%E9%80%9A%E7%94%A8-%E7%94%B5%E5%95%86%E8%BF%90%E8%90%A5&utm_campaign=G-%E9%80%9A%E7%94%A8%E8%AF%8D                                                      1\n",
       "https://www.sensorsdata.cn/?utm_source=baidu&utm_medium=cpc&utm_term=%E4%BA%92%E8%81%94%E7%BD%91%E6%95%B0%E6%8D%AE%E5%88%86%E6%9E%90%E6%96%B9%E6%B3%95&utm_content=%E9%80%9A%E7%94%A8%2D%E6%95%B0%E6%8D%AE%E5%88%86%E6%9E%90%2D%E6%96%B9%E6%A1%88&utm_campaign=%E9%80%9A%E7%94%A8%E8%AF%8D       1\n",
       "https://www.sensorsdata.cn/?utm_source=baidu&utm_medium=cpc&utm_term=%E6%95%B0%E6%8D%AE%E7%B3%BB%E7%BB%9F%E5%BB%BA%E8%AE%BE&utm_content=%E9%80%9A%E7%94%A8%2D%E6%95%B0%E6%8D%AE%E7%B3%BB%E7%BB%9F&utm_campaign=%E9%80%9A%E7%94%A8%E8%AF%8D                                                       1\n",
       "https://www.sensorsdata.cn/?utm_source=sogou&utm_medium=mcpc&utm_term=%e5%b9%bf%e5%91%8a%e6%8a%95%e6%94%be%e6%95%88%e6%9e%9c%e8%af%84%e4%bc%b0&utm_content=%e9%80%9a%e7%94%a8-%e5%b9%bf%e5%91%8a%e4%bc%98%e5%8c%96&utm_campaign=S-%e9%80%9a%e7%94%a8%e8%af%8d                                    1\n",
       "https://www.sensorsdata.cn/?utm_source=baidu&utm_medium=cpc&utm_term=%E7%BD%91%E7%AB%99%E5%88%86%E6%9E%90&utm_content=%E9%80%9A%E7%94%A8%2D%E7%BD%91%E7%AB%99%E8%BF%90%E8%90%A5&utm_campaign=%E9%80%9A%E7%94%A8%E8%AF%8D                                                                         1\n",
       "https://www.sensorsdata.cn/?utm_source=baidu&utm_medium=cpc&utm_term=%E7%BD%91%E7%BB%9C%E8%BF%90%E8%90%A5%E6%95%B0%E6%8D%AE%E5%88%86%E6%9E%90&utm_content=%E9%80%9A%E7%94%A8%2D%E6%95%B0%E6%8D%AE%E5%88%86%E6%9E%90%2D%E8%BF%90%E8%90%A5&utm_campaign=%E9%80%9A%E7%94%A8%E8%AF%8D                1\n",
       "https://www.sensorsdata.cn/?utm_source=baidu&utm_medium=cpc&utm_term=%E4%BA%A7%E4%B8%9A%E5%A4%A7%E6%95%B0%E6%8D%AE%E5%88%86%E6%9E%90&utm_content=%E9%80%9A%E7%94%A8%2D%E6%95%B0%E6%8D%AE%E5%88%86%E6%9E%90&utm_campaign=%E9%80%9A%E7%94%A8%E8%AF%8D                                              1\n",
       "https://www.sensorsdata.cn/?utm_source=baidu&utm_medium=cpc&utm_term=%E7%94%B5%E5%95%86%E6%95%B0%E6%8D%AE%E5%88%86%E6%9E%90%E6%96%B9%E6%A1%88&utm_content=%E9%80%9A%E7%94%A8%2D%E6%95%B0%E6%8D%AE%E5%88%86%E6%9E%90%2D%E6%96%B9%E6%A1%88&utm_campaign=%E9%80%9A%E7%94%A8%E8%AF%8D                1\n",
       "https://www.sensorsdata.cn/?utm_source=baidu&utm_medium=mcpc&utm_campaign=%e7%a5%9e%e7%ad%96-%e7%a7%bb%e5%8a%a8%e6%8e%a8%e5%b9%bf&utm_content=%e9%80%9a%e7%94%a8%e8%af%8d-M&utm_term=%e9%87%91%e8%9e%8d%e5%a4%a7%e6%95%b0%e6%8d%ae%e5%88%86%e6%9e%90                                             1\n",
       "https://www.sensorsdata.cn/?utm_source=baidu&utm_medium=cpc&utm_term=%E5%88%86%E6%9E%90%E8%BF%90%E8%90%A5%E6%95%B0%E6%8D%AE&utm_content=%E9%80%9A%E7%94%A8%2D%E7%BD%91%E7%AB%99%E8%BF%90%E8%90%A5&utm_campaign=%E9%80%9A%E7%94%A8%E8%AF%8D                                                       1\n",
       "https://www.sensorsdata.cn/?utm_source=baidu&utm_medium=cpc&utm_term=%E5%B9%BF%E5%91%8A%E6%95%88%E6%9E%9C%E7%9B%91%E6%B5%8B%E7%B3%BB%E7%BB%9F&utm_content=%E9%80%9A%E7%94%A8%2D%E5%B9%BF%E5%91%8A%E4%BC%98%E5%8C%96&utm_campaign=%E9%80%9A%E7%94%A8%E8%AF%8D                                     1\n",
       "Name: pageUrl, dtype: int64"
      ]
     },
     "execution_count": 4,
     "metadata": {},
     "output_type": "execute_result"
    }
   ],
   "source": [
    "raw_df.pageUrl\n",
    "raw_df.pageUrl.value_counts()"
   ]
  },
  {
   "cell_type": "code",
   "execution_count": 67,
   "metadata": {
    "collapsed": false
   },
   "outputs": [
    {
     "name": "stdout",
     "output_type": "stream",
     "text": [
      "NaN                       50911\n",
      "/tools/url_create.html       73\n",
      "/tools/code_auto/            65\n",
      "Name: url_path.1, dtype: int64\n",
      "page_close    138\n",
      "Name: event, dtype: int64\n"
     ]
    }
   ],
   "source": [
    "print raw_df[\"url_path.1\"].value_counts(dropna = False)\n",
    "print raw_df[(raw_df['url_path.1'].notnull())].event.value_counts()"
   ]
  },
  {
   "cell_type": "code",
   "execution_count": 5,
   "metadata": {
    "collapsed": false
   },
   "outputs": [
    {
     "name": "stdout",
     "output_type": "stream",
     "text": [
      "NaN                           50736\n",
      "https://www.sensorsdata.cn      313\n",
      "Name: siteUrl, dtype: int64\n",
      "formSubmit    313\n",
      "Name: event, dtype: int64\n",
      "NaN                                                                                                                                                                                                                                                                                  222\n",
      "https://www.sensorsdata.cn/                                                                                                                                                                                                                                                           62\n",
      "https://www.sensorsdata.cn/?utm_source=baidu&utm_medium=cpc&utm_term=%E7%94%A8%E6%88%B7%E7%94%BB%E5%83%8F&utm_content=%E9%80%9A%E7%94%A8%2D%E7%94%A8%E6%88%B7%E7%94%BB%E5%83%8F&utm_campaign=%E9%80%9A%E7%94%A8%E8%AF%8D                                                              39\n",
      "https://www.sensorsdata.cn/?utm_source=baidu&utm_medium=cpc&utm_term=%E7%A5%9E%E7%AD%96&utm_content=%E5%93%81%E7%89%8C%2D%E7%A5%9E%E7%AD%96&utm_campaign=%E5%93%81%E7%89%8C%E8%AF%8D                                                                                                  31\n",
      "https://sensorsdata.cn/                                                                                                                                                                                                                                                               18\n",
      "https://www.sensorsdata.cn/?utm_source=baidu&utm_medium=mfeed&utm_term=%E9%A6%96%E9%A1%B5-%E9%80%9A%E7%94%A8%E8%AF%8D-%E4%B8%89%E5%9B%BE-%E5%9B%BE1&utm_content=%E9%80%9A%E7%94%A8%E8%AF%8D-%E4%B8%89%E5%9B%BE&utm_campaign=%E9%A6%96%E9%A1%B5                                         7\n",
      "https://www.sensorsdata.cn/?utm_source=baidu&utm_medium=cpc&utm_term=%E7%A5%9E%E7%AD%96%E6%95%B0%E6%8D%AE&utm_content=%E5%93%81%E7%89%8C%2D%E7%A5%9E%E7%AD%96&utm_campaign=%E5%93%81%E7%89%8C%E8%AF%8D                                                                                 7\n",
      "https://www.sensorsdata.cn/?utm_source=sogou&utm_medium=mcpc&utm_term=%e6%95%b0%e6%8d%ae%e5%88%86%e6%9e%90&utm_content=%e9%80%9a%e7%94%a8-%e6%95%b0%e6%8d%ae%e5%88%86%e6%9e%90&utm_campaign=S-%e9%80%9a%e7%94%a8%e8%af%8d                                                              7\n",
      "https://www.sensorsdata.cn/?utm_source=baidu&utm_medium=cpc&utm_term=%E7%94%A8%E6%88%B7%E5%88%86%E6%9E%90&utm_content=%E9%80%9A%E7%94%A8%2D%E7%94%A8%E6%88%B7%E5%88%86%E6%9E%90&utm_campaign=%E9%80%9A%E7%94%A8%E8%AF%8D                                                               6\n",
      "https://www.sensorsdata.cn/?utm_source=baidu&utm_medium=cpc&utm_term=%E7%BD%91%E7%AB%99%E6%95%B0%E6%8D%AE%E7%BB%9F%E8%AE%A1&utm_content=%E9%80%9A%E7%94%A8%2D%E6%95%B0%E6%8D%AE%E7%BB%9F%E8%AE%A1&utm_campaign=%E9%80%9A%E7%94%A8%E8%AF%8D                                             6\n",
      "https://www.sensorsdata.cn/?utm_source=baidu&utm_medium=cpc&utm_term=app%E6%95%B0%E6%8D%AE&utm_content=%E9%80%9A%E7%94%A8%2DAPP%E8%BF%90%E8%90%A5&utm_campaign=%E9%80%9A%E7%94%A8%E8%AF%8D                                                                                             5\n",
      "https://www.sensorsdata.cn/?utm_source=baidu&utm_medium=cpc&utm_term=%E7%94%B5%E5%AD%90%E5%95%86%E5%8A%A1%E6%95%B0%E6%8D%AE&utm_content=%E9%80%9A%E7%94%A8%2D%E7%94%B5%E5%95%86%E8%BF%90%E8%90%A5&utm_campaign=%E9%80%9A%E7%94%A8%E8%AF%8D                                             5\n",
      "https://www.sensorsdata.cn/?utm_source=baidu&utm_medium=cpc&utm_term=%E7%94%A8%E6%88%B7%E7%94%BB%E5%83%8F%E5%88%86%E6%9E%90&utm_content=%E9%80%9A%E7%94%A8%2D%E7%94%A8%E6%88%B7%E7%94%BB%E5%83%8F%2D%E4%BA%A7%E5%93%81&utm_campaign=%E9%80%9A%E7%94%A8%E8%AF%8D                        5\n",
      "https://www.sensorsdata.cn/?utm_source=baidu&utm_medium=cpc&utm_term=%E7%BD%91%E7%AB%99%E8%BF%90%E8%90%A5%E6%95%B0%E6%8D%AE%E5%88%86%E6%9E%90&utm_content=%E9%80%9A%E7%94%A8%2D%E6%95%B0%E6%8D%AE%E5%88%86%E6%9E%90%2D%E8%BF%90%E8%90%A5&utm_campaign=%E9%80%9A%E7%94%A8%E8%AF%8D      5\n",
      "https://www.sensorsdata.cn/?utm_source=baidu&utm_medium=cpc&utm_term=%E6%95%B0%E6%8D%AE%E5%88%86%E6%9E%90&utm_content=%E9%80%9A%E7%94%A8%2D%E6%95%B0%E6%8D%AE%E5%88%86%E6%9E%90&utm_campaign=%E9%80%9A%E7%94%A8%E8%AF%8D                                                               4\n",
      "https://www.sensorsdata.cn/?utm_source=baidu&utm_medium=cpc&utm_term=%E7%94%B5%E5%95%86%E6%95%B0%E6%8D%AE%E5%88%86%E6%9E%90&utm_content=%E9%80%9A%E7%94%A8%2D%E6%95%B0%E6%8D%AE%E5%88%86%E6%9E%90%2D%E8%A1%8C%E4%B8%9A&utm_campaign=%E9%80%9A%E7%94%A8%E8%AF%8D                        3\n",
      "https://sensorsdata.cn/?ch=zhihu                                                                                                                                                                                                                                                       3\n",
      "https://www.sensorsdata.cn/demo.html                                                                                                                                                                                                                                                   3\n",
      "https://www.sensorsdata.cn/?utm_source=baidu&utm_medium=cpc&utm_term=%E5%AE%A2%E6%88%B7%E7%94%BB%E5%83%8F&utm_content=%E9%80%9A%E7%94%A8%2D%E7%94%A8%E6%88%B7%E7%94%BB%E5%83%8F&utm_campaign=%E9%80%9A%E7%94%A8%E8%AF%8D                                                               3\n",
      "https://www.sensorsdata.cn/?utm_source=baidu&utm_medium=cpc&utm_term=%E6%B8%B8%E6%88%8F%E6%95%B0%E6%8D%AE%E5%88%86%E6%9E%90&utm_content=%E9%80%9A%E7%94%A8%2D%E6%95%B0%E6%8D%AE%E5%88%86%E6%9E%90%2D%E8%A1%8C%E4%B8%9A&utm_campaign=%E9%80%9A%E7%94%A8%E8%AF%8D                        3\n",
      "https://sensorsdata.cn/?ch=demo                                                                                                                                                                                                                                                        3\n",
      "https://www.sensorsdata.cn/?utm_source=baidu&utm_medium=cpc&utm_term=%E7%A5%9E%E7%AD%96%E5%88%86%E6%9E%90&utm_content=%E5%93%81%E7%89%8C%2D%E7%A5%9E%E7%AD%96&utm_campaign=%E5%93%81%E7%89%8C%E8%AF%8D                                                                                 3\n",
      "https://www.sensorsdata.cn/?utm_source=baidu&utm_medium=cpc&utm_term=%E6%95%B0%E6%8D%AE%E5%88%86%E6%9E%90%E7%B3%BB%E7%BB%9F&utm_content=%E9%80%9A%E7%94%A8%2D%E6%95%B0%E6%8D%AE%E5%88%86%E6%9E%90%2D%E4%BA%A7%E5%93%81&utm_campaign=%E9%80%9A%E7%94%A8%E8%AF%8D                        2\n",
      "https://www.sensorsdata.cn/?utm_source=baidu&utm_medium=cpc&utm_term=app%E8%BF%90%E8%90%A5%E6%95%B0%E6%8D%AE%E5%88%86%E6%9E%90&utm_content=%E9%80%9A%E7%94%A8%2D%E6%95%B0%E6%8D%AE%E5%88%86%E6%9E%90%2D%E8%A1%8C%E4%B8%9A&utm_campaign=%E9%80%9A%E7%94%A8%E8%AF%8D                     2\n",
      "https://www.sensorsdata.cn/?utm_source=baidu&utm_medium=cpc&utm_term=%E7%94%A8%E6%88%B7%E7%95%99%E5%AD%98&utm_content=%E9%80%9A%E7%94%A8%2D%E7%94%A8%E6%88%B7%E7%95%99%E5%AD%98&utm_campaign=%E9%80%9A%E7%94%A8%E8%AF%8D                                                               2\n",
      "https://www.sensorsdata.cn/?utm_source=baidu&utm_medium=mcpc&utm_campaign=%e7%a5%9e%e7%ad%96-%e7%a7%bb%e5%8a%a8%e6%8e%a8%e5%b9%bf&utm_content=%e9%80%9a%e7%94%a8%e8%af%8d-M&utm_term=%e7%94%a8%e6%88%b7%e7%94%bb%e5%83%8f                                                              2\n",
      "https://www.sensorsdata.cn/?utm_source=baidu&utm_medium=cpc&utm_term=%E6%95%B0%E6%8D%AE%E5%BB%BA%E6%A8%A1&utm_content=%E9%80%9A%E7%94%A8%2D%E6%95%B0%E6%8D%AE%E5%A4%84%E7%90%86&utm_campaign=%E9%80%9A%E7%94%A8%E8%AF%8D                                                               2\n",
      "https://www.sensorsdata.cn/?utm_source=baidu&utm_medium=cpc&utm_term=%E5%A4%A7%E6%95%B0%E6%8D%AE%E5%88%86%E6%9E%90&utm_content=%E9%80%9A%E7%94%A8%2D%E6%95%B0%E6%8D%AE%E5%88%86%E6%9E%90&utm_campaign=%E9%80%9A%E7%94%A8%E8%AF%8D                                                      2\n",
      "https://www.sensorsdata.cn/?utm_source=sogou&utm_medium=mcpc&utm_term=%e5%a4%a7%e6%95%b0%e6%8d%ae%e5%88%86%e6%9e%90&utm_content=%e9%80%9a%e7%94%a8-%e6%95%b0%e6%8d%ae%e5%88%86%e6%9e%90&utm_campaign=S-%e9%80%9a%e7%94%a8%e8%af%8d                                                     2\n",
      "https://www.sensorsdata.cn/?utm_source=baidu&utm_medium=cpc&utm_term=%E6%95%B0%E6%8D%AE%E5%88%86%E6%9E%90%E6%A8%A1%E5%9E%8B&utm_content=%E9%80%9A%E7%94%A8%2D%E6%95%B0%E6%8D%AE%E5%88%86%E6%9E%90%2D%E5%85%B6%E4%BB%96&utm_campaign=%E9%80%9A%E7%94%A8%E8%AF%8D                        2\n",
      "                                                                                                                                                                                                                                                                                    ... \n",
      "https://www.sensorsdata.cn/?utm_source=baidu&utm_medium=cpc&utm_term=%E6%95%B0%E6%8D%AE%E5%88%86%E6%9E%90%20%E9%A1%B5%E9%9D%A2&utm_content=%E9%80%9A%E7%94%A8%2D%E6%95%B0%E6%8D%AE%E5%88%86%E6%9E%90%2D%E4%BA%A7%E5%93%81&utm_campaign=%E9%80%9A%E7%94%A8%E8%AF%8D                     1\n",
      "https://www.sensorsdata.cn/?utm_source=baidu&utm_medium=cpc&utm_term=%E5%B9%BF%E5%91%8A%E6%95%88%E6%9E%9C%E5%88%86%E6%9E%90&utm_content=%E9%80%9A%E7%94%A8%2D%E5%B9%BF%E5%91%8A%E4%BC%98%E5%8C%96&utm_campaign=%E9%80%9A%E7%94%A8%E8%AF%8D                                             1\n",
      "https://www.sensorsdata.cn/?utm_source=baidu&utm_medium=cpc&utm_term=app%E6%95%B0%E6%8D%AE%E5%88%86%E6%9E%90&utm_content=%E9%80%9A%E7%94%A8%2D%E6%95%B0%E6%8D%AE%E5%88%86%E6%9E%90%2D%E8%A1%8C%E4%B8%9A&utm_campaign=%E9%80%9A%E7%94%A8%E8%AF%8D                                       1\n",
      "https://www.sensorsdata.cn/?utm_source=baidu&utm_medium=cpc&utm_term=%E6%95%B0%E6%8D%AE%E7%BB%9F%E8%AE%A1%E5%B9%B3%E5%8F%B0&utm_content=%E9%80%9A%E7%94%A8%2D%E6%95%B0%E6%8D%AE%E7%BB%9F%E8%AE%A1%2D%E4%BA%A7%E5%93%81&utm_campaign=%E9%80%9A%E7%94%A8%E8%AF%8D                        1\n",
      "https://www.sensorsdata.cn/?utm_source=baidu&utm_medium=cpc&utm_term=%E4%BA%A7%E5%93%81%E6%95%B0%E6%8D%AE%E5%88%86%E6%9E%90&utm_content=%E9%80%9A%E7%94%A8%2D%E6%95%B0%E6%8D%AE%E5%88%86%E6%9E%90&utm_campaign=%E9%80%9A%E7%94%A8%E8%AF%8D                                             1\n",
      "https://www.sensorsdata.cn/product.html                                                                                                                                                                                                                                                1\n",
      "https://www.sensorsdata.cn/?utm_source=baidu&utm_medium=cpc&utm_term=%E7%BD%91%E7%AB%99%E5%88%86%E6%9E%90%E5%B7%A5%E5%85%B7&utm_content=%E9%80%9A%E7%94%A8%2D%E7%BD%91%E7%AB%99%E8%BF%90%E8%90%A5&utm_campaign=%E9%80%9A%E7%94%A8%E8%AF%8D                                             1\n",
      "https://www.sensorsdata.cn/?utm_source=baidu&utm_medium=cpc&utm_term=b2b%E7%94%A8%E6%88%B7%E7%94%BB%E5%83%8F&utm_content=%E9%80%9A%E7%94%A8%2D%E7%94%A8%E6%88%B7%E7%94%BB%E5%83%8F%2D%E8%A1%8C%E4%B8%9A&utm_campaign=%E9%80%9A%E7%94%A8%E8%AF%8D                                       1\n",
      "https://www.sensorsdata.cn/?utm_source=baidu&utm_medium=mcpc&utm_campaign=%e7%a5%9e%e7%ad%96-%e7%a7%bb%e5%8a%a8%e6%8e%a8%e5%b9%bf&utm_content=%e9%80%9a%e7%94%a8%e8%af%8d-M&utm_term=%e6%95%b0%e6%8d%ae%e5%88%86%e6%9e%90%e8%bd%af%e4%bb%b6%e4%b8%8b%e8%bd%bd                          1\n",
      "https://sensorsdata.cn/demo.html?winzoom=1                                                                                                                                                                                                                                             1\n",
      "https://www.sensorsdata.cn/?utm_source=baidu&utm_medium=cpc&utm_term=%E8%A7%86%E9%A2%91%E7%BD%91%E7%AB%99%E5%88%86%E6%9E%90&utm_content=%E9%80%9A%E7%94%A8%2D%E6%95%B0%E6%8D%AE%E5%8F%AF%E8%A7%86%E5%8C%96&utm_campaign=%E9%80%9A%E7%94%A8%E8%AF%8D                                    1\n",
      "https://www.sensorsdata.cn/?utm_source=baidu&utm_medium=cpc&utm_term=%E6%B8%B8%E6%88%8F%E8%BF%90%E8%90%A5%E6%95%B0%E6%8D%AE%E5%88%86%E6%9E%90&utm_content=%E9%80%9A%E7%94%A8%2D%E6%95%B0%E6%8D%AE%E5%88%86%E6%9E%90%2D%E8%A1%8C%E4%B8%9A&utm_campaign=%E9%80%9A%E7%94%A8%E8%AF%8D      1\n",
      "https://www.sensorsdata.cn/?utm_source=baidu&utm_medium=cpc&utm_term=%E4%BA%BA%E7%BE%A4%E7%94%BB%E5%83%8F%E5%88%86%E6%9E%90&utm_content=%E9%80%9A%E7%94%A8%2D%E7%94%A8%E6%88%B7%E7%94%BB%E5%83%8F%2D%E5%8A%9F%E8%83%BD&utm_campaign=%E9%80%9A%E7%94%A8%E8%AF%8D                        1\n",
      "https://www.sensorsdata.cn/?utm_source=baidu&utm_medium=cpc&utm_term=%E7%94%A8%E6%88%B7%E8%A1%8C%E4%B8%BA%E8%AE%B0%E5%BD%95&utm_content=%E9%80%9A%E7%94%A8%2D%E7%94%A8%E6%88%B7%E8%A1%8C%E4%B8%BA%E5%88%86%E6%9E%90&utm_campaign=%E9%80%9A%E7%94%A8%E8%AF%8D                           1\n",
      "https://www.sensorsdata.cn/?utm_source=baidu&utm_medium=cpc&utm_term=app%E7%95%99%E5%AD%98%E7%8E%87&utm_content=%E9%80%9A%E7%94%A8%2D%E7%94%A8%E6%88%B7%E7%95%99%E5%AD%98%2D%E8%A1%8C%E4%B8%9A&utm_campaign=%E9%80%9A%E7%94%A8%E8%AF%8D                                                1\n",
      "https://www.sensorsdata.cn/?utm_source=baidu&utm_medium=cpc&utm_term=dmp%20%E7%94%A8%E6%88%B7%E7%94%BB%E5%83%8F&utm_content=%E9%80%9A%E7%94%A8%2D%E7%94%A8%E6%88%B7%E7%94%BB%E5%83%8F%2D%E8%A1%8C%E4%B8%9A&utm_campaign=%E9%80%9A%E7%94%A8%E8%AF%8D                                    1\n",
      "https://www.sensorsdata.cn/?utm_source=baidu&utm_medium=cpc&utm_term=%E7%94%A8%E6%88%B7%E7%94%BB%E5%83%8F%20%E5%A4%A7%E6%95%B0%E6%8D%AE&utm_content=%E9%80%9A%E7%94%A8%2D%E7%94%A8%E6%88%B7%E7%94%BB%E5%83%8F%2D%E5%8A%9F%E8%83%BD&utm_campaign=%E9%80%9A%E7%94%A8%E8%AF%8D            1\n",
      "https://www.sensorsdata.cn/?utm_source=wechat&utm_medium=cpc&utm_campaign=trial                                                                                                                                                                                                        1\n",
      "https://www.sensorsdata.cn/?utm_source=baidu&utm_medium=cpc&utm_term=%E6%95%B0%E6%8D%AE%E5%8F%AF%E8%A7%86%E5%8C%96%E5%B7%A5%E5%85%B7&utm_content=%E9%80%9A%E7%94%A8%2D%E6%95%B0%E6%8D%AE%E5%8F%AF%E8%A7%86%E5%8C%96&utm_campaign=%E9%80%9A%E7%94%A8%E8%AF%8D                           1\n",
      "https://www.sensorsdata.cn/?utm_source=sogou&utm_medium=mcpc&utm_term=%e7%94%b5%e5%ad%90%e5%95%86%e5%8a%a1%e6%95%b0%e6%8d%ae&utm_content=%e9%80%9a%e7%94%a8-%e7%94%b5%e5%95%86%e8%bf%90%e8%90%a5&utm_campaign=S-%e9%80%9a%e7%94%a8%e8%af%8d                                            1\n",
      "https://www.sensorsdata.cn/?utm_source=baidu&utm_medium=cpc&utm_term=%E7%94%A8%E6%88%B7%E8%A1%8C%E4%B8%BA%E6%95%B0%E6%8D%AE%E9%87%87%E9%9B%86&utm_content=%E9%80%9A%E7%94%A8%2D%E6%95%B0%E6%8D%AE%E9%87%87%E9%9B%86&utm_campaign=%E9%80%9A%E7%94%A8%E8%AF%8D                           1\n",
      "https://www.sensorsdata.cn/?utm_source=baidu&utm_medium=cpc&utm_term=%E7%94%A8%E6%88%B7%E7%94%BB%E5%83%8F%E5%B7%A5%E5%85%B7&utm_content=%E9%80%9A%E7%94%A8%2D%E7%94%A8%E6%88%B7%E7%94%BB%E5%83%8F%2D%E4%BA%A7%E5%93%81&utm_campaign=%E9%80%9A%E7%94%A8%E8%AF%8D                        1\n",
      "https://www.sensorsdata.cn/?utm_source=baidu&utm_medium=cpc&utm_term=%E6%97%A5%E5%BF%97%E5%88%86%E6%9E%90%E7%B3%BB%E7%BB%9F&utm_content=%E9%80%9A%E7%94%A8%2D%E6%95%B0%E6%8D%AE%E7%B3%BB%E7%BB%9F&utm_campaign=%E9%80%9A%E7%94%A8%E8%AF%8D                                             1\n",
      "https://www.sensorsdata.cn/?ch=zhihu                                                                                                                                                                                                                                                   1\n",
      "https://www.sensorsdata.cn/courses/                                                                                                                                                                                                                                                    1\n",
      "https://www.sensorsdata.cn/?utm_source=baidu&utm_medium=cpc&utm_term=%E7%94%A8%E6%88%B7%E5%88%86%E6%9E%90%E6%A8%A1%E5%9E%8B&utm_content=%E9%80%9A%E7%94%A8%2D%E7%94%A8%E6%88%B7%E5%88%86%E6%9E%90%2D%E4%BA%A7%E5%93%81&utm_campaign=%E9%80%9A%E7%94%A8%E8%AF%8D                        1\n",
      "https://www.sensorsdata.cn/?utm_source=baidu&utm_medium=cpc&utm_term=%E6%95%B0%E6%8D%AE%E5%88%86%E6%9E%90%E5%85%AC%E5%8F%B8&utm_content=%E9%80%9A%E7%94%A8%2D%E6%95%B0%E6%8D%AE%E5%88%86%E6%9E%90%2D%E5%85%AC%E5%8F%B8&utm_campaign=%E9%80%9A%E7%94%A8%E8%AF%8D                        1\n",
      "https://www.sensorsdata.cn/?utm_source=baidu&utm_medium=cpc&utm_term=app%E5%88%86%E6%9E%90&utm_content=%E9%80%9A%E7%94%A8%2DAPP%E8%BF%90%E8%90%A5&utm_campaign=%E9%80%9A%E7%94%A8%E8%AF%8D                                                                                             1\n",
      "https://www.sensorsdata.cn/?utm_source=baidu&utm_medium=cpc&utm_term=%E7%A5%9E%E7%AD%96&utm_content=%E5%93%81%E7%89%8C-%E7%A5%9E%E7%AD%96&utm_campaign=%E5%93%81%E7%89%8C%E8%AF%8D                                                                                                     1\n",
      "https://www.sensorsdata.cn/?utm_source=baidu&utm_medium=cpc&utm_term=sem%E4%BC%98%E5%8C%96&utm_content=%E9%80%9A%E7%94%A8%2D%E5%B9%BF%E5%91%8A%E4%BC%98%E5%8C%96&utm_campaign=%E9%80%9A%E7%94%A8%E8%AF%8D                                                                              1\n",
      "Name: site_url, dtype: int64\n"
     ]
    }
   ],
   "source": [
    "print raw_df[\"siteUrl\"].value_counts(dropna = False)\n",
    "print raw_df[(raw_df.siteUrl.notnull())].event.value_counts()\n",
    "print raw_df[(raw_df.event == 'formSubmit')]['site_url'].value_counts(dropna = False)"
   ]
  },
  {
   "cell_type": "code",
   "execution_count": 4,
   "metadata": {
    "collapsed": false
   },
   "outputs": [
    {
     "name": "stdout",
     "output_type": "stream",
     "text": [
      "0\n",
      "NaN                                                                                                                                                                                                                                                                                                    50383\n",
      "https://www.sensorsdata.cn/                                                                                                                                                                                                                                                                              126\n",
      "https://www.sensorsdata.cn/?utm_source=baidu&utm_medium=cpc&utm_term=%E7%94%A8%E6%88%B7%E7%94%BB%E5%83%8F&utm_content=%E9%80%9A%E7%94%A8%2D%E7%94%A8%E6%88%B7%E7%94%BB%E5%83%8F&utm_campaign=%E9%80%9A%E7%94%A8%E8%AF%8D                                                                                  79\n",
      "https://www.sensorsdata.cn/?utm_source=baidu&utm_medium=cpc&utm_term=%E7%A5%9E%E7%AD%96&utm_content=%E5%93%81%E7%89%8C%2D%E7%A5%9E%E7%AD%96&utm_campaign=%E5%93%81%E7%89%8C%E8%AF%8D                                                                                                                      64\n",
      "https://sensorsdata.cn/                                                                                                                                                                                                                                                                                   36\n",
      "https://www.sensorsdata.cn/?utm_source=baidu&utm_medium=mcpc&utm_campaign=%e7%a5%9e%e7%ad%96-%e7%a7%bb%e5%8a%a8%e6%8e%a8%e5%b9%bf&utm_content=%e5%93%81%e7%89%8c%e8%af%8d-M&utm_term=%e7%a5%9e%e7%ad%96                                                                                                   24\n",
      "https://www.sensorsdata.cn/?utm_source=sogou&utm_medium=mcpc&utm_term=%e6%95%b0%e6%8d%ae%e5%88%86%e6%9e%90&utm_content=%e9%80%9a%e7%94%a8-%e6%95%b0%e6%8d%ae%e5%88%86%e6%9e%90&utm_campaign=S-%e9%80%9a%e7%94%a8%e8%af%8d                                                                                 19\n",
      "https://www.sensorsdata.cn/?utm_source=baidu&utm_medium=cpc&utm_term=%E7%A5%9E%E7%AD%96%E6%95%B0%E6%8D%AE&utm_content=%E5%93%81%E7%89%8C%2D%E7%A5%9E%E7%AD%96&utm_campaign=%E5%93%81%E7%89%8C%E8%AF%8D                                                                                                    16\n",
      "https://www.sensorsdata.cn/?utm_source=baidu&utm_medium=mfeed&utm_term=%E9%A6%96%E9%A1%B5-%E9%80%9A%E7%94%A8%E8%AF%8D-%E4%B8%89%E5%9B%BE-%E5%9B%BE1&utm_content=%E9%80%9A%E7%94%A8%E8%AF%8D-%E4%B8%89%E5%9B%BE&utm_campaign=%E9%A6%96%E9%A1%B5                                                            14\n",
      "https://www.sensorsdata.cn/?utm_source=baidu&utm_medium=cpc&utm_term=%E7%BD%91%E7%AB%99%E6%95%B0%E6%8D%AE%E7%BB%9F%E8%AE%A1&utm_content=%E9%80%9A%E7%94%A8%2D%E6%95%B0%E6%8D%AE%E7%BB%9F%E8%AE%A1&utm_campaign=%E9%80%9A%E7%94%A8%E8%AF%8D                                                                13\n",
      "https://www.sensorsdata.cn/?utm_source=baidu&utm_medium=cpc&utm_term=%E7%94%A8%E6%88%B7%E5%88%86%E6%9E%90&utm_content=%E9%80%9A%E7%94%A8%2D%E7%94%A8%E6%88%B7%E5%88%86%E6%9E%90&utm_campaign=%E9%80%9A%E7%94%A8%E8%AF%8D                                                                                  12\n",
      "https://www.sensorsdata.cn/?utm_source=baidu&utm_medium=cpc&utm_term=app%E6%95%B0%E6%8D%AE&utm_content=%E9%80%9A%E7%94%A8%2DAPP%E8%BF%90%E8%90%A5&utm_campaign=%E9%80%9A%E7%94%A8%E8%AF%8D                                                                                                                10\n",
      "https://www.sensorsdata.cn/?utm_source=baidu&utm_medium=cpc&utm_term=%E7%94%A8%E6%88%B7%E7%94%BB%E5%83%8F%E5%88%86%E6%9E%90&utm_content=%E9%80%9A%E7%94%A8%2D%E7%94%A8%E6%88%B7%E7%94%BB%E5%83%8F%2D%E4%BA%A7%E5%93%81&utm_campaign=%E9%80%9A%E7%94%A8%E8%AF%8D                                           10\n",
      "https://www.sensorsdata.cn/?utm_source=baidu&utm_medium=cpc&utm_term=%E7%BD%91%E7%AB%99%E8%BF%90%E8%90%A5%E6%95%B0%E6%8D%AE%E5%88%86%E6%9E%90&utm_content=%E9%80%9A%E7%94%A8%2D%E6%95%B0%E6%8D%AE%E5%88%86%E6%9E%90%2D%E8%BF%90%E8%90%A5&utm_campaign=%E9%80%9A%E7%94%A8%E8%AF%8D                         10\n",
      "https://www.sensorsdata.cn/?utm_source=baidu&utm_medium=cpc&utm_term=%E7%94%B5%E5%AD%90%E5%95%86%E5%8A%A1%E6%95%B0%E6%8D%AE&utm_content=%E9%80%9A%E7%94%A8%2D%E7%94%B5%E5%95%86%E8%BF%90%E8%90%A5&utm_campaign=%E9%80%9A%E7%94%A8%E8%AF%8D                                                                10\n",
      "https://www.sensorsdata.cn/?utm_source=baidu&utm_medium=cpc&utm_term=%E6%95%B0%E6%8D%AE%E5%88%86%E6%9E%90&utm_content=%E9%80%9A%E7%94%A8%2D%E6%95%B0%E6%8D%AE%E5%88%86%E6%9E%90&utm_campaign=%E9%80%9A%E7%94%A8%E8%AF%8D                                                                                   8\n",
      "https://www.sensorsdata.cn/?utm_source=baidu&utm_medium=cpc&utm_term=%E5%AE%A2%E6%88%B7%E7%94%BB%E5%83%8F&utm_content=%E9%80%9A%E7%94%A8%2D%E7%94%A8%E6%88%B7%E7%94%BB%E5%83%8F&utm_campaign=%E9%80%9A%E7%94%A8%E8%AF%8D                                                                                   7\n",
      "https://sensorsdata.cn/?ch=demo                                                                                                                                                                                                                                                                            7\n",
      "https://www.sensorsdata.cn/demo.html                                                                                                                                                                                                                                                                       6\n",
      "https://www.sensorsdata.cn/?utm_source=baidu&utm_medium=cpc&utm_term=%E7%A5%9E%E7%AD%96%E5%88%86%E6%9E%90&utm_content=%E5%93%81%E7%89%8C%2D%E7%A5%9E%E7%AD%96&utm_campaign=%E5%93%81%E7%89%8C%E8%AF%8D                                                                                                     6\n",
      "https://www.sensorsdata.cn/?utm_source=baidu&utm_medium=cpc&utm_term=%E6%B8%B8%E6%88%8F%E6%95%B0%E6%8D%AE%E5%88%86%E6%9E%90&utm_content=%E9%80%9A%E7%94%A8%2D%E6%95%B0%E6%8D%AE%E5%88%86%E6%9E%90%2D%E8%A1%8C%E4%B8%9A&utm_campaign=%E9%80%9A%E7%94%A8%E8%AF%8D                                            6\n",
      "https://sensorsdata.cn/?ch=zhihu                                                                                                                                                                                                                                                                           6\n",
      "https://www.sensorsdata.cn/?utm_source=baidu&utm_medium=cpc&utm_term=%E7%94%B5%E5%95%86%E6%95%B0%E6%8D%AE%E5%88%86%E6%9E%90&utm_content=%E9%80%9A%E7%94%A8%2D%E6%95%B0%E6%8D%AE%E5%88%86%E6%9E%90%2D%E8%A1%8C%E4%B8%9A&utm_campaign=%E9%80%9A%E7%94%A8%E8%AF%8D                                            6\n",
      "https://www.sensorsdata.cn/?utm_source=sogou&utm_medium=mcpc&utm_term=%e5%a4%a7%e6%95%b0%e6%8d%ae%e5%88%86%e6%9e%90&utm_content=%e9%80%9a%e7%94%a8-%e6%95%b0%e6%8d%ae%e5%88%86%e6%9e%90&utm_campaign=S-%e9%80%9a%e7%94%a8%e8%af%8d                                                                         5\n",
      "https://www.sensorsdata.cn/?utm_source=baidu&utm_medium=cpc&utm_term=App%E8%BF%90%E8%90%A5&utm_content=%E9%80%9A%E7%94%A8%2DAPP%E8%BF%90%E8%90%A5&utm_campaign=%E9%80%9A%E7%94%A8%E8%AF%8D                                                                                                                 4\n",
      "https://www.sensorsdata.cn/?utm_source=baidu&utm_medium=cpc&utm_term=app%E8%BF%90%E8%90%A5%E6%95%B0%E6%8D%AE%E5%88%86%E6%9E%90&utm_content=%E9%80%9A%E7%94%A8%2D%E6%95%B0%E6%8D%AE%E5%88%86%E6%9E%90%2D%E8%A1%8C%E4%B8%9A&utm_campaign=%E9%80%9A%E7%94%A8%E8%AF%8D                                         4\n",
      "https://www.sensorsdata.cn/?utm_source=baidu&utm_medium=cpc&utm_term=%E6%95%B0%E6%8D%AE%E5%88%86%E6%9E%90%E7%B3%BB%E7%BB%9F&utm_content=%E9%80%9A%E7%94%A8%2D%E6%95%B0%E6%8D%AE%E5%88%86%E6%9E%90%2D%E4%BA%A7%E5%93%81&utm_campaign=%E9%80%9A%E7%94%A8%E8%AF%8D                                            4\n",
      "https://www.sensorsdata.cn/?utm_source=baidu&utm_medium=cpc&utm_term=%E6%95%B0%E6%8D%AE%E5%9F%8B%E7%82%B9&utm_content=%E9%80%9A%E7%94%A8%2D%E5%9F%8B%E7%82%B9&utm_campaign=%E9%80%9A%E7%94%A8%E8%AF%8D                                                                                                     4\n",
      "https://www.sensorsdata.cn/?utm_source=baidu&utm_medium=cpc&utm_term=%E5%A4%A7%E6%95%B0%E6%8D%AE%E5%88%86%E6%9E%90&utm_content=%E9%80%9A%E7%94%A8%2D%E6%95%B0%E6%8D%AE%E5%88%86%E6%9E%90&utm_campaign=%E9%80%9A%E7%94%A8%E8%AF%8D                                                                          4\n",
      "https://www.sensorsdata.cn/?utm_source=baidu&utm_medium=cpc&utm_term=%E6%95%B0%E6%8D%AE%E5%88%86%E6%9E%90%E6%A8%A1%E5%9E%8B&utm_content=%E9%80%9A%E7%94%A8%2D%E6%95%B0%E6%8D%AE%E5%88%86%E6%9E%90%2D%E5%85%B6%E4%BB%96&utm_campaign=%E9%80%9A%E7%94%A8%E8%AF%8D                                            4\n",
      "                                                                                                                                                                                                                                                                                                       ...  \n",
      "https://www.sensorsdata.cn/?utm_source=baidu&utm_medium=cpc&utm_term=%E6%95%B0%E6%8D%AE%E5%8F%AF%E8%A7%86%E5%8C%96&utm_content=%E9%80%9A%E7%94%A8%2D%E6%95%B0%E6%8D%AE%E5%8F%AF%E8%A7%86%E5%8C%96&utm_campaign=%E9%80%9A%E7%94%A8%E8%AF%8D                                                                 2\n",
      "https://www.sensorsdata.cn/?utm_source=sogou&utm_medium=mcpc&utm_term=%e7%94%a8%e6%88%b7%e7%94%bb%e5%83%8f%e5%b7%a5%e5%85%b7&utm_content=%e9%80%9a%e7%94%a8-%e7%94%a8%e6%88%b7%e7%94%bb%e5%83%8f-%e4%ba%a7%e5%93%81&utm_campaign=S-%e9%80%9a%e7%94%a8%e8%af%8d                                             2\n",
      "https://www.sensorsdata.cn/?utm_source=baidu&utm_medium=cpc&utm_term=%E6%95%B0%E6%8D%AE%E5%8F%AF%E8%A7%86%E5%8C%96%E5%B7%A5%E5%85%B7&utm_content=%E9%80%9A%E7%94%A8%2D%E6%95%B0%E6%8D%AE%E5%8F%AF%E8%A7%86%E5%8C%96&utm_campaign=%E9%80%9A%E7%94%A8%E8%AF%8D                                               2\n",
      "https://www.sensorsdata.cn/?utm_source=baidu&utm_medium=cpc&utm_term=app%E6%95%B0%E6%8D%AE%E5%88%86%E6%9E%90&utm_content=%E9%80%9A%E7%94%A8%2D%E6%95%B0%E6%8D%AE%E5%88%86%E6%9E%90%2D%E8%A1%8C%E4%B8%9A&utm_campaign=%E9%80%9A%E7%94%A8%E8%AF%8D                                                           2\n",
      "https://www.sensorsdata.cn/?utm_source=baidu&utm_medium=cpc&utm_term=dmp%20%E7%94%A8%E6%88%B7%E7%94%BB%E5%83%8F&utm_content=%E9%80%9A%E7%94%A8%2D%E7%94%A8%E6%88%B7%E7%94%BB%E5%83%8F%2D%E8%A1%8C%E4%B8%9A&utm_campaign=%E9%80%9A%E7%94%A8%E8%AF%8D                                                        2\n",
      "https://www.sensorsdata.cn/?utm_source=baidu&utm_medium=cpc&utm_term=sem%E4%BC%98%E5%8C%96&utm_content=%E9%80%9A%E7%94%A8%2D%E5%B9%BF%E5%91%8A%E4%BC%98%E5%8C%96&utm_campaign=%E9%80%9A%E7%94%A8%E8%AF%8D                                                                                                  2\n",
      "https://www.sensorsdata.cn/?utm_source=baidu&utm_medium=cpc&utm_term=%E6%95%B0%E6%8D%AE%E7%BB%9F%E8%AE%A1%E5%B9%B3%E5%8F%B0&utm_content=%E9%80%9A%E7%94%A8%2D%E6%95%B0%E6%8D%AE%E7%BB%9F%E8%AE%A1%2D%E4%BA%A7%E5%93%81&utm_campaign=%E9%80%9A%E7%94%A8%E8%AF%8D                                            2\n",
      "https://www.sensorsdata.cn/?utm_source=baidu&utm_medium=cpc&utm_term=app%E5%88%86%E6%9E%90&utm_content=%E9%80%9A%E7%94%A8%2DAPP%E8%BF%90%E8%90%A5&utm_campaign=%E9%80%9A%E7%94%A8%E8%AF%8D                                                                                                                 2\n",
      "https://www.sensorsdata.cn/?utm_source=baidu&utm_medium=cpc&utm_term=%E7%94%A8%E6%88%B7%E7%94%BB%E5%83%8F%20%E5%A4%A7%E6%95%B0%E6%8D%AE&utm_content=%E9%80%9A%E7%94%A8%2D%E7%94%A8%E6%88%B7%E7%94%BB%E5%83%8F%2D%E5%8A%9F%E8%83%BD&utm_campaign=%E9%80%9A%E7%94%A8%E8%AF%8D                                2\n",
      "https://www.sensorsdata.cn/?utm_source=sogou&utm_medium=mcpc&utm_term=AARRR&utm_content=%e9%80%9a%e7%94%a8-%e6%95%b0%e6%8d%ae%e5%88%86%e6%9e%90%e6%b3%95&utm_campaign=S-%e9%80%9a%e7%94%a8%e8%af%8d                                                                                                        2\n",
      "https://www.sensorsdata.cn/?utm_source=baidu&utm_medium=cpc&utm_term=%E6%95%B0%E6%8D%AE%E5%88%86%E6%9E%90%20%E9%A1%B5%E9%9D%A2&utm_content=%E9%80%9A%E7%94%A8%2D%E6%95%B0%E6%8D%AE%E5%88%86%E6%9E%90%2D%E4%BA%A7%E5%93%81&utm_campaign=%E9%80%9A%E7%94%A8%E8%AF%8D                                         2\n",
      "https://www.sensorsdata.cn/?utm_source=baidu&utm_medium=cpc&utm_term=%E8%BF%90%E8%90%A5%E6%B4%BB%E5%8A%A8%E6%95%B0%E6%8D%AE%E5%88%86%E6%9E%90&utm_content=%E9%80%9A%E7%94%A8%2D%E6%95%B0%E6%8D%AE%E5%88%86%E6%9E%90%2D%E8%BF%90%E8%90%A5&utm_campaign=%E9%80%9A%E7%94%A8%E8%AF%8D                          2\n",
      "https://www.sensorsdata.cn/?utm_source=baidu&utm_medium=cpc&utm_term=%E6%97%85%E6%B8%B8%E5%A4%A7%E6%95%B0%E6%8D%AE&utm_content=%E9%80%9A%E7%94%A8%2D%E5%A4%A7%E6%95%B0%E6%8D%AE%2D%E8%A1%8C%E4%B8%9A&utm_campaign=%E9%80%9A%E7%94%A8%E8%AF%8D                                                              2\n",
      "https://www.sensorsdata.cn/?utm_source=sogou&utm_medium=mcpc&utm_term=%e5%a4%a7%e6%95%b0%e6%8d%ae%e5%ba%94%e7%94%a8&utm_content=%e9%80%9a%e7%94%a8-%e5%a4%a7%e6%95%b0%e6%8d%ae-%e5%85%b6%e4%bb%96&utm_campaign=S-%e9%80%9a%e7%94%a8%e8%af%8d                                                               2\n",
      "https://www.sensorsdata.cn/?utm_source=baidu&utm_medium=cpc&utm_term=%E4%BA%BA%E7%BE%A4%E7%94%BB%E5%83%8F%E5%88%86%E6%9E%90&utm_content=%E9%80%9A%E7%94%A8%2D%E7%94%A8%E6%88%B7%E7%94%BB%E5%83%8F%2D%E5%8A%9F%E8%83%BD&utm_campaign=%E9%80%9A%E7%94%A8%E8%AF%8D                                            2\n",
      "https://www.sensorsdata.cn/?utm_source=baidu&utm_medium=cpc&utm_term=%E8%A7%86%E9%A2%91%E7%BD%91%E7%AB%99%E5%88%86%E6%9E%90&utm_content=%E9%80%9A%E7%94%A8%2D%E6%95%B0%E6%8D%AE%E5%8F%AF%E8%A7%86%E5%8C%96&utm_campaign=%E9%80%9A%E7%94%A8%E8%AF%8D                                                        2\n",
      "https://www.sensorsdata.cn/?utm_source=baidu&utm_medium=cpc&utm_term=%E7%94%A8%E6%88%B7%E6%95%B0%E6%8D%AE%E5%88%86%E6%9E%90&utm_content=%E9%80%9A%E7%94%A8%2D%E6%95%B0%E6%8D%AE%E5%88%86%E6%9E%90%2D%E8%BF%90%E8%90%A5&utm_campaign=%E9%80%9A%E7%94%A8%E8%AF%8D                                            2\n",
      "https://sensorsdata.cn/b-round.html                                                                                                                                                                                                                                                                        2\n",
      "https://sensorsdata.cn/demo.html                                                                                                                                                                                                                                                                           2\n",
      "https://www.sensorsdata.cn/?utm_source=baidu&utm_medium=cpc&utm_term=%E7%94%A8%E6%88%B7%E7%94%BB%E5%83%8F%E7%94%9F%E6%88%90%E5%99%A8&utm_content=%E9%80%9A%E7%94%A8%2D%E7%94%A8%E6%88%B7%E7%94%BB%E5%83%8F%2D%E4%BA%A7%E5%93%81&utm_campaign=%E9%80%9A%E7%94%A8%E8%AF%8D                                   2\n",
      "https://www.sensorsdata.cn/product.html                                                                                                                                                                                                                                                                    2\n",
      "https://www.sensorsdata.cn/?utm_source=baidu&utm_medium=cpc&utm_term=%E7%94%A8%E6%88%B7%E8%A1%8C%E4%B8%BA%E8%AE%B0%E5%BD%95&utm_content=%E9%80%9A%E7%94%A8%2D%E7%94%A8%E6%88%B7%E8%A1%8C%E4%B8%BA%E5%88%86%E6%9E%90&utm_campaign=%E9%80%9A%E7%94%A8%E8%AF%8D                                               2\n",
      "https://www.sensorsdata.cn/?utm_source=baidu&utm_medium=cpc&utm_term=b2b%E7%94%A8%E6%88%B7%E7%94%BB%E5%83%8F&utm_content=%E9%80%9A%E7%94%A8%2D%E7%94%A8%E6%88%B7%E7%94%BB%E5%83%8F%2D%E8%A1%8C%E4%B8%9A&utm_campaign=%E9%80%9A%E7%94%A8%E8%AF%8D                                                           2\n",
      "https://sensorsdata.cn/?utm_source=sanjieke.cn                                                                                                                                                                                                                                                             2\n",
      "https://www.sensorsdata.cn/?utm_source=baidu&utm_medium=cpc&utm_term=%E7%94%A8%E6%88%B7%E8%A1%8C%E4%B8%BA%E5%88%86%E6%9E%90%E7%B3%BB%E7%BB%9F&utm_content=%E9%80%9A%E7%94%A8%2D%E7%94%A8%E6%88%B7%E8%A1%8C%E4%B8%BA%E5%88%86%E6%9E%90%2D%E7%B3%BB%E7%BB%9F&utm_campaign=%E9%80%9A%E7%94%A8%E8%AF%8D        2\n",
      "https://www.sensorsdata.cn/?utm_source=baidu&utm_medium=cpc&utm_term=%E7%A5%9E%E7%AD%96%E7%BB%9F%E8%AE%A1&utm_content=%E5%93%81%E7%89%8C%2D%E7%A5%9E%E7%AD%96&utm_campaign=%E5%93%81%E7%89%8C%E8%AF%8D                                                                                                     2\n",
      "https://www.sensorsdata.cn/?ch=zhihu                                                                                                                                                                                                                                                                       2\n",
      "https://www.sensorsdata.cn/courses/                                                                                                                                                                                                                                                                        2\n",
      "https://www.sensorsdata.cn/?utm_source=baidu&utm_medium=cpc&utm_term=%E7%9B%B4%E6%92%AD%E5%B9%B3%E5%8F%B0%E6%95%B0%E6%8D%AE%E5%88%86%E6%9E%90&utm_content=%E9%80%9A%E7%94%A8%2D%E6%95%B0%E6%8D%AE%E5%88%86%E6%9E%90%2D%E8%A1%8C%E4%B8%9A&utm_campaign=%E9%80%9A%E7%94%A8%E8%AF%8D                          2\n",
      "https://www.sensorsdata.cn/?utm_source=baidu&utm_medium=cpc&utm_term=%E7%94%A8%E6%88%B7%E8%A1%8C%E4%B8%BA%E6%95%B0%E6%8D%AE%E9%87%87%E9%9B%86&utm_content=%E9%80%9A%E7%94%A8%2D%E6%95%B0%E6%8D%AE%E9%87%87%E9%9B%86&utm_campaign=%E9%80%9A%E7%94%A8%E8%AF%8D                                               2\n",
      "Name: site_url, dtype: int64\n",
      "clickSubmit    353\n",
      "formSubmit     313\n",
      "Name: event, dtype: int64\n"
     ]
    }
   ],
   "source": [
    "print raw_df[(raw_df.site_url == 'https://www.sensorsdata.cn')].shape[0]\n",
    "print raw_df[\"site_url\"].value_counts(dropna = False)\n",
    "print raw_df[(raw_df.site_url.notnull())].event.value_counts()"
   ]
  },
  {
   "cell_type": "code",
   "execution_count": 60,
   "metadata": {
    "collapsed": false
   },
   "outputs": [
    {
     "name": "stdout",
     "output_type": "stream",
     "text": [
      "ajax success      352\n",
      "手机号格式错误            45\n",
      "距上次发送时间不到 1 分钟      3\n",
      "Name: result, dtype: int64\n",
      "正确           352\n",
      "验证码错误         17\n",
      "没有该号码验证信息      3\n",
      "Name: result, dtype: int64\n"
     ]
    }
   ],
   "source": [
    "print raw_df.ix[(raw_df.event == 'click_send_cellphone'),\"result\"].value_counts(dropna = False)\n",
    "\n",
    "print raw_df.ix[(raw_df.event == 'verify_cellphone_code'),\"result\"].value_counts(dropna = False)\n",
    "\n",
    "# print raw_df[(raw_df.result.notnull())].event.value_counts()"
   ]
  },
  {
   "cell_type": "code",
   "execution_count": 56,
   "metadata": {
    "collapsed": false
   },
   "outputs": [
    {
     "name": "stdout",
     "output_type": "stream",
     "text": [
      "NaN      48087\n",
      " 2.0      2050\n",
      " 1.0       491\n",
      " 3.0       175\n",
      " 4.0       103\n",
      " 6.0        76\n",
      " 10.0       53\n",
      " 7.0        14\n",
      "Name: requestBtn, dtype: int64\n",
      "btnClick       2074\n",
      "formSubmit      535\n",
      "clickSubmit     353\n",
      "Name: event, dtype: int64\n"
     ]
    }
   ],
   "source": [
    "print raw_df[\"requestBtn\"].value_counts(dropna = False)\n",
    "print raw_df[(raw_df.requestBtn.notnull())].event.value_counts()"
   ]
  },
  {
   "cell_type": "code",
   "execution_count": 55,
   "metadata": {
    "collapsed": false
   },
   "outputs": [
    {
     "name": "stdout",
     "output_type": "stream",
     "text": [
      "NaN           49377\n",
      "default        1353\n",
      "production      307\n",
      "hunter           12\n",
      "Name: project_name, dtype: int64\n",
      "$pageview                961\n",
      "btnClick                 323\n",
      "index_leave              245\n",
      "demo_leave                85\n",
      "page_close                18\n",
      "about_leave               17\n",
      "courses_play_leave        10\n",
      "courses_leave              9\n",
      "verify_cellphone_code      2\n",
      "click_send_cellphone       2\n",
      "Name: event, dtype: int64\n"
     ]
    }
   ],
   "source": [
    "print raw_df[\"project_name\"].value_counts(dropna = False)\n",
    "print raw_df[(raw_df.project_name.notnull())].event.value_counts()"
   ]
  },
  {
   "cell_type": "code",
   "execution_count": 53,
   "metadata": {
    "collapsed": false,
    "scrolled": true
   },
   "outputs": [
    {
     "name": "stdout",
     "output_type": "stream",
     "text": [
      " 1792.544         1\n",
      " 18.676           1\n",
      " 1921.169         1\n",
      " 14650.181        1\n",
      " 6.233            1\n",
      " 17.676           1\n",
      " 116.370          1\n",
      " 31.733           1\n",
      " 13.580           1\n",
      " 0.953            1\n",
      " 9.737            1\n",
      " 39.780           1\n",
      " 4.940            1\n",
      " 19.975           1\n",
      " 100.246          1\n",
      " 23.039           1\n",
      " 1.045            1\n",
      " 76.694           1\n",
      " 1983.988         1\n",
      " 351.652          1\n",
      " 14712.144        1\n",
      " 23.371           1\n",
      " 1615.326         1\n",
      " 3.835            1\n",
      " 1049.018         1\n",
      " 7.399            1\n",
      " 2.587            1\n",
      " 14453.952        1\n",
      " 27.876           1\n",
      " 12859.926        1\n",
      "              ...  \n",
      " 7.009            3\n",
      " 4.171            3\n",
      " 2.712            3\n",
      " 3.856            3\n",
      " 6.151            3\n",
      " 1.021            3\n",
      " 1.691            3\n",
      " 2.422            3\n",
      " 6.563            3\n",
      " 5.170            3\n",
      " 2.420            3\n",
      " 1.928            4\n",
      " 3.119            4\n",
      " 2.278            4\n",
      " 1.636            4\n",
      " 3.450            4\n",
      " 1.973            4\n",
      " 3.453            4\n",
      " 1.876            4\n",
      " 2.747            4\n",
      " 4.295            4\n",
      " 2.397            4\n",
      " 3.878            4\n",
      " 3.735            4\n",
      " 4.071            4\n",
      " 1.756            4\n",
      " 3.473            5\n",
      " 2.110            5\n",
      " 3.996            5\n",
      "NaN           39577\n",
      "Name: pageStayTime, dtype: int64\n"
     ]
    }
   ],
   "source": [
    "print raw_df[\"pageStayTime\"].value_counts(dropna = False).sort_values()"
   ]
  },
  {
   "cell_type": "code",
   "execution_count": 48,
   "metadata": {
    "collapsed": false
   },
   "outputs": [
    {
     "name": "stdout",
     "output_type": "stream",
     "text": [
      "NaN     39715\n",
      " 1.0     7328\n",
      " 2.0     2796\n",
      " 4.0      606\n",
      " 3.0      604\n",
      "Name: pagePosition, dtype: int64\n"
     ]
    }
   ],
   "source": [
    "print raw_df[\"pagePosition\"].value_counts(dropna = False)"
   ]
  },
  {
   "cell_type": "code",
   "execution_count": 47,
   "metadata": {
    "collapsed": false
   },
   "outputs": [
    {
     "name": "stdout",
     "output_type": "stream",
     "text": [
      "NaN              43055\n",
      "index             5388\n",
      "demo              1584\n",
      "about              557\n",
      "courses_index      465\n",
      "Name: page, dtype: int64\n",
      "btnClick    7994\n",
      "Name: event, dtype: int64\n"
     ]
    }
   ],
   "source": [
    "print raw_df[\"page\"].value_counts(dropna = False)\n",
    "print raw_df[(raw_df.page.notnull())].event.value_counts()"
   ]
  },
  {
   "cell_type": "code",
   "execution_count": 41,
   "metadata": {
    "collapsed": false,
    "scrolled": true
   },
   "outputs": [
    {
     "data": {
      "text/plain": [
       "NaN             50311\n",
       "1**********       355\n",
       "1***********        4\n",
       "1*********          3\n",
       "7921                2\n",
       "4013                2\n",
       "1379                2\n",
       "2232                2\n",
       "5687                2\n",
       "8194                2\n",
       "6897                2\n",
       "6932                2\n",
       "5779                2\n",
       "1796                2\n",
       "8723                2\n",
       "3884                2\n",
       "3080                2\n",
       "2576                2\n",
       "7445                2\n",
       "0615                2\n",
       "8804                2\n",
       "8879                2\n",
       "2903                2\n",
       "2090                2\n",
       "0754                2\n",
       "hkyc                2\n",
       "4191                2\n",
       "9453                2\n",
       "2318                2\n",
       "2442                2\n",
       "                ...  \n",
       "4204                1\n",
       "2589                1\n",
       "6600                1\n",
       "0346                1\n",
       "5789                1\n",
       "6119                1\n",
       "2359                1\n",
       "7283                1\n",
       "7287                1\n",
       "3721                1\n",
       "7292                1\n",
       "9587                1\n",
       "8258                1\n",
       "7359                1\n",
       "7358                1\n",
       "1915                1\n",
       "5107                1\n",
       "8925                1\n",
       "2972                1\n",
       "4308                1\n",
       "6569                1\n",
       "0599                1\n",
       "8786                1\n",
       "3127                1\n",
       "8430                1\n",
       "4234                1\n",
       "5685                1\n",
       "5970                1\n",
       "5975                1\n",
       "9036                1\n",
       "Name: info, dtype: int64"
      ]
     },
     "execution_count": 41,
     "metadata": {},
     "output_type": "execute_result"
    }
   ],
   "source": [
    "raw_df[\"info\"].value_counts(dropna = False)"
   ]
  },
  {
   "cell_type": "code",
   "execution_count": 39,
   "metadata": {
    "collapsed": false
   },
   "outputs": [
    {
     "data": {
      "text/plain": [
       "NaN                              51021\n",
       "www.google.co.jp                    14\n",
       "www.baidu.com                       11\n",
       "www.google.com                       2\n",
       "ebizdemo.cloud.sensorsdata.cn        1\n",
       "Name: session_referrer_domain, dtype: int64"
      ]
     },
     "execution_count": 39,
     "metadata": {},
     "output_type": "execute_result"
    }
   ],
   "source": [
    "raw_df.session_referrer_domain.value_counts(dropna = False)"
   ]
  },
  {
   "cell_type": "code",
   "execution_count": 4,
   "metadata": {
    "collapsed": false,
    "scrolled": true
   },
   "outputs": [
    {
     "data": {
      "text/plain": [
       "NaN                                                                                                                                                                                                         18566\n",
       "https://www.baidu.com/baidu.php                                                                                                                                                                             17269\n",
       "https://www.baidu.com/link                                                                                                                                                                                   3512\n",
       "https://www.baidu.com/s                                                                                                                                                                                      1177\n",
       "https://www.google.com/                                                                                                                                                                                       626\n",
       "https://www.google.com.hk/                                                                                                                                                                                    609\n",
       "http://36kr.com/                                                                                                                                                                                              483\n",
       "https://www.sensorsdata.cn/                                                                                                                                                                                   292\n",
       "https://sensorsdata.cn/                                                                                                                                                                                       222\n",
       "https://www.google.co.jp/                                                                                                                                                                                     161\n",
       "https://www.sensorsdata.cn/manual/                                                                                                                                                                            130\n",
       "https://www.sensorsdata.cn/manual/use_feature_video.html                                                                                                                                                      103\n",
       "http://www.sensorsdata.cn/                                                                                                                                                                                     99\n",
       "http://www.baidu.com/baidu.php?sc.7aTK00jwDwyKypmLhdEg8w50FJ0BMPOYV4r5HF1rrlnp7z0Di6zsomBfv6LjpPDYiHWM4m_9M06nuxWX5vctX9jotLfXoLKi6xRFseEIG1o5bLoVe9aVB_yqlzaYy4cXr7qShDjDMz62rAxRlUMUgPJ08rCD4IDXszL4h-       79\n",
       "https://www.sensorsdata.cn/manual/java_sdk.html                                                                                                                                                                77\n",
       "http://www.baidu.com/link?url=cqJ-HumjNapy4uRvaPvhHq05o4UMeVX_T3jLa0rkymicU1ZegoRzBQd8Or6cD1h4&wd=&eqid=f18597fa000314990000000658c261fc                                                                       70\n",
       "https://www.sensorsdata.cn/manual/query.html                                                                                                                                                                   70\n",
       "https://link.zhihu.com/?target=https%3A//sensorsdata.cn/                                                                                                                                                       67\n",
       "http://www.baidu.com/baidu.php?sc.IBTK00jyNUHxgmbNsRNO9pwmCW85unoZ3RhY2LA2yYSIy_P_a2rpHF5Zfm3aK0gihACpb2uofjfdgZRsOOEuvUOyAkfOXqqepIc29omYi45Xz8W9GLtwRV3z95qkf9L8sUUhSJZy8T3JHqCw07_EkWHGsnIy6WlObvKeJa       67\n",
       "http://www.woshipm.com/pmd/314444.html                                                                                                                                                                         62\n",
       "http://www.sogou.com/bill_cpc?v=1&p=WJedUFVs989YOUdJ1eA36VXyFq6ASYk1dHTO8XNHJaok2ORYQwr0tiwFTVCfNIIjOC3fHx2G03ClajhGa2Clvxqjl7pYaPU@kaUR9mWyJPmLdaETTuNd8iYgHdpi7b0gsA$m5@sCzkZ$WfDrHtnNoeLlTTi@WqAAeht4       59\n",
       "https://m.baidu.com/?from=844b&vit=fps                                                                                                                                                                         57\n",
       "https://www.sensorsdata.cn/demo.html                                                                                                                                                                           56\n",
       "http://www.mulumu.com/product/sensorsdata                                                                                                                                                                      54\n",
       "https://www.baidu.com/                                                                                                                                                                                         54\n",
       "https://www.google.com.ph/                                                                                                                                                                                     53\n",
       "https://qiye.aliyun.com/alimail/                                                                                                                                                                               52\n",
       "https://www.sensorsdata.cn/manual/event_ana.html                                                                                                                                                               52\n",
       "https://zhengbangchuangyi.cloud.sensorsdata.cn/import/?project=default                                                                                                                                         49\n",
       "https://link.zhihu.com/?target=https%3A//www.sensorsdata.cn                                                                                                                                                    47\n",
       "                                                                                                                                                                                                            ...  \n",
       "https://m.baidu.com/baidu.php?sc.9aTK00aUZedEiha7Bizq_Ez7IeGsbQb9LK8eAznFBzdJVFNQZbT2LMx7t_V6ojgkgm9Y0Dg8ysRr2dL0byG8g41-Lbna2aiR-9qo2EGNVGWuGSFUr_Z3PD9JjWsoBtXWr3elAwNk1SqLLNq-PgCJaXsZNjukM63ggWadExt        1\n",
       "https://m.baidu.com/baidu.php?url=7aTK000mo0eqLwjBzUQ-3oKjwDUpA4JWjz-NhxPQdFFTuEsugT1NDVI_niDpbHvPQmXTvL1TIeogmyhOihhDhurTUFOpEm4wfr2yVt9bA1ZaaCoJWTMZMegyIjummE2_j_z3GZiOZrTCWTa2wMaOYPkOYROfTPaVIw_31G        1\n",
       "https://m.sogou.com/bill_cpc?v=1&p=WJhVUFpwC9lUNbwiE8zTh04q9BHrVrBZbhKJB0JSlOBAIhlLwmP7GH69FFzT6ETq7CO57NxpS3ZVQD4hps9cV3CUUayfp1HV72JrS528ueGb8tjb@@EE@ELx8VTVuEQiXvdoct8AEWKT8ACNuhh1E6cWFxxiMK0NZTOLD        1\n",
       "https://m.baidu.com/baidu.php?sc.7aTK000NegXEZa5vqAlIohGJV2Pz0EUhKhWQ4dQR8YqxJCW7wkhuzEkioXSMotQfWnYnyw2rxtgNrJzfDDDleIJSGh9Z4h_374rUuBYfUgKINPH5daoidHlO8ro49Oj0tpT9aROAEJ9LPIhy2dhZ687TOUxtJ8HWmTWYBAV        1\n",
       "https://wap.sogou.com/bill_cpc?v=1&p=WJhVUFLw919YBQanvcBFBaPjCmY7lA6mOdO6G8sB9alvpCpc86BX2E5JosmFTUTAz$ni3dS3ElMmHFo7e9wi9jntkXxZTB91d$JYAGLxMDU6Qm67MMzddTT8sO1uNi@7X7$d@YanhK2bLD@pMbgHctgAoZWERe9dWsL        1\n",
       "https://m.baidu.com/from=2001a/bd_page_type=1/ssid=0/uid=0/pu=sz%401320_2003%2Cta%40iphone_1_10.2_1_11.4%2Cusm%401/baiduid=31A62AA07B2CE23D3783FD394A48C503/w=0_10_/t=iphone/l=1/tc?ref=www_iphone&lid=9        1\n",
       "https://m.baidu.com/baidu.php?sc.5iTK00KLHPINx0K4TPbQc1r3Vo-fzNfTqCHEnREebtuWDJrgIrQN_TT4ORazAo8A4HzhM84_3OJcHan3sneDJ4DQQ-711L2d5d4D5dtnzf6PKKV2ICDqogQbVfI-0objmVjquJd2pr6MNb8zvKIZvarGze9_trvXdskoDC3        1\n",
       "https://m.sogou.com/bill_cpc?v=1&p=WJhqUFCo9C9tiDgUJoMLhG2x8$UnkyhdimQME1alvqe9oBmasrmDiw3im8Fs6XAfLavaFXqgtxxgVDqVxj6nnkQ82om0kkAjmxSD@dk1cARcRXEsd@4@n4AVmMFH$ta5aMkG5EKEN5MZ7acTmORWmKN6xdpdSiM@r0rFP        1\n",
       "http://www.baidu.com/link?url=opjasqNaa7c7xSMJNOoYgbf1YnrXX6sURD_FxTef3me5WoShgV2auDb4gfNPOd-a&wd=&eqid=977c891b005b73bc0000000558be54d1                                                                        1\n",
       "http://m.sogou.com/web/searchList.jsp?uID=sfIbKyDvTitpfuV1&v=5&dp=1&pid=sogou-mobb-d2dc6368837861b4-0007&w=1278&t=1489027139960&s_t=1489027139299&s_from=result_up&keyword=%E8%87%AA%E7%84%B6%E8%AF%AD%E        1\n",
       "http://www.baidu.com/baidu.php?sc.MzTK00K-MqCk-YowUwLSLaZjwDSMOmrKEUfIOKLXPuVtGlORAT4ynZ40j8nmMBPMLVQ4GDADz6cGgkmxcXhZ-UICFn7y2hocbqkvQfvoDfydCJgxh4WaJRsbaYnX1taJeXBdJwDqV1UFJa0JsLlLrceJENPnSVMieihfAB        1\n",
       "https://m.baidu.com/baidu.php?sc.5iTK00KLHPINx0K4T72UCJHePz62UbTiZl-33ICXE4kLKaznTjzSMQ4JNL4r3RL_pzPUTAIwYJYPn95lfZofGsMx57xLQQH8LSOKeOfpBincjZEpfn3K6PQmXJKK0yGVDDeyx2ggDtyU6FwH7MLwB9wscZo2exHmlWjFGVJ        1\n",
       "http://www.baidu.com/s?ie=utf-8&tn=98010089_1_dg&dsp=ipad&wd=%E6%95%B0%E6%8D%AE%E5%88%86%E6%9E%90                                                                                                               1\n",
       "http://wap.sogou.com/waprdt?query=%CA%FD%BE%DD%B7%D6%CE%F6&clickid=842d1ceb138f7e928878ae4dc7faccb2                                                                                                             1\n",
       "https://m.baidu.com/baidu.php?sc.5iTK000PjlS8JN26r4b0WLwcrb3tFHrkAFncRlIaCIgJeOgWbJm7ncna_ZcSwKFTukrDY3L7C9tFWGQNJ6ZjEX7dEdE_Fx2KR_6E_lVUg6CeyWG8Qbw_VFQlXWwObOrmr8_1VzO-kj1JIaDyNr9MBC-B6K2a3FHiuzgwYs3        1\n",
       "https://www.sogou.com/link?url=DSOYnZeCC_reF_V0215oSdRkvO5tusgbxcLO2TQn7Ac.&query=shence                                                                                                                        1\n",
       "https://m.baidu.com/baidu.php?sc.kzTK00KViRCvFKCtUPQP9MV_oQYNKP4jSd0aR7umF2F5ofK_Q8Ug1G1wvGy069ZS9W1z1rt3bYLccKVLWmei8c3Tjju3ilrUNQGznoUA9M_4z7kk5Z20x0PfAj5ylU7S54pMRYQ4Xxy_YdgpGnAEgH8LOwg-fFzDOjdFJ8F        1\n",
       "https://m.baidu.com/baidu.php?sc.7aTK000D6xTgFD1CUciLL-0Hh5OK6zYhprVMSdfDis3SSTdFHw91JiWgHtMqoVSgvnoBk3PqCvgmkNyNLZNnXost4hHdQH2lt4fbH4ZsGP-EHijCNAFINS4yBbxSmRw6gicgRGeUub6sFrMyR2vwF5z8sPkAjenJn37wyzm        1\n",
       "https://wap.sogou.com/bill_cpc?v=1&p=WJhHUFLa919YBX3imLFeS3YfdI$8j3vcgpY@Gs7SlOBAwZ$40YTnbuz8AME4EUZmrHWYQw0zTR@ZDlMwCFUAMl63QOoO8BQjY3QV4RkF6cmqOF5ZsG@8smDDEZHFLYN5Oh$ssoV8Cdz4bZ@pCtTPDKXff2EP93js0Zd        1\n",
       "https://m.baidu.com/from=844b/bd_page_type=1/ssid=0/uid=0/pu=sz%401320_2001%2Cta%40iphone_1_8.3_3_600%2Cusm%401/baiduid=F446CB36E981F7AC65D5C52FED40B661/w=0_10_/t=iphone/l=1/tc?ref=www_iphone&lid=8535        1\n",
       "http://www.baidu.com/baidu.php?sc.5iTK00jV8musC27oGcu7LLuOS6KoPHBaQhjlF3HpFp26toJs9Xi4VnAwNODMwDEexvRNzMBu8TAeJ2zpWUcxCEfP4m2BOWfS4zfUHe5NM1zsmZrU-v9iHgZubZOd7jAAGQ3MJSY1DLu777fJaZwerH32ShljtbKreYUg4r        1\n",
       "https://wap.sogou.com/bill_cpc?v=1&p=WJed6FM518lYemgymCc0njV5IEltyfUnCfsFIwuF$PwaAl99174jl$E0Hx9gJfTN3ZUpWAReB1JDl2y5txw0jZHjRpeDk2Evky1JGtplP2TrHUZc1m5XdEhs@qr3eA5c1d0cMxLtsE1CKsBuQHoW8hiQg0hB0lpzKJ1        1\n",
       "https://www.google.co.uk/                                                                                                                                                                                       1\n",
       "http://image.baidu.com/search/wiseala?tn=wiseala&iswiseala=1&ie=utf8&wiseps=1&word=%E8%AE%B8%E5%AE%8F%E6%99%A8%E7%BB%9F%E8%AE%A1%E5%88%86%E6%9E%90&pn=2&spn=0&os=4104282062,3462457933&pi=0&simid=406033        1\n",
       "http://www.baidu.com/baidu.php?sc.7aTK00K5YDbFBbnRl_XFFffl_s2yJKsLL63AY7wxK7lVM-Qp82tASsZp3iix-COWHlCPzsEu8DFhshdMiBfTojx3sqsrObkBBB79MK8rPVYJXFNE2_a90h6_6FdLhAMvC_IEbMM3IUudyftN92PP2scuGCmSSuKOPZXML7        1\n",
       "http://www.baidu.com/link?url=0KXd_wNAQQgInBvEMwtGt3DJ5zGHRU_rRnDz9qukHQeW--URVEu1qocQIaMfsz2X&wd=&eqid=d50323c6000843f30000000258c44ecd                                                                        1\n",
       "https://m.baidu.com/baidu.php?sc.JaTK00jBJvlcLu4qSQMreh6m_bHSrTfRyIAWSNQ0y0LZj98nLVPBN-EJUpjhSha1HRxhQtoM2kHBmM3IAyfh17DOqvM-AXryZ_IvdpvxZm635AN9ygKr6ykuKa-ZoIdpBlCSCQP-XxOVaIsUFHRO9TCEFqa7HT0XcZ6Vo3A        1\n",
       "http://chuang.36kr.com/huodong                                                                                                                                                                                  1\n",
       "https://www.sensorsdata.cn/manual/track_manager.html                                                                                                                                                            1\n",
       "http://zhishi.sogou.com/zhishi?keyword=%E7%BD%91%E7%AB%99%E6%95%B0%E6%8D%AE%E5%88%86%E6%9E%90%E5%B7%A5%E5%85%B7&uID=eCm22Ed239fyr4i9&v=5&pid=sogou-waps-8ce8b102d40392a6&dp=1&w=1278&t=1488874134830&s_t        1\n",
       "Name: session_referrer, dtype: int64"
      ]
     },
     "execution_count": 4,
     "metadata": {},
     "output_type": "execute_result"
    }
   ],
   "source": [
    "raw_df.session_referrer.value_counts(dropna = False)"
   ]
  },
  {
   "cell_type": "code",
   "execution_count": 5,
   "metadata": {
    "collapsed": false
   },
   "outputs": [
    {
     "data": {
      "text/plain": [
       "NaN      50983\n",
       "没有来源        61\n",
       "demo         4\n",
       "zhihu        1\n",
       "Name: session_from_url, dtype: int64"
      ]
     },
     "execution_count": 5,
     "metadata": {},
     "output_type": "execute_result"
    }
   ],
   "source": [
    "raw_df.session_from_url.value_counts(dropna = False)"
   ]
  },
  {
   "cell_type": "code",
   "execution_count": 7,
   "metadata": {
    "collapsed": false,
    "scrolled": true
   },
   "outputs": [
    {
     "data": {
      "text/plain": [
       "www.baidu.com                             23125\n",
       "NaN                                       18583\n",
       "www.sensorsdata.cn                         1420\n",
       "www.sogou.com                              1279\n",
       "36kr.com                                   1087\n",
       "m.baidu.com                                1074\n",
       "www.google.com                              660\n",
       "www.google.com.hk                           619\n",
       "sensorsdata.cn                              381\n",
       "www.so.com                                  303\n",
       "link.zhihu.com                              254\n",
       "cn.bing.com                                 162\n",
       "www.google.co.jp                            147\n",
       "wap.sogou.com                               137\n",
       "m.sogou.com                                 124\n",
       "www.woshipm.com                             118\n",
       "image.baidu.com                              74\n",
       "class.sanjieke.cn                            73\n",
       "wenku.baidu.com                              56\n",
       "www.mulumu.com                               54\n",
       "passport.36kr.com                            53\n",
       "www.google.com.ph                            53\n",
       "qiye.aliyun.com                              52\n",
       "googleads.g.doubleclick.net                  50\n",
       "zhengbangchuangyi.cloud.sensorsdata.cn       49\n",
       "zhidao.baidu.com                             46\n",
       "mail.alibaba-inc.com                         45\n",
       "youxuan.baidu.com                            43\n",
       "www.linear.vc                                41\n",
       "www.itjuzi.com                               31\n",
       "                                          ...  \n",
       "www.3lian.com                                 3\n",
       "ch.cloud.sensorsdata.cn                       3\n",
       "hao.199it.com                                 3\n",
       "geek.csdn.net                                 2\n",
       "sensors.ymt360.com                            2\n",
       "uc.36kr.com                                   2\n",
       "sd.int.jumei.com                              2\n",
       "www.xfz.cn                                    2\n",
       "65.111.161.235                                2\n",
       "www.google.co.kr                              2\n",
       "datadang.com                                  2\n",
       "10.201.48.21                                  2\n",
       "rong.36kr.com                                 2\n",
       "106.185.42.123                                2\n",
       "huaban.com                                    2\n",
       "www.prnasia.com                               2\n",
       "tower.im                                      2\n",
       "vtrack.cloud.sensorsdata.cn                   2\n",
       "101.37.29.83                                  1\n",
       "hao.2b.cn                                     1\n",
       "sas.foneshare.cn                              1\n",
       "116.62.89.9                                   1\n",
       "duckduckgo.com                                1\n",
       "www.google.com.au                             1\n",
       "www.imgeek.org                                1\n",
       "lnkd.in                                       1\n",
       "chuang.36kr.com                               1\n",
       "sd.xingshulin.com                             1\n",
       "www.jiuzhilan.com                             1\n",
       "www.google.co.zm                              1\n",
       "Name: session_referrer_host, dtype: int64"
      ]
     },
     "execution_count": 7,
     "metadata": {},
     "output_type": "execute_result"
    }
   ],
   "source": [
    "raw_df.session_referrer_host.value_counts(dropna = False)"
   ]
  },
  {
   "cell_type": "code",
   "execution_count": 38,
   "metadata": {
    "collapsed": false
   },
   "outputs": [
    {
     "data": {
      "text/plain": [
       "NaN              50649\n",
       "demo               308\n",
       "zhihu               70\n",
       "itjuzi               6\n",
       "pedaily              4\n",
       "36kr                 4\n",
       "36kr_cube            2\n",
       "edu_demo_doc         2\n",
       "chiyuan              2\n",
       "sangwenfeng          1\n",
       "ebiz_demo_doc        1\n",
       "Name: ch, dtype: int64"
      ]
     },
     "execution_count": 38,
     "metadata": {},
     "output_type": "execute_result"
    }
   ],
   "source": [
    "raw_df.ch.value_counts(dropna = False)"
   ]
  },
  {
   "cell_type": "code",
   "execution_count": 36,
   "metadata": {
    "collapsed": false
   },
   "outputs": [
    {
     "data": {
      "text/plain": [
       "NaN                                                                                                                                                                                                                                                                        29011\n",
       "https://www.sensorsdata.cn/demo.html                                                                                                                                                                                                                                        2284\n",
       "https://www.sensorsdata.cn/                                                                                                                                                                                                                                                 1921\n",
       "https://www.sensorsdata.cn/product.html                                                                                                                                                                                                                                     1441\n",
       "https://www.sensorsdata.cn/manual/                                                                                                                                                                                                                                          1279\n",
       "https://www.sensorsdata.cn/b-round.html                                                                                                                                                                                                                                      839\n",
       "https://www.sensorsdata.cn/index.html                                                                                                                                                                                                                                        745\n",
       "https://www.sensorsdata.cn/?utm_source=baidu&utm_medium=cpc&utm_term=%E7%94%A8%E6%88%B7%E7%94%BB%E5%83%8F&utm_content=%E9%80%9A%E7%94%A8%2D%E7%94%A8%E6%88%B7%E7%94%BB%E5%83%8F&utm_campaign=%E9%80%9A%E7%94%A8%E8%AF%8D                                                     705\n",
       "https://sensorsdata.cn/                                                                                                                                                                                                                                                      640\n",
       "https://www.sensorsdata.cn/about.html                                                                                                                                                                                                                                        629\n",
       "https://sensorsdata.cn/demo.html                                                                                                                                                                                                                                             594\n",
       "https://www.sensorsdata.cn/manual/index.html                                                                                                                                                                                                                                 522\n",
       "https://www.sensorsdata.cn/courses/                                                                                                                                                                                                                                          487\n",
       "https://www.sensorsdata.cn/?utm_source=baidu&utm_medium=cpc&utm_term=%E7%A5%9E%E7%AD%96&utm_content=%E5%93%81%E7%89%8C%2D%E7%A5%9E%E7%AD%96&utm_campaign=%E5%93%81%E7%89%8C%E8%AF%8D                                                                                         451\n",
       "https://www.sensorsdata.cn/?utm_source=baidu&utm_medium=mfeed&utm_term=%E9%A6%96%E9%A1%B5-%E9%80%9A%E7%94%A8%E8%AF%8D-%E4%B8%89%E5%9B%BE-%E5%9B%BE1&utm_content=%E9%80%9A%E7%94%A8%E8%AF%8D-%E4%B8%89%E5%9B%BE&utm_campaign=%E9%A6%96%E9%A1%B5                               429\n",
       "https://sensorsdata.cn/?ch=demo                                                                                                                                                                                                                                              297\n",
       "https://sensorsdata.cn/manual/                                                                                                                                                                                                                                               271\n",
       "https://sensorsdata.cn/product.html                                                                                                                                                                                                                                          231\n",
       "https://sensorsdata.cn/b-round.html                                                                                                                                                                                                                                          229\n",
       "https://www.sensorsdata.cn/?utm_source=baidu&utm_medium=cpc&utm_term=%E7%A5%9E%E7%AD%96%E6%95%B0%E6%8D%AE&utm_content=%E5%93%81%E7%89%8C%2D%E7%A5%9E%E7%AD%96&utm_campaign=%E5%93%81%E7%89%8C%E8%AF%8D                                                                       211\n",
       "https://www.sensorsdata.cn/?utm_source=sogou&utm_medium=mcpc&utm_term=%e6%95%b0%e6%8d%ae%e5%88%86%e6%9e%90&utm_content=%e9%80%9a%e7%94%a8-%e6%95%b0%e6%8d%ae%e5%88%86%e6%9e%90&utm_campaign=S-%e9%80%9a%e7%94%a8%e8%af%8d                                                    211\n",
       "https://sensorsdata.cn/index.html                                                                                                                                                                                                                                            187\n",
       "https://www.sensorsdata.cn/courses/index.html                                                                                                                                                                                                                                177\n",
       "https://www.sensorsdata.cn/manual/#                                                                                                                                                                                                                                          174\n",
       "https://sensorsdata.cn/about.html                                                                                                                                                                                                                                            163\n",
       "https://www.sensorsdata.cn/courses/play.html?v=first                                                                                                                                                                                                                         152\n",
       "https://www.sensorsdata.cn/?utm_source=baidu&utm_medium=cpc&utm_term=%E7%94%A8%E6%88%B7%E5%88%86%E6%9E%90&utm_content=%E9%80%9A%E7%94%A8%2D%E7%94%A8%E6%88%B7%E5%88%86%E6%9E%90&utm_campaign=%E9%80%9A%E7%94%A8%E8%AF%8D                                                     141\n",
       "http://localhost:8080/b-round.html                                                                                                                                                                                                                                           137\n",
       "https://sensorsdata.cn/courses/                                                                                                                                                                                                                                              109\n",
       "https://www.sensorsdata.cn/?utm_source=baidu&utm_medium=cpc&utm_term=%E7%94%B5%E5%AD%90%E5%95%86%E5%8A%A1%E6%95%B0%E6%8D%AE&utm_content=%E9%80%9A%E7%94%A8%2D%E7%94%B5%E5%95%86%E8%BF%90%E8%90%A5&utm_campaign=%E9%80%9A%E7%94%A8%E8%AF%8D                                   101\n",
       "                                                                                                                                                                                                                                                                           ...  \n",
       "https://www.sensorsdata.cn/manual/event_ana.html#?winzoom=1                                                                                                                                                                                                                    1\n",
       "https://sensorsdata.cn/manual/java_sdk.html                                                                                                                                                                                                                                    1\n",
       "https://www.sensorsdata.cn/?utm_source=baidu&utm_medium=cpc&utm_term=%E4%BA%A7%E4%B8%9A%E5%A4%A7%E6%95%B0%E6%8D%AE%E5%88%86%E6%9E%90&utm_content=%E9%80%9A%E7%94%A8%2D%E6%95%B0%E6%8D%AE%E5%88%86%E6%9E%90&utm_campaign=%E9%80%9A%E7%94%A8%E8%AF%8D                            1\n",
       "file:///D:/x-certificate!/Sensors%20Analytics%20%E4%BD%BF%E7%94%A8%E6%89%8B%E5%86%8C/Sensors%20Analytics%20%E4%BD%BF%E7%94%A8%E6%89%8B%E5%86%8C/web_analytics_term.html                                                                                                        1\n",
       "https://www.sensorsdata.cn/manual/ios_sdk.html#811-flush-interval                                                                                                                                                                                                              1\n",
       "https://www.sensorsdata.cn/?utm_source=baidu&utm_medium=cpc&utm_term=%E5%A4%A7%E6%95%B0%E6%8D%AE%E7%94%A8%E6%88%B7%E7%94%BB%E5%83%8F&utm_content=%E9%80%9A%E7%94%A8-%E7%94%A8%E6%88%B7%E7%94%BB%E5%83%8F-%E8%A1%8C%E4%B8%9A&utm_campaign=%E9%80%9A%E7%94%A8%E8%AF%8D           1\n",
       "https://www.sensorsdata.cn/?utm_source=baidu&utm_medium=cpc&utm_term=%e7%95%99%e5%ad%98%e5%88%86%e6%9e%90&utm_content=%e9%80%9a%e7%94%a8-%e7%94%a8%e6%88%b7%e7%95%99%e5%ad%98&utm_campaign=%e9%80%9a%e7%94%a8%e8%af%8d                                                         1\n",
       "https://www.sensorsdata.cn/?utm_source=baidu&utm_medium=cpc&utm_term=%E6%95%B0%E6%8D%AE%E5%8C%96%E8%BF%90%E8%90%A5&utm_content=%E9%80%9A%E7%94%A8-%E6%95%B0%E6%8D%AE%E8%BF%90%E8%90%A5&utm_campaign=%E9%80%9A%E7%94%A8%E8%AF%8D                                                1\n",
       "https://www.sensorsdata.cn/manual/hdfs_importer.html#                                                                                                                                                                                                                          1\n",
       "https://www.sensorsdata.cn/?utm_source=baidu&utm_medium=cpc&utm_term=%E5%88%86%E6%9E%90%E8%BF%90%E8%90%A5%E6%95%B0%E6%8D%AE&utm_content=%E9%80%9A%E7%94%A8%2D%E7%BD%91%E7%AB%99%E8%BF%90%E8%90%A5&utm_campaign=%E9%80%9A%E7%94%A8%E8%AF%8D                                     1\n",
       "https://www.sensorsdata.cn/manual/data_import_faq.html#                                                                                                                                                                                                                        1\n",
       "https://www.sensorsdata.cn/?utm_source=baidu&utm_medium=cpc&utm_term=%E7%94%A8%E6%88%B7%E5%88%86%E6%9E%90&utm_content=%E9%80%9A%E7%94%A8-%E7%94%A8%E6%88%B7%E5%88%86%E6%9E%90&utm_campaign=%E9%80%9A%E7%94%A8%E8%AF%8D                                                         1\n",
       "https://www.sensorsdata.cn/?utm_source=baidu&utm_medium=cpc&utm_term=%E6%95%B0%E6%8D%AE%E5%88%86%E6%9E%90&utm_content=%E9%80%9A%E7%94%A8-%E6%95%B0%E6%8D%AE%E5%88%86%E6%9E%90&utm_campaign=%E9%80%9A%E7%94%A8%E8%AF%8D                                                         1\n",
       "https://www.sensorsdata.cn/?utm_source=sogou&utm_medium=mcpc&utm_term=%e5%88%86%e6%9e%90%e5%a4%a7%e6%95%b0%e6%8d%ae&utm_content=%e9%80%9a%e7%94%a8-%e5%a4%a7%e6%95%b0%e6%8d%ae-%e5%85%b6%e4%bb%96&utm_campaign=S-%e9%80%9a%e7%94%a8%e8%af%8d                                   1\n",
       "https://www.sensorsdata.cn/?utm_source=baidu&utm_medium=cpc&utm_term=%E5%B9%BF%E5%91%8A%E6%95%88%E6%9E%9C%E7%9B%91%E6%B5%8B%E7%B3%BB%E7%BB%9F&utm_content=%E9%80%9A%E7%94%A8%2D%E5%B9%BF%E5%91%8A%E4%BC%98%E5%8C%96&utm_campaign=%E9%80%9A%E7%94%A8%E8%AF%8D                   1\n",
       "https://www.sensorsdata.cn/?utm_source=baidu&utm_medium=cpc&utm_term=%E4%B8%83%E6%97%A5%E7%95%99%E5%AD%98&utm_content=%E9%80%9A%E7%94%A8-%E7%94%A8%E6%88%B7%E7%95%99%E5%AD%98&utm_campaign=%E9%80%9A%E7%94%A8%E8%AF%8D                                                         1\n",
       "https://www.sensorsdata.cn/?utm_source=baidu&utm_medium=mcpc&utm_term=app%E7%94%A8%E6%88%B7%E7%94%BB%E5%83%8F%E5%88%86%E6%9E%90&utm_content=%E9%80%9A%E7%94%A8-%E7%94%A8%E6%88%B7%E7%94%BB%E5%83%8F-%E8%A1%8C%E4%B8%9A&utm_campaign=%E9%80%9A%E7%94%A8%E8%AF%8D                1\n",
       "https://www.sensorsdata.cn/manual/ios_sdk.html#32-事件时长                                                                                                                                                                                                                         1\n",
       "https://www.sensorsdata.cn/?utm_source=baidu&utm_medium=cpc&utm_term=%E6%95%B0%E6%8D%AE%E5%9F%8B%E7%82%B9&utm_content=%E9%80%9A%E7%94%A8-%E5%9F%8B%E7%82%B9&utm_campaign=%E9%80%9A%E7%94%A8%E8%AF%8D                                                                           1\n",
       "https://www.sensorsdata.cn/?utm_source=baidu&utm_medium=cpc&utm_term=%E7%94%A8%E6%88%B7%E7%94%BB%E5%83%8F%E5%88%86%E6%9E%90&utm_content=%E9%80%9A%E7%94%A8-%E7%94%A8%E6%88%B7%E7%94%BB%E5%83%8F-%E4%BA%A7%E5%93%81&utm_campaign=%E9%80%9A%E7%94%A8%E8%AF%8D                    1\n",
       "file:///D:/x-certificate!/Sensors%20Analytics%20%E4%BD%BF%E7%94%A8%E6%89%8B%E5%86%8C/Sensors%20Analytics%20%E4%BD%BF%E7%94%A8%E6%89%8B%E5%86%8C/about.html                                                                                                                     1\n",
       "https://www.sensorsdata.cn/manual/b2b_homepage_case_data_feed.html                                                                                                                                                                                                             1\n",
       "https://www.sensorsdata.cn/manual/retention.html#c-%E8%AE%BE%E7%BD%AE%E7%94%A8%E6%88%B7%E7%AD%9B%E9%80%89%E6%9D%A1%E4%BB%B6                                                                                                                                                    1\n",
       "https://www.sensorsdata.cn/?utm_source=sogou&utm_medium=mcpc&utm_term=%e5%a4%a7%e6%95%b0%e6%8d%ae%e5%88%86%e6%9e%90%e5%85%ac%e5%8f%b8&utm_content=%e9%80%9a%e7%94%a8-%e6%95%b0%e6%8d%ae%e5%88%86%e6%9e%90-%e5%85%ac%e5%8f%b8&utm_campaign=S-%e9%80%9a%e7%94%a8%e8%af%8d        1\n",
       "https://www.sensorsdata.cn/?utm_source=baidu&utm_medium=mcpc&utm_term=%E6%95%B0%E6%8D%AE%E5%A4%84%E7%90%86&utm_content=%E9%80%9A%E7%94%A8-%E6%95%B0%E6%8D%AE%E5%A4%84%E7%90%86&utm_campaign=%E9%80%9A%E7%94%A8%E8%AF%8D                                                        1\n",
       "https://www.sensorsdata.cn/?utm_source=baidu&utm_medium=cpc&utm_term=%E6%95%B0%E6%8D%AE%E6%8C%96%E6%8E%98&utm_content=%E9%80%9A%E7%94%A8-%E6%95%B0%E6%8D%AE%E5%A4%84%E7%90%86&utm_campaign=%E9%80%9A%E7%94%A8%E8%AF%8D                                                         1\n",
       "https://www.sensorsdata.cn/?utm_source=baidu&utm_medium=cpc&utm_term=%E6%95%B0%E6%8D%AE%E7%B3%BB%E7%BB%9F%E5%BB%BA%E8%AE%BE&utm_content=%E9%80%9A%E7%94%A8%2D%E6%95%B0%E6%8D%AE%E7%B3%BB%E7%BB%9F&utm_campaign=%E9%80%9A%E7%94%A8%E8%AF%8D                                     1\n",
       "https://www.sensorsdata.cn/?utm_source=sogou&utm_medium=mcpc&utm_term=%e5%b9%bf%e5%91%8a%e6%8a%95%e6%94%be%e6%95%88%e6%9e%9c%e8%af%84%e4%bc%b0&utm_content=%e9%80%9a%e7%94%a8-%e5%b9%bf%e5%91%8a%e4%bc%98%e5%8c%96&utm_campaign=S-%e9%80%9a%e7%94%a8%e8%af%8d                  1\n",
       "https://www.sensorsdata.cn/?utm_source=baidu&utm_medium=cpc&utm_term=%E7%BD%91%E7%AB%99%E5%88%86%E6%9E%90&utm_content=%E9%80%9A%E7%94%A8%2D%E7%BD%91%E7%AB%99%E8%BF%90%E8%90%A5&utm_campaign=%E9%80%9A%E7%94%A8%E8%AF%8D                                                       1\n",
       "https://www.sensorsdata.cn/?utm_source=baidu&utm_medium=cpc&utm_term=%E7%A5%9E%E7%AD%96%E5%88%86%E6%9E%90&utm_content=%E5%93%81%E7%89%8C-%E7%A5%9E%E7%AD%96&utm_campaign=%E5%93%81%E7%89%8C%E8%AF%8D                                                                           1\n",
       "Name: url, dtype: int64"
      ]
     },
     "execution_count": 36,
     "metadata": {},
     "output_type": "execute_result"
    }
   ],
   "source": [
    "raw_df.url.value_counts(dropna = False)"
   ]
  },
  {
   "cell_type": "code",
   "execution_count": 37,
   "metadata": {
    "collapsed": false
   },
   "outputs": [
    {
     "data": {
      "text/plain": [
       "NaN                                                                                                                                                                    29011\n",
       "/                                                                                                                                                                       8455\n",
       "/demo.html                                                                                                                                                              2911\n",
       "/manual/                                                                                                                                                                1751\n",
       "/product.html                                                                                                                                                           1680\n",
       "/b-round.html                                                                                                                                                           1215\n",
       "/index.html                                                                                                                                                              959\n",
       "/about.html                                                                                                                                                              807\n",
       "/courses/                                                                                                                                                                605\n",
       "/manual/index.html                                                                                                                                                       595\n",
       "/courses/play.html                                                                                                                                                       571\n",
       "/courses/index.html                                                                                                                                                      177\n",
       "/manual/data_model.html                                                                                                                                                  158\n",
       "/manual/js_sdk.html                                                                                                                                                      157\n",
       "/manual/data_schema.html                                                                                                                                                 113\n",
       "/manual/event_ana.html                                                                                                                                                   105\n",
       "/tools/url_create.html                                                                                                                                                    94\n",
       "/manual/android_sdk.html                                                                                                                                                  89\n",
       "/manual/vtrack_intro.html                                                                                                                                                 89\n",
       "/manual/user_identify.html                                                                                                                                                77\n",
       "/manual/eb_case.html                                                                                                                                                      75\n",
       "/manual/ios_sdk.html                                                                                                                                                      73\n",
       "/manual/use_steps.html                                                                                                                                                    71\n",
       "/manual/data_import.html                                                                                                                                                  71\n",
       "/tools/code_auto/                                                                                                                                                         62\n",
       "/manual/user_segmentation.html                                                                                                                                            50\n",
       "/manual/java_sdk.html                                                                                                                                                     50\n",
       "/manual/funnel.html                                                                                                                                                       47\n",
       "/manual/retention.html                                                                                                                                                    46\n",
       "/manual/query.html                                                                                                                                                        41\n",
       "                                                                                                                                                                       ...  \n",
       "/D:/x-certificate!/%E7%94%A8%E6%88%B7%E8%A1%8C%E4%B8%BA%E5%88%86%E6%9E%90/Sensors%20Analytics%20%E4%BD%BF%E7%94%A8%E6%89%8B%E5%86%8C/changelog.html                        1\n",
       "/D:/x-certificate!/Sensors%20Analytics%20%E4%BD%BF%E7%94%A8%E6%89%8B%E5%86%8C/Sensors%20Analytics%20%E4%BD%BF%E7%94%A8%E6%89%8B%E5%86%8C/ios_sdk_faq.html                  1\n",
       "/D:/x-certificate!/Sensors%20Analytics%20%E4%BD%BF%E7%94%A8%E6%89%8B%E5%86%8C/Sensors%20Analytics%20%E4%BD%BF%E7%94%A8%E6%89%8B%E5%86%8C/api.html                          1\n",
       "/D:/x-certificate!/Sensors%20Analytics%20%E4%BD%BF%E7%94%A8%E6%89%8B%E5%86%8C/Sensors%20Analytics%20%E4%BD%BF%E7%94%A8%E6%89%8B%E5%86%8C/web_channel_tracking.html         1\n",
       "/manual/other_tools.html                                                                                                                                                   1\n",
       "/D:/x-certificate!/Sensors%20Analytics%20%E4%BD%BF%E7%94%A8%E6%89%8B%E5%86%8C/Sensors%20Analytics%20%E4%BD%BF%E7%94%A8%E6%89%8B%E5%86%8C/android_sdk_autotrack.html        1\n",
       "/D:/x-certificate!/Sensors%20Analytics%20%E4%BD%BF%E7%94%A8%E6%89%8B%E5%86%8C/Sensors%20Analytics%20%E4%BD%BF%E7%94%A8%E6%89%8B%E5%86%8C/user_identify.html                1\n",
       "/translate_c                                                                                                                                                               1\n",
       "/D:/x-certificate!/Sensors%20Analytics%20%E4%BD%BF%E7%94%A8%E6%89%8B%E5%86%8C/Sensors%20Analytics%20%E4%BD%BF%E7%94%A8%E6%89%8B%E5%86%8C/custom_user_segmenter.html        1\n",
       "/manual/b2b_homepage_case_data_feed.html                                                                                                                                   1\n",
       "/D:/x-certificate!/%E7%94%A8%E6%88%B7%E8%A1%8C%E4%B8%BA%E5%88%86%E6%9E%90/Sensors%20Analytics%20%E4%BD%BF%E7%94%A8%E6%89%8B%E5%86%8C/about.html                            1\n",
       "/manual/data_import_advanced.html                                                                                                                                          1\n",
       "/manual/about.html                                                                                                                                                         1\n",
       "/D:/x-certificate!/Sensors%20Analytics%20%E4%BD%BF%E7%94%A8%E6%89%8B%E5%86%8C/Sensors%20Analytics%20%E4%BD%BF%E7%94%A8%E6%89%8B%E5%86%8C/query.html                        1\n",
       "/D:/x-certificate!/Sensors%20Analytics%20%E4%BD%BF%E7%94%A8%E6%89%8B%E5%86%8C/Sensors%20Analytics%20%E4%BD%BF%E7%94%A8%E6%89%8B%E5%86%8C/apicloud_sdk.html                 1\n",
       "/manual/android_sdk_faq.html                                                                                                                                               1\n",
       "/D:/x-certificate!/Sensors%20Analytics%20%E4%BD%BF%E7%94%A8%E6%89%8B%E5%86%8C/Sensors%20Analytics%20%E4%BD%BF%E7%94%A8%E6%89%8B%E5%86%8C/event_ana.html                    1\n",
       "/D:/x-certificate!/Sensors%20Analytics%20%E4%BD%BF%E7%94%A8%E6%89%8B%E5%86%8C/Sensors%20Analytics%20%E4%BD%BF%E7%94%A8%E6%89%8B%E5%86%8C/android_sdk.html                  1\n",
       "/D:/x-certificate!/Sensors%20Analytics%20%E4%BD%BF%E7%94%A8%E6%89%8B%E5%86%8C/Sensors%20Analytics%20%E4%BD%BF%E7%94%A8%E6%89%8B%E5%86%8C/eb_case.html                      1\n",
       "/D:/x-certificate!/Sensors%20Analytics%20%E4%BD%BF%E7%94%A8%E6%89%8B%E5%86%8C/Sensors%20Analytics%20%E4%BD%BF%E7%94%A8%E6%89%8B%E5%86%8C/data_model.html                   1\n",
       "/manual/sampling_query.html                                                                                                                                                1\n",
       "/manual/ios_sdk_faq.html                                                                                                                                                   1\n",
       "/D:/x-certificate!/Sensors%20Analytics%20%E4%BD%BF%E7%94%A8%E6%89%8B%E5%86%8C/Sensors%20Analytics%20%E4%BD%BF%E7%94%A8%E6%89%8B%E5%86%8C/about.html                        1\n",
       "/D:/x-certificate!/Sensors%20Analytics%20%E4%BD%BF%E7%94%A8%E6%89%8B%E5%86%8C/Sensors%20Analytics%20%E4%BD%BF%E7%94%A8%E6%89%8B%E5%86%8C/android_sdk_faq.html              1\n",
       "/D:/x-certificate!/Sensors%20Analytics%20%E4%BD%BF%E7%94%A8%E6%89%8B%E5%86%8C/Sensors%20Analytics%20%E4%BD%BF%E7%94%A8%E6%89%8B%E5%86%8C/import_tool.html                  1\n",
       "/manual/basic_term.html                                                                                                                                                    1\n",
       "/D:/x-certificate!/Sensors%20Analytics%20%E4%BD%BF%E7%94%A8%E6%89%8B%E5%86%8C/Sensors%20Analytics%20%E4%BD%BF%E7%94%A8%E6%89%8B%E5%86%8C/ios_sdk_autotrack.html            1\n",
       "/manual/access_control_tool.html                                                                                                                                           1\n",
       "/D:/x-certificate!/Sensors%20Analytics%20%E4%BD%BF%E7%94%A8%E6%89%8B%E5%86%8C/Sensors%20Analytics%20%E4%BD%BF%E7%94%A8%E6%89%8B%E5%86%8C/accessories.html                  1\n",
       "/manual/c_sdk.html                                                                                                                                                         1\n",
       "Name: url_path, dtype: int64"
      ]
     },
     "execution_count": 37,
     "metadata": {},
     "output_type": "execute_result"
    }
   ],
   "source": [
    "raw_df.url_path.value_counts(dropna = False)"
   ]
  },
  {
   "cell_type": "code",
   "execution_count": 35,
   "metadata": {
    "collapsed": false
   },
   "outputs": [
    {
     "data": {
      "text/plain": [
       "NaN                                                                                                                                                                                                                                                                                                                                                                                                                                                                                                                     29011\n",
       "神策数据 | Sensors Data - 国内领先的用户行为分析产品                                                                                                                                                                                                                                                                                                                                                                                                                                                                                      9400\n",
       "神策分析|Sensors Analytics-帮你实现数据驱动－demo                                                                                                                                                                                                                                                                                                                                                                                                                                                                                     2896\n",
       "介绍 · Sensors Analytics 使用手册                                                                                                                                                                                                                                                                                                                                                                                                                                                                                              2340\n",
       "神策分析|Sensors Analytics-帮你实现数据驱动－产品                                                                                                                                                                                                                                                                                                                                                                                                                                                                                       1671\n",
       "神策分析|Sensors Analytics-帮你实现数据驱动－B轮融资发布会                                                                                                                                                                                                                                                                                                                                                                                                                                                                                  1210\n",
       "神策分析|Sensors Analytics-帮你实现数据驱动－关于                                                                                                                                                                                                                                                                                                                                                                                                                                                                                        805\n",
       "神策分析|Sensors Analytics-帮你实现数据驱动-视频列表                                                                                                                                                                                                                                                                                                                                                                                                                                                                                      781\n",
       "神策分析|Sensors Analytics-帮你实现数据驱动－视频播放                                                                                                                                                                                                                                                                                                                                                                                                                                                                                      569\n",
       "数据模型 · Sensors Analytics 使用手册                                                                                                                                                                                                                                                                                                                                                                                                                                                                                             158\n",
       "JavaScript SDK · Sensors Analytics 使用手册                                                                                                                                                                                                                                                                                                                                                                                                                                                                                   156\n",
       "数据格式 · Sensors Analytics 使用手册                                                                                                                                                                                                                                                                                                                                                                                                                                                                                             112\n",
       "事件分析 · Sensors Analytics 使用手册                                                                                                                                                                                                                                                                                                                                                                                                                                                                                             105\n",
       "神策分析|Sensors Analytics-帮你实现数据驱动-网址构建工具                                                                                                                                                                                                                                                                                                                                                                                                                                                                                     94\n",
       "数据接入 · Sensors Analytics 使用手册                                                                                                                                                                                                                                                                                                                                                                                                                                                                                              93\n",
       "Android SDK · Sensors Analytics 使用手册                                                                                                                                                                                                                                                                                                                                                                                                                                                                                       90\n",
       "可视化埋点 · Sensors Analytics 使用手册                                                                                                                                                                                                                                                                                                                                                                                                                                                                                             90\n",
       "电商类产品 · Sensors Analytics 使用手册                                                                                                                                                                                                                                                                                                                                                                                                                                                                                             76\n",
       "如何准确的标识用户 · Sensors Analytics 使用手册                                                                                                                                                                                                                                                                                                                                                                                                                                                                                         75\n",
       "iOS SDK · Sensors Analytics 使用手册                                                                                                                                                                                                                                                                                                                                                                                                                                                                                           74\n",
       "整体使用流程 · Sensors Analytics 使用手册                                                                                                                                                                                                                                                                                                                                                                                                                                                                                            69\n",
       "weixin://private/setresult/SCENE_FETCHQUEUE&eyJmdW5jIjoibG9nIiwicGFyYW1zIjp7Im1zZyI6Il9ydW5PbjNyZEFwaUxpc3QgOiBtZW51OnNoYXJlOnRpbWVsaW5lLG1lbnU6c2hhcmU6YXBwbWVzc2FnZSxvblZvaWNlUmVjb3JkRW5kLG9uVm9pY2VQbGF5QmVnaW4sb25Wb2ljZVBsYXlFbmQsb25Mb2NhbEltYWdlVXBsb2FkUHJvZ3Jlc3Msb25JbWFnZURvd25sb2FkUHJvZ3Jlc3Msb25Wb2ljZVVwbG9hZFByb2dyZXNzLG9uVm9pY2VEb3dubG9hZFByb2dyZXNzLG1lbnU6c2V0Zm9udCxtZW51OnNoYXJlOndlaWJvLG1lbnU6c2hhcmU6ZW1haWwsd3hkb3dubG9hZDpzdGF0ZV9jaGFuZ2UsaGRPbkRldmljZVN0YXRlQ2hhbmdlZCxhY3Rpdml0eTpz       67\n",
       "神策分析|Sensors Analytics-帮你实现数据驱动-JavaScript SDK 自动生成工具                                                                                                                                                                                                                                                                                                                                                                                                                                                                      62\n",
       "用户分群 · Sensors Analytics 使用手册                                                                                                                                                                                                                                                                                                                                                                                                                                                                                              50\n",
       "Java SDK · Sensors Analytics 使用手册                                                                                                                                                                                                                                                                                                                                                                                                                                                                                          49\n",
       "漏斗分析 · Sensors Analytics 使用手册                                                                                                                                                                                                                                                                                                                                                                                                                                                                                              47\n",
       "留存分析 · Sensors Analytics 使用手册                                                                                                                                                                                                                                                                                                                                                                                                                                                                                              46\n",
       "自定义查询 · Sensors Analytics 使用手册                                                                                                                                                                                                                                                                                                                                                                                                                                                                                             41\n",
       "weixin://private/setresult/SCENE_HANDLEMSGFROMWX&eyJfX2Vycl9jb2RlIjoiY2I0MDQifQ==                                                                                                                                                                                                                                                                                                                                                                                                                                          38\n",
       "用户路径分析 · Sensors Analytics 使用手册                                                                                                                                                                                                                                                                                                                                                                                                                                                                                            32\n",
       "                                                                                                                                                                                                                                                                                                                                                                                                                                                                                                                        ...  \n",
       "统计页面停留时间 · Sensors Analytics 使用手册                                                                                                                                                                                                                                                                                                                                                                                                                                                                                           5\n",
       "微信小程序 SDK · Sensors Analytics 使用手册                                                                                                                                                                                                                                                                                                                                                                                                                                                                                          5\n",
       "功能 API · Sensors Analytics 使用手册                                                                                                                                                                                                                                                                                                                                                                                                                                                                                             4\n",
       "神策分析相关名词 · Sensors Analytics 使用手册                                                                                                                                                                                                                                                                                                                                                                                                                                                                                           4\n",
       "第三方登录 · Sensors Analytics 使用手册                                                                                                                                                                                                                                                                                                                                                                                                                                                                                              4\n",
       "产品视频 · Sensors Analytics 使用手册                                                                                                                                                                                                                                                                                                                                                                                                                                                                                               4\n",
       "关于我们 · Sensors Analytics 使用手册                                                                                                                                                                                                                                                                                                                                                                                                                                                                                               3\n",
       "3 神策数据 | Sensors Data - 国内领先的用户行为分析产品                                                                                                                                                                                                                                                                                                                                                                                                                                                                                       3\n",
       "元数据创建工具使用说明 · Sensors Analytics 使用手册                                                                                                                                                                                                                                                                                                                                                                                                                                                                                        3\n",
       "APICloud SDK · Sensors Analytics 使用手册                                                                                                                                                                                                                                                                                                                                                                                                                                                                                       3\n",
       "从外部 Kafka 接入数据的方案 · Sensors Analytics 使用手册                                                                                                                                                                                                                                                                                                                                                                                                                                                                                  3\n",
       "CustomUserSegmenter 使用说明 · Sensors Analytics 使用手册                                                                                                                                                                                                                                                                                                                                                                                                                                                                           3\n",
       "推荐分享 · Sensors Analytics 使用手册                                                                                                                                                                                                                                                                                                                                                                                                                                                                                               2\n",
       "Java SDK Demo · Sensors Analytics 使用手册                                                                                                                                                                                                                                                                                                                                                                                                                                                                                      2\n",
       "数据接入基本原则 · Sensors Analytics 使用手册                                                                                                                                                                                                                                                                                                                                                                                                                                                                                           2\n",
       "3 神策分析|Sensors Analytics-帮你实现数据驱动－产品                                                                                                                                                                                                                                                                                                                                                                                                                                                                                        2\n",
       "数据校验及元数据创建 · Sensors Analytics 使用手册                                                                                                                                                                                                                                                                                                                                                                                                                                                                                         2\n",
       "导入实时查看 · Sensors Analytics 使用手册                                                                                                                                                                                                                                                                                                                                                                                                                                                                                             2\n",
       "Ruby SDK · Sensors Analytics 使用手册                                                                                                                                                                                                                                                                                                                                                                                                                                                                                           2\n",
       "3 神策分析|Sensors Analytics-帮你实现数据驱动－demo                                                                                                                                                                                                                                                                                                                                                                                                                                                                                      1\n",
       "分析师事件权限设置工具 · Sensors Analytics 使用手册                                                                                                                                                                                                                                                                                                                                                                                                                                                                                        1\n",
       "4 介绍 · Sensors Analytics 使用手册                                                                                                                                                                                                                                                                                                                                                                                                                                                                                               1\n",
       "C SDK · Sensors Analytics 使用手册                                                                                                                                                                                                                                                                                                                                                                                                                                                                                              1\n",
       "其他辅助工具 · Sensors Analytics 使用手册                                                                                                                                                                                                                                                                                                                                                                                                                                                                                             1\n",
       "进阶使用场景 · Sensors Analytics 使用手册                                                                                                                                                                                                                                                                                                                                                                                                                                                                                             1\n",
       "导入辅助工具 · Sensors Analytics 使用手册                                                                                                                                                                                                                                                                                                                                                                                                                                                                                             1\n",
       "3 神策分析|Sensors Analytics-帮你实现数据驱动－关于                                                                                                                                                                                                                                                                                                                                                                                                                                                                                        1\n",
       "Sensor Analytics - help you implement data drivers                                                                                                                                                                                                                                                                                                                                                                                                                                                                          1\n",
       "查询抽样 · Sensors Analytics 使用手册                                                                                                                                                                                                                                                                                                                                                                                                                                                                                               1\n",
       "基础指标解释和配置 · Sensors Analytics 使用手册                                                                                                                                                                                                                                                                                                                                                                                                                                                                                          1\n",
       "Name: title, dtype: int64"
      ]
     },
     "execution_count": 35,
     "metadata": {},
     "output_type": "execute_result"
    }
   ],
   "source": [
    "raw_df.title.value_counts(dropna = False)"
   ]
  },
  {
   "cell_type": "code",
   "execution_count": 33,
   "metadata": {
    "collapsed": false,
    "scrolled": true
   },
   "outputs": [
    {
     "data": {
      "text/plain": [
       "NaN                            23796\n",
       "通用词                            15549\n",
       "品牌词                             7696\n",
       "S-通用词                           1372\n",
       "神策-移动推广                          739\n",
       "首页                               706\n",
       "G-通用词                            253\n",
       "用户行为                             221\n",
       "caroline                          72\n",
       "test_fll_gxq_zgq                  65\n",
       "ebizdemo                          59\n",
       "golddemo                          58\n",
       "gamedemo                          55\n",
       "vtrack                            47\n",
       "xingshulin_standalone             39\n",
       "数据分析                              33\n",
       "凤巢头条                              32\n",
       "trial                             26\n",
       "spring                            23\n",
       "edudemo                           22\n",
       "about                             20\n",
       "courses                           17\n",
       "financedemo                       15\n",
       "皇冠子链                              13\n",
       "ch                                13\n",
       "yeshen-cluster                    11\n",
       "用户画像                               9\n",
       "jiedaibao-standalone               8\n",
       "zhangjunfeng                       7\n",
       "vipkid-standalone                  7\n",
       "salestest                          7\n",
       "sagreen                            6\n",
       "caicheng-standalone                5\n",
       "huangbaoche-standalone             5\n",
       "李彦敏                                4\n",
       "qiyukf                             4\n",
       "%E9%80%9A%E7%94%A8%E8%AF%8D        4\n",
       "36kr_standalone                    4\n",
       "wangba-standalone                  4\n",
       "jrq-standalone                     4\n",
       "8win_standalone                    3\n",
       "ivymobi                            2\n",
       "ymt-cluster                        2\n",
       "flowerplus                         2\n",
       "jumei-cluster                      2\n",
       "数据采集                               2\n",
       "iranshao                           2\n",
       "qingchengfit                       2\n",
       "bqbianli-standalone                1\n",
       "fxiaoke-cluster                    1\n",
       "Name: latest_utm_campaign, dtype: int64"
      ]
     },
     "execution_count": 33,
     "metadata": {},
     "output_type": "execute_result"
    }
   ],
   "source": [
    "raw_df.latest_utm_campaign.value_counts(dropna = False)"
   ]
  },
  {
   "cell_type": "code",
   "execution_count": 34,
   "metadata": {
    "collapsed": false,
    "scrolled": true
   },
   "outputs": [
    {
     "data": {
      "text/plain": [
       "NaN                                                                          24497\n",
       "品牌-神策                                                                         7647\n",
       "通用-用户画像                                                                       3809\n",
       "通用-数据分析                                                                       2140\n",
       "通用-数据分析-产品                                                                     986\n",
       "通用-数据分析-行业                                                                     899\n",
       "通用-用户分析                                                                        721\n",
       "通用词-三图                                                                         706\n",
       "通用-数据分析-运营                                                                     703\n",
       "通用-APP运营                                                                       685\n",
       "通用词-M                                                                          564\n",
       "通用-电商运营                                                                        513\n",
       "通用-数据处理                                                                        507\n",
       "通用-数据统计                                                                        461\n",
       "通用-数据可视化                                                                       422\n",
       "通用-用户画像-产品                                                                     422\n",
       "通用-用户留存                                                                        383\n",
       "通用-用户行为分析                                                                      367\n",
       "通用-网站运营                                                                        352\n",
       "通用-大数据-行业                                                                      316\n",
       "通用-数据分析-公司                                                                     316\n",
       "通用-数据系统                                                                        260\n",
       "通用-大数据-其他                                                                      259\n",
       "通用-用户画像-功能                                                                     218\n",
       "通用-多维分析                                                                        204\n",
       "通用-用户行为分析-行业                                                                   191\n",
       "品牌词-M                                                                          175\n",
       "通用-埋点                                                                          166\n",
       "通用-广告优化                                                                        148\n",
       "通用-数据运营                                                                        143\n",
       "                                                                             ...  \n",
       "通用-大数据-方案                                                                       88\n",
       "通用-数据运营-平台                                                                      87\n",
       "通用-用户分析-产品                                                                      69\n",
       "通用-数据分析-方案                                                                      65\n",
       "通用-数据指标                                                                         64\n",
       "通用-用户留存-提升                                                                      62\n",
       "通用-数据分析-电商                                                                      48\n",
       "通用-可视化分析                                                                        35\n",
       "通用-大数据-公司                                                                       27\n",
       "通用-访客分析                                                                         25\n",
       "通用-数据驱动                                                                         24\n",
       "通用-增长黑客                                                                         19\n",
       "通用-数据仓库                                                                         17\n",
       "通用-渠道追踪                                                                         16\n",
       "right                                                                           14\n",
       "通用-个性化营销                                                                        13\n",
       "通用-用户分群                                                                         13\n",
       "品牌-神策-产品词                                                                       12\n",
       "通用-精准营销                                                                         12\n",
       "top                                                                              9\n",
       "品牌-神策-拼音                                                                         8\n",
       "通用-用户细分                                                                          8\n",
       "通用-大数据-产品                                                                        7\n",
       "%E9%80%9A%E7%%20...                                                              5\n",
       "通用-用户画像-应用                                                                       5\n",
       "品牌-                                                                              5\n",
       "%E9%80%9A%E7%94%A8-%E7%94%A8%E6%88%B7%E8%A1%8C%E4%B8%BA%E5%88%86%E6%9E%90        4\n",
       "通用-跨屏分析                                                                          2\n",
       "通用-用户行为分析-产品                                                                     2\n",
       "通用-转化优化                                                                          1\n",
       "Name: latest_utm_content, dtype: int64"
      ]
     },
     "execution_count": 34,
     "metadata": {},
     "output_type": "execute_result"
    }
   ],
   "source": [
    "raw_df.latest_utm_content.value_counts(dropna = False)"
   ]
  },
  {
   "cell_type": "code",
   "execution_count": 30,
   "metadata": {
    "collapsed": false
   },
   "outputs": [
    {
     "data": {
      "text/plain": [
       "NaN                                                                                                                                                                                                         22900\n",
       "https://www.baidu.com/baidu.php                                                                                                                                                                             14836\n",
       "https://www.baidu.com/link                                                                                                                                                                                   3593\n",
       "https://www.baidu.com/s                                                                                                                                                                                      1038\n",
       "https://www.google.com.hk/                                                                                                                                                                                    565\n",
       "https://www.google.com/                                                                                                                                                                                       533\n",
       "http://36kr.com/                                                                                                                                                                                              441\n",
       "https://www.google.co.jp/                                                                                                                                                                                     203\n",
       "https://link.zhihu.com/?target=https%3A//sensorsdata.cn/                                                                                                                                                       73\n",
       "http://www.baidu.com/baidu.php?sc.IBTK00jyNUHxgmbNsRNO9pwmCW85unoZ3RhY2LA2yYSIy_P_a2rpHF5Zfm3aK0gihACpb2uofjfdgZRsOOEuvUOyAkfOXqqepIc29omYi45Xz8W9GLtwRV3z95qkf9L8sUUhSJZy8T3JHqCw07_EkWHGsnIy6WlObvKeJa       67\n",
       "http://www.woshipm.com/pmd/314444.html                                                                                                                                                                         58\n",
       "https://m.baidu.com/?from=844b&vit=fps                                                                                                                                                                         56\n",
       "https://www.baidu.com/                                                                                                                                                                                         54\n",
       "http://www.sogou.com/bill_cpc?v=1&p=WJedUFVs989YOUdJ1eA36VXyFq6ASYk1dHTO8XNHJaok2ORYQwr0tiwFTVCfNIIjOC3fHx2G03ClajhGa2Clvxqjl7pYaPU@kaUR9mWyJPmLdaETTuNd8iYgHdpi7b0gsA$m5@sCzkZ$WfDrHtnNoeLlTTi@WqAAeht4       51\n",
       "https://www.sogou.com/link?url=DSOYnZeCC_reF_V0215oSdRkvO5tusgbxcLO2TQn7Ac.&query=%E7%A5%9E%E7%AD%96                                                                                                           49\n",
       "https://www.sogou.com/link?url=DSOYnZeCC_reF_V0215oSdRkvO5tusgbxcLO2TQn7Ac.&query=%E7%A5%9E%E7%AD%96%E6%95%B0%E6%8D%AE                                                                                         49\n",
       "http://www.itjuzi.com/company/16088                                                                                                                                                                            48\n",
       "https://link.zhihu.com/?target=https%3A//www.sensorsdata.cn                                                                                                                                                    45\n",
       "https://link.zhihu.com/?target=https%3A//sensorsdata.cn/manual/data_model.html                                                                                                                                 42\n",
       "https://m.baidu.com/?from=2001a                                                                                                                                                                                42\n",
       "http://www.mulumu.com/product/sensorsdata                                                                                                                                                                      41\n",
       "http://link.zhihu.com/?target=http%3A//www.sensorsdata.cn/%3Fch%3Dzhihu                                                                                                                                        39\n",
       "http://36kr.com/p/5056378.html                                                                                                                                                                                 39\n",
       "http://data.corp.36kr.com/events/?project=default                                                                                                                                                              38\n",
       "http://www.woshipm.com/operate/409320.html                                                                                                                                                                     37\n",
       "http://www.baidu.com/link?url=qdddJPjEbvEv7C3mgbm98w9Qb37zDLGrPr0hwtavt5WOYWD5-2Qc4Jxmw52S4NJO&wd=&eqid=886e8ef9000987760000000358be32a0                                                                       36\n",
       "http://www.linear.vc/wordpress/?post_type=portfolio                                                                                                                                                            35\n",
       "http://class.sanjieke.cn/online.html                                                                                                                                                                           34\n",
       "http://cn.bing.com/search?q=%E7%A5%9E%E7%AD%96%E6%95%B0%E6%8D%AE                                                                                                                                               34\n",
       "https://qiye.aliyun.com/alimail/                                                                                                                                                                               33\n",
       "                                                                                                                                                                                                            ...  \n",
       "http://data.yoloho.com/vtrack/                                                                                                                                                                                  1\n",
       "https://m.baidu.com/from=1013755s/bd_page_type=1/ssid=0/uid=0/pu=usm%400%2Csz%40320_1001%2Cta%40iphone_2_5.1_3_537/baiduid=D09B4916E9A28660F9F1CB2B7F40ACE6/w=0_10_/t=iphone/l=3/tc?ref=www_iphone&lid=9        1\n",
       "https://m.baidu.com/baidu.php?sc.6zTK00aRegRELMQx3TveoyTj1vLzMIt60mWo2dZVlScWHbbmk5iYUHJvHMUUwvn0RkfsvovwffHS35NE7PvwtQWY7pzMNOdDBkRgBR8scsYGsVKOYrJ7ecMcUsathYv8fc0X5IhB-qKUJ6MU2E41qKC_Jp7WV7wGL1E8_BS        1\n",
       "https://m.baidu.com/baidu.php?sc.7aTK000e8OKoZvPC37GMPOpwQa2_QksYX-VnCWjld3_0INuSz12Cw4Kxh_ubbfWkoLNb3v9Wd37V9hlHltq4DN2D1QZoy_3tJxjmwj2nyvi0hFZKrUH15MovQOPAHX4tu-MLVM9_Efh1Hlw8YGAEZJPo2QqyWkD6d21Yg51        1\n",
       "https://wap.sogou.com/bill_cpc?v=1&p=WJhHUFLw919YBKBhJP6dnUYyQBm8j3vcgpYT7EG@wQlO2$JZXYTm8Lhhh5i6BT2eHKpA8zuVPqe0cUDHAVPtocw3kXJWICgvA3CkINQxnEuagugORaeiETTKspdk3HKS6EX3uMdk6BCY@EYirA8NpIL$5E0ezxTkMTt        1\n",
       "https://m.baidu.com/baidu.php?sc.kBTK00KihqhiIdWUmFPLB8eYT6cpLFN10UTt2jZNIrqKvJp_RBWq7v_EAqvey6GqcQWLJQ8UYYVYQr50LA7rw1vcxqio5arVpkp-g8Y4XsZIMRdhuKDV8EUk5x6Z7CuMe7wobStRwMgpC4RKEzxF4mqB8q6Q8hih921BWUN        1\n",
       "http://www.google.com.hk/url?sa=t&rct=j&q=&esrc=s&source=web&cd=1&ved=0CDMQFjAB&url=https%3A%2F%2Fwww.sensorsdata.cn%2F%3Futm_source%3Dgoogle%26utm_medium%3Dcpc%26utm_term%3D%25E8%2581%259A%25E7%25B1%        1\n",
       "https://m.baidu.com/baidu.php?sc.9aTK00aUZedEiha7BHmVm9xp59uijQOEiLDDL5DcX5JSqCrikuTn8vSE0x81_zJCoInsC-NfYxpQ0Q17a23oMDN7LbsgCBJA4CAXxCJv1XfsLfxTpLebHdD49zUqIIHymDvw-amfrjcOSZxD3tDBtOfSPA9pVCvi2zBHC8J        1\n",
       "https://www.sogou.com/link?url=hedJjaC291OTJNvFrk_AvSyMgd7g-qApc34p0Mb7_QYWv_fBOXcnzitGBIC8gDciIeZ8aQ291kY.&query=%E6%95%B0%E6%8D%AE%E6%8E%A5%E5%85%A5%E8%AF%B4%E6%98%8E%E6%96%87%E6%A1%A3                      1\n",
       "https://m.baidu.com/from=1005640b/bd_page_type=1/ssid=0/uid=0/pu=cuid%400aB38gOH-il5u2uugaHru_ahS8gc8Sixja2RaYOg2fqjuHi3A%2Cosname%40baidubrowser%2Ccua%40gu2Riyap2i4lpmjbyaXyizaDs8_4uLiW3LqqC%2Ccut%40        1\n",
       "https://wap.sogou.com/bill_cpc?v=1&p=WJed6bCs11lYeXUuwY1Vj2L98V3pvxuziX8MNuvJxtyll$uZ7GRBs7yQdUNDOcbly73lhHF@kliwgBlYpQxxwxR@yEI1Y92jblewT3qIZDSBWmEistdEdiE6HzKZOEaLDyWcWn@vd55Wsa6M5brvX0TbXZa1dKLrkcB        1\n",
       "https://m.sogou.com/bill_cpc?v=1&p=WJhOU7Ma11lYBQIrHC9gpU96WOk5PScLL1XzFjYIxU@ASSFLi6QFN5oRufSH1$TSACsTw4mv@y7DWSqVfG9A7oao4PS9CG5Lo7NV9loAy7qDLbzrVhdncGTTssKuMZVBmwg4PeBME340@2FfeHBmBuu0K8BTd@bdNUFW5        1\n",
       "https://wap.sogou.com/bill_cpc?v=1&p=WJhHUrma919YBT3JOhhXh4jVrGCBxVJtarnsLUtwQwu23VeXoEmFLQFSKvv8mq8neoHg$jj3PzTfRh0zg39wXXxZkPYQ2Az2ryPXo8Y4EINtCGr3pK02dTs7dDLhQEhp4DDqgTdVe@uJ8zTEoMavCsxUiWbCSimw@5h        1\n",
       "http://sensors.sta.holaverse.com:8007/retention/?project=true                                                                                                                                                   1\n",
       "https://m.baidu.com/baidu.php?sc.6aTK000jlnavAn1DqpUyL8XYVkEfIRLU_aGubYvgkQMwwmSIqSD4Awe__QGdzsIa5d3uV0BiJ3-QGkYILoitqI-IyN41VLwXljcc7pbYvcGQUYuIcBPv3ZOYsmQ-ulQoTqwJILbIJ9Yc-JqKDWBwlKDOLdyNgSsLzw1QH5X        1\n",
       "https://wap.sogou.com/bill_cpc?v=1&p=WJhHUFC711lYCb6IbUfOyAtpBJYhSGry2nK95sd96BkyjZ3IpZsciieYcJ@cXwblUOwQuR$eGGRvkYuxojfw4h9PZtRykvOPyVLS3A4xqlO@vUGEGgpQTXTsKt@smdGHTAGsiebK@1xXMauH@tW0c7$RZYgh6DCXde4        1\n",
       "http://m.sogou.com/web/searchList.jsp?pid=sogou-mobb-d2dc6368837861b4-0007&keyword=%E6%95%B0%E6%8D%AE%E6%8C%96%E6%8E%98%E8%BD%AF%E4%BB%B6%E6%9C%89%E5%93%AA%E4%BA%9B                                            1\n",
       "http://10.201.48.46:8107/auth/?project=production                                                                                                                                                               1\n",
       "http://googleads.g.doubleclick.net/pagead/ads?client=ca-pub-0796536778784564&format=274x250&output=html&h=250&slotname=8436407162&adk=3634487707&adf=4132739275&w=274&afmt=auto&lmt=1488996171&rafmt=1&f        1\n",
       "https://m.baidu.com/from=1001703e/bd_page_type=1/ssid=0/uid=0/pu=sz%401320_480%2Ccuid%400i-3u0PgSa0Kuv8n0avXi_aq2fg4avun0a23uga4Ha8duv8xYaBH8_aqBigPa2tWA%2Ccua%40_a-qi4uq-igBNE6lI5me6NI0-I_UCvhrSdNqA%        1\n",
       "https://wap.sogou.com/bill_cpc?v=1&p=WJhVU0mw919YBX3JOZZ$GIQ7wjtYv4pi8pcLud62lvmeDy4gLW0mB0zEhRfvLqetbKv1DvISjZ7HElya9SvbT3ptjJiYA366ybPW9nU9Zy2XtXOYfy8DDTT@c@7pBrJg1bniEnmscxld@n02sUVLcWbL7t3NzcMslE8        1\n",
       "http://datanode01.yf.apus.com:8107/addiction/?project=test                                                                                                                                                      1\n",
       "http://m.sogou.com/bill_cpc?v=1&p=WJhHUbM518lYOgGdr0U@xpBxYbuOUoKrCg9Fe1iqAy6ewwVlajhyIuiF1vSHEqcse1walDW9QxulsZleTYJmll6JJxAyYpogSOPklBzFAGsduIAZIWKTTsKiKBztscLWaWS@KZGXri1BTT71avh5JfN3dMDD4y5DfW2geS        1\n",
       "https://m.sogou.com/bill_cpc?v=1&p=WJhVUFLw919YBQanJnG5eeZt70BX9UPemtemNuNX2Zv7e9oVrQe17iO6kdXNJanippTmc0qzAqZrAazjgX9tkoLtjltAZvJYTRULw0BQwoakKs6iHN9BW55WuL@W2EmFs61W41O@@cauezXCCisEuzQ2ZBXtkEq4fckMK        1\n",
       "http://sc.vipkid.com.cn/import/?project=test                                                                                                                                                                    1\n",
       "http://106.75.134.247:8007/retention/                                                                                                                                                                           1\n",
       "http://wiki.ximalaya.com/pages/viewpage.action?pageId=4295367                                                                                                                                                   1\n",
       "https://m.baidu.com/baidu.php?sc.JaTK00KeLEz-eZ_VB-rNjivmYm1w6-4rnJgBkf_PAOpI67j1k-Q900ew618Xt4MZKo1l1hh3uLZrxG-qL2nIQjdQJkADEZYNtMGG9tATYZC1XqijyjqfrEaS0iT1U1zx7Kvq-g2fSqtKpK_k-gjihgWIAmnEp7O8HIZiLtB        1\n",
       "https://m.sogou.com/bill_cpc?v=1&p=WJhOU0Vs11lYCzUJzvelCy1wuzUG6Fw18KutXnDtSQJjalA6A$UanGcO0o0HJnt1pJYu7VleijNU7j96JHyV7YlyxNvOA3OPYpVk$SkyvhqDJAYkJxkcvdMddEEsXIMHQEZVEfygsT1pvCNn0CiGRXaaohdXjM52ESVlr        1\n",
       "http://192.168.19.105:8007/track-manager/import-status/?project=production                                                                                                                                      1\n",
       "Name: latest_referrer, dtype: int64"
      ]
     },
     "execution_count": 30,
     "metadata": {},
     "output_type": "execute_result"
    }
   ],
   "source": [
    "raw_df.latest_referrer.value_counts(dropna = False)"
   ]
  },
  {
   "cell_type": "code",
   "execution_count": 31,
   "metadata": {
    "collapsed": false,
    "scrolled": true
   },
   "outputs": [
    {
     "data": {
      "text/plain": [
       "NaN                            22900\n",
       "www.baidu.com                  20422\n",
       "www.sogou.com                   1198\n",
       "m.baidu.com                     1062\n",
       "36kr.com                         952\n",
       "www.google.com.hk                575\n",
       "www.google.com                   564\n",
       "link.zhihu.com                   326\n",
       "www.so.com                       283\n",
       "www.google.co.jp                 203\n",
       "cn.bing.com                      162\n",
       "wap.sogou.com                    135\n",
       "m.sogou.com                      122\n",
       "www.woshipm.com                  105\n",
       "image.baidu.com                  102\n",
       "class.sanjieke.cn                 72\n",
       "47.93.117.49                      66\n",
       "googleads.g.doubleclick.net       50\n",
       "passport.36kr.com                 49\n",
       "zhidao.baidu.com                  48\n",
       "www.itjuzi.com                    48\n",
       "data.corp.36kr.com                48\n",
       "www.mulumu.com                    41\n",
       "youxuan.baidu.com                 41\n",
       "www.linear.vc                     40\n",
       "qiye.aliyun.com                   33\n",
       "blog.tingyun.com                  32\n",
       "shimo.im                          32\n",
       "so.m.sm.cn                        32\n",
       "www.google.com.ph                 31\n",
       "                               ...  \n",
       "10.170.180.240                     1\n",
       "ba-demo.tingyun.com                1\n",
       "192.168.1.254                      1\n",
       "65.111.161.235                     1\n",
       "119.254.101.215                    1\n",
       "mail.ym.163.com                    1\n",
       "192.168.19.105                     1\n",
       "sc.zhugefang.com                   1\n",
       "saweb.quickcan.com                 1\n",
       "mail.yixia.com                     1\n",
       "data.kikuu.com                     1\n",
       "mail.ishansong.com                 1\n",
       "127.0.0.1                          1\n",
       "www.huodongxing.com                1\n",
       "www.google.co.zm                   1\n",
       "100.73.0.56                        1\n",
       "59.110.44.110                      1\n",
       "lnkd.in                            1\n",
       "sensors.sta.holaverse.com          1\n",
       "www.jiuzhilan.com                  1\n",
       "120.25.99.90                       1\n",
       "114.215.45.105                     1\n",
       "sensorsdata.chunyu.me              1\n",
       "duckduckgo.com                     1\n",
       "hao.2b.cn                          1\n",
       "weibo.com                          1\n",
       "ts2.m.sm.cn                        1\n",
       "mm.263.com                         1\n",
       "www.google.com.au                  1\n",
       "ju.outofmemory.cn                  1\n",
       "Name: latest_referrer_host, dtype: int64"
      ]
     },
     "execution_count": 31,
     "metadata": {},
     "output_type": "execute_result"
    }
   ],
   "source": [
    "raw_df.latest_referrer_host.value_counts(dropna = False)"
   ]
  },
  {
   "cell_type": "code",
   "execution_count": 26,
   "metadata": {
    "collapsed": false,
    "scrolled": true
   },
   "outputs": [
    {
     "name": "stdout",
     "output_type": "stream",
     "text": [
      "profile_set_once    6485\n",
      "Name: type, dtype: int64\n"
     ]
    }
   ],
   "source": [
    "print raw_df[(raw_df.event.isnull())].type.value_counts(dropna = False)"
   ]
  },
  {
   "cell_type": "code",
   "execution_count": 27,
   "metadata": {
    "collapsed": false
   },
   "outputs": [
    {
     "data": {
      "text/plain": [
       "NaN      50514\n",
       "True       313\n",
       "False      222\n",
       "Name: isSuccess, dtype: int64"
      ]
     },
     "execution_count": 27,
     "metadata": {},
     "output_type": "execute_result"
    }
   ],
   "source": [
    "raw_df.isSuccess.value_counts(dropna = False)"
   ]
  },
  {
   "cell_type": "code",
   "execution_count": 28,
   "metadata": {
    "collapsed": false
   },
   "outputs": [
    {
     "data": {
      "text/plain": [
       "353"
      ]
     },
     "execution_count": 28,
     "metadata": {},
     "output_type": "execute_result"
    }
   ],
   "source": [
    "sum(raw_df.event == 'clickSubmit')"
   ]
  },
  {
   "cell_type": "code",
   "execution_count": 29,
   "metadata": {
    "collapsed": false
   },
   "outputs": [
    {
     "data": {
      "text/plain": [
       "372"
      ]
     },
     "execution_count": 29,
     "metadata": {},
     "output_type": "execute_result"
    }
   ],
   "source": [
    "sum(raw_df.event == 'verify_cellphone_code')"
   ]
  },
  {
   "cell_type": "code",
   "execution_count": null,
   "metadata": {
    "collapsed": true
   },
   "outputs": [],
   "source": []
  },
  {
   "cell_type": "code",
   "execution_count": 25,
   "metadata": {
    "collapsed": false,
    "scrolled": true
   },
   "outputs": [
    {
     "name": "stdout",
     "output_type": "stream",
     "text": [
      "NaN    6485\n",
      "Name: ip, dtype: int64\n",
      "NaN                6485\n",
      "113.208.116.250     904\n",
      "113.208.112.126     464\n",
      "113.208.118.30      248\n",
      "61.190.32.52        233\n",
      "119.57.170.115      214\n",
      "106.38.73.242       188\n",
      "114.245.253.225     183\n",
      "111.198.71.214      179\n",
      "219.143.17.86       165\n",
      "218.247.224.62      161\n",
      "210.13.49.224       143\n",
      "118.194.240.141     136\n",
      "14.17.22.33         135\n",
      "122.233.41.29       134\n",
      "117.79.83.55        127\n",
      "218.107.132.168     118\n",
      "183.4.42.203        113\n",
      "61.140.232.74       109\n",
      "61.50.123.134       107\n",
      "116.247.112.151     106\n",
      "122.10.232.11       104\n",
      "114.113.197.131     101\n",
      "218.241.195.18      100\n",
      "106.39.119.70        96\n",
      "101.40.153.57        96\n",
      "58.213.69.36         94\n",
      "101.230.218.11       88\n",
      "111.200.220.186      87\n",
      "123.126.111.107      86\n",
      "                   ... \n",
      "211.161.248.162       1\n",
      "112.97.57.161         1\n",
      "218.26.55.175         1\n",
      "203.100.83.85         1\n",
      "110.53.133.117        1\n",
      "223.104.12.75         1\n",
      "113.71.14.26          1\n",
      "27.129.37.70          1\n",
      "125.70.11.136         1\n",
      "163.179.63.11         1\n",
      "116.22.32.190         1\n",
      "111.196.140.139       1\n",
      "61.155.4.70           1\n",
      "39.168.162.123        1\n",
      "14.24.28.197          1\n",
      "111.198.71.50         1\n",
      "113.128.130.199       1\n",
      "123.118.94.143        1\n",
      "101.86.190.244        1\n",
      "218.17.250.112        1\n",
      "223.104.130.26        1\n",
      "223.104.101.28        1\n",
      "60.180.63.69          1\n",
      "112.16.185.252        1\n",
      "220.181.108.145       1\n",
      "112.96.124.145        1\n",
      "220.112.14.250        1\n",
      "112.97.62.177         1\n",
      "61.148.243.72         1\n",
      "125.71.134.249        1\n",
      "Name: ip, dtype: int64\n"
     ]
    }
   ],
   "source": [
    "print raw_df[(raw_df.event.isnull())].ip.value_counts(dropna = False)\n",
    "print raw_df.ip.value_counts(dropna = False)"
   ]
  },
  {
   "cell_type": "code",
   "execution_count": 13,
   "metadata": {
    "collapsed": false
   },
   "outputs": [
    {
     "name": "stdout",
     "output_type": "stream",
     "text": [
      "False    38112\n",
      "NaN       6485\n",
      "True      6452\n",
      "Name: is_first_time, dtype: int64\n"
     ]
    }
   ],
   "source": [
    "print raw_df.is_first_time.value_counts(dropna = False)"
   ]
  },
  {
   "cell_type": "code",
   "execution_count": 14,
   "metadata": {
    "collapsed": false
   },
   "outputs": [
    {
     "name": "stdout",
     "output_type": "stream",
     "text": [
      "True     30027\n",
      "False    14537\n",
      "NaN       6485\n",
      "Name: is_first_day, dtype: int64\n"
     ]
    }
   ],
   "source": [
    "print raw_df.is_first_day.value_counts(dropna = False)"
   ]
  },
  {
   "cell_type": "code",
   "execution_count": 15,
   "metadata": {
    "collapsed": false
   },
   "outputs": [
    {
     "name": "stdout",
     "output_type": "stream",
     "text": [
      "NaN    6485\n",
      "Name: is_first_time, dtype: int64\n"
     ]
    }
   ],
   "source": [
    "print raw_df[(raw_df.event.isnull())].is_first_time.value_counts(dropna = False)"
   ]
  },
  {
   "cell_type": "code",
   "execution_count": 16,
   "metadata": {
    "collapsed": false
   },
   "outputs": [
    {
     "name": "stdout",
     "output_type": "stream",
     "text": [
      "NaN    6485\n",
      "Name: is_first_day, dtype: int64\n"
     ]
    }
   ],
   "source": [
    "print raw_df[(raw_df.event.isnull())].is_first_day.value_counts(dropna = False)"
   ]
  },
  {
   "cell_type": "code",
   "execution_count": 9,
   "metadata": {
    "collapsed": false,
    "scrolled": true
   },
   "outputs": [
    {
     "name": "stdout",
     "output_type": "stream",
     "text": [
      "6485\n",
      "NaN                        44564\n",
      "2017-03-10 21:34:38.503        7\n",
      "2017-03-08 22:02:50.262        2\n",
      "2017-03-09 07:07:40.893        1\n",
      "2017-03-08 10:01:53.629        1\n",
      "2017-03-06 20:53:34.534        1\n",
      "2017-03-10 18:42:19.610        1\n",
      "2017-03-12 19:16:09.288        1\n",
      "2017-03-12 01:05:00.110        1\n",
      "2017-03-12 10:56:33.42         1\n",
      "2017-03-08 22:59:06.811        1\n",
      "2017-03-10 11:42:05.326        1\n",
      "2017-03-07 14:47:53.795        1\n",
      "2017-03-09 15:51:23.362        1\n",
      "2017-03-09 18:25:34.362        1\n",
      "2017-03-12 11:16:04.927        1\n",
      "2017-03-07 13:37:41.351        1\n",
      "2017-03-11 17:01:55.609        1\n",
      "2017-03-09 21:42:16.900        1\n",
      "2017-03-07 10:20:16.449        1\n",
      "2017-03-10 22:50:57.838        1\n",
      "2017-03-08 15:49:06.272        1\n",
      "2017-03-08 14:09:22.285        1\n",
      "2017-03-09 03:13:00.138        1\n",
      "2017-03-08 23:47:26.405        1\n",
      "2017-03-10 23:18:09.612        1\n",
      "2017-03-12 14:29:17.267        1\n",
      "2017-03-11 20:28:44.989        1\n",
      "2017-03-08 13:53:49.712        1\n",
      "2017-03-09 16:30:53.328        1\n",
      "                           ...  \n",
      "2017-03-09 14:08:42.860        1\n",
      "2017-03-11 15:47:30.259        1\n",
      "2017-03-07 11:13:31.680        1\n",
      "2017-03-07 13:23:08.831        1\n",
      "2017-03-09 11:26:10.777        1\n",
      "2017-03-09 09:32:45.662        1\n",
      "2017-03-06 22:35:35.774        1\n",
      "2017-03-07 14:01:15.719        1\n",
      "2017-03-10 17:59:56.186        1\n",
      "2017-03-10 18:16:41.277        1\n",
      "2017-03-08 22:16:30.297        1\n",
      "2017-03-06 21:53:08.930        1\n",
      "2017-03-09 21:14:39.735        1\n",
      "2017-03-12 01:46:46.194        1\n",
      "2017-03-08 06:50:18.603        1\n",
      "2017-03-08 08:42:07.169        1\n",
      "2017-03-12 07:36:42.514        1\n",
      "2017-03-08 17:17:51.845        1\n",
      "2017-03-12 08:52:20.656        1\n",
      "2017-03-08 16:12:38.337        1\n",
      "2017-03-11 13:39:28.687        1\n",
      "2017-03-09 14:30:50.940        1\n",
      "2017-03-08 02:20:51.722        1\n",
      "2017-03-09 14:36:10.575        1\n",
      "2017-03-09 11:19:22.91         1\n",
      "2017-03-10 15:17:32.192        1\n",
      "2017-03-10 13:39:24.419        1\n",
      "2017-03-11 08:08:25.72         1\n",
      "2017-03-08 15:06:03.73         1\n",
      "2017-03-09 16:46:42.905        1\n",
      "Name: first_visit_time, dtype: int64\n"
     ]
    }
   ],
   "source": [
    "print raw_df.first_visit_time.value_counts().sum()\n",
    "print raw_df.first_visit_time.value_counts(dropna = False)"
   ]
  },
  {
   "cell_type": "code",
   "execution_count": 17,
   "metadata": {
    "collapsed": false,
    "scrolled": true
   },
   "outputs": [
    {
     "name": "stdout",
     "output_type": "stream",
     "text": [
      "NaN    44564\n",
      "Name: first_visit_time, dtype: int64\n",
      "6485\n"
     ]
    }
   ],
   "source": [
    "print raw_df[(raw_df.event.notnull())].first_visit_time.value_counts(dropna = False)\n",
    "print raw_df[(raw_df.event.isnull())].first_visit_time.value_counts(dropna = False).sum()"
   ]
  },
  {
   "cell_type": "code",
   "execution_count": 23,
   "metadata": {
    "collapsed": false
   },
   "outputs": [
    {
     "name": "stdout",
     "output_type": "stream",
     "text": [
      "NaN    6452\n",
      "Name: first_visit_time, dtype: int64\n",
      "NaN    38112\n",
      "Name: first_visit_time, dtype: int64\n",
      "6485\n"
     ]
    }
   ],
   "source": [
    "print raw_df[(raw_df.is_first_time == True)].first_visit_time.value_counts(dropna = False)\n",
    "print raw_df[(raw_df.is_first_time == False)].first_visit_time.value_counts(dropna = False)\n",
    "print raw_df[(raw_df.is_first_time.isnull())].first_visit_time.value_counts(dropna = False).sum()"
   ]
  },
  {
   "cell_type": "code",
   "execution_count": 13,
   "metadata": {
    "collapsed": false,
    "scrolled": true
   },
   "outputs": [
    {
     "data": {
      "text/plain": [
       "6.176569e+12    7\n",
       "7.104818e+12    7\n",
       "3.428791e+12    6\n",
       "4.158870e+12    5\n",
       "4.481975e+12    2\n",
       "9.493710e+11    2\n",
       "5.839059e+12    2\n",
       "7.255642e+12    2\n",
       "1.516348e+12    1\n",
       "1.984105e+12    1\n",
       "3.616653e+12    1\n",
       "5.898408e+12    1\n",
       "9.673151e+11    1\n",
       "7.967811e+12    1\n",
       "6.609857e+12    1\n",
       "9.621169e+12    1\n",
       "4.328174e+12    1\n",
       "6.097234e+12    1\n",
       "9.895514e+12    1\n",
       "4.715926e+12    1\n",
       "7.996873e+12    1\n",
       "6.641190e+12    1\n",
       "1.723231e+12    1\n",
       "9.852908e+12    1\n",
       "2.451214e+12    1\n",
       "9.876092e+12    1\n",
       "6.302106e+12    1\n",
       "2.914453e+12    1\n",
       "8.233096e+12    1\n",
       "7.211977e+12    1\n",
       "               ..\n",
       "6.869711e+11    1\n",
       "8.126525e+12    1\n",
       "7.158449e+12    1\n",
       "3.861626e+12    1\n",
       "4.976023e+12    1\n",
       "5.342767e+12    1\n",
       "5.836956e+12    1\n",
       "6.891880e+12    1\n",
       "6.597910e+12    1\n",
       "2.566168e+12    1\n",
       "5.752226e+12    1\n",
       "2.625314e+12    1\n",
       "5.296609e+12    1\n",
       "3.947739e+12    1\n",
       "8.971471e+12    1\n",
       "4.050652e+12    1\n",
       "5.907894e+12    1\n",
       "6.872764e+12    1\n",
       "9.183200e+12    1\n",
       "7.007037e+11    1\n",
       "4.197118e+12    1\n",
       "1.586628e+12    1\n",
       "2.474348e+11    1\n",
       "5.729343e+12    1\n",
       "7.015927e+12    1\n",
       "1.142136e+12    1\n",
       "2.162238e+12    1\n",
       "3.534344e+12    1\n",
       "7.413919e+12    1\n",
       "5.154192e+12    1\n",
       "Name: nocache, dtype: int64"
      ]
     },
     "execution_count": 13,
     "metadata": {},
     "output_type": "execute_result"
    }
   ],
   "source": [
    "raw_df.nocache.value_counts(dropna = False)"
   ]
  },
  {
   "cell_type": "code",
   "execution_count": 9,
   "metadata": {
    "collapsed": false
   },
   "outputs": [
    {
     "data": {
      "text/plain": [
       "NaN                51016\n",
       "cookieNotEnable       33\n",
       "Name: jssdk_error, dtype: int64"
      ]
     },
     "execution_count": 9,
     "metadata": {},
     "output_type": "execute_result"
    }
   ],
   "source": [
    "raw_df.jssdk_error.value_counts(dropna = False)"
   ]
  },
  {
   "cell_type": "code",
   "execution_count": 10,
   "metadata": {
    "collapsed": false,
    "scrolled": true
   },
   "outputs": [
    {
     "data": {
      "text/plain": [
       "NaN      44760\n",
       "zh-CN     4893\n",
       "zh-cn      874\n",
       "en-US      406\n",
       "en-us       50\n",
       "en-GB       15\n",
       "C           14\n",
       "ru           8\n",
       "zh-TW        7\n",
       "zh-tw        7\n",
       "ja-jp        3\n",
       "ru-RU        2\n",
       "ja           2\n",
       "en-sg        1\n",
       "de-de        1\n",
       "ja-JP        1\n",
       "zh-HK        1\n",
       "zh           1\n",
       "hy-AM        1\n",
       "ko           1\n",
       "fr           1\n",
       "Name: first_browser_language, dtype: int64"
      ]
     },
     "execution_count": 10,
     "metadata": {},
     "output_type": "execute_result"
    }
   ],
   "source": [
    "raw_df.first_browser_language.value_counts(dropna = False)"
   ]
  },
  {
   "cell_type": "code",
   "execution_count": 11,
   "metadata": {
    "collapsed": false
   },
   "outputs": [
    {
     "data": {
      "text/plain": [
       "NaN                                                                                                                                                                                                         46321\n",
       "https://www.baidu.com/baidu.php                                                                                                                                                                              2431\n",
       "https://www.baidu.com/link                                                                                                                                                                                    254\n",
       "https://www.baidu.com/s                                                                                                                                                                                       198\n",
       "https://www.google.com.hk/                                                                                                                                                                                     51\n",
       "http://36kr.com/                                                                                                                                                                                               46\n",
       "https://www.google.com/                                                                                                                                                                                        42\n",
       "https://www.baidu.com/                                                                                                                                                                                         25\n",
       "https://m.baidu.com/?from=2001a                                                                                                                                                                                25\n",
       "https://m.baidu.com/?from=844b&vit=fps                                                                                                                                                                         24\n",
       "https://link.zhihu.com/?target=https%3A//sensorsdata.cn/manual/data_model.html                                                                                                                                 22\n",
       "https://www.sensorsdata.cn/                                                                                                                                                                                    19\n",
       "https://www.google.co.jp/                                                                                                                                                                                      14\n",
       "https://link.zhihu.com/?target=https%3A//sensorsdata.cn/                                                                                                                                                       13\n",
       "https://m.baidu.com/?from=1000953f                                                                                                                                                                             12\n",
       "http://www.woshipm.com/pmd/314444.html                                                                                                                                                                         10\n",
       "http://36kr.com/p/5066252.html                                                                                                                                                                                 10\n",
       "http://c.tieba.baidu.com/                                                                                                                                                                                      10\n",
       "https://wapbaike.baidu.com/item/%e7%a5%9e%e7%ad%96%e6%95%b0%e6%8d%ae/19526615?adapt=1&fr=aladdin                                                                                                                8\n",
       "http://www.sensorsdata.cn/                                                                                                                                                                                      7\n",
       "https://m.baidu.com/baidu.php?sc.kzTK00KViRCvFKCtUQkbKRLC1-AIVmOzoH20ROFEVfHlzYqHfaWsPmcVw_TJsTLxJSmZX4F2anpMZNqdoTBAlc4kG5hSpF4hw3h3f8wYPa-b96QekvPoXXIky0d1WU3xzFjQo2PeK3kfKAMV967QTTIgDFzIrdzW1_8J08g        7\n",
       "http://www.woshipm.com/operate/409320.html                                                                                                                                                                      7\n",
       "https://link.zhihu.com/?target=https%3A//www.sensorsdata.cn                                                                                                                                                     7\n",
       "http://36kr.com/p/532174.html                                                                                                                                                                                   7\n",
       "http://36kr.com/newsflashes                                                                                                                                                                                     6\n",
       "https://link.zhihu.com/?target=https%3A//sensorsdata.cn/manual/user_access_path_ana.html                                                                                                                        5\n",
       "https://m.baidu.com/?from=1000953b                                                                                                                                                                              5\n",
       "http://link.zhihu.com/?target=http%3A//www.sensorsdata.cn/%3Fch%3Dzhihu                                                                                                                                         5\n",
       "http://image.baidu.com/search/index?tn=baiduimage&ps=1&ct=201326592&lm=-1&cl=2&nc=1&ie=utf-8&word=%E7%94%A8%E6%88%B7%E7%94%BB%E5%83%8F                                                                          5\n",
       "https://www.google.com.tw/                                                                                                                                                                                      5\n",
       "                                                                                                                                                                                                            ...  \n",
       "http://www.baidu.com/baidu.php?sc.kiTK000q8D4AsW_uSaRFY93K6UFouNaWnVlaF1SiDp594j2xe26tQ6f4QfuL3gvlhYy75tsQDxrZiE7t7xJcDIQgahwqMoWkyLV9UBcINmAp2M2MXLOdDaPlziS-qbu_GMySTnXDwDrqOg2Q0gPTdQUBHWEBPKHwyfL4ke        1\n",
       "http://sensors.ymt360.com/dashboard/?project=default                                                                                                                                                            1\n",
       "https://m.baidu.com/baidu.php?sc.MzTK00KuIBSXTkTF-DTdmoSTVf2IlfQzk92roTcaSJpoHncWZ5ju6-hrHnuNb6af3_HduIhkiwjuloBD0HXp6iD7N4BDY1BfglT8rhD8j7hZKIfuIMtQraMV_Kne1_Nf3DDQDEzqhg7toTgr2ClesynQUqQWI9JXP8aiUvj        1\n",
       "http://wap.sogou.com/waprdt?query=%CA%FD%BE%DD%B7%D6%CE%F6&clickid=88f5cec42968c8ca8878ae4d1f0ffa37                                                                                                             1\n",
       "https://m.baidu.com/baidu.php?sc.5iTK00KLHPINx0K4TP46Oi1TtUxg_LpZknDycE_d03Z-Ft-tno4cBcgTsSzTM7WmzSwZTuo-Xar7PoxoQkCzkiYqltZPHGAgV7weMcNiT5fvjVrfyOD9ehIX5xh0SgNGANqzibftPflX__PoL2fjqAueuXPJTqoDMAdqnLx        1\n",
       "http://www.google.co.zm/                                                                                                                                                                                        1\n",
       "http://36kr.com/p/5040778.html                                                                                                                                                                                  1\n",
       "http://www.sogou.com/bill_cpc?v=1&p=WJ80$xBfZtFeeUDkqLJ$hfyarloHAey1nPoQ2RlzF2fEYZWTeKKQX1NB4KbDbWb1m2n15vIkEdLE4ekFVXzNgGMq7YzIZa33iWjgatMzpVuaDd58vE7YJ82OOJyUVVsIfiWgOM7qIMYqietqIhvQJnoOiMurprmqOmFp        1\n",
       "https://m.baidu.com/baidu.php?sc.5iTK00KLHPINx0K4TDzCI4Om-f3mA638KkCdkBCuTnau9Z3qTsXBK0pnFGiup4FoKrzh-iT1jPyAL-DozSV_7BbXdNE7a2Lyl5lswmq_AqVPOEjxzgJ-MiaXREuSspQaJdI2mRURyZXz-9sYvNhadOHteISArvOY0IxTPNt        1\n",
       "http://www.sogou.com/tx?query=%E9%98%BF%E9%87%8C%E6%95%B0%E6%8D%AE%E5%88%86%E6%9E%90&ie=utf8&_ast=1489124992&_asf=null&w=01025001&hdq=sogou-site-706608cfdbcc1886-0001&duppid=1&cid=qb7.zhuye&cid=qb7.zh        1\n",
       "http://www.sogou.com/bill_cpc?v=1&p=WJhHUbMa919UBIatgF3i9iO3H6oFjpwmb@KLeMe3Z9$7qaj8nQNXJD6AmisaFjfX2Hf5ZPDkc0DkQwAqYPUaVKVlUVj7rjf2KDVqX7Lxn@VhCC6ild@EsstWTTsROnMyiDghZWgFc78u8I5svEQNBEgpsb7K2P4DKr0E        1\n",
       "https://m.baidu.com/baidu.php?url=pzTK0004CCOJHX5oscKZksDq9uZrK3Obrhc_XXoRQMIIFIwcnVttfHG1ivaG9CwNk8kAHybJfF1ZncOXHbYxlgpToFkO3ydJTAs45fK4h13vnGMUgKYvCjIZCrj3i2jXv3BmFYdT7FALfcs9czLaAP2qKHn55f3gpLFGZN        1\n",
       "http://cpro.baidu.com/cpro/ui/uijs.php?en=mywWUA71T1YsFh7sT7qGujYsFhPh5Hnhmv6qnaubpHYkFh-1gv7sTjYsFhGo5HmknycvP19hujPBnj6dujDhp1Y-fbR-wDc-f10-wH0-fYc-wHn-fWT-fH6hp10qFRF7FRwaFRnsFRRsFRPaFRR1FRcLFRD3Fh        1\n",
       "https://m.baidu.com/baidu.php?sc.JaTK000f_Pak3IFPgSjfS_kgKB_yuO0Z3tBcrV5iIk3UNhswg8D79XU5g73xwhRCm2QQGWMeV2dI7H5m_dgmySzdRyOCeKu6lw-LywpzLzWHEPZUO9VVYlMJid_okrzRITk2dwp28BiCRmMw7Ky_JWdcSbwnzmFy3bFOY4w        1\n",
       "http://wenku.baidu.com/search?word=%E5%9C%A8%E7%94%B5%E5%AD%90%E5%95%86%E5%8A%A1%E7%9A%84%E5%BD%B1%E5%93%8D%E4%B8%8B%E4%B8%AA%E4%BD%93%E5%95%86%E6%88%B7%E8%BD%AC%E5%90%91%E8%81%94%E7%9B%9F%E7%9A%84%E6        1\n",
       "http://www.sogou.com/bill_cpc?v=1&p=WJhHUFC7989UOAdI6EkHyIf$uEJ9APxIE5m@yipY9x7k2IbAM4hi9E$KXAd2kzUUVI0Ypw7YQxVFV7vs6llJeGFUaxUbRj8lqwX81byb9Eb1sWdEEMOE8Ta8JXItz8fDNJ3sTsrfc523MDf0NXNTMMULZ57sgXCrn22T        1\n",
       "https://so.m.sm.cn/s?q=%E7%A5%9E%E7%AD%96&uc_param_str=dnntnwvepffrgibijbprsvdsei&from=ucframe&dn=7480985262-1f796e65&nt=2&nw=WIFI&ve=11.4.9.940&pf=44&fr=iphone&gi=bTkwBeUQXO3CFoCL%2Fq9cJsGLhTBWk8%2Bk        1\n",
       "https://m.baidu.com/from=844b/bd_page_type=1/ssid=0/uid=0/pu=usm%401%2Csz%401320_2003%2Cta%40iphone_1_10.2_1_11.4/baiduid=F65B0C1174A9D2A26A3A44B182671710/w=0_10_/t=iphone/l=1/tc?ref=www_iphone&lid=12        1\n",
       "https://m.baidu.com/from=1000539d/bd_page_type=1/ssid=0/uid=0/pu=usm%401%2Csz%401320_2001%2Cta%40iphone_1_10.2_3_602/baiduid=CE50505DD2ACC6CEF61EA499A6D1158F/w=0_10_/t=iphone/l=3/tc?ref=www_iphone&lid        1\n",
       "https://m.baidu.com/baidu.php?sc.Dz6K00jryFP_QGxCoNRfL-r6RkV-ZTHyQ1_1_AFkzOMTPFfzYB3Ka-QQf5JPFuL91cuf6p6jb02cj-V-7OR3Tj7tn64q_umu_qpw-jnnLBDt4UBd06xEBIRDxjWE636mOugm6bi5QBhY4RyJ2I6ZQgwEcN0Yw10rYn8O7tB        1\n",
       "http://image.baidu.com/search/index?tn=baiduimage&ps=1&ct=201326592&lm=-1&cl=2&nc=1&ie=utf-8&word=%E7%94%A8%E6%88%B7%E7%BB%86%E5%88%86                                                                          1\n",
       "http://36kr.com/?utm_source=xinlangyun?t=file                                                                                                                                                                   1\n",
       "https://m.baidu.com/baidu.php?sc.MzTK00jtBQNYHAHuZAj7fnNmMkDHIRKr39uY1wj4PwjXixECAJLnCy0fMcIn0HXfinMZDA2bsZNLOJ5etkeMPXpOV8QrqtpV6kLwdiks-xMakJ9fpx_hfZnk-PDQaNiMnmFbC1zf06TOSsSOkXkHC90NP-PnJDOw19fZ1xy        1\n",
       "https://m.baidu.com/baidu.php?sc.GzTK00aU0bpOLcHPgDCWtV2IYYZagquLAVJkTWGZkfE5qIP5WK0uNuIUkhy3eedAI9Y8hfAQ3scvMch2LdI75V77bjN1miex49IceUDq2AnvLKqadV4ShhYriYZE-wGdGfPbXsVBIS542yMtn2EoVkFWZYWnous6Xc0vD5P        1\n",
       "https://m.sogou.com/bill_cpc?v=1&p=WJhOUrds11lUiPhg2jzkfAB6OAfSw6pz7eTbN1QSuxlbvwkVwYV857tQM9N8Fk21jUqNupxPkwU@kwpHRVUgY9pjRvzhqpZweVSC$YvKpc2YQajOiMdETTsKdZYsbmxBbK4kpC$fNXrrfdGbhZMuvMTX1eNFS4bLXrhm1        1\n",
       "http://image.baidu.com/search/index?tn=baiduimage&ipn=r&ct=201326592&cl=2&lm=-1&st=-1&fm=result&fr=&sf=1&fmq=1489158856475_R&pv=&ic=0&nc=1&z=&se=1&showtab=0&fb=0&width=&height=&face=0&istype=2&ie=utf-        1\n",
       "http://m.sogou.com/web/searchList.jsp?keyword=%E5%A4%A7%E6%95%B0%E6%8D%AE                                                                                                                                       1\n",
       "https://m.baidu.com/baidu.php?sc.5iTK00jnG3r1ruAFlHfWKA2iTd71uX_y-ucgA2AkTmOjrkMcU6g0_rUvnpCZ35FIpFVTCsjEUgyHJ2f7QhCHdwWafn0_RNhVctBReZsXiZubt7tV-oYdVaWdqny6KfDYlHdn4xFaNjZygCEHjurUkBMJ67D0_vLLUPzGur8        1\n",
       "http://www.baidu.com/baidu.php?sc.7aTK00aLHs-7Tb00ndLv1SRRYPaOWb648zaVr_qlo-y7XeGxw1u0CVJB32Ja0bmFOPl6MYYby-0_QPutbu_gGPicmXKSivfW6HT2BDOW3deurehmMAGwzFCRYpYtdqsrvsUb3QHb_Dlqk_YI6MdXMz0Pub_TzvKggJ-N6i        1\n",
       "https://tieba.baidu.com/p/4504843172                                                                                                                                                                            1\n",
       "Name: first_referrer, dtype: int64"
      ]
     },
     "execution_count": 11,
     "metadata": {},
     "output_type": "execute_result"
    }
   ],
   "source": [
    "raw_df.first_referrer.value_counts(dropna = False)"
   ]
  },
  {
   "cell_type": "code",
   "execution_count": 12,
   "metadata": {
    "collapsed": false,
    "scrolled": true
   },
   "outputs": [
    {
     "data": {
      "text/plain": [
       "NaN                              46321\n",
       "www.baidu.com                     3059\n",
       "m.baidu.com                        471\n",
       "www.sogou.com                      212\n",
       "36kr.com                           153\n",
       "wap.sogou.com                       93\n",
       "m.sogou.com                         78\n",
       "link.zhihu.com                      68\n",
       "www.google.com.hk                   58\n",
       "www.google.com                      49\n",
       "www.sensorsdata.cn                  48\n",
       "image.baidu.com                     36\n",
       "googleads.g.doubleclick.net         34\n",
       "www.so.com                          28\n",
       "www.woshipm.com                     20\n",
       "zhidao.baidu.com                    15\n",
       "www.google.co.jp                    14\n",
       "yandex.ru                           11\n",
       "c.tieba.baidu.com                   10\n",
       "youxuan.baidu.com                   10\n",
       "wenku.baidu.com                     10\n",
       "cn.bing.com                          9\n",
       "class.sanjieke.cn                    9\n",
       "wapbaike.baidu.com                   8\n",
       "cpro.baidu.com                       7\n",
       "so.m.sm.cn                           7\n",
       "passport.36kr.com                    6\n",
       "www.sanjieke.cn                      6\n",
       "www.digitaling.com                   5\n",
       "wisd.sogou.com                       5\n",
       "                                 ...  \n",
       "sc.ppmoney.com                       1\n",
       "168.63.205.22                        1\n",
       "saasdemo.cloud.sensorsdata.cn        1\n",
       "192.168.1.254                        1\n",
       "sd.int.jumei.com                     1\n",
       "stat-sc.formaxoa.com                 1\n",
       "192.168.229.26                       1\n",
       "sensors.jiedaibao.com                1\n",
       "sensorsdata.vipkid.com.cn            1\n",
       "chuang.36kr.com                      1\n",
       "sc.zhugefang.com                     1\n",
       "120.25.99.90                         1\n",
       "127.0.0.1                            1\n",
       "confluence.bbtree.com                1\n",
       "huaban.com                           1\n",
       "hao.2b.cn                            1\n",
       "106.185.42.123                       1\n",
       "duckduckgo.com                       1\n",
       "data.jyw.xy.com                      1\n",
       "www.199it.com                        1\n",
       "datadang.com                         1\n",
       "data.kikuu.com                       1\n",
       "view.yiqioffice.com                  1\n",
       "saweb.quickcan.com                   1\n",
       "www.3lian.com                        1\n",
       "ysdss.tking.cn                       1\n",
       "ipv6.google.com.hk                   1\n",
       "qimingpian.com                       1\n",
       "rong.36kr.com                        1\n",
       "www.appganhuo.com                    1\n",
       "Name: first_referrer_host, dtype: int64"
      ]
     },
     "execution_count": 12,
     "metadata": {},
     "output_type": "execute_result"
    }
   ],
   "source": [
    "raw_df.first_referrer_host.value_counts(dropna = False)"
   ]
  },
  {
   "cell_type": "code",
   "execution_count": 8,
   "metadata": {
    "collapsed": false,
    "scrolled": true
   },
   "outputs": [
    {
     "data": {
      "text/plain": [
       "NaN                                       33643\n",
       "www.sensorsdata.cn                         8474\n",
       "www.baidu.com                              4310\n",
       "sensorsdata.cn                             1922\n",
       "m.baidu.com                                 585\n",
       "www.sogou.com                               244\n",
       "36kr.com                                    166\n",
       "localhost                                   151\n",
       "www.google.com                              120\n",
       "wap.sogou.com                               106\n",
       "www.google.com.hk                           104\n",
       "link.zhihu.com                               96\n",
       "m.sogou.com                                  94\n",
       "image.baidu.com                              54\n",
       "www.so.com                                   39\n",
       "googleads.g.doubleclick.net                  35\n",
       "www.google.co.jp                             34\n",
       "ebizdemo.cloud.sensorsdata.cn                27\n",
       "47.93.117.49                                 27\n",
       "www.woshipm.com                              26\n",
       "zhengbangchuangyi.cloud.sensorsdata.cn       20\n",
       "cn.bing.com                                  20\n",
       "zhidao.baidu.com                             19\n",
       "116.62.89.9                                  16\n",
       "wapbaike.baidu.com                           15\n",
       "youxuan.baidu.com                            14\n",
       "sensors.ishansong.com                        14\n",
       "data.jyw.xy.com                              12\n",
       "data.corp.36kr.com                           12\n",
       "so.m.sm.cn                                   11\n",
       "                                          ...  \n",
       "developer.51cto.com                           1\n",
       "geek.csdn.net                                 1\n",
       "gamedemo.cloud.sensorsdata.cn                 1\n",
       "127.0.0.1                                     1\n",
       "wiki.corp.apus.com                            1\n",
       "www.huodongxing.com                           1\n",
       "192.168.3.130                                 1\n",
       "uxren.cn                                      1\n",
       "huaban.com                                    1\n",
       "hao.2b.cn                                     1\n",
       "106.185.42.123                                1\n",
       "duckduckgo.com                                1\n",
       "www.douban.com                                1\n",
       "unionpay.cloud.sensorsdata.cn                 1\n",
       "sensorsdata.chunyu.me                         1\n",
       "datadang.com                                  1\n",
       "www.3lian.com                                 1\n",
       "ipv6.google.com.hk                            1\n",
       "114.215.45.105                                1\n",
       "rong.36kr.com                                 1\n",
       "120.25.99.90                                  1\n",
       "www.google.fr                                 1\n",
       "github.com                                    1\n",
       "65.111.161.235                                1\n",
       "sc.ppmoney.com                                1\n",
       "hao.199it.com                                 1\n",
       "sensors.sta.holaverse.com                     1\n",
       "100.73.0.56                                   1\n",
       "www.appganhuo.com                             1\n",
       "ju.outofmemory.cn                             1\n",
       "Name: referrer_host, dtype: int64"
      ]
     },
     "execution_count": 8,
     "metadata": {},
     "output_type": "execute_result"
    }
   ],
   "source": [
    "raw_df.referrer_host.value_counts(dropna = False)"
   ]
  },
  {
   "cell_type": "code",
   "execution_count": 9,
   "metadata": {
    "collapsed": false,
    "scrolled": true
   },
   "outputs": [
    {
     "data": {
      "text/plain": [
       "NaN                                                                                                                                                                                                         33643\n",
       "https://www.baidu.com/baidu.php                                                                                                                                                                              3217\n",
       "https://www.sensorsdata.cn/                                                                                                                                                                                  1773\n",
       "https://www.sensorsdata.cn/demo.html                                                                                                                                                                         1236\n",
       "https://www.sensorsdata.cn/product.html                                                                                                                                                                      1024\n",
       "https://www.sensorsdata.cn/courses/                                                                                                                                                                           647\n",
       "https://www.baidu.com/link                                                                                                                                                                                    582\n",
       "https://sensorsdata.cn/                                                                                                                                                                                       539\n",
       "https://www.sensorsdata.cn/index.html                                                                                                                                                                         438\n",
       "https://www.sensorsdata.cn/about.html                                                                                                                                                                         409\n",
       "https://www.sensorsdata.cn/?utm_source=baidu&utm_medium=cpc&utm_term=%E7%A5%9E%E7%AD%96&utm_content=%E5%93%81%E7%89%8C%2D%E7%A5%9E%E7%AD%96&utm_campaign=%E5%93%81%E7%89%8C%E8%AF%8D                          394\n",
       "https://sensorsdata.cn/demo.html                                                                                                                                                                              322\n",
       "https://www.sensorsdata.cn/b-round.html                                                                                                                                                                       322\n",
       "https://www.baidu.com/s                                                                                                                                                                                       275\n",
       "https://www.sensorsdata.cn/?utm_source=baidu&utm_medium=cpc&utm_term=%E7%94%A8%E6%88%B7%E7%94%BB%E5%83%8F&utm_content=%E9%80%9A%E7%94%A8%2D%E7%94%A8%E6%88%B7%E7%94%BB%E5%83%8F&utm_campaign=%E9%80%9A%E      262\n",
       "https://sensorsdata.cn/?ch=demo                                                                                                                                                                               211\n",
       "https://sensorsdata.cn/product.html                                                                                                                                                                           188\n",
       "https://sensorsdata.cn/courses/                                                                                                                                                                               176\n",
       "https://www.sensorsdata.cn/?utm_source=baidu&utm_medium=cpc&utm_term=%E7%A5%9E%E7%AD%96%E6%95%B0%E6%8D%AE&utm_content=%E5%93%81%E7%89%8C%2D%E7%A5%9E%E7%AD%96&utm_campaign=%E5%93%81%E7%89%8C%E8%AF%8D        154\n",
       "https://sensorsdata.cn/index.html                                                                                                                                                                             117\n",
       "https://sensorsdata.cn/b-round.html                                                                                                                                                                           117\n",
       "https://sensorsdata.cn/about.html                                                                                                                                                                             103\n",
       "http://localhost:8080/index.html                                                                                                                                                                              101\n",
       "https://www.google.com/                                                                                                                                                                                        99\n",
       "https://www.google.com.hk/                                                                                                                                                                                     97\n",
       "https://www.sensorsdata.cn/courses/index.html                                                                                                                                                                  67\n",
       "https://www.sensorsdata.cn/courses/play.html?v=first                                                                                                                                                           57\n",
       "http://36kr.com/                                                                                                                                                                                               57\n",
       "https://www.sensorsdata.cn/manual/                                                                                                                                                                             54\n",
       "https://www.sensorsdata.cn/manual/use_feature_video.html                                                                                                                                                       50\n",
       "                                                                                                                                                                                                            ...  \n",
       "https://m.baidu.com/baidu.php?sc.7aTK00KecuMzVIo4s6aVifrUDp86ba4UjSH1hvLfXndBvtS7aqQ4N4CG5KgV93uwF26NP0CHTJO6cvdzNDKWE_C0o7pGyT_j8GWmvryzxl4dIh4s88poyTP5r-q4pNkTIUR5ZCEv--KWWjCDUI8zBZCf0Vzzy5nH6VrUXH3        1\n",
       "http://m.sogou.com/web/searchList.jsp?pid=sogou-mobb-d2dc6368837861b4-0007&keyword=%E6%95%B0%E6%8D%AE%E6%8C%96%E6%8E%98%E8%BD%AF%E4%BB%B6%E6%9C%89%E5%93%AA%E4%BA%9B                                            1\n",
       "https://m.sogou.com/bill_cpc?v=1&p=WJhOU0Vs11lYCzUJzvelCy1wuzUG6Fw18KutXnDtSQJjalA6A$UanGcO0o0HJnt1pJYu7VleijNU7j96JHyV7YlyxNvOA3OPYpVk$SkyvhqDJAYkJxkcvdMddEEsXIMHQEZVEfygsT1pvCNn0CiGRXaaohdXjM52ESVlr        1\n",
       "https://m.baidu.com/baidu.php?sc.JaTK00KeLEz-eZ_VB-rNjivmYm1w6-4rnJgBkf_PAOpI67j1k-Q900ew618Xt4MZKo1l1hh3uLZrxG-qL2nIQjdQJkADEZYNtMGG9tATYZC1XqijyjqfrEaS0iT1U1zx7Kvq-g2fSqtKpK_k-gjihgWIAmnEp7O8HIZiLtB        1\n",
       "https://wap.sogou.com/bill_cpc?v=1&p=WJhHUFmw919YBsBhJP6Kh2ktzTGQkSvghDZMB8t9rGSpVlcbpdTNEjzaEjnB8tUdpeGHC9$7aly5z1p7rP4eZSU3QOoO0bCkIqAtm4@mQq6ilddDT@K@D@1RUEO2XAdUTXC4IfDm0WDdXOzgei28dKHT27Ww@XfhMza        1\n",
       "http://www.baidu.com/baidu.php?sc.XzTK00KRPXwXk23mD9Cd6-25lE48RGFzN2Rpbj6N8x24EOs5-zU8FRsekkW6tBQV1l5Z4-AmcR7-F_anefYcL7rUfaYAuFe-LMZLsP9bgvpoGe--LQWrLDSnVHmj0jHRJlzFJFaC2tZo5-80Ym_MQ9TS78ZJxbIFlPAI6c        1\n",
       "http://36kr.com/newsflashes/43537                                                                                                                                                                               1\n",
       "https://m.baidu.com/baidu.php?sc.7aTK00Km6KluYwAaVwaT3rc9_aF8PKVNOIRK_9cOyaZ7obH9Cr0hvpk9Xcf1ovl5pDPjm63HYLm5KfdQs6PMZnJgV9fWi-2411lzoBbo-lDW_wZpeqjVYCSp2FX3i_zrCPRi3AcR0ht7pfZeJTojXvuscyXv6Laz-2BjSBG        1\n",
       "https://m.sogou.com/bill_cpc?v=1&p=WJhVUFmw919YBuanJnnRYZi9CmY7lA6mOdXgEnhpkJgYAGJC20rBFaaxEpfvLqhG2XKep$C9R$Z97SBDtzSyHRkSRP@OYg4ggj2AYhULk0nie9K08twTT@Kd@T8@E6ELxXIc35s03i0OJCKKrnd6idWpIZHTqef7ls86@        1\n",
       "http://www.sogou.com/bill_cpc?v=1&p=WJhHUFmwU19UBBa7JIOCqyYQiVqIlk42BmYOEh7x3EVF7b2BJ8586oWD8LYuuTqHCAAAYrp2HzJk$CbbAwkmko3hONQu9bvZ7HJ$ZFNsKiLqGTRmnKNW8IC5ivBfg$ZDmgevX4$1Hb9dgEs8H2zYT4$ERsj5XMmF7XsT        1\n",
       "http://image.baidu.com/search/index?tn=baiduimage&ct=201326592&lm=-1&cl=2&ie=gbk&word=qq%BF%D5%BC%E4%D3%C3%BB%A7%BB%AD%CF%F1&hs=2&xthttps=000000&fr=ala&ori_query=qq%E7%A9%BA%E9%97%B4%E7%94%A8%E6%88%B7        1\n",
       "https://www.sensorsdata.cn/blog/shu-ju-hua-yun-ying-zhong-de-yong-hu-ji-huo/                                                                                                                                    1\n",
       "https://www.so.com/s?q=%E7%A5%9E%E7%AD%96%E6%95%B0%E6%8D%AE&src=related_c&psid=4747a815e527e3fd8e689b17a59eb454&fr=se7_newtab_new                                                                               1\n",
       "http://www.sogou.com/tx?user_ip=111.1.75.89&sourceid=hint&bh=1&hintidx=13&query=%E5%A4%96%E5%8D%96%E6%95%B0%E6%8D%AE%E5%88%86%E6%9E%90&hdq=sogou-site-706608cfdbcc1886-0001&duppid=1&cid=qb7.zhuye&w=010        1\n",
       "https://www.sensorsdata.cn/?utm_source=sogou&utm_medium=mcpc&utm_term=app%e6%95%b0%e6%8d%ae%e5%88%86%e6%9e%90&utm_content=%e9%80%9a%e7%94%a8-%e6%95%b0%e6%8d%ae%e5%88%86%e6%9e%90-%e8%a1%8c%e4%b8%9a&utm        1\n",
       "https://m.baidu.com/baidu.php?sc.XBTK000armHFMJ-lZ15oNxYa6n3DlZ47s-HgdrijNnXb0byRMAu4eGCq71ubS2CJWHsUp4cZ5PMl0SePQBFFQSptHmaTeHbon2zWeeJ40l9DZ92f79g5EGt6pP1uA5CVDuQ-15Y59lCNMgsdiCWIhC4KJxtDTgOuZNRBEO_        1\n",
       "http://www.baidu.com/baidu.php?url=JaTK0001U38Skzjjy6VXTIaIaZnxaEiJpGH8uvjBb9l9PjtPYySjTt4coTeS7E9gWukB9v34YWA_kYjU3VfBWJemK5r70UyuUKSWtmrYzwE725UBL8pocY5CjfGHopDqRwEhHvxYSPC6_Q5B-OpaP9C33VKbhaYhiXlNF        1\n",
       "http://192.168.19.105:8007/track-manager/import-status/?project=production                                                                                                                                      1\n",
       "http://www.baidu.com/baidu.php?sc.Ks00000NX8ZIIz62DhOp_zwW-Uurt20vRchbN2UEZUVlyflfJQgHAC_xS69N66IYd5Q50YNajWXeCfWVk3SACdRXStEWVqESLC18DDYyTXdCgsGQS1Jx6QuJKte2pscizqpszPl3B5oR9G11PnqMcF7rYiJ6291LR2pPi5        1\n",
       "http://www.sogou.com/bill_cpc?v=1&p=WJhCU7dr919YBNa1SfBQhee9dISawwPIBXYTM17jWPVs3maVviLNXvvaEpfzuFSqafzWdpasg6vayADWWdjR1wPczlXccCys@kQjw4IyT26u3qFZiXEZirTTKK5exXbmRX$QXTHDBK4z$KEuemx97KM6QnEKKN14Mnn4        1\n",
       "https://m.baidu.com/baidu.php?sc.Dz6K00jryFP_QGxCoXO2K4njBLJc1ywQqQF79sfr7rVZd05OkQ5xyj_mAZhT-PJB2Cd3__8WakG9gVORg6EWux4S6zis9KjoKsFiDklAdgh1EC-pFAe4ZbnH7v8K45Dn_sbUaMEbiUA3sCXihBNhX8oMmQSEJ5iYsNFzyur        1\n",
       "https://www.sensorsdata.cn/?utm_source=baidu&utm_medium=cpc&utm_term=%E7%94%A8%E6%88%B7%E7%94%BB%E5%83%8F%E7%94%9F%E6%88%90%E5%99%A8&utm_content=%E9%80%9A%E7%94%A8%2D%E7%94%A8%E6%88%B7%E7%94%BB%E5%83%        1\n",
       "http://www.sogou.com/bill_cpc?v=1&p=WJhHUbdrV99UBsYmhNCtVJO3HrrucxlT2EmTHE@6Z9$7qaj8Abn87EWaEw@t8nqA17ScPyIjDxDyaaSUjZujxV9SVaySevagL2OBuvrk8IIanAHXc4sKddE0WLMYLkBfg3XHg8rVFHMz52Am2vW5um1EufDTlgELdKsa        1\n",
       "http://datanode01.yf.apus.com:8107/dashboard/?%5Bobject+Object%5D=test                                                                                                                                          1\n",
       "https://www.sogou.com/link?url=DSOYnZeCC_reF_V0215oSdRkvO5tusgbxcLO2TQn7Ac.&query=%E7%A5%9E%E7%AD%96%E7%BD%91%E7%BB%9C%E7%A7%91%E6%8A%80%EF%BC%88%E5%8C%97%E4%BA%AC%EF%BC%89%E6%9C%89%E9%99%90%E5%85%AC%        1\n",
       "http://image.baidu.com/search/index?tn=baiduimage&ps=1&ct=201326592&lm=-1&cl=2&nc=1&ie=utf-8&word=%E6%95%B0%E6%8D%AE%E5%8F%AF%E8%A7%86%E5%8C%96%E4%BD%9C%E5%93%81                                               1\n",
       "https://m.baidu.com/from=844b/bd_page_type=1/ssid=0/uid=0/pu=usm%401%2Csz%401320_2001%2Cta%40iphone_1_10.1_3_602/baiduid=C59F470C99A72CE294F95EA01CBBF967/w=0_10_/t=iphone/l=1/tc?ref=www_iphone&lid=147        1\n",
       "https://m.baidu.com/baidu.php?sc.taTK00KNdEsc5f_WSrU2A76G785mOA-YfdZtttqr0jq88OlDTZ03O60fhkKdSH03_ruLLpYSQS2RQ4QVtlS8Vh9hFuo73vPcBcSfAv-qxghGj4uHaFqm2-PlkiYHYWjCKZ_juaeYkooBfO2fsrGMf2LcyoxvdmBK0fzzQzV        1\n",
       "https://www.sensorsdata.cn/?utm_source=baidu&utm_medium=cpc&utm_term=%e7%94%a8%e6%88%b7%e7%94%bb%e5%83%8f%e6%a0%87%e7%ad%be&utm_content=%e9%80%9a%e7%94%a8-%e7%94%a8%e6%88%b7%e7%94%bb%e5%83%8f&utm_camp        1\n",
       "https://ebizdemo.cloud.sensorsdata.cn/login/index.html                                                                                                                                                          1\n",
       "Name: referrer, dtype: int64"
      ]
     },
     "execution_count": 9,
     "metadata": {},
     "output_type": "execute_result"
    }
   ],
   "source": [
    "raw_df.referrer.value_counts(dropna = False)"
   ]
  },
  {
   "cell_type": "code",
   "execution_count": 10,
   "metadata": {
    "collapsed": false,
    "scrolled": true
   },
   "outputs": [
    {
     "data": {
      "text/plain": [
       "NaN                                                                                                                                                                                                         50865\n",
       "https://www.baidu.com/baidu.php                                                                                                                                                                               119\n",
       "https://www.baidu.com/link                                                                                                                                                                                     21\n",
       "https://www.baidu.com/s                                                                                                                                                                                         4\n",
       "https://www.google.com.hk/                                                                                                                                                                                      2\n",
       "http://www.sogou.com/bill_cpc?v=1&p=WJhqUtHr919tBH31zzzLhnxxdISaww0b8pELayV5c6TVuitfn8HJVHO4Gin6f$Q6IqvdA4KxxT0UAMxVS3kd3lAxgGTVsfxyrZqTCucR4kSTc5HdT@NEEFRaRd4PZs3aQMKBeBTNBi5qLmfrQu2@M@GLZpM5dIiUXJK4        1\n",
       "https://qiye.aliyun.com/alimail/                                                                                                                                                                                1\n",
       "https://link.zhihu.com/?target=https%3A//www.sensorsdata.cn                                                                                                                                                     1\n",
       "http://www.sogou.com/bill_cpc?v=1&p=WJhHUtdr919UB0bI01h7hJ83XXwJxR42Epz8nEGvDjvWq5RuIQiuJdOVd6t86fb$IbSf1VG5c7QR14@lv89oooQjzldV9n$OmYkkWxw9Wh$c78bui76BM2ETsKKcTshYscNpPKX0$MKcconsF8cmqnisqLI5CTKglNEW        1\n",
       "http://www.sogou.com/bill_cpc?v=1&p=WJhHUtdr919UB0BJu1eqhPe9dISawwPIBXtXM17jX7vbA0tsNgBL6AhhmLOu1HFLY$7g5UXebk6AWxJV3wwU7Uqy7GWW9kF@l5p6IcwEGQOsXIePssNdE8LM2DGU2djag44XiA3@74XZNVyo5ehQ$dsTN8Yx4sEY5D$i        1\n",
       "http://www.baidu.com/baidu.php?sc.IBTK00jyNUHxgmbNsRNO9pwmCW85unoZ3RhY2LA2yYSIy_P_a2rpHF5Zfm3aK0gihACpb2uofjfdgZRsOOEuvUOyAkfOXqqepIc29omYi45Xz8W9GLtwRV3z95qkf9L8sUUhSJZy8T3JHqCw07_EkWHGsnIy6WlObvKeJa        1\n",
       "http://www.baidu.com/baidu.php?sc.5iTK00KyNnnuXev3v_tLr5QzIEUSyCCbxZ5Tpv0JsysxhqYbH1ffVR_GUdnVnHFIpPVAtG2ANEZD4k71uqan6whnpENR1FmyeGiPePDzKKcZV4nbfl72viGRHFs2KK4tz_ljw1bxDT7AxfHKrG1BZwJ6oqs4_3uP8tXyUS        1\n",
       "http://newseed.pedaily.cn/company/41540                                                                                                                                                                         1\n",
       "https://m.baidu.com/baidu.php?sc.JaTK00aO1pI09CemLGJkbfOry90ivTHH2JkLFg_XtVjaqOjQmgeTDxk2aoutZSGUbvXv94GcUAhQz076Q9npBJ02i7oqHSJ9zGsHS0KRA4cP98rSjeW85VXno1RkGaOfxgMwQcjkCV_CyiR7iBu-3GrriH3TqKdtJx3pghB        1\n",
       "http://www.sogou.com/bill_cpc?v=1&p=WJhOU0LwC9lYBKbLKXbL@p9$vbg2ZAauNIJ2G6O6ZUr7qGFpiIeGBXWRinNLBu@sH445buL7aRZy9t4$7x46nx4PHajh7a4Z9nyy3d4nS0jFm@Qc3LeGc4TsKv@is0tPtEKyCfuiSiN5g01CLrT@i6SHda0QQa@dWkFZ        1\n",
       "http://www.sogou.com/bill_cpc?v=1&p=WJhHUbMa919UB0ziv8aXhFpqbJUu9Gvd8pELHZv7e9EV8mzt8GiuVd6KOiOtFuLD4DgNqQwsAoQHQlq9Sxy9OSGr$fFeael9HFOZBETtNqbnG2@EsstWTiHPfsKy71rdhKUqNuirdMpgiWbm1LBEE@fbaYlK@BkWC2hg        1\n",
       "http://blog.tingyun.com/web/article/detail/190                                                                                                                                                                  1\n",
       "http://cn.bing.com/search?q=%E7%A5%9E%E7%AD%96%E6%95%B0%E6%8D%AE                                                                                                                                                1\n",
       "https://shimo.im/doc/QSDUwrdYsxkhfQ9q                                                                                                                                                                           1\n",
       "https://www.so.com/s?ie=utf-8&src=dlm&shb=1&hsid=f2119892d6997a79&ls=n2f4c62819a&q=%E7%A5%9E%E7%AD%96%E6%95%B0%E6%8D%AE                                                                                         1\n",
       "http://blog.csdn.net/loveatm911/article/details/52312785                                                                                                                                                        1\n",
       "http://www.baidu.com/baidu.php?sc.7aTK000CsN4Tg5PoJD2RkwGeLKw1QQX_gsd5_9wivon8TF7uPKdUs4_3FnTw1N47PgPb_OAt2SvUGv1KPG8Hq2iwK4vdsILAzxmfDHP5bh4Dd0RtxtSc6ED1UtRAXR-2a0yMuRZxfnq-aPU6IRzGs-dsc3h-7iNPINYT4S        1\n",
       "http://www.sogou.com/bill_cpc?v=1&p=WJhHUFLw919UB0bJgF3Xwknjr9Lzy9x8uUOuKhqkJgY$N0bXEnZ6QQSTtiX2iNFusa5SvHFWwcqkJNr9yAZD9FZZBzo9enYf7Nw$c9EmcOOBny5KMEET4HMbX@Zddj3FTECMQIhd@@4BJVNDGjAQXL8Hbk9DMacT8HkE        1\n",
       "https://www.so.com/s?ie=utf-8&src=hao_360so_a&shb=1&hsid=9001afb3626892a4&q=%E7%A5%9E%E7%AD%96%E5%88%86%E6%9E%90                                                                                                1\n",
       "http://sc.vipkid.com.cn/login/index.html                                                                                                                                                                        1\n",
       "http://www.baidu.com/baidu.php?sc.JaTK00K6qMLzQcjhGsR7b0ivdAsEP1LiLa_63UwS_egex6un4wTZFRfdseF87kDKDozZSAeMWRDJ1QpjygvyskrYUY1L12C0uXl92OW_VTmauLH7GRpqOHHIq8WSXy8Ki4o-JOJryoADZSpJv0N0tLGy-69sGzHM_FilGF        1\n",
       "http://www.sogou.com/bill_cpc?v=1&p=WJhHUUCr919YBIa1wCG@hI83W76O9Gy17isduIQlJ@Vuybec$bn87D6AMd4GJ3XCYO75LO5eRZ0MlU93sYAH3wo34kQPmgkFac3kIcwEzd2ff76BW2EXWWbOWQWYLgsoWgOLbLXMi7aukDNs8HKQXdYzRM@srZ5Dfssn        1\n",
       "http://www.sogou.com/web?query=%C9%F1%B2%DF+%CA%FD%BE%DD%B7%D6%CE%F6&clickid=09d02a3ffeaafe278878ae4d13e70634                                                                                                   1\n",
       "http://www.tisiwi.com/startup/toolkit                                                                                                                                                                           1\n",
       "http://www.sogou.com/bill_cpc?v=1&p=WJhHUbds989UOIn1FSh33kMomAOaIlPe0Wdf5Th4w09P26x7aGgXtiwFmr71NIIjVCofVjb951RV6xqCkjED96AqywUJGvqjYuSAk$6vifnPF98chNdETTH5T@nFheHoqj8sgOTkAisbRDK8HWT4HtbnXNC2kaDDW@L$        1\n",
       "http://www.sogou.com/bill_cpc?v=1&p=WJhHUUCo919UB0BIu1hHORuwEjugy9RF8pyTmEGrlU@AvyqsgmI6GI7770@2FJ$$OC$df9pDAzWAxfdv5nyASSy9jiqWf$6x9bCE7OcjE$S2W@56R48sMdiEKpDWUEA5gmt3PdtQeK645iEsaByWsvIq2HKKrZnDdQa@        1\n",
       "https://segmentfault.com/a/1190000005083953                                                                                                                                                                     1\n",
       "http://link.zhihu.com/?target=http%3A//www.sensorsdata.cn/%3Fch%3Dzhihu                                                                                                                                         1\n",
       "https://m.baidu.com/?from=2001a                                                                                                                                                                                 1\n",
       "http://class.sanjieke.cn/online.html                                                                                                                                                                            1\n",
       "https://www.so.com/s?q=%E7%A5%9E%E7%AD%96%E5%88%86%E6%9E%90&src=srp&fr=hao_360so_a&psid=f7a4ba40d38438a7de8d281610d0efe1                                                                                        1\n",
       "https://www.so.com/s?q=%E5%A4%A7%E6%95%B0%E6%8D%AE++%E7%94%A8%E6%88%B7%E7%94%BB%E5%83%8F%E5%BB%BA%E7%AB%8B%E7%9A%84%E5%B7%A5%E5%85%B7PPT&src=srp&fr=se7_newtab_new&psid=cab2bd5ee1d8c6aff5074b8f216f749f        1\n",
       "https://m.baidu.com/?from=844b&vit=fps                                                                                                                                                                          1\n",
       "http://www.sogou.com/bill_cpc?v=1&p=WJedUbCs989tONn1vN8hwU@oIAhSw7yCs7HdMliVY6J7wxlav@9i8oKk5PoEFYpVOjwqQxR$gDRwZOSCyykxykSqG3j$RpvlIQ3RVz6vidxrYYj8d5mddTfLTEnmWlmdXv$mg0eMMtSZdN4rYMgPcTJCEKzawtRbFMcM        1\n",
       "https://so.m.sm.cn/s?q=%E7%A5%9E%E7%AD%96%E5%88%86%E6%9E%90&uc_param_str=dnntnwvepffrgibijbprsvdsme&from=ucframe&uc_sm=1                                                                                        1\n",
       "http://www.sogou.com/bill_cpc?v=1&p=WJhHUFC7989UOAdI6EkHyIf$uEJ9APxIE5m@yipY9x7k2IbAM4hi9E$KXAd2kzUUVI0Ypw7YQxVFV7vs6llJeGFUaxUbRj8lqwX81byb9Eb1sWdEEMOE8Ta8JXItz8fDNJ3sTsrfc523MDf0NXNTMMULZ57sgXCrn22T        1\n",
       "http://youxuan.baidu.com/s?type=new&p=query%3D%CA%FD%BE%DD%B7%D6%CE%F6%C8%ED%BC%FE%26ppim%3D0%26im%3D1%26rs%3D3%26from%3Dwise_zhidao_qb%26flowsrc%3D0%26qid%3D06e6ae7c50a5d932%26cookie%3DB0626B30142CE0        1\n",
       "http://www.sogou.com/bill_cpc?v=1&p=WJedUFVs989YOUdJ1eA36VXyFq6ASYk1dHTO8XNHJaok2ORYQwr0tiwFTVCfNIIjOC3fHx2G03ClajhGa2Clvxqjl7pYaPU@kaUR9mWyJPmLdaETTuNd8iYgHdpi7b0gsA$m5@sCzkZ$WfDrHtnNoeLlTTi@WqAAeht4        1\n",
       "Name: referrerUrl, dtype: int64"
      ]
     },
     "execution_count": 10,
     "metadata": {},
     "output_type": "execute_result"
    }
   ],
   "source": [
    "raw_df.referrerUrl.value_counts(dropna = False)"
   ]
  },
  {
   "cell_type": "code",
   "execution_count": 11,
   "metadata": {
    "collapsed": false,
    "scrolled": true
   },
   "outputs": [
    {
     "data": {
      "text/plain": [
       "NaN                   50865\n",
       "www.baidu.com           148\n",
       "www.sogou.com            13\n",
       "www.so.com                4\n",
       "m.baidu.com               3\n",
       "link.zhihu.com            2\n",
       "www.google.com.hk         2\n",
       "class.sanjieke.cn         1\n",
       "blog.csdn.net             1\n",
       "qiye.aliyun.com           1\n",
       "cn.bing.com               1\n",
       "blog.tingyun.com          1\n",
       "shimo.im                  1\n",
       "segmentfault.com          1\n",
       "newseed.pedaily.cn        1\n",
       "sc.vipkid.com.cn          1\n",
       "youxuan.baidu.com         1\n",
       "so.m.sm.cn                1\n",
       "www.tisiwi.com            1\n",
       "Name: referrHostUrl, dtype: int64"
      ]
     },
     "execution_count": 11,
     "metadata": {},
     "output_type": "execute_result"
    }
   ],
   "source": [
    "raw_df.referrHostUrl.value_counts(dropna = False)"
   ]
  },
  {
   "cell_type": "code",
   "execution_count": 8,
   "metadata": {
    "collapsed": false,
    "scrolled": true
   },
   "outputs": [
    {
     "name": "stdout",
     "output_type": "stream",
     "text": [
      "NaN              50649\n",
      "demo               308\n",
      "zhihu               70\n",
      "itjuzi               6\n",
      "pedaily              4\n",
      "36kr                 4\n",
      "36kr_cube            2\n",
      "edu_demo_doc         2\n",
      "chiyuan              2\n",
      "sangwenfeng          1\n",
      "ebiz_demo_doc        1\n",
      "Name: ch, dtype: int64\n",
      "$pageview    349\n",
      "Name: event, dtype: int64\n"
     ]
    }
   ],
   "source": [
    "print raw_df.ch.value_counts(dropna = False)\n",
    "print raw_df[(raw_df.ch.notnull())].event.value_counts()"
   ]
  },
  {
   "cell_type": "code",
   "execution_count": 10,
   "metadata": {
    "collapsed": false
   },
   "outputs": [
    {
     "name": "stdout",
     "output_type": "stream",
     "text": [
      "NaN              45407\n",
      "demo              5083\n",
      "pedaily            219\n",
      "zhihu              213\n",
      "itjuzi              29\n",
      "chiyuan             25\n",
      "edu_demo_doc        22\n",
      "ebiz_demo_doc       21\n",
      "sangwf              13\n",
      "36kr                11\n",
      "caojiang             3\n",
      "sangwenfeng          2\n",
      "36kr_cube            1\n",
      "Name: latest_ch, dtype: int64\n",
      "$pageview                2433\n",
      "btnClick                 1317\n",
      "index_leave               717\n",
      "demo_leave                484\n",
      "formSubmit                143\n",
      "click_send_cellphone      127\n",
      "verify_cellphone_code     123\n",
      "clickSubmit               106\n",
      "about_leave                82\n",
      "courses_leave              57\n",
      "courses_play_leave         43\n",
      "page_close                 10\n",
      "Name: event, dtype: int64\n"
     ]
    }
   ],
   "source": [
    "print raw_df.latest_ch.value_counts(dropna = False)\n",
    "print raw_df[(raw_df.latest_ch.notnull())].event.value_counts()"
   ]
  },
  {
   "cell_type": "code",
   "execution_count": 11,
   "metadata": {
    "collapsed": false,
    "scrolled": true
   },
   "outputs": [
    {
     "name": "stdout",
     "output_type": "stream",
     "text": [
      "NaN                40799\n",
      "request             2074\n",
      "demo                1943\n",
      "document            1361\n",
      "product             1284\n",
      "b-round              861\n",
      "about                621\n",
      "blog                 515\n",
      "viedo                374\n",
      "logo                 307\n",
      "mail                  54\n",
      "陈**                   32\n",
      "李**                   26\n",
      "张**                   23\n",
      "陈*                    22\n",
      "刘**                   19\n",
      "余*                    17\n",
      "高**                   17\n",
      "王**                   17\n",
      "黄**                   14\n",
      "张*                    13\n",
      "小*                    13\n",
      "黄*                    12\n",
      "杨**                   11\n",
      "李*                    11\n",
      "一***                  10\n",
      "吴**                   10\n",
      "王*                     9\n",
      "方*                     9\n",
      "江**                    9\n",
      "                   ...  \n",
      "h******                2\n",
      "落*                     2\n",
      "罗**                    2\n",
      "何**                    2\n",
      "朱*                     2\n",
      "梁**                    2\n",
      "莉*                     2\n",
      "添***                   2\n",
      "米*                     2\n",
      "耿*                     2\n",
      "S**                    2\n",
      "华***                   2\n",
      "朱**                    2\n",
      "A***                   2\n",
      "丁**                    2\n",
      "e****                  2\n",
      "顾**                    2\n",
      "郭*                     2\n",
      "D****                  2\n",
      "A*****                 2\n",
      "q***                   2\n",
      "董**                    1\n",
      "不****                  1\n",
      "S*************         1\n",
      "K**************        1\n",
      "果*                     1\n",
      "3*********             1\n",
      "c*********             1\n",
      "y**                    1\n",
      "3**                    1\n",
      "Name: name, dtype: int64\n",
      "btnClick       9394\n",
      "formSubmit      503\n",
      "clickSubmit     353\n",
      "Name: event, dtype: int64\n"
     ]
    }
   ],
   "source": [
    "print raw_df.name.value_counts(dropna = False)\n",
    "print raw_df[(raw_df.name.notnull())].event.value_counts()"
   ]
  }
 ],
 "metadata": {
  "kernelspec": {
   "display_name": "Python 2",
   "language": "python",
   "name": "python2"
  },
  "language_info": {
   "codemirror_mode": {
    "name": "ipython",
    "version": 2
   },
   "file_extension": ".py",
   "mimetype": "text/x-python",
   "name": "python",
   "nbconvert_exporter": "python",
   "pygments_lexer": "ipython2",
   "version": "2.7.13"
  }
 },
 "nbformat": 4,
 "nbformat_minor": 0
}
