{
 "cells": [
  {
   "cell_type": "code",
   "execution_count": 8,
   "metadata": {
    "collapsed": true
   },
   "outputs": [],
   "source": [
    "from pandas.io.json import json_normalize\n",
    "import json\n",
    "import numpy as np"
   ]
  },
  {
   "cell_type": "code",
   "execution_count": 2,
   "metadata": {
    "collapsed": true
   },
   "outputs": [],
   "source": [
    "with open('data/sensorswww_data.txt','r') as f:\n",
    "    table = [json.loads(line) for line in f]"
   ]
  },
  {
   "cell_type": "code",
   "execution_count": 3,
   "metadata": {
    "collapsed": true
   },
   "outputs": [],
   "source": [
    "raw_data = json_normalize(table)"
   ]
  },
  {
   "cell_type": "code",
   "execution_count": 4,
   "metadata": {
    "collapsed": false
   },
   "outputs": [
    {
     "data": {
      "text/plain": [
       "70"
      ]
     },
     "execution_count": 4,
     "metadata": {},
     "output_type": "execute_result"
    }
   ],
   "source": [
    "len(raw_data.columns)"
   ]
  },
  {
   "cell_type": "code",
   "execution_count": 5,
   "metadata": {
    "collapsed": false
   },
   "outputs": [
    {
     "data": {
      "text/html": [
       "<div>\n",
       "<table border=\"1\" class=\"dataframe\">\n",
       "  <thead>\n",
       "    <tr style=\"text-align: right;\">\n",
       "      <th></th>\n",
       "      <th>_nocache</th>\n",
       "      <th>distinct_id</th>\n",
       "      <th>event</th>\n",
       "      <th>jssdk_error</th>\n",
       "      <th>lib.$lib</th>\n",
       "      <th>lib.$lib_method</th>\n",
       "      <th>lib.$lib_version</th>\n",
       "      <th>properties.$browser</th>\n",
       "      <th>properties.$browser_version</th>\n",
       "      <th>properties.$first_browser_language</th>\n",
       "      <th>...</th>\n",
       "      <th>properties.referrerUrl</th>\n",
       "      <th>properties.requestBtn</th>\n",
       "      <th>properties.result</th>\n",
       "      <th>properties.session_page_url</th>\n",
       "      <th>properties.siteUrl</th>\n",
       "      <th>properties.site_url</th>\n",
       "      <th>properties.url_path</th>\n",
       "      <th>properties.verification_code</th>\n",
       "      <th>time</th>\n",
       "      <th>type</th>\n",
       "    </tr>\n",
       "  </thead>\n",
       "  <tbody>\n",
       "    <tr>\n",
       "      <th>0</th>\n",
       "      <td>0654392402996</td>\n",
       "      <td>595466e9a8e733434ce08de16e927d985e0b5d48</td>\n",
       "      <td>index_leave</td>\n",
       "      <td>NaN</td>\n",
       "      <td>js</td>\n",
       "      <td>code</td>\n",
       "      <td>1.6.20</td>\n",
       "      <td>chrome</td>\n",
       "      <td>56</td>\n",
       "      <td>NaN</td>\n",
       "      <td>...</td>\n",
       "      <td>NaN</td>\n",
       "      <td>NaN</td>\n",
       "      <td>NaN</td>\n",
       "      <td>https://www.sensorsdata.cn/?utm_source=baidu&amp;u...</td>\n",
       "      <td>NaN</td>\n",
       "      <td>NaN</td>\n",
       "      <td>NaN</td>\n",
       "      <td>NaN</td>\n",
       "      <td>1.488791e+12</td>\n",
       "      <td>track</td>\n",
       "    </tr>\n",
       "    <tr>\n",
       "      <th>1</th>\n",
       "      <td>3040562711955</td>\n",
       "      <td>9939d3e087bca29c42334d96dccd25ca0e06652a</td>\n",
       "      <td>NaN</td>\n",
       "      <td>NaN</td>\n",
       "      <td>js</td>\n",
       "      <td>code</td>\n",
       "      <td>1.6.20</td>\n",
       "      <td>NaN</td>\n",
       "      <td>NaN</td>\n",
       "      <td>zh-CN</td>\n",
       "      <td>...</td>\n",
       "      <td>NaN</td>\n",
       "      <td>NaN</td>\n",
       "      <td>NaN</td>\n",
       "      <td>NaN</td>\n",
       "      <td>NaN</td>\n",
       "      <td>NaN</td>\n",
       "      <td>NaN</td>\n",
       "      <td>NaN</td>\n",
       "      <td>1.490958e+12</td>\n",
       "      <td>profile_set_once</td>\n",
       "    </tr>\n",
       "    <tr>\n",
       "      <th>2</th>\n",
       "      <td>9587552771961</td>\n",
       "      <td>9939d3e087bca29c42334d96dccd25ca0e06652a</td>\n",
       "      <td>$pageview</td>\n",
       "      <td>NaN</td>\n",
       "      <td>js</td>\n",
       "      <td>code</td>\n",
       "      <td>1.6.20</td>\n",
       "      <td>chrome</td>\n",
       "      <td>56</td>\n",
       "      <td>NaN</td>\n",
       "      <td>...</td>\n",
       "      <td>NaN</td>\n",
       "      <td>NaN</td>\n",
       "      <td>NaN</td>\n",
       "      <td>https://sensorsdata.cn/?ch=demo</td>\n",
       "      <td>NaN</td>\n",
       "      <td>NaN</td>\n",
       "      <td>NaN</td>\n",
       "      <td>NaN</td>\n",
       "      <td>1.488791e+12</td>\n",
       "      <td>track</td>\n",
       "    </tr>\n",
       "  </tbody>\n",
       "</table>\n",
       "<p>3 rows × 70 columns</p>\n",
       "</div>"
      ],
      "text/plain": [
       "        _nocache                               distinct_id        event  \\\n",
       "0  0654392402996  595466e9a8e733434ce08de16e927d985e0b5d48  index_leave   \n",
       "1  3040562711955  9939d3e087bca29c42334d96dccd25ca0e06652a          NaN   \n",
       "2  9587552771961  9939d3e087bca29c42334d96dccd25ca0e06652a    $pageview   \n",
       "\n",
       "  jssdk_error lib.$lib lib.$lib_method lib.$lib_version properties.$browser  \\\n",
       "0         NaN       js            code           1.6.20              chrome   \n",
       "1         NaN       js            code           1.6.20                 NaN   \n",
       "2         NaN       js            code           1.6.20              chrome   \n",
       "\n",
       "  properties.$browser_version properties.$first_browser_language  \\\n",
       "0                          56                                NaN   \n",
       "1                         NaN                              zh-CN   \n",
       "2                          56                                NaN   \n",
       "\n",
       "         ...        properties.referrerUrl properties.requestBtn  \\\n",
       "0        ...                           NaN                   NaN   \n",
       "1        ...                           NaN                   NaN   \n",
       "2        ...                           NaN                   NaN   \n",
       "\n",
       "  properties.result                        properties.session_page_url  \\\n",
       "0               NaN  https://www.sensorsdata.cn/?utm_source=baidu&u...   \n",
       "1               NaN                                                NaN   \n",
       "2               NaN                    https://sensorsdata.cn/?ch=demo   \n",
       "\n",
       "  properties.siteUrl properties.site_url properties.url_path  \\\n",
       "0                NaN                 NaN                 NaN   \n",
       "1                NaN                 NaN                 NaN   \n",
       "2                NaN                 NaN                 NaN   \n",
       "\n",
       "  properties.verification_code          time              type  \n",
       "0                          NaN  1.488791e+12             track  \n",
       "1                          NaN  1.490958e+12  profile_set_once  \n",
       "2                          NaN  1.488791e+12             track  \n",
       "\n",
       "[3 rows x 70 columns]"
      ]
     },
     "execution_count": 5,
     "metadata": {},
     "output_type": "execute_result"
    }
   ],
   "source": [
    "raw_data.head(3)"
   ]
  },
  {
   "cell_type": "code",
   "execution_count": 6,
   "metadata": {
    "collapsed": false
   },
   "outputs": [],
   "source": [
    "raw_data.drop(labels = ['lib.$lib','lib.$lib_method','lib.$lib_version'], axis = 1, inplace = True)"
   ]
  },
  {
   "cell_type": "code",
   "execution_count": 9,
   "metadata": {
    "collapsed": false
   },
   "outputs": [],
   "source": [
    "tmp_col = np.array(raw_data.columns)"
   ]
  },
  {
   "cell_type": "code",
   "execution_count": 10,
   "metadata": {
    "collapsed": false,
    "scrolled": true
   },
   "outputs": [
    {
     "data": {
      "text/plain": [
       "array([u'_nocache', u'distinct_id', u'event', u'jssdk_error',\n",
       "       'properties.$browser', 'properties.$browser_version',\n",
       "       'properties.$first_browser_language', 'properties.$first_referrer',\n",
       "       'properties.$first_referrer_host', 'properties.$first_visit_time',\n",
       "       'properties.$ip', 'properties.$is_first_day',\n",
       "       'properties.$is_first_time', 'properties.$latest_referrer',\n",
       "       'properties.$latest_referrer_host',\n",
       "       'properties.$latest_utm_campaign', 'properties.$latest_utm_content',\n",
       "       'properties.$latest_utm_medium', 'properties.$latest_utm_source',\n",
       "       'properties.$latest_utm_term', 'properties.$lib',\n",
       "       'properties.$lib_version', 'properties.$model', 'properties.$os',\n",
       "       'properties.$os_version', 'properties.$referrer',\n",
       "       'properties.$referrer_host', 'properties.$screen_height',\n",
       "       'properties.$screen_width', 'properties.$title', 'properties.$url',\n",
       "       'properties.$url_path', 'properties.$utm_campaign',\n",
       "       'properties.$utm_content', 'properties.$utm_medium',\n",
       "       'properties.$utm_source', 'properties.$utm_term',\n",
       "       'properties._latest_ch', 'properties._session_from_url',\n",
       "       'properties._session_referrer',\n",
       "       'properties._session_referrer_domain',\n",
       "       'properties._session_referrer_host', 'properties.ch',\n",
       "       'properties.company', 'properties.contact', 'properties.email',\n",
       "       'properties.from_url', 'properties.info', 'properties.isMsg',\n",
       "       'properties.isSuccess', 'properties.name', 'properties.page',\n",
       "       'properties.pagePosition', 'properties.pageStayTime',\n",
       "       'properties.pageUrl', 'properties.project_name',\n",
       "       'properties.referrHostUrl', 'properties.referrerUrl',\n",
       "       'properties.requestBtn', 'properties.result',\n",
       "       'properties.session_page_url', 'properties.siteUrl',\n",
       "       'properties.site_url', 'properties.url_path',\n",
       "       'properties.verification_code', u'time', u'type'], dtype=object)"
      ]
     },
     "execution_count": 10,
     "metadata": {},
     "output_type": "execute_result"
    }
   ],
   "source": [
    "tmp_col"
   ]
  },
  {
   "cell_type": "code",
   "execution_count": 11,
   "metadata": {
    "collapsed": true
   },
   "outputs": [],
   "source": [
    "for i in xrange(len(tmp_col)):\n",
    "    if tmp_col[i].startswith('_'):\n",
    "        tmp_col[i] = tmp_col[i][1:]\n",
    "    elif tmp_col[i].startswith('properties.$'):\n",
    "        tmp_col[i] = tmp_col[i][12:]\n",
    "    elif tmp_col[i].startswith('properties._'):\n",
    "        tmp_col[i] = tmp_col[i][12:]\n",
    "    elif tmp_col[i].startswith('properties.'):\n",
    "        tmp_col[i] = tmp_col[i][11:]"
   ]
  },
  {
   "cell_type": "code",
   "execution_count": 12,
   "metadata": {
    "collapsed": false
   },
   "outputs": [
    {
     "data": {
      "text/plain": [
       "array([u'nocache', u'distinct_id', u'event', u'jssdk_error', 'browser',\n",
       "       'browser_version', 'first_browser_language', 'first_referrer',\n",
       "       'first_referrer_host', 'first_visit_time', 'ip', 'is_first_day',\n",
       "       'is_first_time', 'latest_referrer', 'latest_referrer_host',\n",
       "       'latest_utm_campaign', 'latest_utm_content', 'latest_utm_medium',\n",
       "       'latest_utm_source', 'latest_utm_term', 'lib', 'lib_version',\n",
       "       'model', 'os', 'os_version', 'referrer', 'referrer_host',\n",
       "       'screen_height', 'screen_width', 'title', 'url', 'url_path',\n",
       "       'utm_campaign', 'utm_content', 'utm_medium', 'utm_source',\n",
       "       'utm_term', 'latest_ch', 'session_from_url', 'session_referrer',\n",
       "       'session_referrer_domain', 'session_referrer_host', 'ch', 'company',\n",
       "       'contact', 'email', 'from_url', 'info', 'isMsg', 'isSuccess',\n",
       "       'name', 'page', 'pagePosition', 'pageStayTime', 'pageUrl',\n",
       "       'project_name', 'referrHostUrl', 'referrerUrl', 'requestBtn',\n",
       "       'result', 'session_page_url', 'siteUrl', 'site_url', 'url_path',\n",
       "       'verification_code', u'time', u'type'], dtype=object)"
      ]
     },
     "execution_count": 12,
     "metadata": {},
     "output_type": "execute_result"
    }
   ],
   "source": [
    "tmp_col"
   ]
  },
  {
   "cell_type": "code",
   "execution_count": 13,
   "metadata": {
    "collapsed": true
   },
   "outputs": [],
   "source": [
    "raw_data.columns = tmp_col"
   ]
  },
  {
   "cell_type": "code",
   "execution_count": 14,
   "metadata": {
    "collapsed": false,
    "scrolled": true
   },
   "outputs": [],
   "source": [
    "raw_data.drop(labels = ['lib','lib_version'], axis = 1, inplace = True)"
   ]
  },
  {
   "cell_type": "code",
   "execution_count": 15,
   "metadata": {
    "collapsed": false
   },
   "outputs": [
    {
     "data": {
      "text/plain": [
       "(65L,)"
      ]
     },
     "execution_count": 15,
     "metadata": {},
     "output_type": "execute_result"
    }
   ],
   "source": [
    "raw_data.columns.shape"
   ]
  },
  {
   "cell_type": "code",
   "execution_count": 16,
   "metadata": {
    "collapsed": false
   },
   "outputs": [
    {
     "data": {
      "text/plain": [
       "(65L,)"
      ]
     },
     "execution_count": 16,
     "metadata": {},
     "output_type": "execute_result"
    }
   ],
   "source": [
    "raw_data.dropna(axis = 1, how = 'all').columns.shape"
   ]
  },
  {
   "cell_type": "code",
   "execution_count": 17,
   "metadata": {
    "collapsed": false
   },
   "outputs": [
    {
     "data": {
      "text/plain": [
       "(51049L,)"
      ]
     },
     "execution_count": 17,
     "metadata": {},
     "output_type": "execute_result"
    }
   ],
   "source": [
    "raw_data.dropna(axis = 0, how = 'all').index.shape"
   ]
  },
  {
   "cell_type": "code",
   "execution_count": 18,
   "metadata": {
    "collapsed": true
   },
   "outputs": [],
   "source": [
    "# write unified raw data into csv\n",
    "raw_data.to_csv('data/unify_raw_data.csv', index = False, encoding = 'utf-8')"
   ]
  },
  {
   "cell_type": "code",
   "execution_count": 40,
   "metadata": {
    "collapsed": true
   },
   "outputs": [],
   "source": [
    "# leave out data where event is null\n",
    "event_notnull_df = raw_data[(raw_data.event.notnull())]"
   ]
  },
  {
   "cell_type": "code",
   "execution_count": 41,
   "metadata": {
    "collapsed": false,
    "scrolled": true
   },
   "outputs": [
    {
     "data": {
      "text/plain": [
       "(44564, 65)"
      ]
     },
     "execution_count": 41,
     "metadata": {},
     "output_type": "execute_result"
    }
   ],
   "source": [
    "event_notnull_df.shape"
   ]
  },
  {
   "cell_type": "code",
   "execution_count": 52,
   "metadata": {
    "collapsed": false
   },
   "outputs": [],
   "source": [
    "# or we can create a new category \"leave\" to fill out null event\n",
    "event_impute_lea_df = raw_data"
   ]
  },
  {
   "cell_type": "code",
   "execution_count": 54,
   "metadata": {
    "collapsed": false
   },
   "outputs": [],
   "source": [
    "event_impute_lea_df.ix[(event_impute_lea_df.event.isnull()),'event'] = u'leave'"
   ]
  },
  {
   "cell_type": "code",
   "execution_count": 57,
   "metadata": {
    "collapsed": false,
    "scrolled": true
   },
   "outputs": [
    {
     "data": {
      "text/plain": [
       "0                  index_leave\n",
       "1                        leave\n",
       "2                    $pageview\n",
       "3                     btnClick\n",
       "4                     btnClick\n",
       "5                   demo_leave\n",
       "6                     btnClick\n",
       "7                    $pageview\n",
       "8                     btnClick\n",
       "9                     btnClick\n",
       "10                   $pageview\n",
       "11                   $pageview\n",
       "12                   $pageview\n",
       "13                       leave\n",
       "14                   $pageview\n",
       "15                 index_leave\n",
       "16                  demo_leave\n",
       "17        click_send_cellphone\n",
       "18                       leave\n",
       "19                   $pageview\n",
       "20                       leave\n",
       "21                   $pageview\n",
       "22                   $pageview\n",
       "23       verify_cellphone_code\n",
       "24                   $pageview\n",
       "25       verify_cellphone_code\n",
       "26                   $pageview\n",
       "27                    btnClick\n",
       "28                 index_leave\n",
       "29                 index_leave\n",
       "                 ...          \n",
       "51019                 btnClick\n",
       "51020                $pageview\n",
       "51021              index_leave\n",
       "51022            courses_leave\n",
       "51023            courses_leave\n",
       "51024            courses_leave\n",
       "51025                    leave\n",
       "51026                $pageview\n",
       "51027              index_leave\n",
       "51028               demo_leave\n",
       "51029                 btnClick\n",
       "51030              about_leave\n",
       "51031                $pageview\n",
       "51032                    leave\n",
       "51033                $pageview\n",
       "51034                 btnClick\n",
       "51035                 btnClick\n",
       "51036                $pageview\n",
       "51037                $pageview\n",
       "51038                    leave\n",
       "51039                $pageview\n",
       "51040              index_leave\n",
       "51041                 btnClick\n",
       "51042                $pageview\n",
       "51043                 btnClick\n",
       "51044                $pageview\n",
       "51045                    leave\n",
       "51046                $pageview\n",
       "51047                $pageview\n",
       "51048                $pageview\n",
       "Name: event, dtype: object"
      ]
     },
     "execution_count": 57,
     "metadata": {},
     "output_type": "execute_result"
    }
   ],
   "source": [
    "event_impute_lea_df.event"
   ]
  },
  {
   "cell_type": "code",
   "execution_count": 58,
   "metadata": {
    "collapsed": true
   },
   "outputs": [],
   "source": [
    "# save these two dataframe into csv\n",
    "event_impute_lea_df.to_csv('data/unify_nulevent_asleave.csv', index = False, encoding = 'utf-8')\n",
    "event_notnull_df.to_csv('data/unify_drop_nulevent.csv', index = False, encoding = 'utf-8')"
   ]
  }
 ],
 "metadata": {
  "kernelspec": {
   "display_name": "Python 2",
   "language": "python",
   "name": "python2"
  },
  "language_info": {
   "codemirror_mode": {
    "name": "ipython",
    "version": 2
   },
   "file_extension": ".py",
   "mimetype": "text/x-python",
   "name": "python",
   "nbconvert_exporter": "python",
   "pygments_lexer": "ipython2",
   "version": "2.7.13"
  }
 },
 "nbformat": 4,
 "nbformat_minor": 0
}
