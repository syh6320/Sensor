{
 "cells": [
  {
   "cell_type": "code",
   "execution_count": 1,
   "metadata": {},
   "outputs": [],
   "source": [
    "import pandas as pd\n",
    "import matplotlib.pyplot as plt\n",
    "%matplotlib inline\n",
    "import numpy as np\n",
    "from __future__ import division\n",
    "from scipy import stats\n",
    "import re"
   ]
  },
  {
   "cell_type": "code",
   "execution_count": 2,
   "metadata": {
    "collapsed": true
   },
   "outputs": [],
   "source": [
    "def find_pattern(pattern, behave):\n",
    "    match = re.search(pattern, behave)\n",
    "    if match:\n",
    "        return True\n",
    "    else:\n",
    "        return False"
   ]
  },
  {
   "cell_type": "code",
   "execution_count": 3,
   "metadata": {},
   "outputs": [],
   "source": [
    "def line_plot(y,x_tickLabels = None, y_ticks = None, y_tickLabels = None, title = None):\n",
    "    plt.style.use('ggplot')\n",
    "    fig = plt.figure()\n",
    "    \n",
    "    ax = fig.add_axes([0,0,1,1])\n",
    "    plot = ax.plot(np.array(range(len(y))), y)\n",
    "    \n",
    "    if title is not None:\n",
    "        ax.set_title(title)\n",
    "    \n",
    "    ax.set_xticks(range(len(y)))\n",
    "    if x_tickLabels is not None:\n",
    "        ax.set_xticklabels(x_tickLabels)\n",
    "    \n",
    "    if y_ticks is not None:\n",
    "        ax.set_yticks(y_ticks)\n",
    "    if y_tickLabels is not None:\n",
    "        ax.set_yticklabels(y_ticksLabels)"
   ]
  },
  {
   "cell_type": "code",
   "execution_count": 4,
   "metadata": {},
   "outputs": [],
   "source": [
    "def bar_plot(y,x_tickLabels = None, y_ticks = None, y_tickLabels = None, title = None):\n",
    "    plt.style.use('ggplot')\n",
    "    fig = plt.figure()\n",
    "    \n",
    "    ax = fig.add_axes([0,0,1,1])\n",
    "    plot = ax.bar(range(len(y)), y, width = 0.5)\n",
    "    \n",
    "    if title is not None:\n",
    "        ax.set_title(title)\n",
    "    \n",
    "    ax.set_xticks(np.array(range(len(y))) + 0.25)\n",
    "    if x_tickLabels is not None:\n",
    "        ax.set_xticklabels(x_tickLabels)\n",
    "    \n",
    "    if y_ticks is not None:\n",
    "        ax.set_yticks(y_ticks)\n",
    "    if y_tickLabels is not None:\n",
    "        ax.set_yticklabels(y_ticksLabels)"
   ]
  },
  {
   "cell_type": "code",
   "execution_count": 5,
   "metadata": {},
   "outputs": [],
   "source": [
    "def compare_dif_group_bar(group1, group2, group1_tick, group2_tick, sharey, log = False, title1 = None, title2 = None):\n",
    "    fig, (ax1, ax2) = plt.subplots(ncols = 2, sharey = sharey, figsize = (10,5))\n",
    "    fig.tight_layout()\n",
    "    ax1.bar(left = range(len(group1)), height = group1, tick_label = group1_tick, align = 'center', log = log)\n",
    "    if title1 is not None:\n",
    "        ax1.set_title(title1)\n",
    "    for i,v in enumerate(group1):\n",
    "        ax1.text(x = i - 0.25, y = v + 0.02, s = str(v))\n",
    "    ax2.bar(left = range(len(group2)), height = group2, tick_label = group2_tick, align = 'center', log = log)\n",
    "    if title2 is not None:\n",
    "        ax2.set_title(title2)\n",
    "    for i,v in enumerate(group2):\n",
    "        ax2.text(x = i - 0.25, y = v + 0.02, s = str(v))"
   ]
  },
  {
   "cell_type": "code",
   "execution_count": 6,
   "metadata": {},
   "outputs": [],
   "source": [
    "def compare_groups_bar(groups, group_ticks,sharey, titles, log = False):\n",
    "    fig, axes = plt.subplots(ncols = len(groups), sharey = sharey, figsize = (12,5))\n",
    "    fig.tight_layout()\n",
    "    for i in xrange(len(groups)):\n",
    "        axes[i].bar(left = range(len(groups[i])), height = groups[i], tick_label = group_ticks[i], align = 'center', log = log)\n",
    "        axes[i].set_title(titles[i])\n",
    "        for i,v in enumerate(group1):\n",
    "            axes[i].text(x = i - 0.25, y = v + 0.02, s = str(v))"
   ]
  },
  {
   "cell_type": "code",
   "execution_count": 7,
   "metadata": {},
   "outputs": [],
   "source": [
    "def chi_square_test(table, nul_hyp, alt_hyp, sig_level = 0.05):\n",
    "    x_square, p_value, df, expected_fre = stats.chi2_contingency(table)\n",
    "    print 'x_sqaure statistics is ', x_square\n",
    "    print 'p_value is ', p_value\n",
    "    print 'significant level is ', sig_level\n",
    "    if p_value < sig_level:\n",
    "        print alt_hyp\n",
    "    else:\n",
    "        print nul_hyp"
   ]
  },
  {
   "cell_type": "markdown",
   "metadata": {},
   "source": [
    "# What's our conversion ratio?\n",
    "    it's ratio of # of users signing up successfully to total number of users"
   ]
  },
  {
   "cell_type": "code",
   "execution_count": 8,
   "metadata": {
    "collapsed": true
   },
   "outputs": [],
   "source": [
    "df = pd.read_csv('data/users_data.csv')"
   ]
  },
  {
   "cell_type": "code",
   "execution_count": 9,
   "metadata": {},
   "outputs": [
    {
     "data": {
      "text/plain": [
       "[<matplotlib.text.Text at 0xa517860>,\n",
       " <matplotlib.text.Text at 0xa5322b0>,\n",
       " <matplotlib.text.Text at 0xa870da0>,\n",
       " <matplotlib.text.Text at 0xa87f438>,\n",
       " <matplotlib.text.Text at 0xa87fa90>]"
      ]
     },
     "execution_count": 9,
     "metadata": {},
     "output_type": "execute_result"
    },
    {
     "data": {
      "image/png": "[encoded data removed]",
      "text/plain": [
       "<matplotlib.figure.Figure at 0xa939ac8>"
      ]
     },
     "metadata": {},
     "output_type": "display_data"
    }
   ],
   "source": [
    "total = df.shape[0]\n",
    "request = df[(df.request > 0)].shape[0]\n",
    "send_suc = df[(df.send_suc == 1)].shape[0]\n",
    "ver_suc = df[(df.ver_suc == 1)].shape[0]\n",
    "success = df[(df.isSuccess == 1)].shape[0]\n",
    "\n",
    "conversion = [total, request, send_suc, ver_suc, success]\n",
    "title = 'conversion ratio'\n",
    "x_tickLable = ['total', 'request', 'send_suc','ver_suc', 'success']\n",
    "y_ticks = conversion\n",
    "fig, ax = plt.subplots(figsize = (12,5))\n",
    "ax.plot(np.array(range(len(conversion))), conversion, color = 'red')\n",
    "ax.bar(np.array(range(len(conversion))), conversion, width = 0.4)\n",
    "ax.set_title(title)\n",
    "ax.set_xticks(np.arange(5) + 0.2)\n",
    "ax.set_xticklabels(x_tickLable)"
   ]
  },
  {
   "cell_type": "markdown",
   "metadata": {},
   "source": [
    "# Get insight into users' behavior pattern"
   ]
  },
  {
   "cell_type": "markdown",
   "metadata": {},
   "source": [
    "## first we look at patterns from start to request"
   ]
  },
  {
   "cell_type": "markdown",
   "metadata": {},
   "source": [
    "#### dive into pages with application button"
   ]
  },
  {
   "cell_type": "code",
   "execution_count": 18,
   "metadata": {},
   "outputs": [
    {
     "data": {
      "text/plain": [
       "[]                                                                                                                                                                                                                                                  2211\n",
       "[index, request]                                                                                                                                                                                                                                     488\n",
       "[index, cli_document]                                                                                                                                                                                                                                137\n",
       "[index, cli_product]                                                                                                                                                                                                                                 110\n",
       "[index, cli_bround]                                                                                                                                                                                                                                   81\n",
       "[index, request, last_name, last_name]                                                                                                                                                                                                                78\n",
       "[index, cli_demo]                                                                                                                                                                                                                                     74\n",
       "[index, cli_about]                                                                                                                                                                                                                                    61\n",
       "[index, cli_blog]                                                                                                                                                                                                                                     56\n",
       "[index, cli_video]                                                                                                                                                                                                                                    37\n",
       "[index, request, index, cli_product]                                                                                                                                                                                                                  36\n",
       "[index, request, index, cli_demo]                                                                                                                                                                                                                     33\n",
       "[index, request, last_name, last_name, last_name]                                                                                                                                                                                                     29\n",
       "[index, cli_product, cli_document]                                                                                                                                                                                                                    29\n",
       "[index, request, index, request]                                                                                                                                                                                                                      27\n",
       "[index, cli_product, cli_bround]                                                                                                                                                                                                                      21\n",
       "[index, request, index, cli_document]                                                                                                                                                                                                                 19\n",
       "[index, request, index, request, last_name, last_name]                                                                                                                                                                                                19\n",
       "[index, request, index, cli_bround]                                                                                                                                                                                                                   18\n",
       "[index, request, index, cli_video]                                                                                                                                                                                                                    15\n",
       "[index, cli_demo, demo, request]                                                                                                                                                                                                                      14\n",
       "[index, cli_document, index, cli_product]                                                                                                                                                                                                             13\n",
       "[index, cli_logo]                                                                                                                                                                                                                                     12\n",
       "[index, cli_about, about, cli_bround]                                                                                                                                                                                                                 11\n",
       "[index, cli_demo, index, request, last_name, last_name]                                                                                                                                                                                               11\n",
       "[index, request, index, request, last_name, last_name, last_name]                                                                                                                                                                                     11\n",
       "[index, cli_bround, index, cli_product]                                                                                                                                                                                                               10\n",
       "[index, request, index, cli_product, cli_document]                                                                                                                                                                                                     9\n",
       "[index, cli_video, courses_index, cli_document]                                                                                                                                                                                                        9\n",
       "[index, cli_document, index, cli_document]                                                                                                                                                                                                             9\n",
       "                                                                                                                                                                                                                                                    ... \n",
       "[index, cli_product, cli_product, request, cli_bround]                                                                                                                                                                                                 1\n",
       "[index, request, index, cli_product, cli_about, about, cli_blog, about, cli_bround, courses_index, cli_product, cli_document, cli_logo, index, cli_demo, about, cli_bround, demo, cli_demo, demo, cli_demo, demo, request, demo, cli_demo]             1\n",
       "[demo, cli_demo, demo, cli_document]                                                                                                                                                                                                                   1\n",
       "[index, request, index, cli_document, index, cli_product, cli_bround]                                                                                                                                                                                  1\n",
       "[index, cli_bround, index, cli_video, courses_index, cli_document, courses_index, cli_product, courses_index, cli_document]                                                                                                                            1\n",
       "[index, cli_blog, index, cli_bround, index, cli_bround, index, cli_blog, courses_index, cli_document, courses_index, cli_about, about, cli_demo, demo, cli_demo, demo, cli_demo, demo, request, index, request, last_name, last_name, last_name]       1\n",
       "[index, request, index, cli_document, index, cli_about, index, request, index, cli_demo, index, cli_demo, index, cli_bround, index, cli_document, courses_index, cli_bround, courses_index, cli_document]                                              1\n",
       "[index, cli_video, courses_index, cli_document, courses_index, cli_product, cli_demo, demo, request, demo, cli_product, cli_product, cli_blog, about, request, about, cli_product, cli_document]                                                       1\n",
       "[index, cli_product, cli_logo, index, request, index, cli_demo]                                                                                                                                                                                        1\n",
       "[index, cli_demo, index, request, index, cli_document, index, cli_demo, index, request]                                                                                                                                                                1\n",
       "[index, cli_bround, index, request, last_name, last_name]                                                                                                                                                                                              1\n",
       "[index, request, index, cli_demo, index, cli_about, about, cli_logo, index, cli_about]                                                                                                                                                                 1\n",
       "[index, cli_product, cli_product, cli_about, about, cli_demo]                                                                                                                                                                                          1\n",
       "[index, request, cli_document, request, last_name]                                                                                                                                                                                                     1\n",
       "[index, cli_about, about, cli_product, cli_bround]                                                                                                                                                                                                     1\n",
       "[index, cli_bround, cli_logo, index, cli_bround, cli_logo, index, cli_bround]                                                                                                                                                                          1\n",
       "[index, cli_video, courses_index, cli_blog, index, cli_document, index, cli_video, courses_index, cli_document]                                                                                                                                        1\n",
       "[index, request, index, cli_document, cli_bround, request, last_name, last_name]                                                                                                                                                                       1\n",
       "[index, cli_logo, index, cli_demo]                                                                                                                                                                                                                     1\n",
       "[index, cli_demo, index, request, last_name, last_name, last_name, last_name, last_name]                                                                                                                                                               1\n",
       "[index, cli_product, cli_bround, request, cli_product, cli_document, cli_about, index, cli_product, cli_document, index, cli_demo]                                                                                                                     1\n",
       "[index, cli_document, index, cli_demo, demo, cli_document, index, cli_demo, index, cli_document, index, cli_document, index, cli_document, index, request, index, cli_demo]                                                                            1\n",
       "[courses_index, cli_demo, index, request]                                                                                                                                                                                                              1\n",
       "[demo, cli_demo, demo, cli_demo, demo, cli_demo, demo, cli_demo, demo, request, index, request, last_name, last_name]                                                                                                                                  1\n",
       "[index, request, index, request, index, request, last_name, index, cli_demo, demo, cli_product, cli_document, cli_demo]                                                                                                                                1\n",
       "[index, request, index, cli_logo, index, cli_demo, index, request, last_name, last_name]                                                                                                                                                               1\n",
       "[index, cli_document, about, cli_blog, index, cli_document]                                                                                                                                                                                            1\n",
       "[index, cli_demo, index, request, index, cli_document, index, cli_product, cli_demo, index, request, index, cli_demo, index, request, last_name, last_name, last_name]                                                                                 1\n",
       "[index, cli_blog, index, cli_product, cli_blog, cli_document, about, cli_logo]                                                                                                                                                                         1\n",
       "[index, cli_document, index, cli_product, cli_document, cli_video]                                                                                                                                                                                     1\n",
       "Name: behavior_list, dtype: int64"
      ]
     },
     "execution_count": 18,
     "metadata": {},
     "output_type": "execute_result"
    }
   ],
   "source": [
    "df.behavior_list.value_counts()"
   ]
  },
  {
   "cell_type": "code",
   "execution_count": 19,
   "metadata": {
    "collapsed": true
   },
   "outputs": [],
   "source": [
    "index_pat = r', index, request'\n",
    "demo_pat = r', demo, request'\n",
    "about_pat = r', about, request'\n",
    "# courses_index_pat = r'courses_index, request' # vido_pat = r'cli_video.*request'"
   ]
  },
  {
   "cell_type": "code",
   "execution_count": 11,
   "metadata": {
    "collapsed": true
   },
   "outputs": [],
   "source": [
    "index_request_df = df[(df.behavior_list.apply(lambda x: find_pattern(index_pat,x)))]\n",
    "index_not_request_df = df[(df.behavior_list.apply(lambda x: 'index' in x)) \n",
    "                         & (df.behavior_list.apply(lambda x: 'request' not in x))] "
   ]
  },
  {
   "cell_type": "code",
   "execution_count": 21,
   "metadata": {},
   "outputs": [],
   "source": [
    "demo_request = df[(df.behavior_list.apply(lambda x: find_pattern(demo_pat,x)))].shape[0]\n",
    "demo_not_request = df[(df.behavior_list.apply(lambda x: ', demo,' in x)) \n",
    "                         & (df.behavior_list.apply(lambda x: 'request' not in x))].shape[0]"
   ]
  },
  {
   "cell_type": "code",
   "execution_count": 22,
   "metadata": {},
   "outputs": [
    {
     "name": "stdout",
     "output_type": "stream",
     "text": [
      "161\n",
      "73\n"
     ]
    }
   ],
   "source": [
    "print demo_request\n",
    "print demo_not_request"
   ]
  },
  {
   "cell_type": "code",
   "execution_count": 13,
   "metadata": {
    "collapsed": true
   },
   "outputs": [],
   "source": [
    "about_request = df[(df.behavior_list.apply(lambda x: find_pattern(about_pat,x)))].shape[0]\n",
    "about_not_request = df[(df.behavior_list.apply(lambda x: 'about' in x)) \n",
    "                         & (df.behavior_list.apply(lambda x: 'request' not in x))].shape[0]"
   ]
  },
  {
   "cell_type": "code",
   "execution_count": 14,
   "metadata": {
    "collapsed": true
   },
   "outputs": [],
   "source": [
    "# cou_index_request = df[(df.behavior_list.apply(lambda x: find_pattern(courses_index_pat,x)))].shape[0]\n",
    "# cou_index_not_request = df[(df.behavior_list.apply(lambda x: 'courses_index' in x)) \n",
    "#                          & (df.behavior_list.apply(lambda x: 'request' not in x))].shape[0]\n",
    "play_request = sum((df.play_video > 0) & (df.request > 0))\n",
    "play_not_request = sum((df.play_video > 0) & (df.request == 0))"
   ]
  },
  {
   "cell_type": "code",
   "execution_count": 15,
   "metadata": {},
   "outputs": [],
   "source": [
    "request = [index_request_df.shape[0],demo_request,about_request,play_request]\n",
    "not_request = [index_not_request_df.shape[0],demo_not_request,about_not_request,play_not_request]"
   ]
  },
  {
   "cell_type": "code",
   "execution_count": 16,
   "metadata": {},
   "outputs": [
    {
     "data": {
      "text/plain": [
       "<matplotlib.legend.Legend at 0xa80cb70>"
      ]
     },
     "execution_count": 16,
     "metadata": {},
     "output_type": "execute_result"
    },
    {
     "data": {
      "image/png": "[encoded data removed]",
      "text/plain": [
       "<matplotlib.figure.Figure at 0xa487be0>"
      ]
     },
     "metadata": {},
     "output_type": "display_data"
    }
   ],
   "source": [
    "xlabel = ['index', 'demo', 'about', 'watch_video']\n",
    "fig, ax = plt.subplots(figsize = (12,5))\n",
    "ax.bar(left = range(1,5), height = not_request, width = 0.4, label = 'watch the page but not request')\n",
    "ax.bar(left = np.arange(1, 5) + 0.4, height = request, width = 0.4, color = 'red', label = 'watch the page and then request')\n",
    "ax.set_xticks(np.arange(1,5) + 0.4)\n",
    "ax.set_xticklabels(xlabel)\n",
    "ax.legend(bbox_to_anchor=(1.05, 1), loc=2, borderaxespad=0.)"
   ]
  },
  {
   "cell_type": "markdown",
   "metadata": {},
   "source": [
    "### let's look at demo"
   ]
  },
  {
   "cell_type": "code",
   "execution_count": null,
   "metadata": {
    "collapsed": true
   },
   "outputs": [],
   "source": [
    "no_demo_not_request = df[(df.behavior_list.apply(lambda x: 'demo' not in x)) \n",
    "                         & (df.behavior_list.apply(lambda x: 'request' not in x))].shape[0]\n",
    "no_demo_request = df[(df.behavior_list.apply(lambda x: 'demo' not in x)) \n",
    "                         & (df.behavior_list.apply(lambda x: 'request' in x))].shape[0]"
   ]
  },
  {
   "cell_type": "code",
   "execution_count": null,
   "metadata": {},
   "outputs": [],
   "source": [
    "demo = [demo_not_request, demo_request]\n",
    "no_demo = [no_demo_not_request, no_demo_request]\n",
    "\n",
    "demo_tick = ('demo_not_request', 'demo_request')\n",
    "no_demo_tick = ('no_demo_not_request', 'no_demo_request')\n",
    "\n",
    "demo_tit = 'number of users signing or not watching demo'\n",
    "no_demo_tit = 'number of users signing or not without demo'"
   ]
  },
  {
   "cell_type": "code",
   "execution_count": null,
   "metadata": {},
   "outputs": [],
   "source": [
    "compare_dif_group_bar(demo, no_demo, demo_tick, no_demo_tick, sharey = True, title1 = demo_tit, title2 = no_demo_tit)"
   ]
  },
  {
   "cell_type": "code",
   "execution_count": null,
   "metadata": {},
   "outputs": [],
   "source": [
    "demo_ratio = [demo_not_request/(demo_not_request + demo_request), demo_request/(demo_not_request + demo_request)]\n",
    "no_demo_ratio = [no_demo_not_request/(no_demo_not_request + no_demo_request), no_demo_request/((no_demo_not_request + no_demo_request))]\n",
    "title1 = 'percentage of signing or not watching demo'\n",
    "title2 = 'percentage of signing or not without demo'\n",
    "compare_dif_group_bar(demo_ratio, no_demo_ratio, demo_tick, no_demo_tick, sharey = True, title1 = title1, title2 = title2)"
   ]
  },
  {
   "cell_type": "markdown",
   "metadata": {},
   "source": [
    "    use chi-square test to test it , it's subject to assumption of chi-square test\n",
    "        randomly sampled, \n",
    "        related to categorical features \n",
    "        number in each cell of contincy table is more than 5"
   ]
  },
  {
   "cell_type": "code",
   "execution_count": null,
   "metadata": {},
   "outputs": [],
   "source": [
    "demo_or_not_table = np.array([[demo_not_request, demo_request],[no_demo_not_request, no_demo_request]])\n",
    "nul_hyp = 'there is no difference between watching demo or not impacting on signing up'\n",
    "alt_hyp = 'there is significant difference between watching demo or not impacting on signing up'\n",
    "chi_square_test(demo_or_not_table, nul_hyp = nul_hyp, alt_hyp = alt_hyp)"
   ]
  },
  {
   "cell_type": "markdown",
   "metadata": {},
   "source": [
    "## second, let's look at about "
   ]
  },
  {
   "cell_type": "code",
   "execution_count": null,
   "metadata": {
    "collapsed": true
   },
   "outputs": [],
   "source": [
    "no_about_not_request = df[(df.behavior_list.apply(lambda x: 'about' not in x)) \n",
    "                         & (df.behavior_list.apply(lambda x: 'request' not in x))].shape[0]\n",
    "no_about_request = df[(df.behavior_list.apply(lambda x: 'about' not in x)) \n",
    "                         & (df.behavior_list.apply(lambda x: 'request' in x))].shape[0]"
   ]
  },
  {
   "cell_type": "code",
   "execution_count": null,
   "metadata": {},
   "outputs": [],
   "source": [
    "about = [about_not_request, about_request]\n",
    "no_about = [no_about_not_request, no_about_request]\n",
    "\n",
    "about_tick = ('about_not_request', 'about_request')\n",
    "no_about_tick = ('no_about_not_request', 'no_about_request')\n",
    "\n",
    "about_tit = 'number of users signing or not watching about'\n",
    "no_about_tit = 'number of users signing or not without about'"
   ]
  },
  {
   "cell_type": "code",
   "execution_count": null,
   "metadata": {},
   "outputs": [],
   "source": [
    "compare_dif_group_bar(about, no_about, about_tick, no_about_tick, sharey = True, title1 = about_tit, title2 = no_about_tit)"
   ]
  },
  {
   "cell_type": "code",
   "execution_count": null,
   "metadata": {},
   "outputs": [],
   "source": [
    "about_ratio = [about_not_request/(about_not_request + about_request), about_request/(about_not_request + about_request)]\n",
    "no_about_ratio = [no_about_not_request/(no_about_not_request + no_about_request), no_about_request/((no_about_not_request + no_about_request))]\n",
    "title1 = 'percentage of signing or not watching about'\n",
    "title2 = 'percentage of signing or not without about'\n",
    "compare_dif_group_bar(about_ratio, no_about_ratio, about_tick, no_about_tick, sharey = True, title1 = title1, title2 = title2)"
   ]
  },
  {
   "cell_type": "markdown",
   "metadata": {},
   "source": [
    "    use chi-square test to test it , it's subject to assumption of chi-square test\n",
    "        randomly sampled, \n",
    "        related to categorical features \n",
    "        number in each cell of contincy table is more than 5"
   ]
  },
  {
   "cell_type": "code",
   "execution_count": null,
   "metadata": {},
   "outputs": [],
   "source": [
    "about_or_not_table = np.array([[about_not_request, about_request],[no_about_not_request, no_about_request]])\n",
    "nul_hyp = 'there is no difference between watching about or not impacting on signing up'\n",
    "alt_hyp = 'there is significant difference between watching about or not impacting on signing up'\n",
    "chi_square_test(about_or_not_table, nul_hyp = nul_hyp, alt_hyp = alt_hyp)"
   ]
  },
  {
   "cell_type": "markdown",
   "metadata": {},
   "source": [
    "## third, let's look at video"
   ]
  },
  {
   "cell_type": "markdown",
   "metadata": {},
   "source": [
    "### Although someone is at video page, he/she didn't actually watch video"
   ]
  },
  {
   "cell_type": "code",
   "execution_count": null,
   "metadata": {
    "collapsed": true
   },
   "outputs": [],
   "source": [
    "no_video_not_request = sum((df.cou))\n",
    "no_video_request = \n",
    "\n",
    "vedioPage_not_request = \n",
    "vedioPage_request = \n",
    "\n",
    "watch_not_request = \n",
    "watch_request = "
   ]
  },
  {
   "cell_type": "code",
   "execution_count": null,
   "metadata": {},
   "outputs": [],
   "source": [
    "course_index = [cou_index_not_request, cou_index_request]\n",
    "no_course_index = [no_cou_index_not_request, no_cou_index_request]\n",
    "\n",
    "cou_index_tick = ('courses_index_not_request', 'courses_index_request')\n",
    "no_cou_index_tick = ('no_courses_index_not_request', 'no_courses_index_request')\n",
    "\n",
    "cou_index_tit = 'number of users signing or not watching about'\n",
    "no_cou_index_tit = 'number of users signing or not without about'"
   ]
  },
  {
   "cell_type": "code",
   "execution_count": null,
   "metadata": {},
   "outputs": [],
   "source": [
    "compare_dif_group_bar(course_index, no_course_index, cou_index_tick, no_cou_index_tick, \n",
    "                      sharey = True, title1 = cou_index_tit, title2 = no_cou_index_tit)"
   ]
  },
  {
   "cell_type": "code",
   "execution_count": null,
   "metadata": {},
   "outputs": [],
   "source": [
    "about_ratio = [about_not_request/(about_not_request + about_request), about_request/(about_not_request + about_request)]\n",
    "no_about_ratio = [no_about_not_request/(no_about_not_request + no_about_request), no_about_request/((no_about_not_request + no_about_request))]\n",
    "title1 = 'percentage of signing or not watching about'\n",
    "title2 = 'percentage of signing or not without about'\n",
    "compare_dif_group_bar(about_ratio, no_about_ratio, about_tick, no_about_tick, sharey = True, title1 = title1, title2 = title2)"
   ]
  },
  {
   "cell_type": "markdown",
   "metadata": {},
   "source": [
    "    use chi-square test to test it , it's subject to assumption of chi-square test\n",
    "        randomly sampled, \n",
    "        related to categorical features \n",
    "        number in each cell of contincy table is more than 5"
   ]
  },
  {
   "cell_type": "code",
   "execution_count": null,
   "metadata": {},
   "outputs": [],
   "source": [
    "about_or_not_table = np.array([[about_not_request, about_request],[no_about_not_request, no_about_request]])\n",
    "nul_hyp = 'there is no difference between watching about or not impacting on signing up'\n",
    "alt_hyp = 'there is significant difference between watching about or not impacting on signing up'\n",
    "chi_square_test(about_or_not_table, nul_hyp = nul_hyp, alt_hyp = alt_hyp)"
   ]
  },
  {
   "cell_type": "markdown",
   "metadata": {
    "collapsed": true
   },
   "source": [
    "#### Dive into pages without directly access to application"
   ]
  },
  {
   "cell_type": "code",
   "execution_count": null,
   "metadata": {
    "collapsed": true
   },
   "outputs": [],
   "source": [
    "prod_pat = r'cli_product.*request'\n",
    "brou_pat = r'cli_bround.*request'\n",
    "docu_pat = r'cli_document.*request'"
   ]
  },
  {
   "cell_type": "markdown",
   "metadata": {},
   "source": [
    "# Classify users into different cases\n",
    "    1. Not interested, just viewed page once and left (we don't need to pay attention to this group of users)\n",
    "    2. Interested(viewed multi-pages)\n",
    "            a. choose not to sign up\n",
    "            b. choose to sign up(btnClick and request)\n",
    "                    i. successed\n",
    "                    ii. failed  \n",
    "    As follows, data contains old users who are willing to sign up(name = request) and new users with more than twice actions."
   ]
  },
  {
   "cell_type": "code",
   "execution_count": null,
   "metadata": {},
   "outputs": [],
   "source": [
    "df.project.value_counts(dropna = False)"
   ]
  },
  {
   "cell_type": "markdown",
   "metadata": {},
   "source": [
    "# What features can impact on signing up or not"
   ]
  },
  {
   "cell_type": "code",
   "execution_count": null,
   "metadata": {},
   "outputs": [],
   "source": [
    "df.shape"
   ]
  },
  {
   "cell_type": "code",
   "execution_count": null,
   "metadata": {},
   "outputs": [],
   "source": [
    "df.columns"
   ]
  },
  {
   "cell_type": "markdown",
   "metadata": {
    "collapsed": true
   },
   "source": [
    "###    Chrome VS others"
   ]
  },
  {
   "cell_type": "code",
   "execution_count": null,
   "metadata": {},
   "outputs": [],
   "source": [
    "browser_count = df.browser.value_counts()\n",
    "x_tickLabel = browser_count.index\n",
    "y = browser_count.values\n",
    "title = 'distribution of browser'\n",
    "bar_plot(y = y, x_tickLabels = x_tickLabel, title = title)"
   ]
  },
  {
   "cell_type": "code",
   "execution_count": null,
   "metadata": {
    "collapsed": true
   },
   "outputs": [],
   "source": [
    "chrome_not = df[(df.browser == 'chrome') & (df.isSuccess == 0)].shape[0]\n",
    "chrome_sign = df[(df.browser == 'chrome') & (df.isSuccess == 1)].shape[0]\n",
    "other_not = df[(df.browser != 'chrome') & (df.isSuccess == 0)].shape[0]\n",
    "other_sign = df[(df.browser != 'chrome')  & (df.isSuccess == 1)].shape[0]"
   ]
  },
  {
   "cell_type": "code",
   "execution_count": null,
   "metadata": {},
   "outputs": [],
   "source": [
    "chrome = [chrome_not, chrome_sign]\n",
    "other = [other_not, other_sign]\n",
    "chrome_tick = ('chrom_not_sign', 'chrome_sign')\n",
    "other_tick = ('other_not_sign', 'other_sign')\n",
    "\n",
    "chrome_tit = 'number of users signing or not with Chrome'\n",
    "other_tit = 'number of users signing or not with other browsers'"
   ]
  },
  {
   "cell_type": "code",
   "execution_count": null,
   "metadata": {},
   "outputs": [],
   "source": [
    "compare_dif_group_bar(chrome, other, chrome_tick, other_tick, sharey = True, title1 = chrome_tit, title2 = other_tit)"
   ]
  },
  {
   "cell_type": "code",
   "execution_count": null,
   "metadata": {},
   "outputs": [],
   "source": [
    "chrome_ratio = [chrome_not/(chrome_not + chrome_sign), chrome_sign/(chrome_not + chrome_sign)]\n",
    "other_ratio = [other_not/(other_not + other_sign), other_sign/((other_not + other_sign))]\n",
    "title1 = 'percentage of signing or not with Chrome'\n",
    "title2 = 'percentage of signing or not with other browsers'\n",
    "compare_dif_group_bar(chrome_ratio, other_ratio, chrome_tick, other_tick, sharey = True, title1 = title1, title2 = title2)"
   ]
  },
  {
   "cell_type": "markdown",
   "metadata": {},
   "source": [
    "    use chi-square test to test it , it's subject to assumption of chi-square test\n",
    "        randomly sampled, \n",
    "        related to categorical features \n",
    "        number in each cell of contincy table is more than 5"
   ]
  },
  {
   "cell_type": "code",
   "execution_count": null,
   "metadata": {},
   "outputs": [],
   "source": [
    "chrome_other_table = np.array([[chrome_not, chrome_sign],[other_not, other_sign]])\n",
    "nul_hyp = 'there is no difference between chrome and other browsers impacting on signing up'\n",
    "alt_hyp = 'there is significant difference between chrome and other browsers impacting on signing up'\n",
    "chi_square_test(chrome_other_table, nul_hyp = nul_hyp, alt_hyp = alt_hyp)"
   ]
  },
  {
   "cell_type": "markdown",
   "metadata": {},
   "source": [
    "# os"
   ]
  },
  {
   "cell_type": "code",
   "execution_count": null,
   "metadata": {},
   "outputs": [],
   "source": [
    "df.os.value_counts(dropna = False)"
   ]
  },
  {
   "cell_type": "code",
   "execution_count": null,
   "metadata": {
    "scrolled": false
   },
   "outputs": [],
   "source": [
    "os_count = df.os.value_counts()\n",
    "x_tickLabel = os_count.index\n",
    "y = os_count.values\n",
    "title = 'number of different os'\n",
    "bar_plot(y = y, x_tickLabels = x_tickLabel, title = title)"
   ]
  },
  {
   "cell_type": "code",
   "execution_count": null,
   "metadata": {
    "collapsed": true
   },
   "outputs": [],
   "source": [
    "wind_not = df[(df.os == 'windows') &  (df.isSuccess == 0)].shape[0]\n",
    "wind_sign = df[(df.os == 'windows') & (df.isSuccess == 1)].shape[0]\n",
    "\n",
    "mac_not = df[(df.os == 'macosx') & (df.isSuccess == 0)].shape[0]\n",
    "mac_sign = df[(df.os == 'macosx') & (df.isSuccess == 1)].shape[0]\n",
    "\n",
    "and_not = df[(df.os == 'Android') & (df.isSuccess == 0)].shape[0]\n",
    "and_sign = df[(df.os == 'Android')  & (df.isSuccess == 1)].shape[0]\n",
    "\n",
    "ios_not = df[(df.os == 'iOS') & (df.isSuccess == 0)].shape[0]\n",
    "ios_sign = df[(df.os == 'iOS')  & (df.isSuccess == 1)].shape[0]"
   ]
  },
  {
   "cell_type": "markdown",
   "metadata": {},
   "source": [
    "#### first we compare laptop and phone"
   ]
  },
  {
   "cell_type": "code",
   "execution_count": null,
   "metadata": {},
   "outputs": [],
   "source": [
    "laptop = [wind_not + mac_not, wind_sign + mac_sign]\n",
    "phone = [ios_not + and_not, ios_sign + and_sign]\n",
    "\n",
    "laptop_tick = ('laptop_not_sign', 'laptop_sign')\n",
    "phone_tick = ('phone_not_sign', 'phone_sign')\n",
    "\n",
    "laptop_tit = 'number of users signing or not with laptop'\n",
    "phone_tit = 'number of users signing or not with phone'"
   ]
  },
  {
   "cell_type": "code",
   "execution_count": null,
   "metadata": {},
   "outputs": [],
   "source": [
    "compare_dif_group_bar(laptop, phone, laptop_tick, phone_tick, sharey = True, title1 = laptop_tit, title2 = phone_tit)"
   ]
  },
  {
   "cell_type": "code",
   "execution_count": null,
   "metadata": {},
   "outputs": [],
   "source": [
    "laptop_ratio = [laptop[0] / sum(laptop), laptop[1] / sum(laptop)]\n",
    "phone_ratio = [phone[0] / sum(phone), phone[1] / sum(phone)]\n",
    "\n",
    "lap_tit = 'percentage of signing or not with laptop'\n",
    "pho_tit = 'percentage of signing or not with phone'\n",
    "\n",
    "compare_dif_group_bar(laptop_ratio, phone_ratio, laptop_tick, phone_tick,sharey = True, title1 = lap_tit, title2 = pho_tit)"
   ]
  },
  {
   "cell_type": "markdown",
   "metadata": {},
   "source": [
    "    use chi-square test to test it , it's subject to assumption of chi-square test\n",
    "        randomly sampled, \n",
    "        related to categorical features \n",
    "        number in each cell of contincy table is more than 5"
   ]
  },
  {
   "cell_type": "code",
   "execution_count": null,
   "metadata": {},
   "outputs": [],
   "source": [
    "lap_phone_table = np.array([laptop, phone])\n",
    "nul_hyp = 'there is no difference between laptop and phone impacting on signing up'\n",
    "alt_hyp = 'there is significant difference between laptop and phone impacting on signing up'\n",
    "chi_square_test(lap_phone_table, nul_hyp = nul_hyp, alt_hyp = alt_hyp)"
   ]
  },
  {
   "cell_type": "markdown",
   "metadata": {},
   "source": [
    "#### second, we compare windows and mac"
   ]
  },
  {
   "cell_type": "markdown",
   "metadata": {},
   "source": [
    "####    third, we can compare Andriod and iOS"
   ]
  },
  {
   "cell_type": "markdown",
   "metadata": {},
   "source": [
    "### As for latest_utm_source"
   ]
  },
  {
   "cell_type": "code",
   "execution_count": null,
   "metadata": {},
   "outputs": [],
   "source": [
    "df.latest_utm_source.value_counts(dropna = False)"
   ]
  },
  {
   "cell_type": "code",
   "execution_count": null,
   "metadata": {},
   "outputs": [],
   "source": [
    "utm_source_count = df.latest_utm_source.value_counts()\n",
    "x_tickLabel = utm_source_count.index\n",
    "y = utm_source_count.values\n",
    "title = 'distribution of utm sources'\n",
    "bar_plot(y = y, x_tickLabels = x_tickLabel, title = title)"
   ]
  },
  {
   "cell_type": "code",
   "execution_count": null,
   "metadata": {
    "collapsed": true
   },
   "outputs": [],
   "source": [
    "baidu_not = df[(df.latest_utm_source == 'baidu') & (df.isSuccess == 0)].shape[0]\n",
    "baidu_sign = df[(df.latest_utm_source == 'baidu') & (df.isSuccess == 1)].shape[0]\n",
    "\n",
    "al_other_not = df[(df.latest_utm_source != 'baidu') & (df.latest_utm_source.notnull()) & (df.isSuccess == 0)].shape[0]\n",
    "al_other_sign = df[(df.latest_utm_source != 'baidu') & (df.latest_utm_source.notnull()) & (df.isSuccess == 1)].shape[0]"
   ]
  },
  {
   "cell_type": "code",
   "execution_count": null,
   "metadata": {},
   "outputs": [],
   "source": [
    "baidu = [baidu_not, baidu_sign]\n",
    "al_other = [al_other_not, al_other_sign]\n",
    "\n",
    "baidu_tick = ('baidu_not_sign', 'baidu_sign')\n",
    "al_other_tick = ('al_other_not_sign', 'al_other_sign')\n",
    "\n",
    "baidu_tit = 'number of users signing or not with baidu'\n",
    "al_other_tit = 'number of users signing or not with other search engine'"
   ]
  },
  {
   "cell_type": "code",
   "execution_count": null,
   "metadata": {},
   "outputs": [],
   "source": [
    "compare_dif_group_bar(baidu, al_other, baidu_tick, al_other_tick, sharey = True, title1 = baidu_tit, title2 = al_other_tit)"
   ]
  },
  {
   "cell_type": "code",
   "execution_count": null,
   "metadata": {},
   "outputs": [],
   "source": [
    "baidu_ratio = [baidu_not/(baidu_not + baidu_sign), baidu_sign/(baidu_not + baidu_sign)]\n",
    "al_other_ratio = [al_other_not/(al_other_not + al_other_sign), al_other_sign/((al_other_not + al_other_sign))]\n",
    "title1 = 'percentage of signing or not with baidu'\n",
    "title2 = 'percentage of signing or not with other search engine'\n",
    "compare_dif_group_bar(baidu_ratio, al_other_ratio, chrome_tick, al_other_tick, sharey = True, title1 = title1, title2 = title2)"
   ]
  },
  {
   "cell_type": "markdown",
   "metadata": {},
   "source": [
    "    use chi-square test to test it , it's subject to assumption of chi-square test\n",
    "        randomly sampled, \n",
    "        related to categorical features \n",
    "        number in each cell of contincy table is more than 5"
   ]
  },
  {
   "cell_type": "code",
   "execution_count": null,
   "metadata": {},
   "outputs": [],
   "source": [
    "baidu_other_table = np.array([[baidu_not, baidu_sign],[al_other_not, al_other_sign]])\n",
    "nul_hyp = 'there is no difference between baidu and other search engine impacting on signing up'\n",
    "alt_hyp = 'there is significant difference between baidu and other search engine impacting on signing up'\n",
    "chi_square_test(baidu_other_table, nul_hyp = nul_hyp, alt_hyp = alt_hyp)"
   ]
  },
  {
   "cell_type": "markdown",
   "metadata": {},
   "source": [
    "### As for utm_medium"
   ]
  },
  {
   "cell_type": "code",
   "execution_count": null,
   "metadata": {},
   "outputs": [],
   "source": [
    "df.latest_utm_medium.value_counts(dropna = False)"
   ]
  },
  {
   "cell_type": "code",
   "execution_count": null,
   "metadata": {},
   "outputs": [],
   "source": [
    "utm_medium_count = df.latest_utm_medium.value_counts()\n",
    "x_tickLabel = utm_medium_count.index\n",
    "y = utm_medium_count.values\n",
    "title = 'distribution of utm medium'\n",
    "bar_plot(y = y, x_tickLabels = x_tickLabel, title = title)"
   ]
  },
  {
   "cell_type": "code",
   "execution_count": null,
   "metadata": {
    "collapsed": true
   },
   "outputs": [],
   "source": [
    "cpc_not = df[(df.latest_utm_medium == 'cpc') & (df.isSuccess == 0)].shape[0]\n",
    "cpc_sign = df[(df.latest_utm_medium == 'cpc') & (df.isSuccess == 1)].shape[0]\n",
    "\n",
    "al_other_not = df[(df.latest_utm_medium != 'cpc') & (df.latest_utm_medium.notnull()) & (df.isSuccess == 0)].shape[0]\n",
    "al_other_sign = df[(df.latest_utm_medium != 'cpc') & (df.latest_utm_medium.notnull()) & (df.isSuccess == 1)].shape[0]"
   ]
  },
  {
   "cell_type": "code",
   "execution_count": null,
   "metadata": {},
   "outputs": [],
   "source": [
    "cpc = [cpc_not, cpc_sign]\n",
    "al_other = [al_other_not, al_other_sign]\n",
    "\n",
    "cpc_tick = ('cpc_not_sign', 'cpc_sign')\n",
    "al_other_tick = ('al_other_not_sign', 'al_other_sign')\n",
    "\n",
    "cpc_tit = 'number of users signing or not with cpc'\n",
    "al_other_tit = 'number of users signing or not with other medium'"
   ]
  },
  {
   "cell_type": "code",
   "execution_count": null,
   "metadata": {},
   "outputs": [],
   "source": [
    "compare_dif_group_bar(cpc, al_other, cpc_tick, al_other_tick, sharey = True, title1 = cpc_tit, title2 = al_other_tit)"
   ]
  },
  {
   "cell_type": "code",
   "execution_count": null,
   "metadata": {},
   "outputs": [],
   "source": [
    "cpc_ratio = [cpc_not/(cpc_not + cpc_sign), cpc_sign/(cpc_not + cpc_sign)]\n",
    "al_other_ratio = [al_other_not/(al_other_not + al_other_sign), al_other_sign/((al_other_not + al_other_sign))]\n",
    "title1 = 'percentage of signing or not with cpc'\n",
    "title2 = 'percentage of signing or not with other medium'\n",
    "compare_dif_group_bar(cpc_ratio, al_other_ratio, cpc_tick, al_other_tick, sharey = True, title1 = title1, title2 = title2)"
   ]
  },
  {
   "cell_type": "markdown",
   "metadata": {},
   "source": [
    "    use chi-square test to test it , it's subject to assumption of chi-square test\n",
    "        randomly sampled, \n",
    "        related to categorical features \n",
    "        number in each cell of contincy table is more than 5"
   ]
  },
  {
   "cell_type": "code",
   "execution_count": null,
   "metadata": {},
   "outputs": [],
   "source": [
    "cpc_other_table = np.array([[cpc_not, cpc_sign],[al_other_not, al_other_sign]])\n",
    "nul_hyp = 'there is no difference between cpc and other medium impacting on signing up'\n",
    "alt_hyp = 'there is significant difference between baidu and other medium impacting on signing up'\n",
    "chi_square_test(cpc_other_table, nul_hyp = nul_hyp, alt_hyp = alt_hyp)"
   ]
  }
 ],
 "metadata": {
  "kernelspec": {
   "display_name": "Python 3",
   "language": "python",
   "name": "python3"
  },
  "language_info": {
   "codemirror_mode": {
    "name": "ipython",
    "version": 3
   },
   "file_extension": ".py",
   "mimetype": "text/x-python",
   "name": "python",
   "nbconvert_exporter": "python",
   "pygments_lexer": "ipython3",
   "version": "3.6.1"
  }
 },
 "nbformat": 4,
 "nbformat_minor": 1
}
